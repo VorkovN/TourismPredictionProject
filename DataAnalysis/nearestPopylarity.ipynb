{
 "cells": [
  {
   "cell_type": "code",
   "execution_count": 6,
   "metadata": {
    "collapsed": true
   },
   "outputs": [],
   "source": [
    "import math\n",
    "\n",
    "import pandas as pd\n",
    "from math import sqrt\n",
    "from numpy import sin, cos, arccos, pi, round"
   ]
  },
  {
   "cell_type": "code",
   "execution_count": 7,
   "outputs": [],
   "source": [
    "def rad2deg(radians):\n",
    "    degrees = radians * 180 / pi\n",
    "    return degrees\n",
    "\n",
    "def deg2rad(degrees):\n",
    "    radians = degrees * pi / 180\n",
    "    return radians\n",
    "\n",
    "def getDistanceBetweenPointsNew(latitude1, longitude1, latitude2, longitude2):\n",
    "    theta = longitude1 - longitude2\n",
    "    distance = 60 * 1.1515 * rad2deg(arccos((sin(deg2rad(latitude1)) * sin(deg2rad(latitude2))) + (cos(deg2rad(latitude1)) * cos(deg2rad(latitude2)) * cos(deg2rad(theta)))))\n",
    "    return round(distance * 1.609344, 2)"
   ],
   "metadata": {
    "collapsed": false
   }
  },
  {
   "cell_type": "code",
   "execution_count": 8,
   "outputs": [
    {
     "data": {
      "text/plain": "                   Название точки привлечения туристов  \\\n0      Архангельский театр драмы имени М.В. Ломоносова   \n1    \"Беломорские узоры\" (Народные художественные п...   \n2                       Архангельский молодежный театр   \n3         Архангельский музей изобразительных искусств   \n4                            Архангельский театр кукол   \n..                                                 ...   \n102        Историко-мемориальный музей М.В. Ломоносова   \n103                                    Село Ломоносово   \n104               Фабрика Холмогорской резьбы по кости   \n105         Церковь Димитрия Солунского, с. Ломоносово   \n106            Шенкурский районный краеведческий музей   \n\n     Кол-во запросов в месяц Тип точки привлечения туристов    Долгота  \\\n0                     9000.0                          Театр  40.515280   \n1                      466.0               Этнический центр  40.520756   \n2                      446.0                          Театр  40.519231   \n3                      248.0                          Музей  40.518417   \n4                     1400.0                          Театр  40.529639   \n..                       ...                            ...        ...   \n102                    126.0          Достопримечательность  41.733645   \n103                   4073.0          Достопримечательность  41.732359   \n104                     37.0               Этнический центр  41.733516   \n105                     38.0          Достопримечательность  41.739181   \n106                    150.0          Достопримечательность  42.902558   \n\n     Доступность автомобиля  Доступность автобуса  Доступность внедорожника  \\\n0                     False                 False                     False   \n1                      True                  True                     False   \n2                      True                  True                     False   \n3                      True                  True                     False   \n4                      True                  True                     False   \n..                      ...                   ...                       ...   \n102                    True                  True                     False   \n103                    True                  True                     False   \n104                    True                  True                     False   \n105                    True                  True                     False   \n106                    True                  True                     False   \n\n     Доступность водныого транспорта  Доступность самолета     Широта  ...  \\\n0                              False                 False  64.536504  ...   \n1                              False                 False  64.559452  ...   \n2                              False                 False  64.549876  ...   \n3                              False                 False  64.539888  ...   \n4                              False                 False  64.531850  ...   \n..                               ...                   ...        ...  ...   \n102                            False                 False  64.230200  ...   \n103                            False                 False  64.229380  ...   \n104                            False                 False  64.230262  ...   \n105                            False                 False  64.231620  ...   \n106                            False                 False  62.103525  ...   \n\n     Музей  Детский туризм  Городские достопримечательности  \\\n0    False           False                            False   \n1    False           False                            False   \n2    False           False                            False   \n3     True           False                            False   \n4    False           False                            False   \n..     ...             ...                              ...   \n102  False           False                            False   \n103  False           False                            False   \n104  False           False                            False   \n105  False           False                            False   \n106  False           False                            False   \n\n     Достопримечательность  Культурный центр  Судостроение  Нац. парк  \\\n0                    False             False         False      False   \n1                    False             False         False      False   \n2                    False             False         False      False   \n3                    False             False         False      False   \n4                    False             False         False      False   \n..                     ...               ...           ...        ...   \n102                   True             False         False      False   \n103                   True             False         False      False   \n104                  False             False         False      False   \n105                   True             False         False      False   \n106                   True             False         False      False   \n\n     Санаторий  Обзорная площадка  Горнолыжный курорт  \n0        False              False               False  \n1        False              False               False  \n2        False              False               False  \n3        False              False               False  \n4        False              False               False  \n..         ...                ...                 ...  \n102      False              False               False  \n103      False              False               False  \n104      False              False               False  \n105      False              False               False  \n106      False              False               False  \n\n[107 rows x 22 columns]",
      "text/html": "<div>\n<style scoped>\n    .dataframe tbody tr th:only-of-type {\n        vertical-align: middle;\n    }\n\n    .dataframe tbody tr th {\n        vertical-align: top;\n    }\n\n    .dataframe thead th {\n        text-align: right;\n    }\n</style>\n<table border=\"1\" class=\"dataframe\">\n  <thead>\n    <tr style=\"text-align: right;\">\n      <th></th>\n      <th>Название точки привлечения туристов</th>\n      <th>Кол-во запросов в месяц</th>\n      <th>Тип точки привлечения туристов</th>\n      <th>Долгота</th>\n      <th>Доступность автомобиля</th>\n      <th>Доступность автобуса</th>\n      <th>Доступность внедорожника</th>\n      <th>Доступность водныого транспорта</th>\n      <th>Доступность самолета</th>\n      <th>Широта</th>\n      <th>...</th>\n      <th>Музей</th>\n      <th>Детский туризм</th>\n      <th>Городские достопримечательности</th>\n      <th>Достопримечательность</th>\n      <th>Культурный центр</th>\n      <th>Судостроение</th>\n      <th>Нац. парк</th>\n      <th>Санаторий</th>\n      <th>Обзорная площадка</th>\n      <th>Горнолыжный курорт</th>\n    </tr>\n  </thead>\n  <tbody>\n    <tr>\n      <th>0</th>\n      <td>Архангельский театр драмы имени М.В. Ломоносова</td>\n      <td>9000.0</td>\n      <td>Театр</td>\n      <td>40.515280</td>\n      <td>False</td>\n      <td>False</td>\n      <td>False</td>\n      <td>False</td>\n      <td>False</td>\n      <td>64.536504</td>\n      <td>...</td>\n      <td>False</td>\n      <td>False</td>\n      <td>False</td>\n      <td>False</td>\n      <td>False</td>\n      <td>False</td>\n      <td>False</td>\n      <td>False</td>\n      <td>False</td>\n      <td>False</td>\n    </tr>\n    <tr>\n      <th>1</th>\n      <td>\"Беломорские узоры\" (Народные художественные п...</td>\n      <td>466.0</td>\n      <td>Этнический центр</td>\n      <td>40.520756</td>\n      <td>True</td>\n      <td>True</td>\n      <td>False</td>\n      <td>False</td>\n      <td>False</td>\n      <td>64.559452</td>\n      <td>...</td>\n      <td>False</td>\n      <td>False</td>\n      <td>False</td>\n      <td>False</td>\n      <td>False</td>\n      <td>False</td>\n      <td>False</td>\n      <td>False</td>\n      <td>False</td>\n      <td>False</td>\n    </tr>\n    <tr>\n      <th>2</th>\n      <td>Архангельский молодежный театр</td>\n      <td>446.0</td>\n      <td>Театр</td>\n      <td>40.519231</td>\n      <td>True</td>\n      <td>True</td>\n      <td>False</td>\n      <td>False</td>\n      <td>False</td>\n      <td>64.549876</td>\n      <td>...</td>\n      <td>False</td>\n      <td>False</td>\n      <td>False</td>\n      <td>False</td>\n      <td>False</td>\n      <td>False</td>\n      <td>False</td>\n      <td>False</td>\n      <td>False</td>\n      <td>False</td>\n    </tr>\n    <tr>\n      <th>3</th>\n      <td>Архангельский музей изобразительных искусств</td>\n      <td>248.0</td>\n      <td>Музей</td>\n      <td>40.518417</td>\n      <td>True</td>\n      <td>True</td>\n      <td>False</td>\n      <td>False</td>\n      <td>False</td>\n      <td>64.539888</td>\n      <td>...</td>\n      <td>True</td>\n      <td>False</td>\n      <td>False</td>\n      <td>False</td>\n      <td>False</td>\n      <td>False</td>\n      <td>False</td>\n      <td>False</td>\n      <td>False</td>\n      <td>False</td>\n    </tr>\n    <tr>\n      <th>4</th>\n      <td>Архангельский театр кукол</td>\n      <td>1400.0</td>\n      <td>Театр</td>\n      <td>40.529639</td>\n      <td>True</td>\n      <td>True</td>\n      <td>False</td>\n      <td>False</td>\n      <td>False</td>\n      <td>64.531850</td>\n      <td>...</td>\n      <td>False</td>\n      <td>False</td>\n      <td>False</td>\n      <td>False</td>\n      <td>False</td>\n      <td>False</td>\n      <td>False</td>\n      <td>False</td>\n      <td>False</td>\n      <td>False</td>\n    </tr>\n    <tr>\n      <th>...</th>\n      <td>...</td>\n      <td>...</td>\n      <td>...</td>\n      <td>...</td>\n      <td>...</td>\n      <td>...</td>\n      <td>...</td>\n      <td>...</td>\n      <td>...</td>\n      <td>...</td>\n      <td>...</td>\n      <td>...</td>\n      <td>...</td>\n      <td>...</td>\n      <td>...</td>\n      <td>...</td>\n      <td>...</td>\n      <td>...</td>\n      <td>...</td>\n      <td>...</td>\n      <td>...</td>\n    </tr>\n    <tr>\n      <th>102</th>\n      <td>Историко-мемориальный музей М.В. Ломоносова</td>\n      <td>126.0</td>\n      <td>Достопримечательность</td>\n      <td>41.733645</td>\n      <td>True</td>\n      <td>True</td>\n      <td>False</td>\n      <td>False</td>\n      <td>False</td>\n      <td>64.230200</td>\n      <td>...</td>\n      <td>False</td>\n      <td>False</td>\n      <td>False</td>\n      <td>True</td>\n      <td>False</td>\n      <td>False</td>\n      <td>False</td>\n      <td>False</td>\n      <td>False</td>\n      <td>False</td>\n    </tr>\n    <tr>\n      <th>103</th>\n      <td>Село Ломоносово</td>\n      <td>4073.0</td>\n      <td>Достопримечательность</td>\n      <td>41.732359</td>\n      <td>True</td>\n      <td>True</td>\n      <td>False</td>\n      <td>False</td>\n      <td>False</td>\n      <td>64.229380</td>\n      <td>...</td>\n      <td>False</td>\n      <td>False</td>\n      <td>False</td>\n      <td>True</td>\n      <td>False</td>\n      <td>False</td>\n      <td>False</td>\n      <td>False</td>\n      <td>False</td>\n      <td>False</td>\n    </tr>\n    <tr>\n      <th>104</th>\n      <td>Фабрика Холмогорской резьбы по кости</td>\n      <td>37.0</td>\n      <td>Этнический центр</td>\n      <td>41.733516</td>\n      <td>True</td>\n      <td>True</td>\n      <td>False</td>\n      <td>False</td>\n      <td>False</td>\n      <td>64.230262</td>\n      <td>...</td>\n      <td>False</td>\n      <td>False</td>\n      <td>False</td>\n      <td>False</td>\n      <td>False</td>\n      <td>False</td>\n      <td>False</td>\n      <td>False</td>\n      <td>False</td>\n      <td>False</td>\n    </tr>\n    <tr>\n      <th>105</th>\n      <td>Церковь Димитрия Солунского, с. Ломоносово</td>\n      <td>38.0</td>\n      <td>Достопримечательность</td>\n      <td>41.739181</td>\n      <td>True</td>\n      <td>True</td>\n      <td>False</td>\n      <td>False</td>\n      <td>False</td>\n      <td>64.231620</td>\n      <td>...</td>\n      <td>False</td>\n      <td>False</td>\n      <td>False</td>\n      <td>True</td>\n      <td>False</td>\n      <td>False</td>\n      <td>False</td>\n      <td>False</td>\n      <td>False</td>\n      <td>False</td>\n    </tr>\n    <tr>\n      <th>106</th>\n      <td>Шенкурский районный краеведческий музей</td>\n      <td>150.0</td>\n      <td>Достопримечательность</td>\n      <td>42.902558</td>\n      <td>True</td>\n      <td>True</td>\n      <td>False</td>\n      <td>False</td>\n      <td>False</td>\n      <td>62.103525</td>\n      <td>...</td>\n      <td>False</td>\n      <td>False</td>\n      <td>False</td>\n      <td>True</td>\n      <td>False</td>\n      <td>False</td>\n      <td>False</td>\n      <td>False</td>\n      <td>False</td>\n      <td>False</td>\n    </tr>\n  </tbody>\n</table>\n<p>107 rows × 22 columns</p>\n</div>"
     },
     "execution_count": 8,
     "metadata": {},
     "output_type": "execute_result"
    }
   ],
   "source": [
    "data = pd.read_csv('touristObjects.csv')\n",
    "data"
   ],
   "metadata": {
    "collapsed": false
   }
  },
  {
   "cell_type": "code",
   "execution_count": 11,
   "outputs": [
    {
     "name": "stderr",
     "output_type": "stream",
     "text": [
      "/tmp/ipykernel_128016/4017182654.py:11: RuntimeWarning: invalid value encountered in arccos\n",
      "  distance = 60 * 1.1515 * rad2deg(arccos((sin(deg2rad(latitude1)) * sin(deg2rad(latitude2))) + (cos(deg2rad(latitude1)) * cos(deg2rad(latitude2)) * cos(deg2rad(theta)))))\n"
     ]
    }
   ],
   "source": [
    "coeffs=[]\n",
    "maxDist = 10\n",
    "for tourismObject in range(data.shape[0]):\n",
    "    coeff = 0\n",
    "    longitudeTourism = data.loc[tourismObject]['Долгота']\n",
    "    latitudeTourism = data.loc[tourismObject]['Широта']\n",
    "    for tourismObject2 in range(data.shape[0]):\n",
    "        longitude2 = data.loc[tourismObject2]['Долгота']\n",
    "        latitude2 = data.loc[tourismObject2]['Широта']\n",
    "        dist = getDistanceBetweenPointsNew(latitudeTourism, longitudeTourism, latitude2, longitude2)\n",
    "        # print(dist)\n",
    "        # dist = (longitudeTourism-longitudeHostel)**2 + (latitudeTourism-latitudeHostel)**2\n",
    "        if (dist < maxDist):\n",
    "            coeff += data.loc[tourismObject2]['Кол-во запросов в месяц']*(maxDist - dist)/maxDist\n",
    "    coeffs.append(coeff)"
   ],
   "metadata": {
    "collapsed": false
   }
  },
  {
   "cell_type": "code",
   "execution_count": 12,
   "outputs": [
    {
     "data": {
      "text/plain": "                   Название точки привлечения туристов  \\\n0      Архангельский театр драмы имени М.В. Ломоносова   \n1    \"Беломорские узоры\" (Народные художественные п...   \n2                       Архангельский молодежный театр   \n3         Архангельский музей изобразительных искусств   \n4                            Архангельский театр кукол   \n..                                                 ...   \n102        Историко-мемориальный музей М.В. Ломоносова   \n103                                    Село Ломоносово   \n104               Фабрика Холмогорской резьбы по кости   \n105         Церковь Димитрия Солунского, с. Ломоносово   \n106            Шенкурский районный краеведческий музей   \n\n     Кол-во запросов в месяц Тип точки привлечения туристов    Долгота  \\\n0                     9000.0                          Театр  40.515280   \n1                      466.0               Этнический центр  40.520756   \n2                      446.0                          Театр  40.519231   \n3                      248.0                          Музей  40.518417   \n4                     1400.0                          Театр  40.529639   \n..                       ...                            ...        ...   \n102                    126.0          Достопримечательность  41.733645   \n103                   4073.0          Достопримечательность  41.732359   \n104                     37.0               Этнический центр  41.733516   \n105                     38.0          Достопримечательность  41.739181   \n106                    150.0          Достопримечательность  42.902558   \n\n     Доступность автомобиля  Доступность автобуса  Доступность внедорожника  \\\n0                     False                 False                     False   \n1                      True                  True                     False   \n2                      True                  True                     False   \n3                      True                  True                     False   \n4                      True                  True                     False   \n..                      ...                   ...                       ...   \n102                    True                  True                     False   \n103                    True                  True                     False   \n104                    True                  True                     False   \n105                    True                  True                     False   \n106                    True                  True                     False   \n\n     Доступность водныого транспорта  Доступность самолета     Широта  ...  \\\n0                              False                 False  64.536504  ...   \n1                              False                 False  64.559452  ...   \n2                              False                 False  64.549876  ...   \n3                              False                 False  64.539888  ...   \n4                              False                 False  64.531850  ...   \n..                               ...                   ...        ...  ...   \n102                            False                 False  64.230200  ...   \n103                            False                 False  64.229380  ...   \n104                            False                 False  64.230262  ...   \n105                            False                 False  64.231620  ...   \n106                            False                 False  62.103525  ...   \n\n     Детский туризм  Городские достопримечательности  Достопримечательность  \\\n0             False                            False                  False   \n1             False                            False                  False   \n2             False                            False                  False   \n3             False                            False                  False   \n4             False                            False                  False   \n..              ...                              ...                    ...   \n102           False                            False                   True   \n103           False                            False                   True   \n104           False                            False                  False   \n105           False                            False                   True   \n106           False                            False                   True   \n\n     Культурный центр  Судостроение  Нац. парк  Санаторий  Обзорная площадка  \\\n0               False         False      False      False              False   \n1               False         False      False      False              False   \n2               False         False      False      False              False   \n3               False         False      False      False              False   \n4               False         False      False      False              False   \n..                ...           ...        ...        ...                ...   \n102             False         False      False      False              False   \n103             False         False      False      False              False   \n104             False         False      False      False              False   \n105             False         False      False      False              False   \n106             False         False      False      False              False   \n\n     Горнолыжный курорт  \\\n0                 False   \n1                 False   \n2                 False   \n3                 False   \n4                 False   \n..                  ...   \n102               False   \n103               False   \n104               False   \n105               False   \n106               False   \n\n     Коэффициент кол-ва запросов в месяц окружающих объектов  \n0                                            17456.652        \n1                                            13011.068        \n2                                            15253.760        \n3                                            16937.497        \n4                                            16585.763        \n..                                                 ...        \n102                                           4227.982        \n103                                           4270.649        \n104                                           4227.893        \n105                                           4101.954        \n106                                            150.000        \n\n[107 rows x 23 columns]",
      "text/html": "<div>\n<style scoped>\n    .dataframe tbody tr th:only-of-type {\n        vertical-align: middle;\n    }\n\n    .dataframe tbody tr th {\n        vertical-align: top;\n    }\n\n    .dataframe thead th {\n        text-align: right;\n    }\n</style>\n<table border=\"1\" class=\"dataframe\">\n  <thead>\n    <tr style=\"text-align: right;\">\n      <th></th>\n      <th>Название точки привлечения туристов</th>\n      <th>Кол-во запросов в месяц</th>\n      <th>Тип точки привлечения туристов</th>\n      <th>Долгота</th>\n      <th>Доступность автомобиля</th>\n      <th>Доступность автобуса</th>\n      <th>Доступность внедорожника</th>\n      <th>Доступность водныого транспорта</th>\n      <th>Доступность самолета</th>\n      <th>Широта</th>\n      <th>...</th>\n      <th>Детский туризм</th>\n      <th>Городские достопримечательности</th>\n      <th>Достопримечательность</th>\n      <th>Культурный центр</th>\n      <th>Судостроение</th>\n      <th>Нац. парк</th>\n      <th>Санаторий</th>\n      <th>Обзорная площадка</th>\n      <th>Горнолыжный курорт</th>\n      <th>Коэффициент кол-ва запросов в месяц окружающих объектов</th>\n    </tr>\n  </thead>\n  <tbody>\n    <tr>\n      <th>0</th>\n      <td>Архангельский театр драмы имени М.В. Ломоносова</td>\n      <td>9000.0</td>\n      <td>Театр</td>\n      <td>40.515280</td>\n      <td>False</td>\n      <td>False</td>\n      <td>False</td>\n      <td>False</td>\n      <td>False</td>\n      <td>64.536504</td>\n      <td>...</td>\n      <td>False</td>\n      <td>False</td>\n      <td>False</td>\n      <td>False</td>\n      <td>False</td>\n      <td>False</td>\n      <td>False</td>\n      <td>False</td>\n      <td>False</td>\n      <td>17456.652</td>\n    </tr>\n    <tr>\n      <th>1</th>\n      <td>\"Беломорские узоры\" (Народные художественные п...</td>\n      <td>466.0</td>\n      <td>Этнический центр</td>\n      <td>40.520756</td>\n      <td>True</td>\n      <td>True</td>\n      <td>False</td>\n      <td>False</td>\n      <td>False</td>\n      <td>64.559452</td>\n      <td>...</td>\n      <td>False</td>\n      <td>False</td>\n      <td>False</td>\n      <td>False</td>\n      <td>False</td>\n      <td>False</td>\n      <td>False</td>\n      <td>False</td>\n      <td>False</td>\n      <td>13011.068</td>\n    </tr>\n    <tr>\n      <th>2</th>\n      <td>Архангельский молодежный театр</td>\n      <td>446.0</td>\n      <td>Театр</td>\n      <td>40.519231</td>\n      <td>True</td>\n      <td>True</td>\n      <td>False</td>\n      <td>False</td>\n      <td>False</td>\n      <td>64.549876</td>\n      <td>...</td>\n      <td>False</td>\n      <td>False</td>\n      <td>False</td>\n      <td>False</td>\n      <td>False</td>\n      <td>False</td>\n      <td>False</td>\n      <td>False</td>\n      <td>False</td>\n      <td>15253.760</td>\n    </tr>\n    <tr>\n      <th>3</th>\n      <td>Архангельский музей изобразительных искусств</td>\n      <td>248.0</td>\n      <td>Музей</td>\n      <td>40.518417</td>\n      <td>True</td>\n      <td>True</td>\n      <td>False</td>\n      <td>False</td>\n      <td>False</td>\n      <td>64.539888</td>\n      <td>...</td>\n      <td>False</td>\n      <td>False</td>\n      <td>False</td>\n      <td>False</td>\n      <td>False</td>\n      <td>False</td>\n      <td>False</td>\n      <td>False</td>\n      <td>False</td>\n      <td>16937.497</td>\n    </tr>\n    <tr>\n      <th>4</th>\n      <td>Архангельский театр кукол</td>\n      <td>1400.0</td>\n      <td>Театр</td>\n      <td>40.529639</td>\n      <td>True</td>\n      <td>True</td>\n      <td>False</td>\n      <td>False</td>\n      <td>False</td>\n      <td>64.531850</td>\n      <td>...</td>\n      <td>False</td>\n      <td>False</td>\n      <td>False</td>\n      <td>False</td>\n      <td>False</td>\n      <td>False</td>\n      <td>False</td>\n      <td>False</td>\n      <td>False</td>\n      <td>16585.763</td>\n    </tr>\n    <tr>\n      <th>...</th>\n      <td>...</td>\n      <td>...</td>\n      <td>...</td>\n      <td>...</td>\n      <td>...</td>\n      <td>...</td>\n      <td>...</td>\n      <td>...</td>\n      <td>...</td>\n      <td>...</td>\n      <td>...</td>\n      <td>...</td>\n      <td>...</td>\n      <td>...</td>\n      <td>...</td>\n      <td>...</td>\n      <td>...</td>\n      <td>...</td>\n      <td>...</td>\n      <td>...</td>\n      <td>...</td>\n    </tr>\n    <tr>\n      <th>102</th>\n      <td>Историко-мемориальный музей М.В. Ломоносова</td>\n      <td>126.0</td>\n      <td>Достопримечательность</td>\n      <td>41.733645</td>\n      <td>True</td>\n      <td>True</td>\n      <td>False</td>\n      <td>False</td>\n      <td>False</td>\n      <td>64.230200</td>\n      <td>...</td>\n      <td>False</td>\n      <td>False</td>\n      <td>True</td>\n      <td>False</td>\n      <td>False</td>\n      <td>False</td>\n      <td>False</td>\n      <td>False</td>\n      <td>False</td>\n      <td>4227.982</td>\n    </tr>\n    <tr>\n      <th>103</th>\n      <td>Село Ломоносово</td>\n      <td>4073.0</td>\n      <td>Достопримечательность</td>\n      <td>41.732359</td>\n      <td>True</td>\n      <td>True</td>\n      <td>False</td>\n      <td>False</td>\n      <td>False</td>\n      <td>64.229380</td>\n      <td>...</td>\n      <td>False</td>\n      <td>False</td>\n      <td>True</td>\n      <td>False</td>\n      <td>False</td>\n      <td>False</td>\n      <td>False</td>\n      <td>False</td>\n      <td>False</td>\n      <td>4270.649</td>\n    </tr>\n    <tr>\n      <th>104</th>\n      <td>Фабрика Холмогорской резьбы по кости</td>\n      <td>37.0</td>\n      <td>Этнический центр</td>\n      <td>41.733516</td>\n      <td>True</td>\n      <td>True</td>\n      <td>False</td>\n      <td>False</td>\n      <td>False</td>\n      <td>64.230262</td>\n      <td>...</td>\n      <td>False</td>\n      <td>False</td>\n      <td>False</td>\n      <td>False</td>\n      <td>False</td>\n      <td>False</td>\n      <td>False</td>\n      <td>False</td>\n      <td>False</td>\n      <td>4227.893</td>\n    </tr>\n    <tr>\n      <th>105</th>\n      <td>Церковь Димитрия Солунского, с. Ломоносово</td>\n      <td>38.0</td>\n      <td>Достопримечательность</td>\n      <td>41.739181</td>\n      <td>True</td>\n      <td>True</td>\n      <td>False</td>\n      <td>False</td>\n      <td>False</td>\n      <td>64.231620</td>\n      <td>...</td>\n      <td>False</td>\n      <td>False</td>\n      <td>True</td>\n      <td>False</td>\n      <td>False</td>\n      <td>False</td>\n      <td>False</td>\n      <td>False</td>\n      <td>False</td>\n      <td>4101.954</td>\n    </tr>\n    <tr>\n      <th>106</th>\n      <td>Шенкурский районный краеведческий музей</td>\n      <td>150.0</td>\n      <td>Достопримечательность</td>\n      <td>42.902558</td>\n      <td>True</td>\n      <td>True</td>\n      <td>False</td>\n      <td>False</td>\n      <td>False</td>\n      <td>62.103525</td>\n      <td>...</td>\n      <td>False</td>\n      <td>False</td>\n      <td>True</td>\n      <td>False</td>\n      <td>False</td>\n      <td>False</td>\n      <td>False</td>\n      <td>False</td>\n      <td>False</td>\n      <td>150.000</td>\n    </tr>\n  </tbody>\n</table>\n<p>107 rows × 23 columns</p>\n</div>"
     },
     "execution_count": 12,
     "metadata": {},
     "output_type": "execute_result"
    }
   ],
   "source": [
    "data[\"Коэффициент кол-ва запросов в месяц окружающих объектов\"] = coeffs\n",
    "data"
   ],
   "metadata": {
    "collapsed": false
   }
  },
  {
   "cell_type": "code",
   "execution_count": 13,
   "outputs": [],
   "source": [
    "data.to_csv('touristObjects3.csv', index=False)"
   ],
   "metadata": {
    "collapsed": false
   }
  },
  {
   "cell_type": "code",
   "execution_count": null,
   "outputs": [],
   "source": [],
   "metadata": {
    "collapsed": false
   }
  }
 ],
 "metadata": {
  "kernelspec": {
   "display_name": "Python 3",
   "language": "python",
   "name": "python3"
  },
  "language_info": {
   "codemirror_mode": {
    "name": "ipython",
    "version": 2
   },
   "file_extension": ".py",
   "mimetype": "text/x-python",
   "name": "python",
   "nbconvert_exporter": "python",
   "pygments_lexer": "ipython2",
   "version": "2.7.6"
  }
 },
 "nbformat": 4,
 "nbformat_minor": 0
}
