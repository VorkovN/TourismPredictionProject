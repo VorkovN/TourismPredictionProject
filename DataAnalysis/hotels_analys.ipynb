{
 "cells": [
  {
   "cell_type": "code",
   "execution_count": 7,
   "metadata": {
    "collapsed": true
   },
   "outputs": [
    {
     "name": "stdout",
     "output_type": "stream",
     "text": [
      "Collecting openpyxl\r\n",
      "  Using cached openpyxl-3.1.2-py2.py3-none-any.whl (249 kB)\r\n",
      "Collecting et-xmlfile (from openpyxl)\r\n",
      "  Using cached et_xmlfile-1.1.0-py3-none-any.whl (4.7 kB)\r\n",
      "Installing collected packages: et-xmlfile, openpyxl\r\n",
      "Successfully installed et-xmlfile-1.1.0 openpyxl-3.1.2\r\n",
      "\r\n",
      "\u001B[1m[\u001B[0m\u001B[34;49mnotice\u001B[0m\u001B[1;39;49m]\u001B[0m\u001B[39;49m A new release of pip is available: \u001B[0m\u001B[31;49m23.1.2\u001B[0m\u001B[39;49m -> \u001B[0m\u001B[32;49m23.2.1\u001B[0m\r\n",
      "\u001B[1m[\u001B[0m\u001B[34;49mnotice\u001B[0m\u001B[1;39;49m]\u001B[0m\u001B[39;49m To update, run: \u001B[0m\u001B[32;49mpip install --upgrade pip\u001B[0m\r\n"
     ]
    }
   ],
   "source": [
    "import math\n",
    "\n",
    "import pandas as pd\n",
    "from math import sqrt\n",
    "from numpy import sin, cos, arccos, pi, round"
   ]
  },
  {
   "cell_type": "code",
   "execution_count": 8,
   "outputs": [],
   "source": [
    "def rad2deg(radians):\n",
    "    degrees = radians * 180 / pi\n",
    "    return degrees\n",
    "\n",
    "def deg2rad(degrees):\n",
    "    radians = degrees * pi / 180\n",
    "    return radians\n",
    "\n",
    "def getDistanceBetweenPointsNew(latitude1, longitude1, latitude2, longitude2):\n",
    "    theta = longitude1 - longitude2\n",
    "    distance = 60 * 1.1515 * rad2deg(arccos((sin(deg2rad(latitude1)) * sin(deg2rad(latitude2))) + (cos(deg2rad(latitude1)) * cos(deg2rad(latitude2)) * cos(deg2rad(theta)))))\n",
    "    return round(distance * 1.609344, 2)"
   ],
   "metadata": {
    "collapsed": false
   }
  },
  {
   "cell_type": "code",
   "execution_count": 9,
   "outputs": [],
   "source": [
    "dataHotels = pd.read_excel('data/Отели_1.xlsx')\n",
    "dataHotels = dataHotels.drop(columns=[1, 2])\n",
    "dataHotels"
   ],
   "metadata": {
    "collapsed": false
   }
  },
  {
   "cell_type": "code",
   "execution_count": 10,
   "outputs": [
    {
     "data": {
      "text/plain": "                                                     0     Широта    Долгота\n0        Гостиница «Виконда» ООО «Виконда Девелопмент»  61.742966  48.548257\n1      Санаторий-профилакторий \"Севмаш\" АО ПО \"Севмаш\"  64.571271  39.835616\n2                            Гостиница АО \"ПО \"Севмаш\"  64.539488  39.781130\n3      Гостиница «Семейная» «Голубино»  ООО «Голубино»  64.558731  43.268658\n4               ГОСТИНИЦА «АРТЕЛЕКОМ» ИП Дракунов О.Л.  64.555701  40.531440\n..                                                 ...        ...        ...\n139  Гостиница «Отель на Первомайской» Индивидуальн...  61.665988  40.193581\n140       Отель «Путник» ИП Панкратова Елена Сергеевна  62.700594  40.280940\n141  Гостиница «Дворец спорта г.Онега» МБУ ДО «Двор...  63.922963  38.127627\n142    Гостиница \"Рокот\" АО \"ГКНПЦ им. М.В. Хруничева\"  62.758122  40.331476\n143  «Гостевой дома «Как у бабушки»  ФГБУ «Национал...  61.827223  38.037106\n\n[144 rows x 3 columns]",
      "text/html": "<div>\n<style scoped>\n    .dataframe tbody tr th:only-of-type {\n        vertical-align: middle;\n    }\n\n    .dataframe tbody tr th {\n        vertical-align: top;\n    }\n\n    .dataframe thead th {\n        text-align: right;\n    }\n</style>\n<table border=\"1\" class=\"dataframe\">\n  <thead>\n    <tr style=\"text-align: right;\">\n      <th></th>\n      <th>0</th>\n      <th>Широта</th>\n      <th>Долгота</th>\n    </tr>\n  </thead>\n  <tbody>\n    <tr>\n      <th>0</th>\n      <td>Гостиница «Виконда» ООО «Виконда Девелопмент»</td>\n      <td>61.742966</td>\n      <td>48.548257</td>\n    </tr>\n    <tr>\n      <th>1</th>\n      <td>Санаторий-профилакторий \"Севмаш\" АО ПО \"Севмаш\"</td>\n      <td>64.571271</td>\n      <td>39.835616</td>\n    </tr>\n    <tr>\n      <th>2</th>\n      <td>Гостиница АО \"ПО \"Севмаш\"</td>\n      <td>64.539488</td>\n      <td>39.781130</td>\n    </tr>\n    <tr>\n      <th>3</th>\n      <td>Гостиница «Семейная» «Голубино»  ООО «Голубино»</td>\n      <td>64.558731</td>\n      <td>43.268658</td>\n    </tr>\n    <tr>\n      <th>4</th>\n      <td>ГОСТИНИЦА «АРТЕЛЕКОМ» ИП Дракунов О.Л.</td>\n      <td>64.555701</td>\n      <td>40.531440</td>\n    </tr>\n    <tr>\n      <th>...</th>\n      <td>...</td>\n      <td>...</td>\n      <td>...</td>\n    </tr>\n    <tr>\n      <th>139</th>\n      <td>Гостиница «Отель на Первомайской» Индивидуальн...</td>\n      <td>61.665988</td>\n      <td>40.193581</td>\n    </tr>\n    <tr>\n      <th>140</th>\n      <td>Отель «Путник» ИП Панкратова Елена Сергеевна</td>\n      <td>62.700594</td>\n      <td>40.280940</td>\n    </tr>\n    <tr>\n      <th>141</th>\n      <td>Гостиница «Дворец спорта г.Онега» МБУ ДО «Двор...</td>\n      <td>63.922963</td>\n      <td>38.127627</td>\n    </tr>\n    <tr>\n      <th>142</th>\n      <td>Гостиница \"Рокот\" АО \"ГКНПЦ им. М.В. Хруничева\"</td>\n      <td>62.758122</td>\n      <td>40.331476</td>\n    </tr>\n    <tr>\n      <th>143</th>\n      <td>«Гостевой дома «Как у бабушки»  ФГБУ «Национал...</td>\n      <td>61.827223</td>\n      <td>38.037106</td>\n    </tr>\n  </tbody>\n</table>\n<p>144 rows × 3 columns</p>\n</div>"
     },
     "execution_count": 10,
     "metadata": {},
     "output_type": "execute_result"
    }
   ],
   "source": [
    "dataTourism = pd.read_csv('touristObjects.csv')\n",
    "dataTourism"
   ],
   "metadata": {
    "collapsed": false
   }
  },
  {
   "cell_type": "code",
   "execution_count": 11,
   "outputs": [
    {
     "data": {
      "text/plain": "                   Название точки привлечения туристов  \\\n0      Архангельский театр драмы имени М.В. Ломоносова   \n1    \"Беломорские узоры\" (Народные художественные п...   \n2                       Архангельский молодежный театр   \n3         Архангельский музей изобразительных искусств   \n4                            Архангельский театр кукол   \n..                                                 ...   \n102        Историко-мемориальный музей М.В. Ломоносова   \n103                                    Село Ломоносово   \n104               Фабрика Холмогорской резьбы по кости   \n105         Церковь Димитрия Солунского, с. Ломоносово   \n106            Шенкурский районный краеведческий музей   \n\n     Кол-во запросов в месяц Тип точки привлечения туристов    Долгота  \\\n0                     9000.0                          Театр  40.515280   \n1                      466.0               Этнический центр  40.520756   \n2                      446.0                          Театр  40.519231   \n3                      248.0                          Музей  40.518417   \n4                     1400.0                          Театр  40.529639   \n..                       ...                            ...        ...   \n102                    126.0          Достопримечательность  41.733645   \n103                   4073.0          Достопримечательность  41.732359   \n104                     37.0               Этнический центр  41.733516   \n105                     38.0          Достопримечательность  41.739181   \n106                    150.0          Достопримечательность  42.902558   \n\n     Доступность автомобиля  Доступность автобуса  Доступность внедорожника  \\\n0                     False                 False                     False   \n1                      True                  True                     False   \n2                      True                  True                     False   \n3                      True                  True                     False   \n4                      True                  True                     False   \n..                      ...                   ...                       ...   \n102                    True                  True                     False   \n103                    True                  True                     False   \n104                    True                  True                     False   \n105                    True                  True                     False   \n106                    True                  True                     False   \n\n     Доступность водныого транспорта  Доступность самолета     Широта  ...  \\\n0                              False                 False  64.536504  ...   \n1                              False                 False  64.559452  ...   \n2                              False                 False  64.549876  ...   \n3                              False                 False  64.539888  ...   \n4                              False                 False  64.531850  ...   \n..                               ...                   ...        ...  ...   \n102                            False                 False  64.230200  ...   \n103                            False                 False  64.229380  ...   \n104                            False                 False  64.230262  ...   \n105                            False                 False  64.231620  ...   \n106                            False                 False  62.103525  ...   \n\n     Музей  Детский туризм  Городские достопримечательности  \\\n0    False           False                            False   \n1    False           False                            False   \n2    False           False                            False   \n3     True           False                            False   \n4    False           False                            False   \n..     ...             ...                              ...   \n102  False           False                            False   \n103  False           False                            False   \n104  False           False                            False   \n105  False           False                            False   \n106  False           False                            False   \n\n     Достопримечательность  Культурный центр  Судостроение  Нац. парк  \\\n0                    False             False         False      False   \n1                    False             False         False      False   \n2                    False             False         False      False   \n3                    False             False         False      False   \n4                    False             False         False      False   \n..                     ...               ...           ...        ...   \n102                   True             False         False      False   \n103                   True             False         False      False   \n104                  False             False         False      False   \n105                   True             False         False      False   \n106                   True             False         False      False   \n\n     Санаторий  Обзорная площадка  Горнолыжный курорт  \n0        False              False               False  \n1        False              False               False  \n2        False              False               False  \n3        False              False               False  \n4        False              False               False  \n..         ...                ...                 ...  \n102      False              False               False  \n103      False              False               False  \n104      False              False               False  \n105      False              False               False  \n106      False              False               False  \n\n[107 rows x 22 columns]",
      "text/html": "<div>\n<style scoped>\n    .dataframe tbody tr th:only-of-type {\n        vertical-align: middle;\n    }\n\n    .dataframe tbody tr th {\n        vertical-align: top;\n    }\n\n    .dataframe thead th {\n        text-align: right;\n    }\n</style>\n<table border=\"1\" class=\"dataframe\">\n  <thead>\n    <tr style=\"text-align: right;\">\n      <th></th>\n      <th>Название точки привлечения туристов</th>\n      <th>Кол-во запросов в месяц</th>\n      <th>Тип точки привлечения туристов</th>\n      <th>Долгота</th>\n      <th>Доступность автомобиля</th>\n      <th>Доступность автобуса</th>\n      <th>Доступность внедорожника</th>\n      <th>Доступность водныого транспорта</th>\n      <th>Доступность самолета</th>\n      <th>Широта</th>\n      <th>...</th>\n      <th>Музей</th>\n      <th>Детский туризм</th>\n      <th>Городские достопримечательности</th>\n      <th>Достопримечательность</th>\n      <th>Культурный центр</th>\n      <th>Судостроение</th>\n      <th>Нац. парк</th>\n      <th>Санаторий</th>\n      <th>Обзорная площадка</th>\n      <th>Горнолыжный курорт</th>\n    </tr>\n  </thead>\n  <tbody>\n    <tr>\n      <th>0</th>\n      <td>Архангельский театр драмы имени М.В. Ломоносова</td>\n      <td>9000.0</td>\n      <td>Театр</td>\n      <td>40.515280</td>\n      <td>False</td>\n      <td>False</td>\n      <td>False</td>\n      <td>False</td>\n      <td>False</td>\n      <td>64.536504</td>\n      <td>...</td>\n      <td>False</td>\n      <td>False</td>\n      <td>False</td>\n      <td>False</td>\n      <td>False</td>\n      <td>False</td>\n      <td>False</td>\n      <td>False</td>\n      <td>False</td>\n      <td>False</td>\n    </tr>\n    <tr>\n      <th>1</th>\n      <td>\"Беломорские узоры\" (Народные художественные п...</td>\n      <td>466.0</td>\n      <td>Этнический центр</td>\n      <td>40.520756</td>\n      <td>True</td>\n      <td>True</td>\n      <td>False</td>\n      <td>False</td>\n      <td>False</td>\n      <td>64.559452</td>\n      <td>...</td>\n      <td>False</td>\n      <td>False</td>\n      <td>False</td>\n      <td>False</td>\n      <td>False</td>\n      <td>False</td>\n      <td>False</td>\n      <td>False</td>\n      <td>False</td>\n      <td>False</td>\n    </tr>\n    <tr>\n      <th>2</th>\n      <td>Архангельский молодежный театр</td>\n      <td>446.0</td>\n      <td>Театр</td>\n      <td>40.519231</td>\n      <td>True</td>\n      <td>True</td>\n      <td>False</td>\n      <td>False</td>\n      <td>False</td>\n      <td>64.549876</td>\n      <td>...</td>\n      <td>False</td>\n      <td>False</td>\n      <td>False</td>\n      <td>False</td>\n      <td>False</td>\n      <td>False</td>\n      <td>False</td>\n      <td>False</td>\n      <td>False</td>\n      <td>False</td>\n    </tr>\n    <tr>\n      <th>3</th>\n      <td>Архангельский музей изобразительных искусств</td>\n      <td>248.0</td>\n      <td>Музей</td>\n      <td>40.518417</td>\n      <td>True</td>\n      <td>True</td>\n      <td>False</td>\n      <td>False</td>\n      <td>False</td>\n      <td>64.539888</td>\n      <td>...</td>\n      <td>True</td>\n      <td>False</td>\n      <td>False</td>\n      <td>False</td>\n      <td>False</td>\n      <td>False</td>\n      <td>False</td>\n      <td>False</td>\n      <td>False</td>\n      <td>False</td>\n    </tr>\n    <tr>\n      <th>4</th>\n      <td>Архангельский театр кукол</td>\n      <td>1400.0</td>\n      <td>Театр</td>\n      <td>40.529639</td>\n      <td>True</td>\n      <td>True</td>\n      <td>False</td>\n      <td>False</td>\n      <td>False</td>\n      <td>64.531850</td>\n      <td>...</td>\n      <td>False</td>\n      <td>False</td>\n      <td>False</td>\n      <td>False</td>\n      <td>False</td>\n      <td>False</td>\n      <td>False</td>\n      <td>False</td>\n      <td>False</td>\n      <td>False</td>\n    </tr>\n    <tr>\n      <th>...</th>\n      <td>...</td>\n      <td>...</td>\n      <td>...</td>\n      <td>...</td>\n      <td>...</td>\n      <td>...</td>\n      <td>...</td>\n      <td>...</td>\n      <td>...</td>\n      <td>...</td>\n      <td>...</td>\n      <td>...</td>\n      <td>...</td>\n      <td>...</td>\n      <td>...</td>\n      <td>...</td>\n      <td>...</td>\n      <td>...</td>\n      <td>...</td>\n      <td>...</td>\n      <td>...</td>\n    </tr>\n    <tr>\n      <th>102</th>\n      <td>Историко-мемориальный музей М.В. Ломоносова</td>\n      <td>126.0</td>\n      <td>Достопримечательность</td>\n      <td>41.733645</td>\n      <td>True</td>\n      <td>True</td>\n      <td>False</td>\n      <td>False</td>\n      <td>False</td>\n      <td>64.230200</td>\n      <td>...</td>\n      <td>False</td>\n      <td>False</td>\n      <td>False</td>\n      <td>True</td>\n      <td>False</td>\n      <td>False</td>\n      <td>False</td>\n      <td>False</td>\n      <td>False</td>\n      <td>False</td>\n    </tr>\n    <tr>\n      <th>103</th>\n      <td>Село Ломоносово</td>\n      <td>4073.0</td>\n      <td>Достопримечательность</td>\n      <td>41.732359</td>\n      <td>True</td>\n      <td>True</td>\n      <td>False</td>\n      <td>False</td>\n      <td>False</td>\n      <td>64.229380</td>\n      <td>...</td>\n      <td>False</td>\n      <td>False</td>\n      <td>False</td>\n      <td>True</td>\n      <td>False</td>\n      <td>False</td>\n      <td>False</td>\n      <td>False</td>\n      <td>False</td>\n      <td>False</td>\n    </tr>\n    <tr>\n      <th>104</th>\n      <td>Фабрика Холмогорской резьбы по кости</td>\n      <td>37.0</td>\n      <td>Этнический центр</td>\n      <td>41.733516</td>\n      <td>True</td>\n      <td>True</td>\n      <td>False</td>\n      <td>False</td>\n      <td>False</td>\n      <td>64.230262</td>\n      <td>...</td>\n      <td>False</td>\n      <td>False</td>\n      <td>False</td>\n      <td>False</td>\n      <td>False</td>\n      <td>False</td>\n      <td>False</td>\n      <td>False</td>\n      <td>False</td>\n      <td>False</td>\n    </tr>\n    <tr>\n      <th>105</th>\n      <td>Церковь Димитрия Солунского, с. Ломоносово</td>\n      <td>38.0</td>\n      <td>Достопримечательность</td>\n      <td>41.739181</td>\n      <td>True</td>\n      <td>True</td>\n      <td>False</td>\n      <td>False</td>\n      <td>False</td>\n      <td>64.231620</td>\n      <td>...</td>\n      <td>False</td>\n      <td>False</td>\n      <td>False</td>\n      <td>True</td>\n      <td>False</td>\n      <td>False</td>\n      <td>False</td>\n      <td>False</td>\n      <td>False</td>\n      <td>False</td>\n    </tr>\n    <tr>\n      <th>106</th>\n      <td>Шенкурский районный краеведческий музей</td>\n      <td>150.0</td>\n      <td>Достопримечательность</td>\n      <td>42.902558</td>\n      <td>True</td>\n      <td>True</td>\n      <td>False</td>\n      <td>False</td>\n      <td>False</td>\n      <td>62.103525</td>\n      <td>...</td>\n      <td>False</td>\n      <td>False</td>\n      <td>False</td>\n      <td>True</td>\n      <td>False</td>\n      <td>False</td>\n      <td>False</td>\n      <td>False</td>\n      <td>False</td>\n      <td>False</td>\n    </tr>\n  </tbody>\n</table>\n<p>107 rows × 22 columns</p>\n</div>"
     },
     "execution_count": 11,
     "metadata": {},
     "output_type": "execute_result"
    }
   ],
   "source": [
    "dataTourism.shape[0]"
   ],
   "metadata": {
    "collapsed": false
   }
  },
  {
   "cell_type": "code",
   "execution_count": 12,
   "outputs": [
    {
     "data": {
      "text/plain": "107"
     },
     "execution_count": 12,
     "metadata": {},
     "output_type": "execute_result"
    }
   ],
   "source": [
    "hostelCoeffs=[]\n",
    "maxDist = 10\n",
    "for tourismObject in range(dataTourism.shape[0]):\n",
    "    coeff = 0\n",
    "    longitudeTourism = dataTourism.loc[tourismObject]['Долгота']\n",
    "    latitudeTourism = dataTourism.loc[tourismObject]['Широта']\n",
    "    for hostel in range(dataHotels.shape[0]):\n",
    "        longitudeHostel = dataHotels.loc[hostel]['Долгота']\n",
    "        latitudeHostel = dataHotels.loc[hostel]['Широта']\n",
    "        dist = getDistanceBetweenPointsNew(latitudeTourism, longitudeTourism, latitudeHostel, longitudeHostel)\n",
    "        # print(dist)\n",
    "        # dist = (longitudeTourism-longitudeHostel)**2 + (latitudeTourism-latitudeHostel)**2\n",
    "        if (dist < maxDist):\n",
    "            coeff += maxDist - dist\n",
    "    hostelCoeffs.append(coeff)"
   ],
   "metadata": {
    "collapsed": false
   }
  },
  {
   "cell_type": "code",
   "execution_count": 13,
   "outputs": [],
   "source": [
    "hostelCoeffs"
   ],
   "metadata": {
    "collapsed": false
   }
  },
  {
   "cell_type": "code",
   "execution_count": 14,
   "outputs": [
    {
     "data": {
      "text/plain": "[206.97999999999996,\n 198.80999999999995,\n 209.32000000000002,\n 211.79999999999998,\n 208.76999999999995,\n 160.63,\n 204.75000000000003,\n 200.96000000000004,\n 207.55999999999997,\n 205.42000000000004,\n 32.31999999999999,\n 212.51,\n 41.970000000000006,\n 210.95999999999998,\n 211.41000000000003,\n 0,\n 209.29000000000002,\n 203.14000000000001,\n 205.26999999999998,\n 214.26000000000005,\n 204.49,\n 207.87999999999994,\n 59.980000000000004,\n 61.17,\n 61.61,\n 52.589999999999996,\n 60.980000000000004,\n 8.620000000000001,\n 0,\n 0,\n 0,\n 27.11,\n 0.3200000000000003,\n 27.85,\n 24.979999999999997,\n 0,\n 27.93,\n 0,\n 27.73,\n 27.91,\n 0,\n 0,\n 41.38,\n 79.72999999999999,\n 15.129999999999999,\n 21.86,\n 16.380000000000003,\n 8.95,\n 9.03,\n 0,\n 0,\n 0,\n 0,\n 0,\n 0,\n 18.64,\n 0,\n 0,\n 26.94,\n 9.71,\n 25.509999999999998,\n 0,\n 8.36,\n 9.13,\n 0,\n 0,\n 0,\n 0,\n 5.52,\n 26.28,\n 0,\n 7.290000000000001,\n 0,\n 6.56,\n 68.0,\n 8.349999999999998,\n 24.169999999999998,\n 19.68,\n 0,\n 7.869999999999997,\n 0,\n 0,\n 108.07,\n 170.03999999999996,\n 0,\n 0,\n 3.5599999999999996,\n 0,\n 49.87,\n 50.59,\n 50.08,\n 28.42,\n 29.46,\n 29.089999999999996,\n 29.53,\n 28.700000000000003,\n 29.200000000000003,\n 28.990000000000002,\n 29.299999999999997,\n 19.28,\n 9.47,\n 12.209999999999999,\n 0,\n 0,\n 0,\n 0,\n 0]"
     },
     "execution_count": 14,
     "metadata": {},
     "output_type": "execute_result"
    }
   ],
   "source": [
    "dataTourism[\"Коэффициент удаленности от гостинниц\"] = hostelCoeffs\n",
    "dataTourism"
   ],
   "metadata": {
    "collapsed": false
   }
  },
  {
   "cell_type": "code",
   "execution_count": 15,
   "outputs": [
    {
     "data": {
      "text/plain": "                   Название точки привлечения туристов  \\\n0      Архангельский театр драмы имени М.В. Ломоносова   \n1    \"Беломорские узоры\" (Народные художественные п...   \n2                       Архангельский молодежный театр   \n3         Архангельский музей изобразительных искусств   \n4                            Архангельский театр кукол   \n..                                                 ...   \n102        Историко-мемориальный музей М.В. Ломоносова   \n103                                    Село Ломоносово   \n104               Фабрика Холмогорской резьбы по кости   \n105         Церковь Димитрия Солунского, с. Ломоносово   \n106            Шенкурский районный краеведческий музей   \n\n     Кол-во запросов в месяц Тип точки привлечения туристов    Долгота  \\\n0                     9000.0                          Театр  40.515280   \n1                      466.0               Этнический центр  40.520756   \n2                      446.0                          Театр  40.519231   \n3                      248.0                          Музей  40.518417   \n4                     1400.0                          Театр  40.529639   \n..                       ...                            ...        ...   \n102                    126.0          Достопримечательность  41.733645   \n103                   4073.0          Достопримечательность  41.732359   \n104                     37.0               Этнический центр  41.733516   \n105                     38.0          Достопримечательность  41.739181   \n106                    150.0          Достопримечательность  42.902558   \n\n     Доступность автомобиля  Доступность автобуса  Доступность внедорожника  \\\n0                     False                 False                     False   \n1                      True                  True                     False   \n2                      True                  True                     False   \n3                      True                  True                     False   \n4                      True                  True                     False   \n..                      ...                   ...                       ...   \n102                    True                  True                     False   \n103                    True                  True                     False   \n104                    True                  True                     False   \n105                    True                  True                     False   \n106                    True                  True                     False   \n\n     Доступность водныого транспорта  Доступность самолета     Широта  ...  \\\n0                              False                 False  64.536504  ...   \n1                              False                 False  64.559452  ...   \n2                              False                 False  64.549876  ...   \n3                              False                 False  64.539888  ...   \n4                              False                 False  64.531850  ...   \n..                               ...                   ...        ...  ...   \n102                            False                 False  64.230200  ...   \n103                            False                 False  64.229380  ...   \n104                            False                 False  64.230262  ...   \n105                            False                 False  64.231620  ...   \n106                            False                 False  62.103525  ...   \n\n     Детский туризм  Городские достопримечательности  Достопримечательность  \\\n0             False                            False                  False   \n1             False                            False                  False   \n2             False                            False                  False   \n3             False                            False                  False   \n4             False                            False                  False   \n..              ...                              ...                    ...   \n102           False                            False                   True   \n103           False                            False                   True   \n104           False                            False                  False   \n105           False                            False                   True   \n106           False                            False                   True   \n\n     Культурный центр  Судостроение  Нац. парк  Санаторий  Обзорная площадка  \\\n0               False         False      False      False              False   \n1               False         False      False      False              False   \n2               False         False      False      False              False   \n3               False         False      False      False              False   \n4               False         False      False      False              False   \n..                ...           ...        ...        ...                ...   \n102             False         False      False      False              False   \n103             False         False      False      False              False   \n104             False         False      False      False              False   \n105             False         False      False      False              False   \n106             False         False      False      False              False   \n\n     Горнолыжный курорт  Коэффициент удаленности от гостинниц  \n0                 False                                206.98  \n1                 False                                198.81  \n2                 False                                209.32  \n3                 False                                211.80  \n4                 False                                208.77  \n..                  ...                                   ...  \n102               False                                  0.00  \n103               False                                  0.00  \n104               False                                  0.00  \n105               False                                  0.00  \n106               False                                  0.00  \n\n[107 rows x 23 columns]",
      "text/html": "<div>\n<style scoped>\n    .dataframe tbody tr th:only-of-type {\n        vertical-align: middle;\n    }\n\n    .dataframe tbody tr th {\n        vertical-align: top;\n    }\n\n    .dataframe thead th {\n        text-align: right;\n    }\n</style>\n<table border=\"1\" class=\"dataframe\">\n  <thead>\n    <tr style=\"text-align: right;\">\n      <th></th>\n      <th>Название точки привлечения туристов</th>\n      <th>Кол-во запросов в месяц</th>\n      <th>Тип точки привлечения туристов</th>\n      <th>Долгота</th>\n      <th>Доступность автомобиля</th>\n      <th>Доступность автобуса</th>\n      <th>Доступность внедорожника</th>\n      <th>Доступность водныого транспорта</th>\n      <th>Доступность самолета</th>\n      <th>Широта</th>\n      <th>...</th>\n      <th>Детский туризм</th>\n      <th>Городские достопримечательности</th>\n      <th>Достопримечательность</th>\n      <th>Культурный центр</th>\n      <th>Судостроение</th>\n      <th>Нац. парк</th>\n      <th>Санаторий</th>\n      <th>Обзорная площадка</th>\n      <th>Горнолыжный курорт</th>\n      <th>Коэффициент удаленности от гостинниц</th>\n    </tr>\n  </thead>\n  <tbody>\n    <tr>\n      <th>0</th>\n      <td>Архангельский театр драмы имени М.В. Ломоносова</td>\n      <td>9000.0</td>\n      <td>Театр</td>\n      <td>40.515280</td>\n      <td>False</td>\n      <td>False</td>\n      <td>False</td>\n      <td>False</td>\n      <td>False</td>\n      <td>64.536504</td>\n      <td>...</td>\n      <td>False</td>\n      <td>False</td>\n      <td>False</td>\n      <td>False</td>\n      <td>False</td>\n      <td>False</td>\n      <td>False</td>\n      <td>False</td>\n      <td>False</td>\n      <td>206.98</td>\n    </tr>\n    <tr>\n      <th>1</th>\n      <td>\"Беломорские узоры\" (Народные художественные п...</td>\n      <td>466.0</td>\n      <td>Этнический центр</td>\n      <td>40.520756</td>\n      <td>True</td>\n      <td>True</td>\n      <td>False</td>\n      <td>False</td>\n      <td>False</td>\n      <td>64.559452</td>\n      <td>...</td>\n      <td>False</td>\n      <td>False</td>\n      <td>False</td>\n      <td>False</td>\n      <td>False</td>\n      <td>False</td>\n      <td>False</td>\n      <td>False</td>\n      <td>False</td>\n      <td>198.81</td>\n    </tr>\n    <tr>\n      <th>2</th>\n      <td>Архангельский молодежный театр</td>\n      <td>446.0</td>\n      <td>Театр</td>\n      <td>40.519231</td>\n      <td>True</td>\n      <td>True</td>\n      <td>False</td>\n      <td>False</td>\n      <td>False</td>\n      <td>64.549876</td>\n      <td>...</td>\n      <td>False</td>\n      <td>False</td>\n      <td>False</td>\n      <td>False</td>\n      <td>False</td>\n      <td>False</td>\n      <td>False</td>\n      <td>False</td>\n      <td>False</td>\n      <td>209.32</td>\n    </tr>\n    <tr>\n      <th>3</th>\n      <td>Архангельский музей изобразительных искусств</td>\n      <td>248.0</td>\n      <td>Музей</td>\n      <td>40.518417</td>\n      <td>True</td>\n      <td>True</td>\n      <td>False</td>\n      <td>False</td>\n      <td>False</td>\n      <td>64.539888</td>\n      <td>...</td>\n      <td>False</td>\n      <td>False</td>\n      <td>False</td>\n      <td>False</td>\n      <td>False</td>\n      <td>False</td>\n      <td>False</td>\n      <td>False</td>\n      <td>False</td>\n      <td>211.80</td>\n    </tr>\n    <tr>\n      <th>4</th>\n      <td>Архангельский театр кукол</td>\n      <td>1400.0</td>\n      <td>Театр</td>\n      <td>40.529639</td>\n      <td>True</td>\n      <td>True</td>\n      <td>False</td>\n      <td>False</td>\n      <td>False</td>\n      <td>64.531850</td>\n      <td>...</td>\n      <td>False</td>\n      <td>False</td>\n      <td>False</td>\n      <td>False</td>\n      <td>False</td>\n      <td>False</td>\n      <td>False</td>\n      <td>False</td>\n      <td>False</td>\n      <td>208.77</td>\n    </tr>\n    <tr>\n      <th>...</th>\n      <td>...</td>\n      <td>...</td>\n      <td>...</td>\n      <td>...</td>\n      <td>...</td>\n      <td>...</td>\n      <td>...</td>\n      <td>...</td>\n      <td>...</td>\n      <td>...</td>\n      <td>...</td>\n      <td>...</td>\n      <td>...</td>\n      <td>...</td>\n      <td>...</td>\n      <td>...</td>\n      <td>...</td>\n      <td>...</td>\n      <td>...</td>\n      <td>...</td>\n      <td>...</td>\n    </tr>\n    <tr>\n      <th>102</th>\n      <td>Историко-мемориальный музей М.В. Ломоносова</td>\n      <td>126.0</td>\n      <td>Достопримечательность</td>\n      <td>41.733645</td>\n      <td>True</td>\n      <td>True</td>\n      <td>False</td>\n      <td>False</td>\n      <td>False</td>\n      <td>64.230200</td>\n      <td>...</td>\n      <td>False</td>\n      <td>False</td>\n      <td>True</td>\n      <td>False</td>\n      <td>False</td>\n      <td>False</td>\n      <td>False</td>\n      <td>False</td>\n      <td>False</td>\n      <td>0.00</td>\n    </tr>\n    <tr>\n      <th>103</th>\n      <td>Село Ломоносово</td>\n      <td>4073.0</td>\n      <td>Достопримечательность</td>\n      <td>41.732359</td>\n      <td>True</td>\n      <td>True</td>\n      <td>False</td>\n      <td>False</td>\n      <td>False</td>\n      <td>64.229380</td>\n      <td>...</td>\n      <td>False</td>\n      <td>False</td>\n      <td>True</td>\n      <td>False</td>\n      <td>False</td>\n      <td>False</td>\n      <td>False</td>\n      <td>False</td>\n      <td>False</td>\n      <td>0.00</td>\n    </tr>\n    <tr>\n      <th>104</th>\n      <td>Фабрика Холмогорской резьбы по кости</td>\n      <td>37.0</td>\n      <td>Этнический центр</td>\n      <td>41.733516</td>\n      <td>True</td>\n      <td>True</td>\n      <td>False</td>\n      <td>False</td>\n      <td>False</td>\n      <td>64.230262</td>\n      <td>...</td>\n      <td>False</td>\n      <td>False</td>\n      <td>False</td>\n      <td>False</td>\n      <td>False</td>\n      <td>False</td>\n      <td>False</td>\n      <td>False</td>\n      <td>False</td>\n      <td>0.00</td>\n    </tr>\n    <tr>\n      <th>105</th>\n      <td>Церковь Димитрия Солунского, с. Ломоносово</td>\n      <td>38.0</td>\n      <td>Достопримечательность</td>\n      <td>41.739181</td>\n      <td>True</td>\n      <td>True</td>\n      <td>False</td>\n      <td>False</td>\n      <td>False</td>\n      <td>64.231620</td>\n      <td>...</td>\n      <td>False</td>\n      <td>False</td>\n      <td>True</td>\n      <td>False</td>\n      <td>False</td>\n      <td>False</td>\n      <td>False</td>\n      <td>False</td>\n      <td>False</td>\n      <td>0.00</td>\n    </tr>\n    <tr>\n      <th>106</th>\n      <td>Шенкурский районный краеведческий музей</td>\n      <td>150.0</td>\n      <td>Достопримечательность</td>\n      <td>42.902558</td>\n      <td>True</td>\n      <td>True</td>\n      <td>False</td>\n      <td>False</td>\n      <td>False</td>\n      <td>62.103525</td>\n      <td>...</td>\n      <td>False</td>\n      <td>False</td>\n      <td>True</td>\n      <td>False</td>\n      <td>False</td>\n      <td>False</td>\n      <td>False</td>\n      <td>False</td>\n      <td>False</td>\n      <td>0.00</td>\n    </tr>\n  </tbody>\n</table>\n<p>107 rows × 23 columns</p>\n</div>"
     },
     "execution_count": 15,
     "metadata": {},
     "output_type": "execute_result"
    }
   ],
   "source": [
    "dataTourism.to_csv('touristObjects2.csv', index=False)"
   ],
   "metadata": {
    "collapsed": false
   }
  },
  {
   "cell_type": "code",
   "execution_count": 16,
   "outputs": [],
   "source": [],
   "metadata": {
    "collapsed": false
   }
  }
 ],
 "metadata": {
  "kernelspec": {
   "display_name": "Python 3",
   "language": "python",
   "name": "python3"
  },
  "language_info": {
   "codemirror_mode": {
    "name": "ipython",
    "version": 2
   },
   "file_extension": ".py",
   "mimetype": "text/x-python",
   "name": "python",
   "nbconvert_exporter": "python",
   "pygments_lexer": "ipython2",
   "version": "2.7.6"
  }
 },
 "nbformat": 4,
 "nbformat_minor": 0
}
