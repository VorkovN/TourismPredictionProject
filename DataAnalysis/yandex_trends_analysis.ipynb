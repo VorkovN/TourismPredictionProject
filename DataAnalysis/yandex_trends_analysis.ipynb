{
 "cells": [
  {
   "cell_type": "code",
   "execution_count": null,
   "metadata": {
    "collapsed": true
   },
   "outputs": [],
   "source": [
    "import json, urllib2\n",
    "\n",
    "#адрес для отправки json-запросов\n",
    "url = 'https://api.direct.yandex.ru/v/json/'\n",
    "\n",
    "#данные для OAuth-авторизации\n",
    "token = 'e4d3b4d2a7444fa384a18cda5cd1c8d9'\n",
    "\n",
    "#логин в Директе\n",
    "login = 'agrom'\n",
    "\n",
    "#структура входных данных (словарь)\n",
    "data = {\n",
    "   'method': 'GetClientInfo',\n",
    "   'token': token,\n",
    "   'locale': 'ru',\n",
    "   'param': [login]\n",
    "}\n",
    "\n",
    "#конвертировать словарь в JSON-формат и перекодировать в UTF-8\n",
    "jdata = json.dumps(data, ensure_ascii=False).encode('utf8')\n",
    "\n",
    "#выполнить запрос\n",
    "response = urllib2.urlopen(url,jdata)\n",
    "\n",
    "#вывести результат\n",
    "print response.read().decode('utf8')"
   ]
  }
 ],
 "metadata": {
  "kernelspec": {
   "display_name": "Python 3",
   "language": "python",
   "name": "python3"
  },
  "language_info": {
   "codemirror_mode": {
    "name": "ipython",
    "version": 2
   },
   "file_extension": ".py",
   "mimetype": "text/x-python",
   "name": "python",
   "nbconvert_exporter": "python",
   "pygments_lexer": "ipython2",
   "version": "2.7.6"
  }
 },
 "nbformat": 4,
 "nbformat_minor": 0
}
