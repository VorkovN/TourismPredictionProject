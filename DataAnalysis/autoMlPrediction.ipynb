{
 "cells": [
  {
   "cell_type": "code",
   "execution_count": 1,
   "metadata": {
    "collapsed": true
   },
   "outputs": [
    {
     "name": "stdout",
     "output_type": "stream",
     "text": [
      "Requirement already satisfied: sklearn in /home/vorkov/anaconda3/envs/TourismPredictionProject/lib/python3.8/site-packages (0.0.post7)\r\n",
      "\r\n",
      "\u001B[1m[\u001B[0m\u001B[34;49mnotice\u001B[0m\u001B[1;39;49m]\u001B[0m\u001B[39;49m A new release of pip is available: \u001B[0m\u001B[31;49m23.1.2\u001B[0m\u001B[39;49m -> \u001B[0m\u001B[32;49m23.2.1\u001B[0m\r\n",
      "\u001B[1m[\u001B[0m\u001B[34;49mnotice\u001B[0m\u001B[1;39;49m]\u001B[0m\u001B[39;49m To update, run: \u001B[0m\u001B[32;49mpip install --upgrade pip\u001B[0m\r\n",
      "Requirement already satisfied: lightautoml in /home/vorkov/.local/lib/python3.8/site-packages (0.3.7.3)\r\n",
      "Requirement already satisfied: autowoe>=1.2 in /home/vorkov/.local/lib/python3.8/site-packages (from lightautoml) (1.3.2)\r\n",
      "Requirement already satisfied: catboost>=0.26.1 in /home/vorkov/.local/lib/python3.8/site-packages (from lightautoml) (1.2)\r\n",
      "Requirement already satisfied: cmaes in /home/vorkov/.local/lib/python3.8/site-packages (from lightautoml) (0.9.1)\r\n",
      "Requirement already satisfied: holidays in /home/vorkov/.local/lib/python3.8/site-packages (from lightautoml) (0.25)\r\n",
      "Requirement already satisfied: jinja2 in /home/vorkov/.local/lib/python3.8/site-packages (from lightautoml) (3.1.2)\r\n",
      "Requirement already satisfied: joblib in /home/vorkov/.local/lib/python3.8/site-packages (from lightautoml) (1.2.0)\r\n",
      "Requirement already satisfied: json2html in /home/vorkov/.local/lib/python3.8/site-packages (from lightautoml) (1.3.0)\r\n",
      "Requirement already satisfied: lightgbm<=3.2.1,>=2.3 in /home/vorkov/.local/lib/python3.8/site-packages (from lightautoml) (3.2.1)\r\n",
      "Requirement already satisfied: networkx in /home/vorkov/.local/lib/python3.8/site-packages (from lightautoml) (2.8.3)\r\n",
      "Requirement already satisfied: optuna in /home/vorkov/.local/lib/python3.8/site-packages (from lightautoml) (3.1.1)\r\n",
      "Requirement already satisfied: pandas<=1.4.3 in /home/vorkov/.local/lib/python3.8/site-packages (from lightautoml) (1.4.3)\r\n",
      "Requirement already satisfied: poetry-core<2.0.0,>=1.0.0 in /home/vorkov/.local/lib/python3.8/site-packages (from lightautoml) (1.6.0)\r\n",
      "Requirement already satisfied: pyyaml in /home/vorkov/anaconda3/envs/TourismPredictionProject/lib/python3.8/site-packages (from lightautoml) (6.0)\r\n",
      "Requirement already satisfied: scikit-learn>=0.22 in /home/vorkov/.local/lib/python3.8/site-packages (from lightautoml) (1.2.1)\r\n",
      "Requirement already satisfied: seaborn in /home/vorkov/.local/lib/python3.8/site-packages (from lightautoml) (0.12.1)\r\n",
      "Requirement already satisfied: torch<1.9 in /home/vorkov/.local/lib/python3.8/site-packages (from lightautoml) (1.8.1)\r\n",
      "Requirement already satisfied: torchvision in /home/vorkov/.local/lib/python3.8/site-packages (from lightautoml) (0.9.1)\r\n",
      "Requirement already satisfied: tqdm in /home/vorkov/.local/lib/python3.8/site-packages (from lightautoml) (4.64.1)\r\n",
      "Requirement already satisfied: StrEnum<0.5.0,>=0.4.7 in /home/vorkov/.local/lib/python3.8/site-packages (from autowoe>=1.2->lightautoml) (0.4.10)\r\n",
      "Requirement already satisfied: matplotlib in /home/vorkov/.local/lib/python3.8/site-packages (from autowoe>=1.2->lightautoml) (3.6.3)\r\n",
      "Requirement already satisfied: numpy in /home/vorkov/.local/lib/python3.8/site-packages (from autowoe>=1.2->lightautoml) (1.23.3)\r\n",
      "Requirement already satisfied: pytest in /home/vorkov/.local/lib/python3.8/site-packages (from autowoe>=1.2->lightautoml) (7.0.1)\r\n",
      "Requirement already satisfied: pytz in /home/vorkov/.local/lib/python3.8/site-packages (from autowoe>=1.2->lightautoml) (2022.4)\r\n",
      "Requirement already satisfied: scipy in /home/vorkov/.local/lib/python3.8/site-packages (from autowoe>=1.2->lightautoml) (1.9.1)\r\n",
      "Requirement already satisfied: sphinx in /home/vorkov/.local/lib/python3.8/site-packages (from autowoe>=1.2->lightautoml) (6.1.3)\r\n",
      "Requirement already satisfied: sphinx-rtd-theme in /home/vorkov/.local/lib/python3.8/site-packages (from autowoe>=1.2->lightautoml) (1.2.0)\r\n",
      "Requirement already satisfied: graphviz in /home/vorkov/.local/lib/python3.8/site-packages (from catboost>=0.26.1->lightautoml) (0.20.1)\r\n",
      "Requirement already satisfied: plotly in /home/vorkov/.local/lib/python3.8/site-packages (from catboost>=0.26.1->lightautoml) (5.13.1)\r\n",
      "Requirement already satisfied: six in /home/vorkov/anaconda3/envs/TourismPredictionProject/lib/python3.8/site-packages (from catboost>=0.26.1->lightautoml) (1.16.0)\r\n",
      "Requirement already satisfied: wheel in /home/vorkov/anaconda3/envs/TourismPredictionProject/lib/python3.8/site-packages (from lightgbm<=3.2.1,>=2.3->lightautoml) (0.38.4)\r\n",
      "Requirement already satisfied: python-dateutil>=2.8.1 in /home/vorkov/.local/lib/python3.8/site-packages (from pandas<=1.4.3->lightautoml) (2.8.2)\r\n",
      "Requirement already satisfied: threadpoolctl>=2.0.0 in /home/vorkov/.local/lib/python3.8/site-packages (from scikit-learn>=0.22->lightautoml) (3.1.0)\r\n",
      "Requirement already satisfied: typing-extensions in /home/vorkov/.local/lib/python3.8/site-packages (from torch<1.9->lightautoml) (4.3.0)\r\n",
      "Requirement already satisfied: korean-lunar-calendar in /home/vorkov/.local/lib/python3.8/site-packages (from holidays->lightautoml) (0.3.1)\r\n",
      "Requirement already satisfied: MarkupSafe>=2.0 in /home/vorkov/.local/lib/python3.8/site-packages (from jinja2->lightautoml) (2.1.1)\r\n",
      "Requirement already satisfied: alembic>=1.5.0 in /home/vorkov/.local/lib/python3.8/site-packages (from optuna->lightautoml) (1.11.1)\r\n",
      "Requirement already satisfied: colorlog in /home/vorkov/.local/lib/python3.8/site-packages (from optuna->lightautoml) (6.7.0)\r\n",
      "Requirement already satisfied: packaging>=20.0 in /home/vorkov/.local/lib/python3.8/site-packages (from optuna->lightautoml) (23.0)\r\n",
      "Requirement already satisfied: sqlalchemy>=1.3.0 in /home/vorkov/.local/lib/python3.8/site-packages (from optuna->lightautoml) (2.0.15)\r\n",
      "Requirement already satisfied: pillow>=4.1.1 in /home/vorkov/.local/lib/python3.8/site-packages (from torchvision->lightautoml) (9.2.0)\r\n",
      "Requirement already satisfied: Mako in /home/vorkov/anaconda3/envs/TourismPredictionProject/lib/python3.8/site-packages (from alembic>=1.5.0->optuna->lightautoml) (1.2.4)\r\n",
      "Requirement already satisfied: importlib-metadata in /home/vorkov/.local/lib/python3.8/site-packages (from alembic>=1.5.0->optuna->lightautoml) (4.13.0)\r\n",
      "Requirement already satisfied: importlib-resources in /home/vorkov/.local/lib/python3.8/site-packages (from alembic>=1.5.0->optuna->lightautoml) (5.9.0)\r\n",
      "Requirement already satisfied: contourpy>=1.0.1 in /home/vorkov/.local/lib/python3.8/site-packages (from matplotlib->autowoe>=1.2->lightautoml) (1.0.5)\r\n",
      "Requirement already satisfied: cycler>=0.10 in /home/vorkov/.local/lib/python3.8/site-packages (from matplotlib->autowoe>=1.2->lightautoml) (0.11.0)\r\n",
      "Requirement already satisfied: fonttools>=4.22.0 in /home/vorkov/.local/lib/python3.8/site-packages (from matplotlib->autowoe>=1.2->lightautoml) (4.37.4)\r\n",
      "Requirement already satisfied: kiwisolver>=1.0.1 in /home/vorkov/.local/lib/python3.8/site-packages (from matplotlib->autowoe>=1.2->lightautoml) (1.4.4)\r\n",
      "Requirement already satisfied: pyparsing>=2.2.1 in /home/vorkov/.local/lib/python3.8/site-packages (from matplotlib->autowoe>=1.2->lightautoml) (3.0.9)\r\n",
      "Requirement already satisfied: greenlet!=0.4.17 in /home/vorkov/.local/lib/python3.8/site-packages (from sqlalchemy>=1.3.0->optuna->lightautoml) (2.0.2)\r\n",
      "Requirement already satisfied: tenacity>=6.2.0 in /home/vorkov/.local/lib/python3.8/site-packages (from plotly->catboost>=0.26.1->lightautoml) (8.2.2)\r\n",
      "Requirement already satisfied: attrs>=19.2.0 in /home/vorkov/.local/lib/python3.8/site-packages (from pytest->autowoe>=1.2->lightautoml) (22.1.0)\r\n",
      "Requirement already satisfied: iniconfig in /home/vorkov/.local/lib/python3.8/site-packages (from pytest->autowoe>=1.2->lightautoml) (1.1.1)\r\n",
      "Requirement already satisfied: pluggy<2.0,>=0.12 in /home/vorkov/.local/lib/python3.8/site-packages (from pytest->autowoe>=1.2->lightautoml) (1.0.0)\r\n",
      "Requirement already satisfied: py>=1.8.2 in /home/vorkov/.local/lib/python3.8/site-packages (from pytest->autowoe>=1.2->lightautoml) (1.11.0)\r\n",
      "Requirement already satisfied: tomli>=1.0.0 in /home/vorkov/.local/lib/python3.8/site-packages (from pytest->autowoe>=1.2->lightautoml) (2.0.1)\r\n",
      "Requirement already satisfied: sphinxcontrib-applehelp in /home/vorkov/.local/lib/python3.8/site-packages (from sphinx->autowoe>=1.2->lightautoml) (1.0.4)\r\n",
      "Requirement already satisfied: sphinxcontrib-devhelp in /home/vorkov/.local/lib/python3.8/site-packages (from sphinx->autowoe>=1.2->lightautoml) (1.0.2)\r\n",
      "Requirement already satisfied: sphinxcontrib-jsmath in /home/vorkov/.local/lib/python3.8/site-packages (from sphinx->autowoe>=1.2->lightautoml) (1.0.1)\r\n",
      "Requirement already satisfied: sphinxcontrib-htmlhelp>=2.0.0 in /home/vorkov/.local/lib/python3.8/site-packages (from sphinx->autowoe>=1.2->lightautoml) (2.0.1)\r\n",
      "Requirement already satisfied: sphinxcontrib-serializinghtml>=1.1.5 in /home/vorkov/.local/lib/python3.8/site-packages (from sphinx->autowoe>=1.2->lightautoml) (1.1.5)\r\n",
      "Requirement already satisfied: sphinxcontrib-qthelp in /home/vorkov/.local/lib/python3.8/site-packages (from sphinx->autowoe>=1.2->lightautoml) (1.0.3)\r\n",
      "Requirement already satisfied: Pygments>=2.13 in /home/vorkov/.local/lib/python3.8/site-packages (from sphinx->autowoe>=1.2->lightautoml) (2.13.0)\r\n",
      "Requirement already satisfied: docutils<0.20,>=0.18 in /home/vorkov/.local/lib/python3.8/site-packages (from sphinx->autowoe>=1.2->lightautoml) (0.18)\r\n",
      "Requirement already satisfied: snowballstemmer>=2.0 in /home/vorkov/.local/lib/python3.8/site-packages (from sphinx->autowoe>=1.2->lightautoml) (2.2.0)\r\n",
      "Requirement already satisfied: babel>=2.9 in /home/vorkov/.local/lib/python3.8/site-packages (from sphinx->autowoe>=1.2->lightautoml) (2.10.3)\r\n",
      "Requirement already satisfied: alabaster<0.8,>=0.7 in /home/vorkov/.local/lib/python3.8/site-packages (from sphinx->autowoe>=1.2->lightautoml) (0.7.13)\r\n",
      "Requirement already satisfied: imagesize>=1.3 in /home/vorkov/.local/lib/python3.8/site-packages (from sphinx->autowoe>=1.2->lightautoml) (1.4.1)\r\n",
      "Requirement already satisfied: requests>=2.25.0 in /home/vorkov/.local/lib/python3.8/site-packages (from sphinx->autowoe>=1.2->lightautoml) (2.28.1)\r\n",
      "Requirement already satisfied: sphinxcontrib-jquery!=3.0.0,>=2.0.0 in /home/vorkov/.local/lib/python3.8/site-packages (from sphinx-rtd-theme->autowoe>=1.2->lightautoml) (2.0.0)\r\n",
      "Requirement already satisfied: zipp>=0.5 in /home/vorkov/.local/lib/python3.8/site-packages (from importlib-metadata->alembic>=1.5.0->optuna->lightautoml) (3.8.1)\r\n",
      "Requirement already satisfied: charset-normalizer<3,>=2 in /home/vorkov/.local/lib/python3.8/site-packages (from requests>=2.25.0->sphinx->autowoe>=1.2->lightautoml) (2.1.1)\r\n",
      "Requirement already satisfied: idna<4,>=2.5 in /home/vorkov/anaconda3/envs/TourismPredictionProject/lib/python3.8/site-packages (from requests>=2.25.0->sphinx->autowoe>=1.2->lightautoml) (3.4)\r\n",
      "Requirement already satisfied: urllib3<1.27,>=1.21.1 in /home/vorkov/anaconda3/envs/TourismPredictionProject/lib/python3.8/site-packages (from requests>=2.25.0->sphinx->autowoe>=1.2->lightautoml) (1.26.16)\r\n",
      "Requirement already satisfied: certifi>=2017.4.17 in /home/vorkov/anaconda3/envs/TourismPredictionProject/lib/python3.8/site-packages (from requests>=2.25.0->sphinx->autowoe>=1.2->lightautoml) (2023.5.7)\r\n",
      "Requirement already satisfied: setuptools in /home/vorkov/anaconda3/envs/TourismPredictionProject/lib/python3.8/site-packages (from sphinxcontrib-jquery!=3.0.0,>=2.0.0->sphinx-rtd-theme->autowoe>=1.2->lightautoml) (67.8.0)\r\n",
      "\r\n",
      "\u001B[1m[\u001B[0m\u001B[34;49mnotice\u001B[0m\u001B[1;39;49m]\u001B[0m\u001B[39;49m A new release of pip is available: \u001B[0m\u001B[31;49m23.1.2\u001B[0m\u001B[39;49m -> \u001B[0m\u001B[32;49m23.2.1\u001B[0m\r\n",
      "\u001B[1m[\u001B[0m\u001B[34;49mnotice\u001B[0m\u001B[1;39;49m]\u001B[0m\u001B[39;49m To update, run: \u001B[0m\u001B[32;49mpip install --upgrade pip\u001B[0m\r\n",
      "Requirement already satisfied: joblib in /home/vorkov/.local/lib/python3.8/site-packages (1.2.0)\r\n",
      "\r\n",
      "\u001B[1m[\u001B[0m\u001B[34;49mnotice\u001B[0m\u001B[1;39;49m]\u001B[0m\u001B[39;49m A new release of pip is available: \u001B[0m\u001B[31;49m23.1.2\u001B[0m\u001B[39;49m -> \u001B[0m\u001B[32;49m23.2.1\u001B[0m\r\n",
      "\u001B[1m[\u001B[0m\u001B[34;49mnotice\u001B[0m\u001B[1;39;49m]\u001B[0m\u001B[39;49m To update, run: \u001B[0m\u001B[32;49mpip install --upgrade pip\u001B[0m\r\n"
     ]
    }
   ],
   "source": [
    "!pip install -U sklearn\n",
    "!pip install -U lightautoml\n",
    "!pip install joblib"
   ]
  },
  {
   "cell_type": "code",
   "execution_count": 2,
   "outputs": [],
   "source": [
    "# Standard python libraries\n",
    "import os\n",
    "import time\n",
    "import requests\n",
    "\n",
    "# Essential DS libraries\n",
    "import numpy as np\n",
    "import pandas as pd\n",
    "from sklearn.metrics import roc_auc_score\n",
    "from sklearn.model_selection import train_test_split\n",
    "import torch\n",
    "\n",
    "# LightAutoML presets, task and report generation\n",
    "from lightautoml.automl.presets.tabular_presets import TabularAutoML\n",
    "from lightautoml.automl.presets.tabular_presets import TabularUtilizedAutoML\n",
    "from lightautoml.tasks import Task\n",
    "\n",
    "import joblib"
   ],
   "metadata": {
    "collapsed": false
   }
  },
  {
   "cell_type": "code",
   "execution_count": 3,
   "outputs": [
    {
     "data": {
      "text/plain": "                   Название точки привлечения туристов  \\\n0      Архангельский театр драмы имени М.В. Ломоносова   \n1    \"Беломорские узоры\" (Народные художественные п...   \n2                       Архангельский молодежный театр   \n3         Архангельский музей изобразительных искусств   \n4                            Архангельский театр кукол   \n..                                                 ...   \n102        Историко-мемориальный музей М.В. Ломоносова   \n103                                    Село Ломоносово   \n104               Фабрика Холмогорской резьбы по кости   \n105         Церковь Димитрия Солунского, с. Ломоносово   \n106            Шенкурский районный краеведческий музей   \n\n     Кол-во запросов в месяц Тип точки привлечения туристов    Долгота  \\\n0                     9000.0                          Театр  40.515280   \n1                      466.0               Этнический центр  40.520756   \n2                      446.0                          Театр  40.519231   \n3                      248.0                          Музей  40.518417   \n4                     1400.0                          Театр  40.529639   \n..                       ...                            ...        ...   \n102                    126.0          Достопримечательность  41.733645   \n103                   4073.0          Достопримечательность  41.732359   \n104                     37.0               Этнический центр  41.733516   \n105                     38.0          Достопримечательность  41.739181   \n106                    150.0          Достопримечательность  42.902558   \n\n     Доступность автомобиля  Доступность автобуса  Доступность внедорожника  \\\n0                     False                 False                     False   \n1                      True                  True                     False   \n2                      True                  True                     False   \n3                      True                  True                     False   \n4                      True                  True                     False   \n..                      ...                   ...                       ...   \n102                    True                  True                     False   \n103                    True                  True                     False   \n104                    True                  True                     False   \n105                    True                  True                     False   \n106                    True                  True                     False   \n\n     Доступность водныого транспорта  Доступность самолета     Широта  ...  \\\n0                              False                 False  64.536504  ...   \n1                              False                 False  64.559452  ...   \n2                              False                 False  64.549876  ...   \n3                              False                 False  64.539888  ...   \n4                              False                 False  64.531850  ...   \n..                               ...                   ...        ...  ...   \n102                            False                 False  64.230200  ...   \n103                            False                 False  64.229380  ...   \n104                            False                 False  64.230262  ...   \n105                            False                 False  64.231620  ...   \n106                            False                 False  62.103525  ...   \n\n     Детский туризм  Городские достопримечательности  Достопримечательность  \\\n0             False                            False                  False   \n1             False                            False                  False   \n2             False                            False                  False   \n3             False                            False                  False   \n4             False                            False                  False   \n..              ...                              ...                    ...   \n102           False                            False                   True   \n103           False                            False                   True   \n104           False                            False                  False   \n105           False                            False                   True   \n106           False                            False                   True   \n\n     Культурный центр  Судостроение  Нац. парк  Санаторий  Обзорная площадка  \\\n0               False         False      False      False              False   \n1               False         False      False      False              False   \n2               False         False      False      False              False   \n3               False         False      False      False              False   \n4               False         False      False      False              False   \n..                ...           ...        ...        ...                ...   \n102             False         False      False      False              False   \n103             False         False      False      False              False   \n104             False         False      False      False              False   \n105             False         False      False      False              False   \n106             False         False      False      False              False   \n\n     Горнолыжный курорт  \\\n0                 False   \n1                 False   \n2                 False   \n3                 False   \n4                 False   \n..                  ...   \n102               False   \n103               False   \n104               False   \n105               False   \n106               False   \n\n     Коэффициент кол-ва запросов в месяц окружающих объектов  \n0                                            17456.652        \n1                                            13011.068        \n2                                            15253.760        \n3                                            16937.497        \n4                                            16585.763        \n..                                                 ...        \n102                                           4227.982        \n103                                           4270.649        \n104                                           4227.893        \n105                                           4101.954        \n106                                            150.000        \n\n[107 rows x 23 columns]",
      "text/html": "<div>\n<style scoped>\n    .dataframe tbody tr th:only-of-type {\n        vertical-align: middle;\n    }\n\n    .dataframe tbody tr th {\n        vertical-align: top;\n    }\n\n    .dataframe thead th {\n        text-align: right;\n    }\n</style>\n<table border=\"1\" class=\"dataframe\">\n  <thead>\n    <tr style=\"text-align: right;\">\n      <th></th>\n      <th>Название точки привлечения туристов</th>\n      <th>Кол-во запросов в месяц</th>\n      <th>Тип точки привлечения туристов</th>\n      <th>Долгота</th>\n      <th>Доступность автомобиля</th>\n      <th>Доступность автобуса</th>\n      <th>Доступность внедорожника</th>\n      <th>Доступность водныого транспорта</th>\n      <th>Доступность самолета</th>\n      <th>Широта</th>\n      <th>...</th>\n      <th>Детский туризм</th>\n      <th>Городские достопримечательности</th>\n      <th>Достопримечательность</th>\n      <th>Культурный центр</th>\n      <th>Судостроение</th>\n      <th>Нац. парк</th>\n      <th>Санаторий</th>\n      <th>Обзорная площадка</th>\n      <th>Горнолыжный курорт</th>\n      <th>Коэффициент кол-ва запросов в месяц окружающих объектов</th>\n    </tr>\n  </thead>\n  <tbody>\n    <tr>\n      <th>0</th>\n      <td>Архангельский театр драмы имени М.В. Ломоносова</td>\n      <td>9000.0</td>\n      <td>Театр</td>\n      <td>40.515280</td>\n      <td>False</td>\n      <td>False</td>\n      <td>False</td>\n      <td>False</td>\n      <td>False</td>\n      <td>64.536504</td>\n      <td>...</td>\n      <td>False</td>\n      <td>False</td>\n      <td>False</td>\n      <td>False</td>\n      <td>False</td>\n      <td>False</td>\n      <td>False</td>\n      <td>False</td>\n      <td>False</td>\n      <td>17456.652</td>\n    </tr>\n    <tr>\n      <th>1</th>\n      <td>\"Беломорские узоры\" (Народные художественные п...</td>\n      <td>466.0</td>\n      <td>Этнический центр</td>\n      <td>40.520756</td>\n      <td>True</td>\n      <td>True</td>\n      <td>False</td>\n      <td>False</td>\n      <td>False</td>\n      <td>64.559452</td>\n      <td>...</td>\n      <td>False</td>\n      <td>False</td>\n      <td>False</td>\n      <td>False</td>\n      <td>False</td>\n      <td>False</td>\n      <td>False</td>\n      <td>False</td>\n      <td>False</td>\n      <td>13011.068</td>\n    </tr>\n    <tr>\n      <th>2</th>\n      <td>Архангельский молодежный театр</td>\n      <td>446.0</td>\n      <td>Театр</td>\n      <td>40.519231</td>\n      <td>True</td>\n      <td>True</td>\n      <td>False</td>\n      <td>False</td>\n      <td>False</td>\n      <td>64.549876</td>\n      <td>...</td>\n      <td>False</td>\n      <td>False</td>\n      <td>False</td>\n      <td>False</td>\n      <td>False</td>\n      <td>False</td>\n      <td>False</td>\n      <td>False</td>\n      <td>False</td>\n      <td>15253.760</td>\n    </tr>\n    <tr>\n      <th>3</th>\n      <td>Архангельский музей изобразительных искусств</td>\n      <td>248.0</td>\n      <td>Музей</td>\n      <td>40.518417</td>\n      <td>True</td>\n      <td>True</td>\n      <td>False</td>\n      <td>False</td>\n      <td>False</td>\n      <td>64.539888</td>\n      <td>...</td>\n      <td>False</td>\n      <td>False</td>\n      <td>False</td>\n      <td>False</td>\n      <td>False</td>\n      <td>False</td>\n      <td>False</td>\n      <td>False</td>\n      <td>False</td>\n      <td>16937.497</td>\n    </tr>\n    <tr>\n      <th>4</th>\n      <td>Архангельский театр кукол</td>\n      <td>1400.0</td>\n      <td>Театр</td>\n      <td>40.529639</td>\n      <td>True</td>\n      <td>True</td>\n      <td>False</td>\n      <td>False</td>\n      <td>False</td>\n      <td>64.531850</td>\n      <td>...</td>\n      <td>False</td>\n      <td>False</td>\n      <td>False</td>\n      <td>False</td>\n      <td>False</td>\n      <td>False</td>\n      <td>False</td>\n      <td>False</td>\n      <td>False</td>\n      <td>16585.763</td>\n    </tr>\n    <tr>\n      <th>...</th>\n      <td>...</td>\n      <td>...</td>\n      <td>...</td>\n      <td>...</td>\n      <td>...</td>\n      <td>...</td>\n      <td>...</td>\n      <td>...</td>\n      <td>...</td>\n      <td>...</td>\n      <td>...</td>\n      <td>...</td>\n      <td>...</td>\n      <td>...</td>\n      <td>...</td>\n      <td>...</td>\n      <td>...</td>\n      <td>...</td>\n      <td>...</td>\n      <td>...</td>\n      <td>...</td>\n    </tr>\n    <tr>\n      <th>102</th>\n      <td>Историко-мемориальный музей М.В. Ломоносова</td>\n      <td>126.0</td>\n      <td>Достопримечательность</td>\n      <td>41.733645</td>\n      <td>True</td>\n      <td>True</td>\n      <td>False</td>\n      <td>False</td>\n      <td>False</td>\n      <td>64.230200</td>\n      <td>...</td>\n      <td>False</td>\n      <td>False</td>\n      <td>True</td>\n      <td>False</td>\n      <td>False</td>\n      <td>False</td>\n      <td>False</td>\n      <td>False</td>\n      <td>False</td>\n      <td>4227.982</td>\n    </tr>\n    <tr>\n      <th>103</th>\n      <td>Село Ломоносово</td>\n      <td>4073.0</td>\n      <td>Достопримечательность</td>\n      <td>41.732359</td>\n      <td>True</td>\n      <td>True</td>\n      <td>False</td>\n      <td>False</td>\n      <td>False</td>\n      <td>64.229380</td>\n      <td>...</td>\n      <td>False</td>\n      <td>False</td>\n      <td>True</td>\n      <td>False</td>\n      <td>False</td>\n      <td>False</td>\n      <td>False</td>\n      <td>False</td>\n      <td>False</td>\n      <td>4270.649</td>\n    </tr>\n    <tr>\n      <th>104</th>\n      <td>Фабрика Холмогорской резьбы по кости</td>\n      <td>37.0</td>\n      <td>Этнический центр</td>\n      <td>41.733516</td>\n      <td>True</td>\n      <td>True</td>\n      <td>False</td>\n      <td>False</td>\n      <td>False</td>\n      <td>64.230262</td>\n      <td>...</td>\n      <td>False</td>\n      <td>False</td>\n      <td>False</td>\n      <td>False</td>\n      <td>False</td>\n      <td>False</td>\n      <td>False</td>\n      <td>False</td>\n      <td>False</td>\n      <td>4227.893</td>\n    </tr>\n    <tr>\n      <th>105</th>\n      <td>Церковь Димитрия Солунского, с. Ломоносово</td>\n      <td>38.0</td>\n      <td>Достопримечательность</td>\n      <td>41.739181</td>\n      <td>True</td>\n      <td>True</td>\n      <td>False</td>\n      <td>False</td>\n      <td>False</td>\n      <td>64.231620</td>\n      <td>...</td>\n      <td>False</td>\n      <td>False</td>\n      <td>True</td>\n      <td>False</td>\n      <td>False</td>\n      <td>False</td>\n      <td>False</td>\n      <td>False</td>\n      <td>False</td>\n      <td>4101.954</td>\n    </tr>\n    <tr>\n      <th>106</th>\n      <td>Шенкурский районный краеведческий музей</td>\n      <td>150.0</td>\n      <td>Достопримечательность</td>\n      <td>42.902558</td>\n      <td>True</td>\n      <td>True</td>\n      <td>False</td>\n      <td>False</td>\n      <td>False</td>\n      <td>62.103525</td>\n      <td>...</td>\n      <td>False</td>\n      <td>False</td>\n      <td>True</td>\n      <td>False</td>\n      <td>False</td>\n      <td>False</td>\n      <td>False</td>\n      <td>False</td>\n      <td>False</td>\n      <td>150.000</td>\n    </tr>\n  </tbody>\n</table>\n<p>107 rows × 23 columns</p>\n</div>"
     },
     "execution_count": 3,
     "metadata": {},
     "output_type": "execute_result"
    }
   ],
   "source": [
    "TARGET_NAME = 'Кол-во запросов в месяц'\n",
    "data = pd.read_csv('touristObjects3.csv')\n",
    "data"
   ],
   "metadata": {
    "collapsed": false
   }
  },
  {
   "cell_type": "code",
   "execution_count": 4,
   "outputs": [
    {
     "data": {
      "text/plain": "                   Название точки привлечения туристов  \\\n0      Архангельский театр драмы имени М.В. Ломоносова   \n1    \"Беломорские узоры\" (Народные художественные п...   \n2                       Архангельский молодежный театр   \n3         Архангельский музей изобразительных искусств   \n4                            Архангельский театр кукол   \n..                                                 ...   \n102        Историко-мемориальный музей М.В. Ломоносова   \n103                                    Село Ломоносово   \n104               Фабрика Холмогорской резьбы по кости   \n105         Церковь Димитрия Солунского, с. Ломоносово   \n106            Шенкурский районный краеведческий музей   \n\n     Кол-во запросов в месяц    Долгота  Доступность автомобиля  \\\n0                     9000.0  40.515280                   False   \n1                      466.0  40.520756                    True   \n2                      446.0  40.519231                    True   \n3                      248.0  40.518417                    True   \n4                     1400.0  40.529639                    True   \n..                       ...        ...                     ...   \n102                    126.0  41.733645                    True   \n103                   4073.0  41.732359                    True   \n104                     37.0  41.733516                    True   \n105                     38.0  41.739181                    True   \n106                    150.0  42.902558                    True   \n\n     Доступность автобуса  Доступность внедорожника  \\\n0                   False                     False   \n1                    True                     False   \n2                    True                     False   \n3                    True                     False   \n4                    True                     False   \n..                    ...                       ...   \n102                  True                     False   \n103                  True                     False   \n104                  True                     False   \n105                  True                     False   \n106                  True                     False   \n\n     Доступность водныого транспорта  Доступность самолета     Широта  Театр  \\\n0                              False                 False  64.536504   True   \n1                              False                 False  64.559452  False   \n2                              False                 False  64.549876   True   \n3                              False                 False  64.539888  False   \n4                              False                 False  64.531850   True   \n..                               ...                   ...        ...    ...   \n102                            False                 False  64.230200  False   \n103                            False                 False  64.229380  False   \n104                            False                 False  64.230262  False   \n105                            False                 False  64.231620  False   \n106                            False                 False  62.103525  False   \n\n     ...  Детский туризм  Городские достопримечательности  \\\n0    ...           False                            False   \n1    ...           False                            False   \n2    ...           False                            False   \n3    ...           False                            False   \n4    ...           False                            False   \n..   ...             ...                              ...   \n102  ...           False                            False   \n103  ...           False                            False   \n104  ...           False                            False   \n105  ...           False                            False   \n106  ...           False                            False   \n\n     Достопримечательность  Культурный центр  Судостроение  Нац. парк  \\\n0                    False             False         False      False   \n1                    False             False         False      False   \n2                    False             False         False      False   \n3                    False             False         False      False   \n4                    False             False         False      False   \n..                     ...               ...           ...        ...   \n102                   True             False         False      False   \n103                   True             False         False      False   \n104                  False             False         False      False   \n105                   True             False         False      False   \n106                   True             False         False      False   \n\n     Санаторий  Обзорная площадка  Горнолыжный курорт  \\\n0        False              False               False   \n1        False              False               False   \n2        False              False               False   \n3        False              False               False   \n4        False              False               False   \n..         ...                ...                 ...   \n102      False              False               False   \n103      False              False               False   \n104      False              False               False   \n105      False              False               False   \n106      False              False               False   \n\n     Коэффициент кол-ва запросов в месяц окружающих объектов  \n0                                            17456.652        \n1                                            13011.068        \n2                                            15253.760        \n3                                            16937.497        \n4                                            16585.763        \n..                                                 ...        \n102                                           4227.982        \n103                                           4270.649        \n104                                           4227.893        \n105                                           4101.954        \n106                                            150.000        \n\n[107 rows x 22 columns]",
      "text/html": "<div>\n<style scoped>\n    .dataframe tbody tr th:only-of-type {\n        vertical-align: middle;\n    }\n\n    .dataframe tbody tr th {\n        vertical-align: top;\n    }\n\n    .dataframe thead th {\n        text-align: right;\n    }\n</style>\n<table border=\"1\" class=\"dataframe\">\n  <thead>\n    <tr style=\"text-align: right;\">\n      <th></th>\n      <th>Название точки привлечения туристов</th>\n      <th>Кол-во запросов в месяц</th>\n      <th>Долгота</th>\n      <th>Доступность автомобиля</th>\n      <th>Доступность автобуса</th>\n      <th>Доступность внедорожника</th>\n      <th>Доступность водныого транспорта</th>\n      <th>Доступность самолета</th>\n      <th>Широта</th>\n      <th>Театр</th>\n      <th>...</th>\n      <th>Детский туризм</th>\n      <th>Городские достопримечательности</th>\n      <th>Достопримечательность</th>\n      <th>Культурный центр</th>\n      <th>Судостроение</th>\n      <th>Нац. парк</th>\n      <th>Санаторий</th>\n      <th>Обзорная площадка</th>\n      <th>Горнолыжный курорт</th>\n      <th>Коэффициент кол-ва запросов в месяц окружающих объектов</th>\n    </tr>\n  </thead>\n  <tbody>\n    <tr>\n      <th>0</th>\n      <td>Архангельский театр драмы имени М.В. Ломоносова</td>\n      <td>9000.0</td>\n      <td>40.515280</td>\n      <td>False</td>\n      <td>False</td>\n      <td>False</td>\n      <td>False</td>\n      <td>False</td>\n      <td>64.536504</td>\n      <td>True</td>\n      <td>...</td>\n      <td>False</td>\n      <td>False</td>\n      <td>False</td>\n      <td>False</td>\n      <td>False</td>\n      <td>False</td>\n      <td>False</td>\n      <td>False</td>\n      <td>False</td>\n      <td>17456.652</td>\n    </tr>\n    <tr>\n      <th>1</th>\n      <td>\"Беломорские узоры\" (Народные художественные п...</td>\n      <td>466.0</td>\n      <td>40.520756</td>\n      <td>True</td>\n      <td>True</td>\n      <td>False</td>\n      <td>False</td>\n      <td>False</td>\n      <td>64.559452</td>\n      <td>False</td>\n      <td>...</td>\n      <td>False</td>\n      <td>False</td>\n      <td>False</td>\n      <td>False</td>\n      <td>False</td>\n      <td>False</td>\n      <td>False</td>\n      <td>False</td>\n      <td>False</td>\n      <td>13011.068</td>\n    </tr>\n    <tr>\n      <th>2</th>\n      <td>Архангельский молодежный театр</td>\n      <td>446.0</td>\n      <td>40.519231</td>\n      <td>True</td>\n      <td>True</td>\n      <td>False</td>\n      <td>False</td>\n      <td>False</td>\n      <td>64.549876</td>\n      <td>True</td>\n      <td>...</td>\n      <td>False</td>\n      <td>False</td>\n      <td>False</td>\n      <td>False</td>\n      <td>False</td>\n      <td>False</td>\n      <td>False</td>\n      <td>False</td>\n      <td>False</td>\n      <td>15253.760</td>\n    </tr>\n    <tr>\n      <th>3</th>\n      <td>Архангельский музей изобразительных искусств</td>\n      <td>248.0</td>\n      <td>40.518417</td>\n      <td>True</td>\n      <td>True</td>\n      <td>False</td>\n      <td>False</td>\n      <td>False</td>\n      <td>64.539888</td>\n      <td>False</td>\n      <td>...</td>\n      <td>False</td>\n      <td>False</td>\n      <td>False</td>\n      <td>False</td>\n      <td>False</td>\n      <td>False</td>\n      <td>False</td>\n      <td>False</td>\n      <td>False</td>\n      <td>16937.497</td>\n    </tr>\n    <tr>\n      <th>4</th>\n      <td>Архангельский театр кукол</td>\n      <td>1400.0</td>\n      <td>40.529639</td>\n      <td>True</td>\n      <td>True</td>\n      <td>False</td>\n      <td>False</td>\n      <td>False</td>\n      <td>64.531850</td>\n      <td>True</td>\n      <td>...</td>\n      <td>False</td>\n      <td>False</td>\n      <td>False</td>\n      <td>False</td>\n      <td>False</td>\n      <td>False</td>\n      <td>False</td>\n      <td>False</td>\n      <td>False</td>\n      <td>16585.763</td>\n    </tr>\n    <tr>\n      <th>...</th>\n      <td>...</td>\n      <td>...</td>\n      <td>...</td>\n      <td>...</td>\n      <td>...</td>\n      <td>...</td>\n      <td>...</td>\n      <td>...</td>\n      <td>...</td>\n      <td>...</td>\n      <td>...</td>\n      <td>...</td>\n      <td>...</td>\n      <td>...</td>\n      <td>...</td>\n      <td>...</td>\n      <td>...</td>\n      <td>...</td>\n      <td>...</td>\n      <td>...</td>\n      <td>...</td>\n    </tr>\n    <tr>\n      <th>102</th>\n      <td>Историко-мемориальный музей М.В. Ломоносова</td>\n      <td>126.0</td>\n      <td>41.733645</td>\n      <td>True</td>\n      <td>True</td>\n      <td>False</td>\n      <td>False</td>\n      <td>False</td>\n      <td>64.230200</td>\n      <td>False</td>\n      <td>...</td>\n      <td>False</td>\n      <td>False</td>\n      <td>True</td>\n      <td>False</td>\n      <td>False</td>\n      <td>False</td>\n      <td>False</td>\n      <td>False</td>\n      <td>False</td>\n      <td>4227.982</td>\n    </tr>\n    <tr>\n      <th>103</th>\n      <td>Село Ломоносово</td>\n      <td>4073.0</td>\n      <td>41.732359</td>\n      <td>True</td>\n      <td>True</td>\n      <td>False</td>\n      <td>False</td>\n      <td>False</td>\n      <td>64.229380</td>\n      <td>False</td>\n      <td>...</td>\n      <td>False</td>\n      <td>False</td>\n      <td>True</td>\n      <td>False</td>\n      <td>False</td>\n      <td>False</td>\n      <td>False</td>\n      <td>False</td>\n      <td>False</td>\n      <td>4270.649</td>\n    </tr>\n    <tr>\n      <th>104</th>\n      <td>Фабрика Холмогорской резьбы по кости</td>\n      <td>37.0</td>\n      <td>41.733516</td>\n      <td>True</td>\n      <td>True</td>\n      <td>False</td>\n      <td>False</td>\n      <td>False</td>\n      <td>64.230262</td>\n      <td>False</td>\n      <td>...</td>\n      <td>False</td>\n      <td>False</td>\n      <td>False</td>\n      <td>False</td>\n      <td>False</td>\n      <td>False</td>\n      <td>False</td>\n      <td>False</td>\n      <td>False</td>\n      <td>4227.893</td>\n    </tr>\n    <tr>\n      <th>105</th>\n      <td>Церковь Димитрия Солунского, с. Ломоносово</td>\n      <td>38.0</td>\n      <td>41.739181</td>\n      <td>True</td>\n      <td>True</td>\n      <td>False</td>\n      <td>False</td>\n      <td>False</td>\n      <td>64.231620</td>\n      <td>False</td>\n      <td>...</td>\n      <td>False</td>\n      <td>False</td>\n      <td>True</td>\n      <td>False</td>\n      <td>False</td>\n      <td>False</td>\n      <td>False</td>\n      <td>False</td>\n      <td>False</td>\n      <td>4101.954</td>\n    </tr>\n    <tr>\n      <th>106</th>\n      <td>Шенкурский районный краеведческий музей</td>\n      <td>150.0</td>\n      <td>42.902558</td>\n      <td>True</td>\n      <td>True</td>\n      <td>False</td>\n      <td>False</td>\n      <td>False</td>\n      <td>62.103525</td>\n      <td>False</td>\n      <td>...</td>\n      <td>False</td>\n      <td>False</td>\n      <td>True</td>\n      <td>False</td>\n      <td>False</td>\n      <td>False</td>\n      <td>False</td>\n      <td>False</td>\n      <td>False</td>\n      <td>150.000</td>\n    </tr>\n  </tbody>\n</table>\n<p>107 rows × 22 columns</p>\n</div>"
     },
     "execution_count": 4,
     "metadata": {},
     "output_type": "execute_result"
    }
   ],
   "source": [
    "#костыль\n",
    "data = data.drop(columns=['Тип точки привлечения туристов'])\n",
    "data"
   ],
   "metadata": {
    "collapsed": false
   }
  },
  {
   "cell_type": "code",
   "execution_count": 5,
   "outputs": [
    {
     "data": {
      "text/plain": "684.2242990654206"
     },
     "execution_count": 5,
     "metadata": {},
     "output_type": "execute_result"
    }
   ],
   "source": [
    "data['Кол-во запросов в месяц'].mean()"
   ],
   "metadata": {
    "collapsed": false
   }
  },
  {
   "cell_type": "code",
   "execution_count": 6,
   "outputs": [
    {
     "data": {
      "text/plain": "                   Название точки привлечения туристов  \\\n0      Архангельский театр драмы имени М.В. Ломоносова   \n1    \"Беломорские узоры\" (Народные художественные п...   \n2                       Архангельский молодежный театр   \n3         Архангельский музей изобразительных искусств   \n4                            Архангельский театр кукол   \n..                                                 ...   \n102        Историко-мемориальный музей М.В. Ломоносова   \n103                                    Село Ломоносово   \n104               Фабрика Холмогорской резьбы по кости   \n105         Церковь Димитрия Солунского, с. Ломоносово   \n106            Шенкурский районный краеведческий музей   \n\n     Кол-во запросов в месяц    Долгота  Доступность автомобиля  \\\n0                     9000.0  40.515280                   False   \n1                      466.0  40.520756                    True   \n2                      446.0  40.519231                    True   \n3                      248.0  40.518417                    True   \n4                     1400.0  40.529639                    True   \n..                       ...        ...                     ...   \n102                    126.0  41.733645                    True   \n103                   4073.0  41.732359                    True   \n104                     37.0  41.733516                    True   \n105                     38.0  41.739181                    True   \n106                    150.0  42.902558                    True   \n\n     Доступность автобуса  Доступность внедорожника  \\\n0                   False                     False   \n1                    True                     False   \n2                    True                     False   \n3                    True                     False   \n4                    True                     False   \n..                    ...                       ...   \n102                  True                     False   \n103                  True                     False   \n104                  True                     False   \n105                  True                     False   \n106                  True                     False   \n\n     Доступность водныого транспорта  Доступность самолета     Широта  Театр  \\\n0                              False                 False  64.536504   True   \n1                              False                 False  64.559452  False   \n2                              False                 False  64.549876   True   \n3                              False                 False  64.539888  False   \n4                              False                 False  64.531850   True   \n..                               ...                   ...        ...    ...   \n102                            False                 False  64.230200  False   \n103                            False                 False  64.229380  False   \n104                            False                 False  64.230262  False   \n105                            False                 False  64.231620  False   \n106                            False                 False  62.103525  False   \n\n     ...  Детский туризм  Городские достопримечательности  \\\n0    ...           False                            False   \n1    ...           False                            False   \n2    ...           False                            False   \n3    ...           False                            False   \n4    ...           False                            False   \n..   ...             ...                              ...   \n102  ...           False                            False   \n103  ...           False                            False   \n104  ...           False                            False   \n105  ...           False                            False   \n106  ...           False                            False   \n\n     Достопримечательность  Культурный центр  Судостроение  Нац. парк  \\\n0                    False             False         False      False   \n1                    False             False         False      False   \n2                    False             False         False      False   \n3                    False             False         False      False   \n4                    False             False         False      False   \n..                     ...               ...           ...        ...   \n102                   True             False         False      False   \n103                   True             False         False      False   \n104                  False             False         False      False   \n105                   True             False         False      False   \n106                   True             False         False      False   \n\n     Санаторий  Обзорная площадка  Горнолыжный курорт  \\\n0        False              False               False   \n1        False              False               False   \n2        False              False               False   \n3        False              False               False   \n4        False              False               False   \n..         ...                ...                 ...   \n102      False              False               False   \n103      False              False               False   \n104      False              False               False   \n105      False              False               False   \n106      False              False               False   \n\n     Коэффициент кол-ва запросов в месяц окружающих объектов  \n0                                            17456.652        \n1                                            13011.068        \n2                                            15253.760        \n3                                            16937.497        \n4                                            16585.763        \n..                                                 ...        \n102                                           4227.982        \n103                                           4270.649        \n104                                           4227.893        \n105                                           4101.954        \n106                                            150.000        \n\n[107 rows x 22 columns]",
      "text/html": "<div>\n<style scoped>\n    .dataframe tbody tr th:only-of-type {\n        vertical-align: middle;\n    }\n\n    .dataframe tbody tr th {\n        vertical-align: top;\n    }\n\n    .dataframe thead th {\n        text-align: right;\n    }\n</style>\n<table border=\"1\" class=\"dataframe\">\n  <thead>\n    <tr style=\"text-align: right;\">\n      <th></th>\n      <th>Название точки привлечения туристов</th>\n      <th>Кол-во запросов в месяц</th>\n      <th>Долгота</th>\n      <th>Доступность автомобиля</th>\n      <th>Доступность автобуса</th>\n      <th>Доступность внедорожника</th>\n      <th>Доступность водныого транспорта</th>\n      <th>Доступность самолета</th>\n      <th>Широта</th>\n      <th>Театр</th>\n      <th>...</th>\n      <th>Детский туризм</th>\n      <th>Городские достопримечательности</th>\n      <th>Достопримечательность</th>\n      <th>Культурный центр</th>\n      <th>Судостроение</th>\n      <th>Нац. парк</th>\n      <th>Санаторий</th>\n      <th>Обзорная площадка</th>\n      <th>Горнолыжный курорт</th>\n      <th>Коэффициент кол-ва запросов в месяц окружающих объектов</th>\n    </tr>\n  </thead>\n  <tbody>\n    <tr>\n      <th>0</th>\n      <td>Архангельский театр драмы имени М.В. Ломоносова</td>\n      <td>9000.0</td>\n      <td>40.515280</td>\n      <td>False</td>\n      <td>False</td>\n      <td>False</td>\n      <td>False</td>\n      <td>False</td>\n      <td>64.536504</td>\n      <td>True</td>\n      <td>...</td>\n      <td>False</td>\n      <td>False</td>\n      <td>False</td>\n      <td>False</td>\n      <td>False</td>\n      <td>False</td>\n      <td>False</td>\n      <td>False</td>\n      <td>False</td>\n      <td>17456.652</td>\n    </tr>\n    <tr>\n      <th>1</th>\n      <td>\"Беломорские узоры\" (Народные художественные п...</td>\n      <td>466.0</td>\n      <td>40.520756</td>\n      <td>True</td>\n      <td>True</td>\n      <td>False</td>\n      <td>False</td>\n      <td>False</td>\n      <td>64.559452</td>\n      <td>False</td>\n      <td>...</td>\n      <td>False</td>\n      <td>False</td>\n      <td>False</td>\n      <td>False</td>\n      <td>False</td>\n      <td>False</td>\n      <td>False</td>\n      <td>False</td>\n      <td>False</td>\n      <td>13011.068</td>\n    </tr>\n    <tr>\n      <th>2</th>\n      <td>Архангельский молодежный театр</td>\n      <td>446.0</td>\n      <td>40.519231</td>\n      <td>True</td>\n      <td>True</td>\n      <td>False</td>\n      <td>False</td>\n      <td>False</td>\n      <td>64.549876</td>\n      <td>True</td>\n      <td>...</td>\n      <td>False</td>\n      <td>False</td>\n      <td>False</td>\n      <td>False</td>\n      <td>False</td>\n      <td>False</td>\n      <td>False</td>\n      <td>False</td>\n      <td>False</td>\n      <td>15253.760</td>\n    </tr>\n    <tr>\n      <th>3</th>\n      <td>Архангельский музей изобразительных искусств</td>\n      <td>248.0</td>\n      <td>40.518417</td>\n      <td>True</td>\n      <td>True</td>\n      <td>False</td>\n      <td>False</td>\n      <td>False</td>\n      <td>64.539888</td>\n      <td>False</td>\n      <td>...</td>\n      <td>False</td>\n      <td>False</td>\n      <td>False</td>\n      <td>False</td>\n      <td>False</td>\n      <td>False</td>\n      <td>False</td>\n      <td>False</td>\n      <td>False</td>\n      <td>16937.497</td>\n    </tr>\n    <tr>\n      <th>4</th>\n      <td>Архангельский театр кукол</td>\n      <td>1400.0</td>\n      <td>40.529639</td>\n      <td>True</td>\n      <td>True</td>\n      <td>False</td>\n      <td>False</td>\n      <td>False</td>\n      <td>64.531850</td>\n      <td>True</td>\n      <td>...</td>\n      <td>False</td>\n      <td>False</td>\n      <td>False</td>\n      <td>False</td>\n      <td>False</td>\n      <td>False</td>\n      <td>False</td>\n      <td>False</td>\n      <td>False</td>\n      <td>16585.763</td>\n    </tr>\n    <tr>\n      <th>...</th>\n      <td>...</td>\n      <td>...</td>\n      <td>...</td>\n      <td>...</td>\n      <td>...</td>\n      <td>...</td>\n      <td>...</td>\n      <td>...</td>\n      <td>...</td>\n      <td>...</td>\n      <td>...</td>\n      <td>...</td>\n      <td>...</td>\n      <td>...</td>\n      <td>...</td>\n      <td>...</td>\n      <td>...</td>\n      <td>...</td>\n      <td>...</td>\n      <td>...</td>\n      <td>...</td>\n    </tr>\n    <tr>\n      <th>102</th>\n      <td>Историко-мемориальный музей М.В. Ломоносова</td>\n      <td>126.0</td>\n      <td>41.733645</td>\n      <td>True</td>\n      <td>True</td>\n      <td>False</td>\n      <td>False</td>\n      <td>False</td>\n      <td>64.230200</td>\n      <td>False</td>\n      <td>...</td>\n      <td>False</td>\n      <td>False</td>\n      <td>True</td>\n      <td>False</td>\n      <td>False</td>\n      <td>False</td>\n      <td>False</td>\n      <td>False</td>\n      <td>False</td>\n      <td>4227.982</td>\n    </tr>\n    <tr>\n      <th>103</th>\n      <td>Село Ломоносово</td>\n      <td>4073.0</td>\n      <td>41.732359</td>\n      <td>True</td>\n      <td>True</td>\n      <td>False</td>\n      <td>False</td>\n      <td>False</td>\n      <td>64.229380</td>\n      <td>False</td>\n      <td>...</td>\n      <td>False</td>\n      <td>False</td>\n      <td>True</td>\n      <td>False</td>\n      <td>False</td>\n      <td>False</td>\n      <td>False</td>\n      <td>False</td>\n      <td>False</td>\n      <td>4270.649</td>\n    </tr>\n    <tr>\n      <th>104</th>\n      <td>Фабрика Холмогорской резьбы по кости</td>\n      <td>37.0</td>\n      <td>41.733516</td>\n      <td>True</td>\n      <td>True</td>\n      <td>False</td>\n      <td>False</td>\n      <td>False</td>\n      <td>64.230262</td>\n      <td>False</td>\n      <td>...</td>\n      <td>False</td>\n      <td>False</td>\n      <td>False</td>\n      <td>False</td>\n      <td>False</td>\n      <td>False</td>\n      <td>False</td>\n      <td>False</td>\n      <td>False</td>\n      <td>4227.893</td>\n    </tr>\n    <tr>\n      <th>105</th>\n      <td>Церковь Димитрия Солунского, с. Ломоносово</td>\n      <td>38.0</td>\n      <td>41.739181</td>\n      <td>True</td>\n      <td>True</td>\n      <td>False</td>\n      <td>False</td>\n      <td>False</td>\n      <td>64.231620</td>\n      <td>False</td>\n      <td>...</td>\n      <td>False</td>\n      <td>False</td>\n      <td>True</td>\n      <td>False</td>\n      <td>False</td>\n      <td>False</td>\n      <td>False</td>\n      <td>False</td>\n      <td>False</td>\n      <td>4101.954</td>\n    </tr>\n    <tr>\n      <th>106</th>\n      <td>Шенкурский районный краеведческий музей</td>\n      <td>150.0</td>\n      <td>42.902558</td>\n      <td>True</td>\n      <td>True</td>\n      <td>False</td>\n      <td>False</td>\n      <td>False</td>\n      <td>62.103525</td>\n      <td>False</td>\n      <td>...</td>\n      <td>False</td>\n      <td>False</td>\n      <td>True</td>\n      <td>False</td>\n      <td>False</td>\n      <td>False</td>\n      <td>False</td>\n      <td>False</td>\n      <td>False</td>\n      <td>150.000</td>\n    </tr>\n  </tbody>\n</table>\n<p>107 rows × 22 columns</p>\n</div>"
     },
     "execution_count": 6,
     "metadata": {},
     "output_type": "execute_result"
    }
   ],
   "source": [
    "Y = data.iloc[:]['Кол-во запросов в месяц']\n",
    "X = data.drop(columns=['Название точки привлечения туристов', 'Кол-во запросов в месяц'])\n",
    "data"
   ],
   "metadata": {
    "collapsed": false
   }
  },
  {
   "cell_type": "code",
   "execution_count": 7,
   "outputs": [
    {
     "data": {
      "text/plain": "Index(['Название точки привлечения туристов', 'Кол-во запросов в месяц',\n       'Долгота', 'Доступность автомобиля', 'Доступность автобуса',\n       'Доступность внедорожника', 'Доступность водныого транспорта',\n       'Доступность самолета', 'Широта', 'Театр', 'Этнический центр', 'Музей',\n       'Детский туризм', 'Городские достопримечательности',\n       'Достопримечательность', 'Культурный центр', 'Судостроение',\n       'Нац. парк', 'Санаторий', 'Обзорная площадка', 'Горнолыжный курорт',\n       'Коэффициент кол-ва запросов в месяц окружающих объектов'],\n      dtype='object')"
     },
     "execution_count": 7,
     "metadata": {},
     "output_type": "execute_result"
    }
   ],
   "source": [
    "data.columns"
   ],
   "metadata": {
    "collapsed": false
   }
  },
  {
   "cell_type": "code",
   "execution_count": 8,
   "outputs": [],
   "source": [
    "train, xtest, ytrain, ytest = train_test_split(X, Y, test_size=0.15)"
   ],
   "metadata": {
    "collapsed": false
   }
  },
  {
   "cell_type": "code",
   "execution_count": 9,
   "outputs": [],
   "source": [
    "train['Кол-во запросов в месяц'] = ytrain\n",
    "xtest['Кол-во запросов в месяц'] = ytest"
   ],
   "metadata": {
    "collapsed": false
   }
  },
  {
   "cell_type": "code",
   "execution_count": 10,
   "outputs": [],
   "source": [
    "task = Task('reg')\n",
    "roles = {'target': TARGET_NAME}\n",
    "N_FOLDS = 5\n",
    "TIMEOUT = 60 * 300  # 30 minutes\n",
    "automl = TabularAutoML(\n",
    "    task=task,  # required\n",
    "    timeout=TIMEOUT,\n",
    "    cpu_limit=8,\n",
    "    reader_params={'n_jobs': 8, 'cv': N_FOLDS}\n",
    ")"
   ],
   "metadata": {
    "collapsed": false
   }
  },
  {
   "cell_type": "code",
   "execution_count": 11,
   "outputs": [
    {
     "name": "stdout",
     "output_type": "stream",
     "text": [
      "[01:36:38] Stdout logging level is INFO.\n",
      "[01:36:38] Copying TaskTimer may affect the parent PipelineTimer, so copy will create new unlimited TaskTimer\n",
      "[01:36:38] Task: reg\n",
      "\n",
      "[01:36:38] Start automl preset with listed constraints:\n",
      "[01:36:38] - time: 18000.00 seconds\n",
      "[01:36:38] - CPU: 8 cores\n",
      "[01:36:38] - memory: 16 GB\n",
      "\n",
      "[01:36:38] \u001B[1mTrain data shape: (90, 21)\u001B[0m\n",
      "\n",
      "[01:36:41] Layer \u001B[1m1\u001B[0m train process start. Time left 17996.81 secs\n",
      "[01:36:41] Start fitting \u001B[1mLvl_0_Pipe_0_Mod_0_LinearL2\u001B[0m ...\n",
      "[01:36:43] Fitting \u001B[1mLvl_0_Pipe_0_Mod_0_LinearL2\u001B[0m finished. score = \u001B[1m-4077956.8149205903\u001B[0m\n",
      "[01:36:43] \u001B[1mLvl_0_Pipe_0_Mod_0_LinearL2\u001B[0m fitting and predicting completed\n",
      "[01:36:43] Time left 17995.16 secs\n",
      "\n",
      "[01:36:43] \u001B[1mSelector_LightGBM\u001B[0m fitting and predicting completed\n",
      "[01:36:43] Start fitting \u001B[1mLvl_0_Pipe_1_Mod_0_LightGBM\u001B[0m ...\n",
      "[01:36:43] Fitting \u001B[1mLvl_0_Pipe_1_Mod_0_LightGBM\u001B[0m finished. score = \u001B[1m-5176901.58998191\u001B[0m\n",
      "[01:36:43] \u001B[1mLvl_0_Pipe_1_Mod_0_LightGBM\u001B[0m fitting and predicting completed\n",
      "[01:36:43] Start hyperparameters optimization for \u001B[1mLvl_0_Pipe_1_Mod_1_Tuned_LightGBM\u001B[0m ... Time budget is 300.00 secs\n",
      "[01:36:51] Hyperparameters optimization for \u001B[1mLvl_0_Pipe_1_Mod_1_Tuned_LightGBM\u001B[0m completed\n",
      "[01:36:51] Start fitting \u001B[1mLvl_0_Pipe_1_Mod_1_Tuned_LightGBM\u001B[0m ...\n",
      "[01:36:51] Fitting \u001B[1mLvl_0_Pipe_1_Mod_1_Tuned_LightGBM\u001B[0m finished. score = \u001B[1m-5756931.81386089\u001B[0m\n",
      "[01:36:51] \u001B[1mLvl_0_Pipe_1_Mod_1_Tuned_LightGBM\u001B[0m fitting and predicting completed\n",
      "[01:36:51] Start fitting \u001B[1mLvl_0_Pipe_1_Mod_2_CatBoost\u001B[0m ...\n",
      "[01:36:51] Fitting \u001B[1mLvl_0_Pipe_1_Mod_2_CatBoost\u001B[0m finished. score = \u001B[1m-5414024.743118913\u001B[0m\n",
      "[01:36:51] \u001B[1mLvl_0_Pipe_1_Mod_2_CatBoost\u001B[0m fitting and predicting completed\n",
      "[01:36:51] Start hyperparameters optimization for \u001B[1mLvl_0_Pipe_1_Mod_3_Tuned_CatBoost\u001B[0m ... Time budget is 300.00 secs\n",
      "[01:36:57] Hyperparameters optimization for \u001B[1mLvl_0_Pipe_1_Mod_3_Tuned_CatBoost\u001B[0m completed\n",
      "[01:36:57] Start fitting \u001B[1mLvl_0_Pipe_1_Mod_3_Tuned_CatBoost\u001B[0m ...\n",
      "[01:36:57] Fitting \u001B[1mLvl_0_Pipe_1_Mod_3_Tuned_CatBoost\u001B[0m finished. score = \u001B[1m-5535887.990627923\u001B[0m\n",
      "[01:36:57] \u001B[1mLvl_0_Pipe_1_Mod_3_Tuned_CatBoost\u001B[0m fitting and predicting completed\n",
      "[01:36:57] Time left 17980.91 secs\n",
      "\n",
      "[01:36:57] \u001B[1mLayer 1 training completed.\u001B[0m\n",
      "\n",
      "[01:36:57] Blending: optimization starts with equal weights and score \u001B[1m-4941308.717972183\u001B[0m\n",
      "[01:36:57] Blending: iteration \u001B[1m0\u001B[0m: score = \u001B[1m-4077956.8149205903\u001B[0m, weights = \u001B[1m[1. 0. 0. 0. 0.]\u001B[0m\n",
      "[01:36:57] Blending: iteration \u001B[1m1\u001B[0m: score = \u001B[1m-4077956.8149205903\u001B[0m, weights = \u001B[1m[1. 0. 0. 0. 0.]\u001B[0m\n",
      "[01:36:57] Blending: no score update. Terminated\n",
      "\n",
      "[01:36:57] \u001B[1mAutoml preset training completed in 19.13 seconds\u001B[0m\n",
      "\n",
      "[01:36:57] Model description:\n",
      "Final prediction for new objects (level 0) = \n",
      "\t 1.00000 * (5 averaged models Lvl_0_Pipe_0_Mod_0_LinearL2) \n",
      "\n"
     ]
    }
   ],
   "source": [
    "tr_data=train\n",
    "te_data=xtest\n",
    "oof_preds = automl.fit_predict(tr_data, roles=roles, verbose=1)"
   ],
   "metadata": {
    "collapsed": false
   }
  },
  {
   "cell_type": "code",
   "execution_count": 14,
   "outputs": [
    {
     "data": {
      "text/plain": "Index(['Долгота', 'Доступность автомобиля', 'Доступность автобуса',\n       'Доступность внедорожника', 'Доступность водныого транспорта',\n       'Доступность самолета', 'Широта', 'Театр', 'Этнический центр', 'Музей',\n       'Детский туризм', 'Городские достопримечательности',\n       'Достопримечательность', 'Культурный центр', 'Судостроение',\n       'Нац. парк', 'Санаторий', 'Обзорная площадка', 'Горнолыжный курорт',\n       'Коэффициент кол-ва запросов в месяц окружающих объектов',\n       'Кол-во запросов в месяц'],\n      dtype='object')"
     },
     "execution_count": 14,
     "metadata": {},
     "output_type": "execute_result"
    }
   ],
   "source": [
    "te_data.columns"
   ],
   "metadata": {
    "collapsed": false
   }
  },
  {
   "cell_type": "code",
   "execution_count": 15,
   "outputs": [
    {
     "name": "stdout",
     "output_type": "stream",
     "text": [
      "Final prediction for new objects (level 0) = \n",
      "\t 1.00000 * (5 averaged models Lvl_0_Pipe_0_Mod_0_LinearL2) \n"
     ]
    }
   ],
   "source": [
    "print(automl.create_model_str_desc())"
   ],
   "metadata": {
    "collapsed": false
   }
  },
  {
   "cell_type": "code",
   "execution_count": 16,
   "outputs": [
    {
     "name": "stdout",
     "output_type": "stream",
     "text": [
      "[02:22:46] Stdout logging level is INFO.\n",
      "[02:22:46] Task: reg\n",
      "\n",
      "[02:22:46] Start automl preset with listed constraints:\n",
      "[02:22:46] - time: 18000.00 seconds\n",
      "[02:22:46] - CPU: 8 cores\n",
      "[02:22:46] - memory: 16 GB\n",
      "\n",
      "[02:22:46] \u001B[1mTrain data shape: (90, 21)\u001B[0m\n",
      "\n",
      "[02:22:50] Layer \u001B[1m1\u001B[0m train process start. Time left 17996.40 secs\n",
      "[02:22:50] Start fitting \u001B[1mLvl_0_Pipe_0_Mod_0_LinearL2\u001B[0m ...\n",
      "[02:22:53] Fitting \u001B[1mLvl_0_Pipe_0_Mod_0_LinearL2\u001B[0m finished. score = \u001B[1m-4077956.8149205903\u001B[0m\n",
      "[02:22:53] \u001B[1mLvl_0_Pipe_0_Mod_0_LinearL2\u001B[0m fitting and predicting completed\n",
      "[02:22:53] Time left 17993.37 secs\n",
      "\n",
      "[02:22:53] \u001B[1mSelector_LightGBM\u001B[0m fitting and predicting completed\n",
      "[02:22:53] Start fitting \u001B[1mLvl_0_Pipe_1_Mod_0_LightGBM\u001B[0m ...\n",
      "[02:22:53] Fitting \u001B[1mLvl_0_Pipe_1_Mod_0_LightGBM\u001B[0m finished. score = \u001B[1m-5176901.58998191\u001B[0m\n",
      "[02:22:53] \u001B[1mLvl_0_Pipe_1_Mod_0_LightGBM\u001B[0m fitting and predicting completed\n",
      "[02:22:53] Start hyperparameters optimization for \u001B[1mLvl_0_Pipe_1_Mod_1_Tuned_LightGBM\u001B[0m ... Time budget is 300.00 secs\n",
      "[02:23:01] Hyperparameters optimization for \u001B[1mLvl_0_Pipe_1_Mod_1_Tuned_LightGBM\u001B[0m completed\n",
      "[02:23:01] Start fitting \u001B[1mLvl_0_Pipe_1_Mod_1_Tuned_LightGBM\u001B[0m ...\n",
      "[02:23:01] Fitting \u001B[1mLvl_0_Pipe_1_Mod_1_Tuned_LightGBM\u001B[0m finished. score = \u001B[1m-5751392.809177076\u001B[0m\n",
      "[02:23:01] \u001B[1mLvl_0_Pipe_1_Mod_1_Tuned_LightGBM\u001B[0m fitting and predicting completed\n",
      "[02:23:01] Start fitting \u001B[1mLvl_0_Pipe_1_Mod_2_CatBoost\u001B[0m ...\n",
      "[02:23:02] Fitting \u001B[1mLvl_0_Pipe_1_Mod_2_CatBoost\u001B[0m finished. score = \u001B[1m-5414024.743118913\u001B[0m\n",
      "[02:23:02] \u001B[1mLvl_0_Pipe_1_Mod_2_CatBoost\u001B[0m fitting and predicting completed\n",
      "[02:23:02] Start hyperparameters optimization for \u001B[1mLvl_0_Pipe_1_Mod_3_Tuned_CatBoost\u001B[0m ... Time budget is 300.00 secs\n",
      "[02:23:09] Hyperparameters optimization for \u001B[1mLvl_0_Pipe_1_Mod_3_Tuned_CatBoost\u001B[0m completed\n",
      "[02:23:09] Start fitting \u001B[1mLvl_0_Pipe_1_Mod_3_Tuned_CatBoost\u001B[0m ...\n",
      "[02:23:10] Fitting \u001B[1mLvl_0_Pipe_1_Mod_3_Tuned_CatBoost\u001B[0m finished. score = \u001B[1m-5535887.990627923\u001B[0m\n",
      "[02:23:10] \u001B[1mLvl_0_Pipe_1_Mod_3_Tuned_CatBoost\u001B[0m fitting and predicting completed\n",
      "[02:23:10] Time left 17976.45 secs\n",
      "\n",
      "[02:23:10] \u001B[1mLayer 1 training completed.\u001B[0m\n",
      "\n",
      "[02:23:10] Blending: optimization starts with equal weights and score \u001B[1m-4940304.153040726\u001B[0m\n",
      "[02:23:10] Blending: iteration \u001B[1m0\u001B[0m: score = \u001B[1m-4077956.8149205903\u001B[0m, weights = \u001B[1m[1. 0. 0. 0. 0.]\u001B[0m\n",
      "[02:23:10] Blending: iteration \u001B[1m1\u001B[0m: score = \u001B[1m-4077956.8149205903\u001B[0m, weights = \u001B[1m[1. 0. 0. 0. 0.]\u001B[0m\n",
      "[02:23:10] Blending: no score update. Terminated\n",
      "\n",
      "[02:23:10] \u001B[1mAutoml preset training completed in 23.59 seconds\u001B[0m\n",
      "\n",
      "[02:23:10] Model description:\n",
      "Final prediction for new objects (level 0) = \n",
      "\t 1.00000 * (5 averaged models Lvl_0_Pipe_0_Mod_0_LinearL2) \n",
      "\n"
     ]
    },
    {
     "data": {
      "text/plain": "array([[2937.9976 ],\n       [ 183.68   ],\n       [1174.1097 ],\n       [ -89.75763],\n       [ 142.8864 ],\n       [ 554.7212 ],\n       [ 205.1978 ],\n       [ 227.48056],\n       [1121.1035 ],\n       [ 640.0988 ],\n       [1127.1299 ],\n       [3052.198  ],\n       [ 639.7103 ],\n       [1348.778  ],\n       [-168.43484],\n       [ 596.9105 ],\n       [ 256.1233 ]], dtype=float32)"
     },
     "execution_count": 16,
     "metadata": {},
     "output_type": "execute_result"
    }
   ],
   "source": [
    "out_of_fold_predictions = automl.fit_predict(tr_data, roles = roles, verbose = 1)\n",
    "test_predictions = automl.predict(te_data)\n",
    "test_predictions"
   ],
   "metadata": {
    "collapsed": false
   }
  },
  {
   "cell_type": "code",
   "execution_count": 17,
   "outputs": [
    {
     "name": "stdout",
     "output_type": "stream",
     "text": [
      "OOF score: 925.660602400038\n",
      "HOLDOUT score: 821.5924377441406\n"
     ]
    }
   ],
   "source": [
    "from sklearn.metrics import mean_absolute_error\n",
    "print(f'OOF score: {mean_absolute_error(tr_data[roles[\"target\"]].values, out_of_fold_predictions.data[:, 0])}')\n",
    "print(f'HOLDOUT score: {mean_absolute_error(te_data[roles[\"target\"]].values, test_predictions.data[:, 0])}')"
   ],
   "metadata": {
    "collapsed": false
   }
  },
  {
   "cell_type": "code",
   "execution_count": 18,
   "outputs": [
    {
     "data": {
      "text/plain": "array([2937.9976 ,  183.68   , 1174.1097 ,  -89.75763,  142.8864 ,\n        554.7212 ,  205.1978 ,  227.48056, 1121.1035 ,  640.0988 ,\n       1127.1299 , 3052.198  ,  639.7103 , 1348.778  , -168.43484,\n        596.9105 ,  256.1233 ], dtype=float32)"
     },
     "execution_count": 18,
     "metadata": {},
     "output_type": "execute_result"
    }
   ],
   "source": [
    "test_predictions.data[:, 0]"
   ],
   "metadata": {
    "collapsed": false
   }
  },
  {
   "cell_type": "code",
   "execution_count": 19,
   "outputs": [
    {
     "data": {
      "text/plain": "array([4.46e+02, 1.43e+02, 7.70e+01, 2.90e+01, 1.00e+00, 1.49e+02,\n       1.00e+00, 1.00e+00, 4.30e+01, 8.70e+01, 7.70e+01, 1.40e+03,\n       4.90e+01, 3.20e+01, 3.00e+02, 2.00e+01, 2.21e+03])"
     },
     "execution_count": 19,
     "metadata": {},
     "output_type": "execute_result"
    }
   ],
   "source": [
    "te_data[roles[\"target\"]].values"
   ],
   "metadata": {
    "collapsed": false
   }
  },
  {
   "cell_type": "code",
   "execution_count": 20,
   "outputs": [
    {
     "data": {
      "text/plain": "['regression_model.joblib']"
     },
     "execution_count": 20,
     "metadata": {},
     "output_type": "execute_result"
    }
   ],
   "source": [
    "joblib.dump(automl, 'regression_model.joblib')"
   ],
   "metadata": {
    "collapsed": false
   }
  },
  {
   "cell_type": "code",
   "execution_count": 21,
   "outputs": [],
   "source": [
    "reg = joblib.load('regression_model.joblib')"
   ],
   "metadata": {
    "collapsed": false
   }
  },
  {
   "cell_type": "code",
   "execution_count": 22,
   "outputs": [
    {
     "data": {
      "text/plain": "array([[2937.9976 ],\n       [ 183.68   ],\n       [1174.1097 ],\n       [ -89.75763],\n       [ 142.8864 ],\n       [ 554.7212 ],\n       [ 205.1978 ],\n       [ 227.48056],\n       [1121.1035 ],\n       [ 640.0988 ],\n       [1127.1299 ],\n       [3052.198  ],\n       [ 639.7103 ],\n       [1348.778  ],\n       [-168.43484],\n       [ 596.9105 ],\n       [ 256.1233 ]], dtype=float32)"
     },
     "execution_count": 22,
     "metadata": {},
     "output_type": "execute_result"
    }
   ],
   "source": [
    "predictions = reg.predict(te_data)\n",
    "predictions"
   ],
   "metadata": {
    "collapsed": false
   }
  },
  {
   "cell_type": "code",
   "execution_count": null,
   "outputs": [],
   "source": [],
   "metadata": {
    "collapsed": false,
    "pycharm": {
     "is_executing": true
    }
   }
  },
  {
   "cell_type": "code",
   "execution_count": 24,
   "outputs": [],
   "source": [
    "paramsVector = {'Широта': [0.0],\n",
    "            'Долгота': [0.0],\n",
    "            'Коэффициент кол-ва запросов в месяц окружающих объектов': [32],\n",
    "            'Доступность автомобиля': [False],\n",
    "            'Доступность автобуса': [False],\n",
    "            'Доступность внедорожника': [False],\n",
    "            'Доступность водныого транспорта': [False],\n",
    "            'Доступность самолета': [False],\n",
    "            'Театр': [False],\n",
    "            'Этнический центр': [False],\n",
    "            'Музей': [False],\n",
    "            'Детский туризм': [False],\n",
    "            'Городские достопримечательности': [False],\n",
    "            'Достопримечательность': [False],\n",
    "            'Культурный центр': [False],\n",
    "            'Судостроение': [False],\n",
    "            'Нац. парк': [False],\n",
    "            'Санаторий': [False],\n",
    "            'Обзорная площадка': [False],\n",
    "            'Горнолыжный курорт': [False]}\n",
    "data = pd.DataFrame(paramsVector)\n",
    "\n",
    "reg = joblib.load('regression_model.joblib')\n"
   ],
   "metadata": {
    "collapsed": false
   }
  },
  {
   "cell_type": "code",
   "execution_count": 25,
   "outputs": [],
   "source": [
    "predictions = reg.predict(data)"
   ],
   "metadata": {
    "collapsed": false
   }
  },
  {
   "cell_type": "code",
   "execution_count": 46,
   "outputs": [
    {
     "data": {
      "text/plain": "8196.388671875"
     },
     "execution_count": 46,
     "metadata": {},
     "output_type": "execute_result"
    }
   ],
   "source": [
    "predictions.data.item(0)"
   ],
   "metadata": {
    "collapsed": false
   }
  },
  {
   "cell_type": "code",
   "execution_count": 42,
   "outputs": [
    {
     "ename": "TypeError",
     "evalue": "'method' object is not subscriptable",
     "output_type": "error",
     "traceback": [
      "\u001B[0;31m---------------------------------------------------------------------------\u001B[0m",
      "\u001B[0;31mTypeError\u001B[0m                                 Traceback (most recent call last)",
      "Cell \u001B[0;32mIn [42], line 1\u001B[0m\n\u001B[0;32m----> 1\u001B[0m n[\u001B[38;5;241m0\u001B[39m]\n",
      "\u001B[0;31mTypeError\u001B[0m: 'method' object is not subscriptable"
     ]
    }
   ],
   "source": [],
   "metadata": {
    "collapsed": false
   }
  },
  {
   "cell_type": "code",
   "execution_count": null,
   "outputs": [],
   "source": [],
   "metadata": {
    "collapsed": false
   }
  }
 ],
 "metadata": {
  "kernelspec": {
   "display_name": "Python 3",
   "language": "python",
   "name": "python3"
  },
  "language_info": {
   "codemirror_mode": {
    "name": "ipython",
    "version": 2
   },
   "file_extension": ".py",
   "mimetype": "text/x-python",
   "name": "python",
   "nbconvert_exporter": "python",
   "pygments_lexer": "ipython2",
   "version": "2.7.6"
  }
 },
 "nbformat": 4,
 "nbformat_minor": 0
}
