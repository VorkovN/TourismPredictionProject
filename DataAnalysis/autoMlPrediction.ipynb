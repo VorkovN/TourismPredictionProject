{
 "cells": [
  {
   "cell_type": "code",
   "execution_count": 127,
   "metadata": {
    "collapsed": true
   },
   "outputs": [
    {
     "name": "stdout",
     "output_type": "stream",
     "text": [
      "Requirement already satisfied: sklearn in /home/vorkov/anaconda3/envs/TourismPredictionProject/lib/python3.8/site-packages (0.0.post7)\r\n",
      "\r\n",
      "\u001B[1m[\u001B[0m\u001B[34;49mnotice\u001B[0m\u001B[1;39;49m]\u001B[0m\u001B[39;49m A new release of pip is available: \u001B[0m\u001B[31;49m23.1.2\u001B[0m\u001B[39;49m -> \u001B[0m\u001B[32;49m23.2.1\u001B[0m\r\n",
      "\u001B[1m[\u001B[0m\u001B[34;49mnotice\u001B[0m\u001B[1;39;49m]\u001B[0m\u001B[39;49m To update, run: \u001B[0m\u001B[32;49mpip install --upgrade pip\u001B[0m\r\n",
      "Requirement already satisfied: lightautoml in /home/vorkov/.local/lib/python3.8/site-packages (0.3.7.3)\r\n",
      "Requirement already satisfied: autowoe>=1.2 in /home/vorkov/.local/lib/python3.8/site-packages (from lightautoml) (1.3.2)\r\n",
      "Requirement already satisfied: catboost>=0.26.1 in /home/vorkov/.local/lib/python3.8/site-packages (from lightautoml) (1.2)\r\n",
      "Requirement already satisfied: cmaes in /home/vorkov/.local/lib/python3.8/site-packages (from lightautoml) (0.9.1)\r\n",
      "Requirement already satisfied: holidays in /home/vorkov/.local/lib/python3.8/site-packages (from lightautoml) (0.25)\r\n",
      "Requirement already satisfied: jinja2 in /home/vorkov/.local/lib/python3.8/site-packages (from lightautoml) (3.1.2)\r\n",
      "Requirement already satisfied: joblib in /home/vorkov/.local/lib/python3.8/site-packages (from lightautoml) (1.2.0)\r\n",
      "Requirement already satisfied: json2html in /home/vorkov/.local/lib/python3.8/site-packages (from lightautoml) (1.3.0)\r\n",
      "Requirement already satisfied: lightgbm<=3.2.1,>=2.3 in /home/vorkov/.local/lib/python3.8/site-packages (from lightautoml) (3.2.1)\r\n",
      "Requirement already satisfied: networkx in /home/vorkov/.local/lib/python3.8/site-packages (from lightautoml) (2.8.3)\r\n",
      "Requirement already satisfied: optuna in /home/vorkov/.local/lib/python3.8/site-packages (from lightautoml) (3.1.1)\r\n",
      "Requirement already satisfied: pandas<=1.4.3 in /home/vorkov/.local/lib/python3.8/site-packages (from lightautoml) (1.4.3)\r\n",
      "Requirement already satisfied: poetry-core<2.0.0,>=1.0.0 in /home/vorkov/.local/lib/python3.8/site-packages (from lightautoml) (1.6.0)\r\n",
      "Requirement already satisfied: pyyaml in /home/vorkov/anaconda3/envs/TourismPredictionProject/lib/python3.8/site-packages (from lightautoml) (6.0)\r\n",
      "Requirement already satisfied: scikit-learn>=0.22 in /home/vorkov/.local/lib/python3.8/site-packages (from lightautoml) (1.2.1)\r\n",
      "Requirement already satisfied: seaborn in /home/vorkov/.local/lib/python3.8/site-packages (from lightautoml) (0.12.1)\r\n",
      "Requirement already satisfied: torch<1.9 in /home/vorkov/.local/lib/python3.8/site-packages (from lightautoml) (1.8.1)\r\n",
      "Requirement already satisfied: torchvision in /home/vorkov/.local/lib/python3.8/site-packages (from lightautoml) (0.9.1)\r\n",
      "Requirement already satisfied: tqdm in /home/vorkov/.local/lib/python3.8/site-packages (from lightautoml) (4.64.1)\r\n",
      "Requirement already satisfied: StrEnum<0.5.0,>=0.4.7 in /home/vorkov/.local/lib/python3.8/site-packages (from autowoe>=1.2->lightautoml) (0.4.10)\r\n",
      "Requirement already satisfied: matplotlib in /home/vorkov/.local/lib/python3.8/site-packages (from autowoe>=1.2->lightautoml) (3.6.3)\r\n",
      "Requirement already satisfied: numpy in /home/vorkov/.local/lib/python3.8/site-packages (from autowoe>=1.2->lightautoml) (1.23.3)\r\n",
      "Requirement already satisfied: pytest in /home/vorkov/.local/lib/python3.8/site-packages (from autowoe>=1.2->lightautoml) (7.0.1)\r\n",
      "Requirement already satisfied: pytz in /home/vorkov/.local/lib/python3.8/site-packages (from autowoe>=1.2->lightautoml) (2022.4)\r\n",
      "Requirement already satisfied: scipy in /home/vorkov/.local/lib/python3.8/site-packages (from autowoe>=1.2->lightautoml) (1.9.1)\r\n",
      "Requirement already satisfied: sphinx in /home/vorkov/.local/lib/python3.8/site-packages (from autowoe>=1.2->lightautoml) (6.1.3)\r\n",
      "Requirement already satisfied: sphinx-rtd-theme in /home/vorkov/.local/lib/python3.8/site-packages (from autowoe>=1.2->lightautoml) (1.2.0)\r\n",
      "Requirement already satisfied: graphviz in /home/vorkov/.local/lib/python3.8/site-packages (from catboost>=0.26.1->lightautoml) (0.20.1)\r\n",
      "Requirement already satisfied: plotly in /home/vorkov/.local/lib/python3.8/site-packages (from catboost>=0.26.1->lightautoml) (5.13.1)\r\n",
      "Requirement already satisfied: six in /home/vorkov/anaconda3/envs/TourismPredictionProject/lib/python3.8/site-packages (from catboost>=0.26.1->lightautoml) (1.16.0)\r\n",
      "Requirement already satisfied: wheel in /home/vorkov/anaconda3/envs/TourismPredictionProject/lib/python3.8/site-packages (from lightgbm<=3.2.1,>=2.3->lightautoml) (0.38.4)\r\n",
      "Requirement already satisfied: python-dateutil>=2.8.1 in /home/vorkov/.local/lib/python3.8/site-packages (from pandas<=1.4.3->lightautoml) (2.8.2)\r\n",
      "Requirement already satisfied: threadpoolctl>=2.0.0 in /home/vorkov/.local/lib/python3.8/site-packages (from scikit-learn>=0.22->lightautoml) (3.1.0)\r\n",
      "Requirement already satisfied: typing-extensions in /home/vorkov/.local/lib/python3.8/site-packages (from torch<1.9->lightautoml) (4.3.0)\r\n",
      "Requirement already satisfied: korean-lunar-calendar in /home/vorkov/.local/lib/python3.8/site-packages (from holidays->lightautoml) (0.3.1)\r\n",
      "Requirement already satisfied: MarkupSafe>=2.0 in /home/vorkov/.local/lib/python3.8/site-packages (from jinja2->lightautoml) (2.1.1)\r\n",
      "Requirement already satisfied: alembic>=1.5.0 in /home/vorkov/.local/lib/python3.8/site-packages (from optuna->lightautoml) (1.11.1)\r\n",
      "Requirement already satisfied: colorlog in /home/vorkov/.local/lib/python3.8/site-packages (from optuna->lightautoml) (6.7.0)\r\n",
      "Requirement already satisfied: packaging>=20.0 in /home/vorkov/.local/lib/python3.8/site-packages (from optuna->lightautoml) (23.0)\r\n",
      "Requirement already satisfied: sqlalchemy>=1.3.0 in /home/vorkov/.local/lib/python3.8/site-packages (from optuna->lightautoml) (2.0.15)\r\n",
      "Requirement already satisfied: pillow>=4.1.1 in /home/vorkov/.local/lib/python3.8/site-packages (from torchvision->lightautoml) (9.2.0)\r\n",
      "Requirement already satisfied: Mako in /home/vorkov/anaconda3/envs/TourismPredictionProject/lib/python3.8/site-packages (from alembic>=1.5.0->optuna->lightautoml) (1.2.4)\r\n",
      "Requirement already satisfied: importlib-metadata in /home/vorkov/.local/lib/python3.8/site-packages (from alembic>=1.5.0->optuna->lightautoml) (4.13.0)\r\n",
      "Requirement already satisfied: importlib-resources in /home/vorkov/.local/lib/python3.8/site-packages (from alembic>=1.5.0->optuna->lightautoml) (5.9.0)\r\n",
      "Requirement already satisfied: contourpy>=1.0.1 in /home/vorkov/.local/lib/python3.8/site-packages (from matplotlib->autowoe>=1.2->lightautoml) (1.0.5)\r\n",
      "Requirement already satisfied: cycler>=0.10 in /home/vorkov/.local/lib/python3.8/site-packages (from matplotlib->autowoe>=1.2->lightautoml) (0.11.0)\r\n",
      "Requirement already satisfied: fonttools>=4.22.0 in /home/vorkov/.local/lib/python3.8/site-packages (from matplotlib->autowoe>=1.2->lightautoml) (4.37.4)\r\n",
      "Requirement already satisfied: kiwisolver>=1.0.1 in /home/vorkov/.local/lib/python3.8/site-packages (from matplotlib->autowoe>=1.2->lightautoml) (1.4.4)\r\n",
      "Requirement already satisfied: pyparsing>=2.2.1 in /home/vorkov/.local/lib/python3.8/site-packages (from matplotlib->autowoe>=1.2->lightautoml) (3.0.9)\r\n",
      "Requirement already satisfied: greenlet!=0.4.17 in /home/vorkov/.local/lib/python3.8/site-packages (from sqlalchemy>=1.3.0->optuna->lightautoml) (2.0.2)\r\n",
      "Requirement already satisfied: tenacity>=6.2.0 in /home/vorkov/.local/lib/python3.8/site-packages (from plotly->catboost>=0.26.1->lightautoml) (8.2.2)\r\n",
      "Requirement already satisfied: attrs>=19.2.0 in /home/vorkov/.local/lib/python3.8/site-packages (from pytest->autowoe>=1.2->lightautoml) (22.1.0)\r\n",
      "Requirement already satisfied: iniconfig in /home/vorkov/.local/lib/python3.8/site-packages (from pytest->autowoe>=1.2->lightautoml) (1.1.1)\r\n",
      "Requirement already satisfied: pluggy<2.0,>=0.12 in /home/vorkov/.local/lib/python3.8/site-packages (from pytest->autowoe>=1.2->lightautoml) (1.0.0)\r\n",
      "Requirement already satisfied: py>=1.8.2 in /home/vorkov/.local/lib/python3.8/site-packages (from pytest->autowoe>=1.2->lightautoml) (1.11.0)\r\n",
      "Requirement already satisfied: tomli>=1.0.0 in /home/vorkov/.local/lib/python3.8/site-packages (from pytest->autowoe>=1.2->lightautoml) (2.0.1)\r\n",
      "Requirement already satisfied: sphinxcontrib-applehelp in /home/vorkov/.local/lib/python3.8/site-packages (from sphinx->autowoe>=1.2->lightautoml) (1.0.4)\r\n",
      "Requirement already satisfied: sphinxcontrib-devhelp in /home/vorkov/.local/lib/python3.8/site-packages (from sphinx->autowoe>=1.2->lightautoml) (1.0.2)\r\n",
      "Requirement already satisfied: sphinxcontrib-jsmath in /home/vorkov/.local/lib/python3.8/site-packages (from sphinx->autowoe>=1.2->lightautoml) (1.0.1)\r\n",
      "Requirement already satisfied: sphinxcontrib-htmlhelp>=2.0.0 in /home/vorkov/.local/lib/python3.8/site-packages (from sphinx->autowoe>=1.2->lightautoml) (2.0.1)\r\n",
      "Requirement already satisfied: sphinxcontrib-serializinghtml>=1.1.5 in /home/vorkov/.local/lib/python3.8/site-packages (from sphinx->autowoe>=1.2->lightautoml) (1.1.5)\r\n",
      "Requirement already satisfied: sphinxcontrib-qthelp in /home/vorkov/.local/lib/python3.8/site-packages (from sphinx->autowoe>=1.2->lightautoml) (1.0.3)\r\n",
      "Requirement already satisfied: Pygments>=2.13 in /home/vorkov/.local/lib/python3.8/site-packages (from sphinx->autowoe>=1.2->lightautoml) (2.13.0)\r\n",
      "Requirement already satisfied: docutils<0.20,>=0.18 in /home/vorkov/.local/lib/python3.8/site-packages (from sphinx->autowoe>=1.2->lightautoml) (0.18)\r\n",
      "Requirement already satisfied: snowballstemmer>=2.0 in /home/vorkov/.local/lib/python3.8/site-packages (from sphinx->autowoe>=1.2->lightautoml) (2.2.0)\r\n",
      "Requirement already satisfied: babel>=2.9 in /home/vorkov/.local/lib/python3.8/site-packages (from sphinx->autowoe>=1.2->lightautoml) (2.10.3)\r\n",
      "Requirement already satisfied: alabaster<0.8,>=0.7 in /home/vorkov/.local/lib/python3.8/site-packages (from sphinx->autowoe>=1.2->lightautoml) (0.7.13)\r\n",
      "Requirement already satisfied: imagesize>=1.3 in /home/vorkov/.local/lib/python3.8/site-packages (from sphinx->autowoe>=1.2->lightautoml) (1.4.1)\r\n",
      "Requirement already satisfied: requests>=2.25.0 in /home/vorkov/.local/lib/python3.8/site-packages (from sphinx->autowoe>=1.2->lightautoml) (2.28.1)\r\n",
      "Requirement already satisfied: sphinxcontrib-jquery!=3.0.0,>=2.0.0 in /home/vorkov/.local/lib/python3.8/site-packages (from sphinx-rtd-theme->autowoe>=1.2->lightautoml) (2.0.0)\r\n",
      "Requirement already satisfied: zipp>=0.5 in /home/vorkov/.local/lib/python3.8/site-packages (from importlib-metadata->alembic>=1.5.0->optuna->lightautoml) (3.8.1)\r\n",
      "Requirement already satisfied: charset-normalizer<3,>=2 in /home/vorkov/.local/lib/python3.8/site-packages (from requests>=2.25.0->sphinx->autowoe>=1.2->lightautoml) (2.1.1)\r\n",
      "Requirement already satisfied: idna<4,>=2.5 in /home/vorkov/anaconda3/envs/TourismPredictionProject/lib/python3.8/site-packages (from requests>=2.25.0->sphinx->autowoe>=1.2->lightautoml) (3.4)\r\n",
      "Requirement already satisfied: urllib3<1.27,>=1.21.1 in /home/vorkov/anaconda3/envs/TourismPredictionProject/lib/python3.8/site-packages (from requests>=2.25.0->sphinx->autowoe>=1.2->lightautoml) (1.26.16)\r\n",
      "Requirement already satisfied: certifi>=2017.4.17 in /home/vorkov/anaconda3/envs/TourismPredictionProject/lib/python3.8/site-packages (from requests>=2.25.0->sphinx->autowoe>=1.2->lightautoml) (2023.5.7)\r\n",
      "Requirement already satisfied: setuptools in /home/vorkov/anaconda3/envs/TourismPredictionProject/lib/python3.8/site-packages (from sphinxcontrib-jquery!=3.0.0,>=2.0.0->sphinx-rtd-theme->autowoe>=1.2->lightautoml) (67.8.0)\r\n",
      "\r\n",
      "\u001B[1m[\u001B[0m\u001B[34;49mnotice\u001B[0m\u001B[1;39;49m]\u001B[0m\u001B[39;49m A new release of pip is available: \u001B[0m\u001B[31;49m23.1.2\u001B[0m\u001B[39;49m -> \u001B[0m\u001B[32;49m23.2.1\u001B[0m\r\n",
      "\u001B[1m[\u001B[0m\u001B[34;49mnotice\u001B[0m\u001B[1;39;49m]\u001B[0m\u001B[39;49m To update, run: \u001B[0m\u001B[32;49mpip install --upgrade pip\u001B[0m\r\n",
      "Requirement already satisfied: joblib in /home/vorkov/.local/lib/python3.8/site-packages (1.2.0)\r\n",
      "\r\n",
      "\u001B[1m[\u001B[0m\u001B[34;49mnotice\u001B[0m\u001B[1;39;49m]\u001B[0m\u001B[39;49m A new release of pip is available: \u001B[0m\u001B[31;49m23.1.2\u001B[0m\u001B[39;49m -> \u001B[0m\u001B[32;49m23.2.1\u001B[0m\r\n",
      "\u001B[1m[\u001B[0m\u001B[34;49mnotice\u001B[0m\u001B[1;39;49m]\u001B[0m\u001B[39;49m To update, run: \u001B[0m\u001B[32;49mpip install --upgrade pip\u001B[0m\r\n"
     ]
    }
   ],
   "source": [
    "!pip install -U sklearn\n",
    "!pip install -U lightautoml\n",
    "!pip install joblib"
   ]
  },
  {
   "cell_type": "code",
   "execution_count": 128,
   "outputs": [],
   "source": [
    "# Standard python libraries\n",
    "import os\n",
    "import time\n",
    "import requests\n",
    "\n",
    "# Essential DS libraries\n",
    "import numpy as np\n",
    "import pandas as pd\n",
    "from sklearn.metrics import roc_auc_score\n",
    "from sklearn.model_selection import train_test_split\n",
    "import torch\n",
    "\n",
    "# LightAutoML presets, task and report generation\n",
    "from lightautoml.automl.presets.tabular_presets import TabularAutoML\n",
    "from lightautoml.automl.presets.tabular_presets import TabularUtilizedAutoML\n",
    "from lightautoml.tasks import Task\n",
    "\n",
    "import joblib"
   ],
   "metadata": {
    "collapsed": false
   }
  },
  {
   "cell_type": "code",
   "execution_count": 129,
   "outputs": [
    {
     "data": {
      "text/plain": "                   Название точки привлечения туристов  \\\n0      Архангельский театр драмы имени М.В. Ломоносова   \n1    \"Беломорские узоры\" (Народные художественные п...   \n2                       Архангельский молодежный театр   \n3         Архангельский музей изобразительных искусств   \n4                            Архангельский театр кукол   \n..                                                 ...   \n102        Историко-мемориальный музей М.В. Ломоносова   \n103                                    Село Ломоносово   \n104               Фабрика Холмогорской резьбы по кости   \n105         Церковь Димитрия Солунского, с. Ломоносово   \n106            Шенкурский районный краеведческий музей   \n\n     Кол-во запросов в месяц Тип точки привлечения туристов    Долгота  \\\n0                     9000.0                          Театр  40.515280   \n1                      466.0               Этнический центр  40.520756   \n2                      446.0                          Театр  40.519231   \n3                      248.0                          Музей  40.518417   \n4                     1400.0                          Театр  40.529639   \n..                       ...                            ...        ...   \n102                    126.0          Достопримечательность  41.733645   \n103                   4073.0          Достопримечательность  41.732359   \n104                     37.0               Этнический центр  41.733516   \n105                     38.0          Достопримечательность  41.739181   \n106                    150.0          Достопримечательность  42.902558   \n\n     Доступность автомобиля  Доступность автобуса  Доступность внедорожника  \\\n0                     False                 False                     False   \n1                      True                  True                     False   \n2                      True                  True                     False   \n3                      True                  True                     False   \n4                      True                  True                     False   \n..                      ...                   ...                       ...   \n102                    True                  True                     False   \n103                    True                  True                     False   \n104                    True                  True                     False   \n105                    True                  True                     False   \n106                    True                  True                     False   \n\n     Доступность водныого транспорта  Доступность самолета     Широта  ...  \\\n0                              False                 False  64.536504  ...   \n1                              False                 False  64.559452  ...   \n2                              False                 False  64.549876  ...   \n3                              False                 False  64.539888  ...   \n4                              False                 False  64.531850  ...   \n..                               ...                   ...        ...  ...   \n102                            False                 False  64.230200  ...   \n103                            False                 False  64.229380  ...   \n104                            False                 False  64.230262  ...   \n105                            False                 False  64.231620  ...   \n106                            False                 False  62.103525  ...   \n\n     Детский туризм  Городские достопримечательности  Достопримечательность  \\\n0             False                            False                  False   \n1             False                            False                  False   \n2             False                            False                  False   \n3             False                            False                  False   \n4             False                            False                  False   \n..              ...                              ...                    ...   \n102           False                            False                   True   \n103           False                            False                   True   \n104           False                            False                  False   \n105           False                            False                   True   \n106           False                            False                   True   \n\n     Культурный центр  Судостроение  Нац. парк  Санаторий  Обзорная площадка  \\\n0               False         False      False      False              False   \n1               False         False      False      False              False   \n2               False         False      False      False              False   \n3               False         False      False      False              False   \n4               False         False      False      False              False   \n..                ...           ...        ...        ...                ...   \n102             False         False      False      False              False   \n103             False         False      False      False              False   \n104             False         False      False      False              False   \n105             False         False      False      False              False   \n106             False         False      False      False              False   \n\n     Горнолыжный курорт  \\\n0                 False   \n1                 False   \n2                 False   \n3                 False   \n4                 False   \n..                  ...   \n102               False   \n103               False   \n104               False   \n105               False   \n106               False   \n\n     Коэффициент кол-ва запросов в месяц окружающих объектов  \n0                                            17456.652        \n1                                            13011.068        \n2                                            15253.760        \n3                                            16937.497        \n4                                            16585.763        \n..                                                 ...        \n102                                           4227.982        \n103                                           4270.649        \n104                                           4227.893        \n105                                           4101.954        \n106                                            150.000        \n\n[107 rows x 23 columns]",
      "text/html": "<div>\n<style scoped>\n    .dataframe tbody tr th:only-of-type {\n        vertical-align: middle;\n    }\n\n    .dataframe tbody tr th {\n        vertical-align: top;\n    }\n\n    .dataframe thead th {\n        text-align: right;\n    }\n</style>\n<table border=\"1\" class=\"dataframe\">\n  <thead>\n    <tr style=\"text-align: right;\">\n      <th></th>\n      <th>Название точки привлечения туристов</th>\n      <th>Кол-во запросов в месяц</th>\n      <th>Тип точки привлечения туристов</th>\n      <th>Долгота</th>\n      <th>Доступность автомобиля</th>\n      <th>Доступность автобуса</th>\n      <th>Доступность внедорожника</th>\n      <th>Доступность водныого транспорта</th>\n      <th>Доступность самолета</th>\n      <th>Широта</th>\n      <th>...</th>\n      <th>Детский туризм</th>\n      <th>Городские достопримечательности</th>\n      <th>Достопримечательность</th>\n      <th>Культурный центр</th>\n      <th>Судостроение</th>\n      <th>Нац. парк</th>\n      <th>Санаторий</th>\n      <th>Обзорная площадка</th>\n      <th>Горнолыжный курорт</th>\n      <th>Коэффициент кол-ва запросов в месяц окружающих объектов</th>\n    </tr>\n  </thead>\n  <tbody>\n    <tr>\n      <th>0</th>\n      <td>Архангельский театр драмы имени М.В. Ломоносова</td>\n      <td>9000.0</td>\n      <td>Театр</td>\n      <td>40.515280</td>\n      <td>False</td>\n      <td>False</td>\n      <td>False</td>\n      <td>False</td>\n      <td>False</td>\n      <td>64.536504</td>\n      <td>...</td>\n      <td>False</td>\n      <td>False</td>\n      <td>False</td>\n      <td>False</td>\n      <td>False</td>\n      <td>False</td>\n      <td>False</td>\n      <td>False</td>\n      <td>False</td>\n      <td>17456.652</td>\n    </tr>\n    <tr>\n      <th>1</th>\n      <td>\"Беломорские узоры\" (Народные художественные п...</td>\n      <td>466.0</td>\n      <td>Этнический центр</td>\n      <td>40.520756</td>\n      <td>True</td>\n      <td>True</td>\n      <td>False</td>\n      <td>False</td>\n      <td>False</td>\n      <td>64.559452</td>\n      <td>...</td>\n      <td>False</td>\n      <td>False</td>\n      <td>False</td>\n      <td>False</td>\n      <td>False</td>\n      <td>False</td>\n      <td>False</td>\n      <td>False</td>\n      <td>False</td>\n      <td>13011.068</td>\n    </tr>\n    <tr>\n      <th>2</th>\n      <td>Архангельский молодежный театр</td>\n      <td>446.0</td>\n      <td>Театр</td>\n      <td>40.519231</td>\n      <td>True</td>\n      <td>True</td>\n      <td>False</td>\n      <td>False</td>\n      <td>False</td>\n      <td>64.549876</td>\n      <td>...</td>\n      <td>False</td>\n      <td>False</td>\n      <td>False</td>\n      <td>False</td>\n      <td>False</td>\n      <td>False</td>\n      <td>False</td>\n      <td>False</td>\n      <td>False</td>\n      <td>15253.760</td>\n    </tr>\n    <tr>\n      <th>3</th>\n      <td>Архангельский музей изобразительных искусств</td>\n      <td>248.0</td>\n      <td>Музей</td>\n      <td>40.518417</td>\n      <td>True</td>\n      <td>True</td>\n      <td>False</td>\n      <td>False</td>\n      <td>False</td>\n      <td>64.539888</td>\n      <td>...</td>\n      <td>False</td>\n      <td>False</td>\n      <td>False</td>\n      <td>False</td>\n      <td>False</td>\n      <td>False</td>\n      <td>False</td>\n      <td>False</td>\n      <td>False</td>\n      <td>16937.497</td>\n    </tr>\n    <tr>\n      <th>4</th>\n      <td>Архангельский театр кукол</td>\n      <td>1400.0</td>\n      <td>Театр</td>\n      <td>40.529639</td>\n      <td>True</td>\n      <td>True</td>\n      <td>False</td>\n      <td>False</td>\n      <td>False</td>\n      <td>64.531850</td>\n      <td>...</td>\n      <td>False</td>\n      <td>False</td>\n      <td>False</td>\n      <td>False</td>\n      <td>False</td>\n      <td>False</td>\n      <td>False</td>\n      <td>False</td>\n      <td>False</td>\n      <td>16585.763</td>\n    </tr>\n    <tr>\n      <th>...</th>\n      <td>...</td>\n      <td>...</td>\n      <td>...</td>\n      <td>...</td>\n      <td>...</td>\n      <td>...</td>\n      <td>...</td>\n      <td>...</td>\n      <td>...</td>\n      <td>...</td>\n      <td>...</td>\n      <td>...</td>\n      <td>...</td>\n      <td>...</td>\n      <td>...</td>\n      <td>...</td>\n      <td>...</td>\n      <td>...</td>\n      <td>...</td>\n      <td>...</td>\n      <td>...</td>\n    </tr>\n    <tr>\n      <th>102</th>\n      <td>Историко-мемориальный музей М.В. Ломоносова</td>\n      <td>126.0</td>\n      <td>Достопримечательность</td>\n      <td>41.733645</td>\n      <td>True</td>\n      <td>True</td>\n      <td>False</td>\n      <td>False</td>\n      <td>False</td>\n      <td>64.230200</td>\n      <td>...</td>\n      <td>False</td>\n      <td>False</td>\n      <td>True</td>\n      <td>False</td>\n      <td>False</td>\n      <td>False</td>\n      <td>False</td>\n      <td>False</td>\n      <td>False</td>\n      <td>4227.982</td>\n    </tr>\n    <tr>\n      <th>103</th>\n      <td>Село Ломоносово</td>\n      <td>4073.0</td>\n      <td>Достопримечательность</td>\n      <td>41.732359</td>\n      <td>True</td>\n      <td>True</td>\n      <td>False</td>\n      <td>False</td>\n      <td>False</td>\n      <td>64.229380</td>\n      <td>...</td>\n      <td>False</td>\n      <td>False</td>\n      <td>True</td>\n      <td>False</td>\n      <td>False</td>\n      <td>False</td>\n      <td>False</td>\n      <td>False</td>\n      <td>False</td>\n      <td>4270.649</td>\n    </tr>\n    <tr>\n      <th>104</th>\n      <td>Фабрика Холмогорской резьбы по кости</td>\n      <td>37.0</td>\n      <td>Этнический центр</td>\n      <td>41.733516</td>\n      <td>True</td>\n      <td>True</td>\n      <td>False</td>\n      <td>False</td>\n      <td>False</td>\n      <td>64.230262</td>\n      <td>...</td>\n      <td>False</td>\n      <td>False</td>\n      <td>False</td>\n      <td>False</td>\n      <td>False</td>\n      <td>False</td>\n      <td>False</td>\n      <td>False</td>\n      <td>False</td>\n      <td>4227.893</td>\n    </tr>\n    <tr>\n      <th>105</th>\n      <td>Церковь Димитрия Солунского, с. Ломоносово</td>\n      <td>38.0</td>\n      <td>Достопримечательность</td>\n      <td>41.739181</td>\n      <td>True</td>\n      <td>True</td>\n      <td>False</td>\n      <td>False</td>\n      <td>False</td>\n      <td>64.231620</td>\n      <td>...</td>\n      <td>False</td>\n      <td>False</td>\n      <td>True</td>\n      <td>False</td>\n      <td>False</td>\n      <td>False</td>\n      <td>False</td>\n      <td>False</td>\n      <td>False</td>\n      <td>4101.954</td>\n    </tr>\n    <tr>\n      <th>106</th>\n      <td>Шенкурский районный краеведческий музей</td>\n      <td>150.0</td>\n      <td>Достопримечательность</td>\n      <td>42.902558</td>\n      <td>True</td>\n      <td>True</td>\n      <td>False</td>\n      <td>False</td>\n      <td>False</td>\n      <td>62.103525</td>\n      <td>...</td>\n      <td>False</td>\n      <td>False</td>\n      <td>True</td>\n      <td>False</td>\n      <td>False</td>\n      <td>False</td>\n      <td>False</td>\n      <td>False</td>\n      <td>False</td>\n      <td>150.000</td>\n    </tr>\n  </tbody>\n</table>\n<p>107 rows × 23 columns</p>\n</div>"
     },
     "execution_count": 129,
     "metadata": {},
     "output_type": "execute_result"
    }
   ],
   "source": [
    "TARGET_NAME = 'Кол-во запросов в месяц'\n",
    "data = pd.read_csv('touristObjects3.csv')\n",
    "data"
   ],
   "metadata": {
    "collapsed": false
   }
  },
  {
   "cell_type": "code",
   "execution_count": 130,
   "outputs": [
    {
     "data": {
      "text/plain": "                   Название точки привлечения туристов  \\\n0      Архангельский театр драмы имени М.В. Ломоносова   \n1    \"Беломорские узоры\" (Народные художественные п...   \n2                       Архангельский молодежный театр   \n3         Архангельский музей изобразительных искусств   \n4                            Архангельский театр кукол   \n..                                                 ...   \n102        Историко-мемориальный музей М.В. Ломоносова   \n103                                    Село Ломоносово   \n104               Фабрика Холмогорской резьбы по кости   \n105         Церковь Димитрия Солунского, с. Ломоносово   \n106            Шенкурский районный краеведческий музей   \n\n     Кол-во запросов в месяц    Долгота  Доступность автомобиля  \\\n0                     9000.0  40.515280                   False   \n1                      466.0  40.520756                    True   \n2                      446.0  40.519231                    True   \n3                      248.0  40.518417                    True   \n4                     1400.0  40.529639                    True   \n..                       ...        ...                     ...   \n102                    126.0  41.733645                    True   \n103                   4073.0  41.732359                    True   \n104                     37.0  41.733516                    True   \n105                     38.0  41.739181                    True   \n106                    150.0  42.902558                    True   \n\n     Доступность автобуса  Доступность внедорожника  \\\n0                   False                     False   \n1                    True                     False   \n2                    True                     False   \n3                    True                     False   \n4                    True                     False   \n..                    ...                       ...   \n102                  True                     False   \n103                  True                     False   \n104                  True                     False   \n105                  True                     False   \n106                  True                     False   \n\n     Доступность водныого транспорта  Доступность самолета     Широта  Театр  \\\n0                              False                 False  64.536504   True   \n1                              False                 False  64.559452  False   \n2                              False                 False  64.549876   True   \n3                              False                 False  64.539888  False   \n4                              False                 False  64.531850   True   \n..                               ...                   ...        ...    ...   \n102                            False                 False  64.230200  False   \n103                            False                 False  64.229380  False   \n104                            False                 False  64.230262  False   \n105                            False                 False  64.231620  False   \n106                            False                 False  62.103525  False   \n\n     ...  Детский туризм  Городские достопримечательности  \\\n0    ...           False                            False   \n1    ...           False                            False   \n2    ...           False                            False   \n3    ...           False                            False   \n4    ...           False                            False   \n..   ...             ...                              ...   \n102  ...           False                            False   \n103  ...           False                            False   \n104  ...           False                            False   \n105  ...           False                            False   \n106  ...           False                            False   \n\n     Достопримечательность  Культурный центр  Судостроение  Нац. парк  \\\n0                    False             False         False      False   \n1                    False             False         False      False   \n2                    False             False         False      False   \n3                    False             False         False      False   \n4                    False             False         False      False   \n..                     ...               ...           ...        ...   \n102                   True             False         False      False   \n103                   True             False         False      False   \n104                  False             False         False      False   \n105                   True             False         False      False   \n106                   True             False         False      False   \n\n     Санаторий  Обзорная площадка  Горнолыжный курорт  \\\n0        False              False               False   \n1        False              False               False   \n2        False              False               False   \n3        False              False               False   \n4        False              False               False   \n..         ...                ...                 ...   \n102      False              False               False   \n103      False              False               False   \n104      False              False               False   \n105      False              False               False   \n106      False              False               False   \n\n     Коэффициент кол-ва запросов в месяц окружающих объектов  \n0                                            17456.652        \n1                                            13011.068        \n2                                            15253.760        \n3                                            16937.497        \n4                                            16585.763        \n..                                                 ...        \n102                                           4227.982        \n103                                           4270.649        \n104                                           4227.893        \n105                                           4101.954        \n106                                            150.000        \n\n[107 rows x 22 columns]",
      "text/html": "<div>\n<style scoped>\n    .dataframe tbody tr th:only-of-type {\n        vertical-align: middle;\n    }\n\n    .dataframe tbody tr th {\n        vertical-align: top;\n    }\n\n    .dataframe thead th {\n        text-align: right;\n    }\n</style>\n<table border=\"1\" class=\"dataframe\">\n  <thead>\n    <tr style=\"text-align: right;\">\n      <th></th>\n      <th>Название точки привлечения туристов</th>\n      <th>Кол-во запросов в месяц</th>\n      <th>Долгота</th>\n      <th>Доступность автомобиля</th>\n      <th>Доступность автобуса</th>\n      <th>Доступность внедорожника</th>\n      <th>Доступность водныого транспорта</th>\n      <th>Доступность самолета</th>\n      <th>Широта</th>\n      <th>Театр</th>\n      <th>...</th>\n      <th>Детский туризм</th>\n      <th>Городские достопримечательности</th>\n      <th>Достопримечательность</th>\n      <th>Культурный центр</th>\n      <th>Судостроение</th>\n      <th>Нац. парк</th>\n      <th>Санаторий</th>\n      <th>Обзорная площадка</th>\n      <th>Горнолыжный курорт</th>\n      <th>Коэффициент кол-ва запросов в месяц окружающих объектов</th>\n    </tr>\n  </thead>\n  <tbody>\n    <tr>\n      <th>0</th>\n      <td>Архангельский театр драмы имени М.В. Ломоносова</td>\n      <td>9000.0</td>\n      <td>40.515280</td>\n      <td>False</td>\n      <td>False</td>\n      <td>False</td>\n      <td>False</td>\n      <td>False</td>\n      <td>64.536504</td>\n      <td>True</td>\n      <td>...</td>\n      <td>False</td>\n      <td>False</td>\n      <td>False</td>\n      <td>False</td>\n      <td>False</td>\n      <td>False</td>\n      <td>False</td>\n      <td>False</td>\n      <td>False</td>\n      <td>17456.652</td>\n    </tr>\n    <tr>\n      <th>1</th>\n      <td>\"Беломорские узоры\" (Народные художественные п...</td>\n      <td>466.0</td>\n      <td>40.520756</td>\n      <td>True</td>\n      <td>True</td>\n      <td>False</td>\n      <td>False</td>\n      <td>False</td>\n      <td>64.559452</td>\n      <td>False</td>\n      <td>...</td>\n      <td>False</td>\n      <td>False</td>\n      <td>False</td>\n      <td>False</td>\n      <td>False</td>\n      <td>False</td>\n      <td>False</td>\n      <td>False</td>\n      <td>False</td>\n      <td>13011.068</td>\n    </tr>\n    <tr>\n      <th>2</th>\n      <td>Архангельский молодежный театр</td>\n      <td>446.0</td>\n      <td>40.519231</td>\n      <td>True</td>\n      <td>True</td>\n      <td>False</td>\n      <td>False</td>\n      <td>False</td>\n      <td>64.549876</td>\n      <td>True</td>\n      <td>...</td>\n      <td>False</td>\n      <td>False</td>\n      <td>False</td>\n      <td>False</td>\n      <td>False</td>\n      <td>False</td>\n      <td>False</td>\n      <td>False</td>\n      <td>False</td>\n      <td>15253.760</td>\n    </tr>\n    <tr>\n      <th>3</th>\n      <td>Архангельский музей изобразительных искусств</td>\n      <td>248.0</td>\n      <td>40.518417</td>\n      <td>True</td>\n      <td>True</td>\n      <td>False</td>\n      <td>False</td>\n      <td>False</td>\n      <td>64.539888</td>\n      <td>False</td>\n      <td>...</td>\n      <td>False</td>\n      <td>False</td>\n      <td>False</td>\n      <td>False</td>\n      <td>False</td>\n      <td>False</td>\n      <td>False</td>\n      <td>False</td>\n      <td>False</td>\n      <td>16937.497</td>\n    </tr>\n    <tr>\n      <th>4</th>\n      <td>Архангельский театр кукол</td>\n      <td>1400.0</td>\n      <td>40.529639</td>\n      <td>True</td>\n      <td>True</td>\n      <td>False</td>\n      <td>False</td>\n      <td>False</td>\n      <td>64.531850</td>\n      <td>True</td>\n      <td>...</td>\n      <td>False</td>\n      <td>False</td>\n      <td>False</td>\n      <td>False</td>\n      <td>False</td>\n      <td>False</td>\n      <td>False</td>\n      <td>False</td>\n      <td>False</td>\n      <td>16585.763</td>\n    </tr>\n    <tr>\n      <th>...</th>\n      <td>...</td>\n      <td>...</td>\n      <td>...</td>\n      <td>...</td>\n      <td>...</td>\n      <td>...</td>\n      <td>...</td>\n      <td>...</td>\n      <td>...</td>\n      <td>...</td>\n      <td>...</td>\n      <td>...</td>\n      <td>...</td>\n      <td>...</td>\n      <td>...</td>\n      <td>...</td>\n      <td>...</td>\n      <td>...</td>\n      <td>...</td>\n      <td>...</td>\n      <td>...</td>\n    </tr>\n    <tr>\n      <th>102</th>\n      <td>Историко-мемориальный музей М.В. Ломоносова</td>\n      <td>126.0</td>\n      <td>41.733645</td>\n      <td>True</td>\n      <td>True</td>\n      <td>False</td>\n      <td>False</td>\n      <td>False</td>\n      <td>64.230200</td>\n      <td>False</td>\n      <td>...</td>\n      <td>False</td>\n      <td>False</td>\n      <td>True</td>\n      <td>False</td>\n      <td>False</td>\n      <td>False</td>\n      <td>False</td>\n      <td>False</td>\n      <td>False</td>\n      <td>4227.982</td>\n    </tr>\n    <tr>\n      <th>103</th>\n      <td>Село Ломоносово</td>\n      <td>4073.0</td>\n      <td>41.732359</td>\n      <td>True</td>\n      <td>True</td>\n      <td>False</td>\n      <td>False</td>\n      <td>False</td>\n      <td>64.229380</td>\n      <td>False</td>\n      <td>...</td>\n      <td>False</td>\n      <td>False</td>\n      <td>True</td>\n      <td>False</td>\n      <td>False</td>\n      <td>False</td>\n      <td>False</td>\n      <td>False</td>\n      <td>False</td>\n      <td>4270.649</td>\n    </tr>\n    <tr>\n      <th>104</th>\n      <td>Фабрика Холмогорской резьбы по кости</td>\n      <td>37.0</td>\n      <td>41.733516</td>\n      <td>True</td>\n      <td>True</td>\n      <td>False</td>\n      <td>False</td>\n      <td>False</td>\n      <td>64.230262</td>\n      <td>False</td>\n      <td>...</td>\n      <td>False</td>\n      <td>False</td>\n      <td>False</td>\n      <td>False</td>\n      <td>False</td>\n      <td>False</td>\n      <td>False</td>\n      <td>False</td>\n      <td>False</td>\n      <td>4227.893</td>\n    </tr>\n    <tr>\n      <th>105</th>\n      <td>Церковь Димитрия Солунского, с. Ломоносово</td>\n      <td>38.0</td>\n      <td>41.739181</td>\n      <td>True</td>\n      <td>True</td>\n      <td>False</td>\n      <td>False</td>\n      <td>False</td>\n      <td>64.231620</td>\n      <td>False</td>\n      <td>...</td>\n      <td>False</td>\n      <td>False</td>\n      <td>True</td>\n      <td>False</td>\n      <td>False</td>\n      <td>False</td>\n      <td>False</td>\n      <td>False</td>\n      <td>False</td>\n      <td>4101.954</td>\n    </tr>\n    <tr>\n      <th>106</th>\n      <td>Шенкурский районный краеведческий музей</td>\n      <td>150.0</td>\n      <td>42.902558</td>\n      <td>True</td>\n      <td>True</td>\n      <td>False</td>\n      <td>False</td>\n      <td>False</td>\n      <td>62.103525</td>\n      <td>False</td>\n      <td>...</td>\n      <td>False</td>\n      <td>False</td>\n      <td>True</td>\n      <td>False</td>\n      <td>False</td>\n      <td>False</td>\n      <td>False</td>\n      <td>False</td>\n      <td>False</td>\n      <td>150.000</td>\n    </tr>\n  </tbody>\n</table>\n<p>107 rows × 22 columns</p>\n</div>"
     },
     "execution_count": 130,
     "metadata": {},
     "output_type": "execute_result"
    }
   ],
   "source": [
    "#костыль\n",
    "data = data.drop(columns=['Тип точки привлечения туристов'])\n",
    "data"
   ],
   "metadata": {
    "collapsed": false
   }
  },
  {
   "cell_type": "code",
   "execution_count": 131,
   "outputs": [
    {
     "data": {
      "text/plain": "684.2242990654206"
     },
     "execution_count": 131,
     "metadata": {},
     "output_type": "execute_result"
    }
   ],
   "source": [
    "data['Кол-во запросов в месяц'].mean()"
   ],
   "metadata": {
    "collapsed": false
   }
  },
  {
   "cell_type": "code",
   "execution_count": 132,
   "outputs": [
    {
     "data": {
      "text/plain": "                   Название точки привлечения туристов  \\\n0      Архангельский театр драмы имени М.В. Ломоносова   \n1    \"Беломорские узоры\" (Народные художественные п...   \n2                       Архангельский молодежный театр   \n3         Архангельский музей изобразительных искусств   \n4                            Архангельский театр кукол   \n..                                                 ...   \n102        Историко-мемориальный музей М.В. Ломоносова   \n103                                    Село Ломоносово   \n104               Фабрика Холмогорской резьбы по кости   \n105         Церковь Димитрия Солунского, с. Ломоносово   \n106            Шенкурский районный краеведческий музей   \n\n     Кол-во запросов в месяц    Долгота  Доступность автомобиля  \\\n0                     9000.0  40.515280                   False   \n1                      466.0  40.520756                    True   \n2                      446.0  40.519231                    True   \n3                      248.0  40.518417                    True   \n4                     1400.0  40.529639                    True   \n..                       ...        ...                     ...   \n102                    126.0  41.733645                    True   \n103                   4073.0  41.732359                    True   \n104                     37.0  41.733516                    True   \n105                     38.0  41.739181                    True   \n106                    150.0  42.902558                    True   \n\n     Доступность автобуса  Доступность внедорожника  \\\n0                   False                     False   \n1                    True                     False   \n2                    True                     False   \n3                    True                     False   \n4                    True                     False   \n..                    ...                       ...   \n102                  True                     False   \n103                  True                     False   \n104                  True                     False   \n105                  True                     False   \n106                  True                     False   \n\n     Доступность водныого транспорта  Доступность самолета     Широта  Театр  \\\n0                              False                 False  64.536504   True   \n1                              False                 False  64.559452  False   \n2                              False                 False  64.549876   True   \n3                              False                 False  64.539888  False   \n4                              False                 False  64.531850   True   \n..                               ...                   ...        ...    ...   \n102                            False                 False  64.230200  False   \n103                            False                 False  64.229380  False   \n104                            False                 False  64.230262  False   \n105                            False                 False  64.231620  False   \n106                            False                 False  62.103525  False   \n\n     ...  Детский туризм  Городские достопримечательности  \\\n0    ...           False                            False   \n1    ...           False                            False   \n2    ...           False                            False   \n3    ...           False                            False   \n4    ...           False                            False   \n..   ...             ...                              ...   \n102  ...           False                            False   \n103  ...           False                            False   \n104  ...           False                            False   \n105  ...           False                            False   \n106  ...           False                            False   \n\n     Достопримечательность  Культурный центр  Судостроение  Нац. парк  \\\n0                    False             False         False      False   \n1                    False             False         False      False   \n2                    False             False         False      False   \n3                    False             False         False      False   \n4                    False             False         False      False   \n..                     ...               ...           ...        ...   \n102                   True             False         False      False   \n103                   True             False         False      False   \n104                  False             False         False      False   \n105                   True             False         False      False   \n106                   True             False         False      False   \n\n     Санаторий  Обзорная площадка  Горнолыжный курорт  \\\n0        False              False               False   \n1        False              False               False   \n2        False              False               False   \n3        False              False               False   \n4        False              False               False   \n..         ...                ...                 ...   \n102      False              False               False   \n103      False              False               False   \n104      False              False               False   \n105      False              False               False   \n106      False              False               False   \n\n     Коэффициент кол-ва запросов в месяц окружающих объектов  \n0                                            17456.652        \n1                                            13011.068        \n2                                            15253.760        \n3                                            16937.497        \n4                                            16585.763        \n..                                                 ...        \n102                                           4227.982        \n103                                           4270.649        \n104                                           4227.893        \n105                                           4101.954        \n106                                            150.000        \n\n[107 rows x 22 columns]",
      "text/html": "<div>\n<style scoped>\n    .dataframe tbody tr th:only-of-type {\n        vertical-align: middle;\n    }\n\n    .dataframe tbody tr th {\n        vertical-align: top;\n    }\n\n    .dataframe thead th {\n        text-align: right;\n    }\n</style>\n<table border=\"1\" class=\"dataframe\">\n  <thead>\n    <tr style=\"text-align: right;\">\n      <th></th>\n      <th>Название точки привлечения туристов</th>\n      <th>Кол-во запросов в месяц</th>\n      <th>Долгота</th>\n      <th>Доступность автомобиля</th>\n      <th>Доступность автобуса</th>\n      <th>Доступность внедорожника</th>\n      <th>Доступность водныого транспорта</th>\n      <th>Доступность самолета</th>\n      <th>Широта</th>\n      <th>Театр</th>\n      <th>...</th>\n      <th>Детский туризм</th>\n      <th>Городские достопримечательности</th>\n      <th>Достопримечательность</th>\n      <th>Культурный центр</th>\n      <th>Судостроение</th>\n      <th>Нац. парк</th>\n      <th>Санаторий</th>\n      <th>Обзорная площадка</th>\n      <th>Горнолыжный курорт</th>\n      <th>Коэффициент кол-ва запросов в месяц окружающих объектов</th>\n    </tr>\n  </thead>\n  <tbody>\n    <tr>\n      <th>0</th>\n      <td>Архангельский театр драмы имени М.В. Ломоносова</td>\n      <td>9000.0</td>\n      <td>40.515280</td>\n      <td>False</td>\n      <td>False</td>\n      <td>False</td>\n      <td>False</td>\n      <td>False</td>\n      <td>64.536504</td>\n      <td>True</td>\n      <td>...</td>\n      <td>False</td>\n      <td>False</td>\n      <td>False</td>\n      <td>False</td>\n      <td>False</td>\n      <td>False</td>\n      <td>False</td>\n      <td>False</td>\n      <td>False</td>\n      <td>17456.652</td>\n    </tr>\n    <tr>\n      <th>1</th>\n      <td>\"Беломорские узоры\" (Народные художественные п...</td>\n      <td>466.0</td>\n      <td>40.520756</td>\n      <td>True</td>\n      <td>True</td>\n      <td>False</td>\n      <td>False</td>\n      <td>False</td>\n      <td>64.559452</td>\n      <td>False</td>\n      <td>...</td>\n      <td>False</td>\n      <td>False</td>\n      <td>False</td>\n      <td>False</td>\n      <td>False</td>\n      <td>False</td>\n      <td>False</td>\n      <td>False</td>\n      <td>False</td>\n      <td>13011.068</td>\n    </tr>\n    <tr>\n      <th>2</th>\n      <td>Архангельский молодежный театр</td>\n      <td>446.0</td>\n      <td>40.519231</td>\n      <td>True</td>\n      <td>True</td>\n      <td>False</td>\n      <td>False</td>\n      <td>False</td>\n      <td>64.549876</td>\n      <td>True</td>\n      <td>...</td>\n      <td>False</td>\n      <td>False</td>\n      <td>False</td>\n      <td>False</td>\n      <td>False</td>\n      <td>False</td>\n      <td>False</td>\n      <td>False</td>\n      <td>False</td>\n      <td>15253.760</td>\n    </tr>\n    <tr>\n      <th>3</th>\n      <td>Архангельский музей изобразительных искусств</td>\n      <td>248.0</td>\n      <td>40.518417</td>\n      <td>True</td>\n      <td>True</td>\n      <td>False</td>\n      <td>False</td>\n      <td>False</td>\n      <td>64.539888</td>\n      <td>False</td>\n      <td>...</td>\n      <td>False</td>\n      <td>False</td>\n      <td>False</td>\n      <td>False</td>\n      <td>False</td>\n      <td>False</td>\n      <td>False</td>\n      <td>False</td>\n      <td>False</td>\n      <td>16937.497</td>\n    </tr>\n    <tr>\n      <th>4</th>\n      <td>Архангельский театр кукол</td>\n      <td>1400.0</td>\n      <td>40.529639</td>\n      <td>True</td>\n      <td>True</td>\n      <td>False</td>\n      <td>False</td>\n      <td>False</td>\n      <td>64.531850</td>\n      <td>True</td>\n      <td>...</td>\n      <td>False</td>\n      <td>False</td>\n      <td>False</td>\n      <td>False</td>\n      <td>False</td>\n      <td>False</td>\n      <td>False</td>\n      <td>False</td>\n      <td>False</td>\n      <td>16585.763</td>\n    </tr>\n    <tr>\n      <th>...</th>\n      <td>...</td>\n      <td>...</td>\n      <td>...</td>\n      <td>...</td>\n      <td>...</td>\n      <td>...</td>\n      <td>...</td>\n      <td>...</td>\n      <td>...</td>\n      <td>...</td>\n      <td>...</td>\n      <td>...</td>\n      <td>...</td>\n      <td>...</td>\n      <td>...</td>\n      <td>...</td>\n      <td>...</td>\n      <td>...</td>\n      <td>...</td>\n      <td>...</td>\n      <td>...</td>\n    </tr>\n    <tr>\n      <th>102</th>\n      <td>Историко-мемориальный музей М.В. Ломоносова</td>\n      <td>126.0</td>\n      <td>41.733645</td>\n      <td>True</td>\n      <td>True</td>\n      <td>False</td>\n      <td>False</td>\n      <td>False</td>\n      <td>64.230200</td>\n      <td>False</td>\n      <td>...</td>\n      <td>False</td>\n      <td>False</td>\n      <td>True</td>\n      <td>False</td>\n      <td>False</td>\n      <td>False</td>\n      <td>False</td>\n      <td>False</td>\n      <td>False</td>\n      <td>4227.982</td>\n    </tr>\n    <tr>\n      <th>103</th>\n      <td>Село Ломоносово</td>\n      <td>4073.0</td>\n      <td>41.732359</td>\n      <td>True</td>\n      <td>True</td>\n      <td>False</td>\n      <td>False</td>\n      <td>False</td>\n      <td>64.229380</td>\n      <td>False</td>\n      <td>...</td>\n      <td>False</td>\n      <td>False</td>\n      <td>True</td>\n      <td>False</td>\n      <td>False</td>\n      <td>False</td>\n      <td>False</td>\n      <td>False</td>\n      <td>False</td>\n      <td>4270.649</td>\n    </tr>\n    <tr>\n      <th>104</th>\n      <td>Фабрика Холмогорской резьбы по кости</td>\n      <td>37.0</td>\n      <td>41.733516</td>\n      <td>True</td>\n      <td>True</td>\n      <td>False</td>\n      <td>False</td>\n      <td>False</td>\n      <td>64.230262</td>\n      <td>False</td>\n      <td>...</td>\n      <td>False</td>\n      <td>False</td>\n      <td>False</td>\n      <td>False</td>\n      <td>False</td>\n      <td>False</td>\n      <td>False</td>\n      <td>False</td>\n      <td>False</td>\n      <td>4227.893</td>\n    </tr>\n    <tr>\n      <th>105</th>\n      <td>Церковь Димитрия Солунского, с. Ломоносово</td>\n      <td>38.0</td>\n      <td>41.739181</td>\n      <td>True</td>\n      <td>True</td>\n      <td>False</td>\n      <td>False</td>\n      <td>False</td>\n      <td>64.231620</td>\n      <td>False</td>\n      <td>...</td>\n      <td>False</td>\n      <td>False</td>\n      <td>True</td>\n      <td>False</td>\n      <td>False</td>\n      <td>False</td>\n      <td>False</td>\n      <td>False</td>\n      <td>False</td>\n      <td>4101.954</td>\n    </tr>\n    <tr>\n      <th>106</th>\n      <td>Шенкурский районный краеведческий музей</td>\n      <td>150.0</td>\n      <td>42.902558</td>\n      <td>True</td>\n      <td>True</td>\n      <td>False</td>\n      <td>False</td>\n      <td>False</td>\n      <td>62.103525</td>\n      <td>False</td>\n      <td>...</td>\n      <td>False</td>\n      <td>False</td>\n      <td>True</td>\n      <td>False</td>\n      <td>False</td>\n      <td>False</td>\n      <td>False</td>\n      <td>False</td>\n      <td>False</td>\n      <td>150.000</td>\n    </tr>\n  </tbody>\n</table>\n<p>107 rows × 22 columns</p>\n</div>"
     },
     "execution_count": 132,
     "metadata": {},
     "output_type": "execute_result"
    }
   ],
   "source": [
    "Y = data.iloc[:]['Кол-во запросов в месяц']\n",
    "X = data.drop(columns=['Название точки привлечения туристов', 'Кол-во запросов в месяц'])\n",
    "data"
   ],
   "metadata": {
    "collapsed": false
   }
  },
  {
   "cell_type": "code",
   "execution_count": 148,
   "outputs": [
    {
     "data": {
      "text/plain": "Index(['Название точки привлечения туристов', 'Кол-во запросов в месяц',\n       'Долгота', 'Доступность автомобиля', 'Доступность автобуса',\n       'Доступность внедорожника', 'Доступность водныого транспорта',\n       'Доступность самолета', 'Широта', 'Театр', 'Этнический центр', 'Музей',\n       'Детский туризм', 'Городские достопримечательности',\n       'Достопримечательность', 'Культурный центр', 'Судостроение',\n       'Нац. парк', 'Санаторий', 'Обзорная площадка', 'Горнолыжный курорт',\n       'Коэффициент кол-ва запросов в месяц окружающих объектов'],\n      dtype='object')"
     },
     "execution_count": 148,
     "metadata": {},
     "output_type": "execute_result"
    }
   ],
   "source": [
    "data.columns"
   ],
   "metadata": {
    "collapsed": false
   }
  },
  {
   "cell_type": "code",
   "execution_count": 134,
   "outputs": [],
   "source": [
    "train, xtest, ytrain, ytest = train_test_split(X, Y, test_size=0.15)"
   ],
   "metadata": {
    "collapsed": false
   }
  },
  {
   "cell_type": "code",
   "execution_count": 135,
   "outputs": [],
   "source": [
    "train['Кол-во запросов в месяц'] = ytrain\n",
    "xtest['Кол-во запросов в месяц'] = ytest"
   ],
   "metadata": {
    "collapsed": false
   }
  },
  {
   "cell_type": "code",
   "execution_count": 136,
   "outputs": [],
   "source": [
    "task = Task('reg')\n",
    "roles = {'target': TARGET_NAME}\n",
    "N_FOLDS = 5\n",
    "TIMEOUT = 60 * 300  # 30 minutes\n",
    "automl = TabularAutoML(\n",
    "    task=task,  # required\n",
    "    timeout=TIMEOUT,\n",
    "    cpu_limit=8,\n",
    "    reader_params={'n_jobs': 8, 'cv': N_FOLDS}\n",
    ")"
   ],
   "metadata": {
    "collapsed": false
   }
  },
  {
   "cell_type": "code",
   "execution_count": 137,
   "outputs": [
    {
     "name": "stdout",
     "output_type": "stream",
     "text": [
      "[00:50:25] Stdout logging level is INFO.\n",
      "[00:50:25] Task: reg\n",
      "\n",
      "[00:50:25] Start automl preset with listed constraints:\n",
      "[00:50:25] - time: 18000.00 seconds\n",
      "[00:50:25] - CPU: 8 cores\n",
      "[00:50:25] - memory: 16 GB\n",
      "\n",
      "[00:50:25] \u001B[1mTrain data shape: (90, 21)\u001B[0m\n",
      "\n",
      "[00:50:29] Layer \u001B[1m1\u001B[0m train process start. Time left 17995.30 secs\n",
      "[00:50:29] Start fitting \u001B[1mLvl_0_Pipe_0_Mod_0_LinearL2\u001B[0m ...\n",
      "[00:50:30] Fitting \u001B[1mLvl_0_Pipe_0_Mod_0_LinearL2\u001B[0m finished. score = \u001B[1m-3833329.616877018\u001B[0m\n",
      "[00:50:30] \u001B[1mLvl_0_Pipe_0_Mod_0_LinearL2\u001B[0m fitting and predicting completed\n",
      "[00:50:30] Time left 17994.61 secs\n",
      "\n",
      "[00:50:30] \u001B[1mSelector_LightGBM\u001B[0m fitting and predicting completed\n",
      "[00:50:30] Start fitting \u001B[1mLvl_0_Pipe_1_Mod_0_LightGBM\u001B[0m ...\n",
      "[00:50:30] Fitting \u001B[1mLvl_0_Pipe_1_Mod_0_LightGBM\u001B[0m finished. score = \u001B[1m-4317812.744381277\u001B[0m\n",
      "[00:50:30] \u001B[1mLvl_0_Pipe_1_Mod_0_LightGBM\u001B[0m fitting and predicting completed\n",
      "[00:50:30] Start hyperparameters optimization for \u001B[1mLvl_0_Pipe_1_Mod_1_Tuned_LightGBM\u001B[0m ... Time budget is 300.00 secs\n",
      "[00:50:34] Hyperparameters optimization for \u001B[1mLvl_0_Pipe_1_Mod_1_Tuned_LightGBM\u001B[0m completed\n",
      "[00:50:34] Start fitting \u001B[1mLvl_0_Pipe_1_Mod_1_Tuned_LightGBM\u001B[0m ...\n",
      "[00:50:34] Fitting \u001B[1mLvl_0_Pipe_1_Mod_1_Tuned_LightGBM\u001B[0m finished. score = \u001B[1m-4571486.360500479\u001B[0m\n",
      "[00:50:34] \u001B[1mLvl_0_Pipe_1_Mod_1_Tuned_LightGBM\u001B[0m fitting and predicting completed\n",
      "[00:50:34] Start fitting \u001B[1mLvl_0_Pipe_1_Mod_2_CatBoost\u001B[0m ...\n",
      "[00:50:34] Fitting \u001B[1mLvl_0_Pipe_1_Mod_2_CatBoost\u001B[0m finished. score = \u001B[1m-4566644.191683583\u001B[0m\n",
      "[00:50:34] \u001B[1mLvl_0_Pipe_1_Mod_2_CatBoost\u001B[0m fitting and predicting completed\n",
      "[00:50:34] Start hyperparameters optimization for \u001B[1mLvl_0_Pipe_1_Mod_3_Tuned_CatBoost\u001B[0m ... Time budget is 300.00 secs\n",
      "[00:50:37] Hyperparameters optimization for \u001B[1mLvl_0_Pipe_1_Mod_3_Tuned_CatBoost\u001B[0m completed\n",
      "[00:50:37] Start fitting \u001B[1mLvl_0_Pipe_1_Mod_3_Tuned_CatBoost\u001B[0m ...\n",
      "[00:50:37] Fitting \u001B[1mLvl_0_Pipe_1_Mod_3_Tuned_CatBoost\u001B[0m finished. score = \u001B[1m-4617834.779639599\u001B[0m\n",
      "[00:50:37] \u001B[1mLvl_0_Pipe_1_Mod_3_Tuned_CatBoost\u001B[0m fitting and predicting completed\n",
      "[00:50:37] Time left 17987.38 secs\n",
      "\n",
      "[00:50:37] \u001B[1mLayer 1 training completed.\u001B[0m\n",
      "\n",
      "[00:50:37] Blending: optimization starts with equal weights and score \u001B[1m-4236007.025082401\u001B[0m\n",
      "[00:50:37] Blending: iteration \u001B[1m0\u001B[0m: score = \u001B[1m-3831136.4125910965\u001B[0m, weights = \u001B[1m[0.9483859  0.         0.05161412 0.         0.        ]\u001B[0m\n",
      "[00:50:37] Blending: iteration \u001B[1m1\u001B[0m: score = \u001B[1m-3831136.4125910965\u001B[0m, weights = \u001B[1m[0.9483859  0.         0.05161412 0.         0.        ]\u001B[0m\n",
      "[00:50:37] Blending: no score update. Terminated\n",
      "\n",
      "[00:50:37] \u001B[1mAutoml preset training completed in 12.65 seconds\u001B[0m\n",
      "\n",
      "[00:50:37] Model description:\n",
      "Final prediction for new objects (level 0) = \n",
      "\t 0.94839 * (5 averaged models Lvl_0_Pipe_0_Mod_0_LinearL2) +\n",
      "\t 0.05161 * (5 averaged models Lvl_0_Pipe_1_Mod_1_Tuned_LightGBM) \n",
      "\n"
     ]
    }
   ],
   "source": [
    "tr_data=train\n",
    "te_data=xtest\n",
    "oof_preds = automl.fit_predict(tr_data, roles=roles, verbose=1)"
   ],
   "metadata": {
    "collapsed": false
   }
  },
  {
   "cell_type": "code",
   "execution_count": 138,
   "outputs": [
    {
     "name": "stdout",
     "output_type": "stream",
     "text": [
      "Final prediction for new objects (level 0) = \n",
      "\t 0.94839 * (5 averaged models Lvl_0_Pipe_0_Mod_0_LinearL2) +\n",
      "\t 0.05161 * (5 averaged models Lvl_0_Pipe_1_Mod_1_Tuned_LightGBM) \n"
     ]
    }
   ],
   "source": [
    "print(automl.create_model_str_desc())"
   ],
   "metadata": {
    "collapsed": false
   }
  },
  {
   "cell_type": "code",
   "execution_count": 139,
   "outputs": [
    {
     "name": "stdout",
     "output_type": "stream",
     "text": [
      "[00:50:37] Stdout logging level is INFO.\n",
      "[00:50:37] Task: reg\n",
      "\n",
      "[00:50:37] Start automl preset with listed constraints:\n",
      "[00:50:37] - time: 18000.00 seconds\n",
      "[00:50:37] - CPU: 8 cores\n",
      "[00:50:37] - memory: 16 GB\n",
      "\n",
      "[00:50:37] \u001B[1mTrain data shape: (90, 21)\u001B[0m\n",
      "\n",
      "[00:50:37] Layer \u001B[1m1\u001B[0m train process start. Time left 17999.91 secs\n",
      "[00:50:37] Start fitting \u001B[1mLvl_0_Pipe_0_Mod_0_LinearL2\u001B[0m ...\n",
      "[00:50:38] Fitting \u001B[1mLvl_0_Pipe_0_Mod_0_LinearL2\u001B[0m finished. score = \u001B[1m-3833329.616877018\u001B[0m\n",
      "[00:50:38] \u001B[1mLvl_0_Pipe_0_Mod_0_LinearL2\u001B[0m fitting and predicting completed\n",
      "[00:50:38] Time left 17999.23 secs\n",
      "\n",
      "[00:50:38] \u001B[1mSelector_LightGBM\u001B[0m fitting and predicting completed\n",
      "[00:50:38] Start fitting \u001B[1mLvl_0_Pipe_1_Mod_0_LightGBM\u001B[0m ...\n",
      "[00:50:38] Fitting \u001B[1mLvl_0_Pipe_1_Mod_0_LightGBM\u001B[0m finished. score = \u001B[1m-4317812.744381277\u001B[0m\n",
      "[00:50:38] \u001B[1mLvl_0_Pipe_1_Mod_0_LightGBM\u001B[0m fitting and predicting completed\n",
      "[00:50:38] Start hyperparameters optimization for \u001B[1mLvl_0_Pipe_1_Mod_1_Tuned_LightGBM\u001B[0m ... Time budget is 300.00 secs\n",
      "[00:50:42] Hyperparameters optimization for \u001B[1mLvl_0_Pipe_1_Mod_1_Tuned_LightGBM\u001B[0m completed\n",
      "[00:50:42] Start fitting \u001B[1mLvl_0_Pipe_1_Mod_1_Tuned_LightGBM\u001B[0m ...\n",
      "[00:50:42] Fitting \u001B[1mLvl_0_Pipe_1_Mod_1_Tuned_LightGBM\u001B[0m finished. score = \u001B[1m-4567036.898041544\u001B[0m\n",
      "[00:50:42] \u001B[1mLvl_0_Pipe_1_Mod_1_Tuned_LightGBM\u001B[0m fitting and predicting completed\n",
      "[00:50:42] Start fitting \u001B[1mLvl_0_Pipe_1_Mod_2_CatBoost\u001B[0m ...\n",
      "[00:50:42] Fitting \u001B[1mLvl_0_Pipe_1_Mod_2_CatBoost\u001B[0m finished. score = \u001B[1m-4566644.191683583\u001B[0m\n",
      "[00:50:42] \u001B[1mLvl_0_Pipe_1_Mod_2_CatBoost\u001B[0m fitting and predicting completed\n",
      "[00:50:42] Start hyperparameters optimization for \u001B[1mLvl_0_Pipe_1_Mod_3_Tuned_CatBoost\u001B[0m ... Time budget is 300.00 secs\n",
      "[00:50:46] Hyperparameters optimization for \u001B[1mLvl_0_Pipe_1_Mod_3_Tuned_CatBoost\u001B[0m completed\n",
      "[00:50:46] Start fitting \u001B[1mLvl_0_Pipe_1_Mod_3_Tuned_CatBoost\u001B[0m ...\n",
      "[00:50:46] Fitting \u001B[1mLvl_0_Pipe_1_Mod_3_Tuned_CatBoost\u001B[0m finished. score = \u001B[1m-4617834.779639599\u001B[0m\n",
      "[00:50:46] \u001B[1mLvl_0_Pipe_1_Mod_3_Tuned_CatBoost\u001B[0m fitting and predicting completed\n",
      "[00:50:46] Time left 17991.67 secs\n",
      "\n",
      "[00:50:46] \u001B[1mLayer 1 training completed.\u001B[0m\n",
      "\n",
      "[00:50:46] Blending: optimization starts with equal weights and score \u001B[1m-4235134.877256335\u001B[0m\n",
      "[00:50:46] Blending: iteration \u001B[1m0\u001B[0m: score = \u001B[1m-3831038.2033210574\u001B[0m, weights = \u001B[1m[0.94715244 0.         0.05284762 0.         0.        ]\u001B[0m\n",
      "[00:50:46] Blending: iteration \u001B[1m1\u001B[0m: score = \u001B[1m-3831038.2033210574\u001B[0m, weights = \u001B[1m[0.94715244 0.         0.05284762 0.         0.        ]\u001B[0m\n",
      "[00:50:46] Blending: no score update. Terminated\n",
      "\n",
      "[00:50:46] \u001B[1mAutoml preset training completed in 8.36 seconds\u001B[0m\n",
      "\n",
      "[00:50:46] Model description:\n",
      "Final prediction for new objects (level 0) = \n",
      "\t 0.94715 * (5 averaged models Lvl_0_Pipe_0_Mod_0_LinearL2) +\n",
      "\t 0.05285 * (5 averaged models Lvl_0_Pipe_1_Mod_1_Tuned_LightGBM) \n",
      "\n"
     ]
    },
    {
     "data": {
      "text/plain": "array([[ 113.748405],\n       [ 478.43637 ],\n       [  60.4146  ],\n       [ 903.47076 ],\n       [ 248.48335 ],\n       [ 628.14655 ],\n       [ 684.5095  ],\n       [1306.1827  ],\n       [ 551.3865  ],\n       [ 137.95117 ],\n       [ 212.37051 ],\n       [  41.812428],\n       [ 393.28732 ],\n       [ 288.11456 ],\n       [ 512.6233  ],\n       [2881.819   ],\n       [ 715.9315  ]], dtype=float32)"
     },
     "execution_count": 139,
     "metadata": {},
     "output_type": "execute_result"
    }
   ],
   "source": [
    "out_of_fold_predictions = automl.fit_predict(tr_data, roles = roles, verbose = 1)\n",
    "test_predictions = automl.predict(te_data)\n",
    "test_predictions"
   ],
   "metadata": {
    "collapsed": false
   }
  },
  {
   "cell_type": "code",
   "execution_count": 140,
   "outputs": [
    {
     "name": "stdout",
     "output_type": "stream",
     "text": [
      "OOF score: 837.3232215457492\n",
      "HOLDOUT score: 838.2249594295727\n"
     ]
    }
   ],
   "source": [
    "from sklearn.metrics import mean_absolute_error\n",
    "print(f'OOF score: {mean_absolute_error(tr_data[roles[\"target\"]].values, out_of_fold_predictions.data[:, 0])}')\n",
    "print(f'HOLDOUT score: {mean_absolute_error(te_data[roles[\"target\"]].values, test_predictions.data[:, 0])}')"
   ],
   "metadata": {
    "collapsed": false
   }
  },
  {
   "cell_type": "code",
   "execution_count": 144,
   "outputs": [
    {
     "data": {
      "text/plain": "array([ 113.748405,  478.43637 ,   60.4146  ,  903.47076 ,  248.48335 ,\n        628.14655 ,  684.5095  , 1306.1827  ,  551.3865  ,  137.95117 ,\n        212.37051 ,   41.812428,  393.28732 ,  288.11456 ,  512.6233  ,\n       2881.819   ,  715.9315  ], dtype=float32)"
     },
     "execution_count": 144,
     "metadata": {},
     "output_type": "execute_result"
    }
   ],
   "source": [
    "test_predictions.data[:, 0]"
   ],
   "metadata": {
    "collapsed": false
   }
  },
  {
   "cell_type": "code",
   "execution_count": 145,
   "outputs": [
    {
     "data": {
      "text/plain": "array([2.160e+02, 3.700e+01, 1.000e+00, 2.300e+01, 8.500e+01, 3.050e+02,\n       1.180e+02, 9.000e+03, 1.079e+03, 1.000e+00, 2.300e+01, 1.000e+00,\n       6.700e+01, 1.500e+03, 2.400e+01, 2.462e+03, 3.800e+01])"
     },
     "execution_count": 145,
     "metadata": {},
     "output_type": "execute_result"
    }
   ],
   "source": [
    "te_data[roles[\"target\"]].values"
   ],
   "metadata": {
    "collapsed": false
   }
  },
  {
   "cell_type": "code",
   "execution_count": 141,
   "outputs": [
    {
     "data": {
      "text/plain": "['regression_model.joblib']"
     },
     "execution_count": 141,
     "metadata": {},
     "output_type": "execute_result"
    }
   ],
   "source": [
    "joblib.dump(automl, 'regression_model.joblib')"
   ],
   "metadata": {
    "collapsed": false
   }
  },
  {
   "cell_type": "code",
   "execution_count": 142,
   "outputs": [],
   "source": [
    "reg = joblib.load('regression_model.joblib')"
   ],
   "metadata": {
    "collapsed": false
   }
  },
  {
   "cell_type": "code",
   "execution_count": 143,
   "outputs": [
    {
     "data": {
      "text/plain": "array([[ 113.748405],\n       [ 478.43637 ],\n       [  60.4146  ],\n       [ 903.47076 ],\n       [ 248.48335 ],\n       [ 628.14655 ],\n       [ 684.5095  ],\n       [1306.1827  ],\n       [ 551.3865  ],\n       [ 137.95117 ],\n       [ 212.37051 ],\n       [  41.812428],\n       [ 393.28732 ],\n       [ 288.11456 ],\n       [ 512.6233  ],\n       [2881.819   ],\n       [ 715.9315  ]], dtype=float32)"
     },
     "execution_count": 143,
     "metadata": {},
     "output_type": "execute_result"
    }
   ],
   "source": [
    "predictions = reg.predict(te_data)\n",
    "predictions"
   ],
   "metadata": {
    "collapsed": false
   }
  },
  {
   "cell_type": "code",
   "execution_count": 143,
   "outputs": [],
   "source": [],
   "metadata": {
    "collapsed": false
   }
  }
 ],
 "metadata": {
  "kernelspec": {
   "display_name": "Python 3",
   "language": "python",
   "name": "python3"
  },
  "language_info": {
   "codemirror_mode": {
    "name": "ipython",
    "version": 2
   },
   "file_extension": ".py",
   "mimetype": "text/x-python",
   "name": "python",
   "nbconvert_exporter": "python",
   "pygments_lexer": "ipython2",
   "version": "2.7.6"
  }
 },
 "nbformat": 4,
 "nbformat_minor": 0
}
