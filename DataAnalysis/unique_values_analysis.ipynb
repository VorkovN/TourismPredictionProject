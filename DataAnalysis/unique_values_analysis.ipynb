{
 "cells": [
  {
   "cell_type": "markdown",
   "source": [
    "Анализ данных из экселя:"
   ],
   "metadata": {
    "collapsed": false
   }
  },
  {
   "cell_type": "code",
   "execution_count": 1,
   "outputs": [
    {
     "name": "stdout",
     "output_type": "stream",
     "text": [
      "Requirement already satisfied: anyio==3.7.0 in /home/vorkov/Workspace/TourismPredictionProject/venv/lib/python3.8/site-packages (from -r ../requirements.txt (line 1)) (3.7.0)\r\n",
      "Requirement already satisfied: argon2-cffi==21.3.0 in /home/vorkov/Workspace/TourismPredictionProject/venv/lib/python3.8/site-packages (from -r ../requirements.txt (line 2)) (21.3.0)\r\n",
      "Requirement already satisfied: argon2-cffi-bindings==21.2.0 in /home/vorkov/Workspace/TourismPredictionProject/venv/lib/python3.8/site-packages (from -r ../requirements.txt (line 3)) (21.2.0)\r\n",
      "Requirement already satisfied: arrow==1.2.3 in /home/vorkov/Workspace/TourismPredictionProject/venv/lib/python3.8/site-packages (from -r ../requirements.txt (line 4)) (1.2.3)\r\n",
      "Requirement already satisfied: asttokens==2.2.1 in /home/vorkov/Workspace/TourismPredictionProject/venv/lib/python3.8/site-packages (from -r ../requirements.txt (line 5)) (2.2.1)\r\n",
      "Requirement already satisfied: attrs==23.1.0 in /home/vorkov/Workspace/TourismPredictionProject/venv/lib/python3.8/site-packages (from -r ../requirements.txt (line 6)) (23.1.0)\r\n",
      "Requirement already satisfied: backcall==0.2.0 in /home/vorkov/Workspace/TourismPredictionProject/venv/lib/python3.8/site-packages (from -r ../requirements.txt (line 7)) (0.2.0)\r\n",
      "Requirement already satisfied: beautifulsoup4==4.12.2 in /home/vorkov/Workspace/TourismPredictionProject/venv/lib/python3.8/site-packages (from -r ../requirements.txt (line 8)) (4.12.2)\r\n",
      "Requirement already satisfied: bleach==6.0.0 in /home/vorkov/Workspace/TourismPredictionProject/venv/lib/python3.8/site-packages (from -r ../requirements.txt (line 9)) (6.0.0)\r\n",
      "Requirement already satisfied: certifi==2023.5.7 in /home/vorkov/Workspace/TourismPredictionProject/venv/lib/python3.8/site-packages (from -r ../requirements.txt (line 10)) (2023.5.7)\r\n",
      "Requirement already satisfied: cffi==1.15.1 in /home/vorkov/Workspace/TourismPredictionProject/venv/lib/python3.8/site-packages (from -r ../requirements.txt (line 11)) (1.15.1)\r\n",
      "Requirement already satisfied: charset-normalizer==3.1.0 in /home/vorkov/Workspace/TourismPredictionProject/venv/lib/python3.8/site-packages (from -r ../requirements.txt (line 12)) (3.1.0)\r\n",
      "Requirement already satisfied: click==8.1.3 in /home/vorkov/Workspace/TourismPredictionProject/venv/lib/python3.8/site-packages (from -r ../requirements.txt (line 13)) (8.1.3)\r\n",
      "Requirement already satisfied: click-plugins==1.1.1 in /home/vorkov/Workspace/TourismPredictionProject/venv/lib/python3.8/site-packages (from -r ../requirements.txt (line 14)) (1.1.1)\r\n",
      "Requirement already satisfied: cligj==0.7.2 in /home/vorkov/Workspace/TourismPredictionProject/venv/lib/python3.8/site-packages (from -r ../requirements.txt (line 15)) (0.7.2)\r\n",
      "Requirement already satisfied: comm==0.1.3 in /home/vorkov/Workspace/TourismPredictionProject/venv/lib/python3.8/site-packages (from -r ../requirements.txt (line 16)) (0.1.3)\r\n",
      "Requirement already satisfied: debugpy==1.6.7 in /home/vorkov/Workspace/TourismPredictionProject/venv/lib/python3.8/site-packages (from -r ../requirements.txt (line 17)) (1.6.7)\r\n",
      "Requirement already satisfied: decorator==5.1.1 in /home/vorkov/Workspace/TourismPredictionProject/venv/lib/python3.8/site-packages (from -r ../requirements.txt (line 18)) (5.1.1)\r\n",
      "Requirement already satisfied: defusedxml==0.7.1 in /home/vorkov/Workspace/TourismPredictionProject/venv/lib/python3.8/site-packages (from -r ../requirements.txt (line 19)) (0.7.1)\r\n",
      "Requirement already satisfied: et-xmlfile==1.1.0 in /home/vorkov/Workspace/TourismPredictionProject/venv/lib/python3.8/site-packages (from -r ../requirements.txt (line 20)) (1.1.0)\r\n",
      "Requirement already satisfied: exceptiongroup==1.1.1 in /home/vorkov/Workspace/TourismPredictionProject/venv/lib/python3.8/site-packages (from -r ../requirements.txt (line 21)) (1.1.1)\r\n",
      "Requirement already satisfied: executing==1.2.0 in /home/vorkov/Workspace/TourismPredictionProject/venv/lib/python3.8/site-packages (from -r ../requirements.txt (line 22)) (1.2.0)\r\n",
      "Requirement already satisfied: fastjsonschema==2.17.1 in /home/vorkov/Workspace/TourismPredictionProject/venv/lib/python3.8/site-packages (from -r ../requirements.txt (line 23)) (2.17.1)\r\n",
      "Requirement already satisfied: Fiona==1.9.4.post1 in /home/vorkov/Workspace/TourismPredictionProject/venv/lib/python3.8/site-packages (from -r ../requirements.txt (line 24)) (1.9.4.post1)\r\n",
      "Requirement already satisfied: fqdn==1.5.1 in /home/vorkov/Workspace/TourismPredictionProject/venv/lib/python3.8/site-packages (from -r ../requirements.txt (line 25)) (1.5.1)\r\n",
      "Requirement already satisfied: geodatasets==2023.3.0 in /home/vorkov/Workspace/TourismPredictionProject/venv/lib/python3.8/site-packages (from -r ../requirements.txt (line 26)) (2023.3.0)\r\n",
      "Requirement already satisfied: geopandas==0.13.2 in /home/vorkov/Workspace/TourismPredictionProject/venv/lib/python3.8/site-packages (from -r ../requirements.txt (line 27)) (0.13.2)\r\n",
      "Requirement already satisfied: idna==3.4 in /home/vorkov/Workspace/TourismPredictionProject/venv/lib/python3.8/site-packages (from -r ../requirements.txt (line 28)) (3.4)\r\n",
      "Requirement already satisfied: importlib-metadata==6.7.0 in /home/vorkov/Workspace/TourismPredictionProject/venv/lib/python3.8/site-packages (from -r ../requirements.txt (line 29)) (6.7.0)\r\n",
      "Requirement already satisfied: importlib-resources==5.12.0 in /home/vorkov/Workspace/TourismPredictionProject/venv/lib/python3.8/site-packages (from -r ../requirements.txt (line 30)) (5.12.0)\r\n",
      "Requirement already satisfied: install==1.3.5 in /home/vorkov/Workspace/TourismPredictionProject/venv/lib/python3.8/site-packages (from -r ../requirements.txt (line 31)) (1.3.5)\r\n",
      "Requirement already satisfied: ipykernel==6.23.3 in /home/vorkov/Workspace/TourismPredictionProject/venv/lib/python3.8/site-packages (from -r ../requirements.txt (line 32)) (6.23.3)\r\n",
      "Requirement already satisfied: ipython==8.12.2 in /home/vorkov/Workspace/TourismPredictionProject/venv/lib/python3.8/site-packages (from -r ../requirements.txt (line 33)) (8.12.2)\r\n",
      "Requirement already satisfied: ipython-genutils==0.2.0 in /home/vorkov/Workspace/TourismPredictionProject/venv/lib/python3.8/site-packages (from -r ../requirements.txt (line 34)) (0.2.0)\r\n",
      "Requirement already satisfied: ipywidgets==8.0.6 in /home/vorkov/Workspace/TourismPredictionProject/venv/lib/python3.8/site-packages (from -r ../requirements.txt (line 35)) (8.0.6)\r\n",
      "Requirement already satisfied: isoduration==20.11.0 in /home/vorkov/Workspace/TourismPredictionProject/venv/lib/python3.8/site-packages (from -r ../requirements.txt (line 36)) (20.11.0)\r\n",
      "Requirement already satisfied: jedi==0.18.2 in /home/vorkov/Workspace/TourismPredictionProject/venv/lib/python3.8/site-packages (from -r ../requirements.txt (line 37)) (0.18.2)\r\n",
      "Requirement already satisfied: Jinja2==3.1.2 in /home/vorkov/Workspace/TourismPredictionProject/venv/lib/python3.8/site-packages (from -r ../requirements.txt (line 38)) (3.1.2)\r\n",
      "Requirement already satisfied: jsonpointer==2.4 in /home/vorkov/Workspace/TourismPredictionProject/venv/lib/python3.8/site-packages (from -r ../requirements.txt (line 39)) (2.4)\r\n",
      "Requirement already satisfied: jsonschema==4.17.3 in /home/vorkov/Workspace/TourismPredictionProject/venv/lib/python3.8/site-packages (from -r ../requirements.txt (line 40)) (4.17.3)\r\n",
      "Requirement already satisfied: jupyter==1.0.0 in /home/vorkov/Workspace/TourismPredictionProject/venv/lib/python3.8/site-packages (from -r ../requirements.txt (line 41)) (1.0.0)\r\n",
      "Requirement already satisfied: jupyter-console==6.6.3 in /home/vorkov/Workspace/TourismPredictionProject/venv/lib/python3.8/site-packages (from -r ../requirements.txt (line 42)) (6.6.3)\r\n",
      "Requirement already satisfied: jupyter-events==0.6.3 in /home/vorkov/Workspace/TourismPredictionProject/venv/lib/python3.8/site-packages (from -r ../requirements.txt (line 43)) (0.6.3)\r\n",
      "Requirement already satisfied: jupyter_client==8.3.0 in /home/vorkov/Workspace/TourismPredictionProject/venv/lib/python3.8/site-packages (from -r ../requirements.txt (line 44)) (8.3.0)\r\n",
      "Requirement already satisfied: jupyter_core==5.3.1 in /home/vorkov/Workspace/TourismPredictionProject/venv/lib/python3.8/site-packages (from -r ../requirements.txt (line 45)) (5.3.1)\r\n",
      "Requirement already satisfied: jupyter_server==2.7.0 in /home/vorkov/Workspace/TourismPredictionProject/venv/lib/python3.8/site-packages (from -r ../requirements.txt (line 46)) (2.7.0)\r\n",
      "Requirement already satisfied: jupyter_server_terminals==0.4.4 in /home/vorkov/Workspace/TourismPredictionProject/venv/lib/python3.8/site-packages (from -r ../requirements.txt (line 47)) (0.4.4)\r\n",
      "Requirement already satisfied: jupyterlab-pygments==0.2.2 in /home/vorkov/Workspace/TourismPredictionProject/venv/lib/python3.8/site-packages (from -r ../requirements.txt (line 48)) (0.2.2)\r\n",
      "Requirement already satisfied: jupyterlab-widgets==3.0.7 in /home/vorkov/Workspace/TourismPredictionProject/venv/lib/python3.8/site-packages (from -r ../requirements.txt (line 49)) (3.0.7)\r\n",
      "Requirement already satisfied: MarkupSafe==2.1.3 in /home/vorkov/Workspace/TourismPredictionProject/venv/lib/python3.8/site-packages (from -r ../requirements.txt (line 50)) (2.1.3)\r\n",
      "Requirement already satisfied: matplotlib-inline==0.1.6 in /home/vorkov/Workspace/TourismPredictionProject/venv/lib/python3.8/site-packages (from -r ../requirements.txt (line 51)) (0.1.6)\r\n",
      "Requirement already satisfied: mistune==3.0.1 in /home/vorkov/Workspace/TourismPredictionProject/venv/lib/python3.8/site-packages (from -r ../requirements.txt (line 52)) (3.0.1)\r\n",
      "Requirement already satisfied: nbclassic==1.0.0 in /home/vorkov/Workspace/TourismPredictionProject/venv/lib/python3.8/site-packages (from -r ../requirements.txt (line 53)) (1.0.0)\r\n",
      "Requirement already satisfied: nbclient==0.8.0 in /home/vorkov/Workspace/TourismPredictionProject/venv/lib/python3.8/site-packages (from -r ../requirements.txt (line 54)) (0.8.0)\r\n",
      "Requirement already satisfied: nbconvert==7.6.0 in /home/vorkov/Workspace/TourismPredictionProject/venv/lib/python3.8/site-packages (from -r ../requirements.txt (line 55)) (7.6.0)\r\n",
      "Requirement already satisfied: nbformat==5.9.0 in /home/vorkov/Workspace/TourismPredictionProject/venv/lib/python3.8/site-packages (from -r ../requirements.txt (line 56)) (5.9.0)\r\n",
      "Requirement already satisfied: nest-asyncio==1.5.6 in /home/vorkov/Workspace/TourismPredictionProject/venv/lib/python3.8/site-packages (from -r ../requirements.txt (line 57)) (1.5.6)\r\n",
      "Requirement already satisfied: notebook==6.5.4 in /home/vorkov/Workspace/TourismPredictionProject/venv/lib/python3.8/site-packages (from -r ../requirements.txt (line 58)) (6.5.4)\r\n",
      "Requirement already satisfied: notebook_shim==0.2.3 in /home/vorkov/Workspace/TourismPredictionProject/venv/lib/python3.8/site-packages (from -r ../requirements.txt (line 59)) (0.2.3)\r\n",
      "Requirement already satisfied: numpy==1.24.4 in /home/vorkov/Workspace/TourismPredictionProject/venv/lib/python3.8/site-packages (from -r ../requirements.txt (line 60)) (1.24.4)\r\n",
      "Requirement already satisfied: openpyxl==3.1.2 in /home/vorkov/Workspace/TourismPredictionProject/venv/lib/python3.8/site-packages (from -r ../requirements.txt (line 61)) (3.1.2)\r\n",
      "Requirement already satisfied: overrides==7.3.1 in /home/vorkov/Workspace/TourismPredictionProject/venv/lib/python3.8/site-packages (from -r ../requirements.txt (line 62)) (7.3.1)\r\n",
      "Requirement already satisfied: packaging==23.1 in /home/vorkov/Workspace/TourismPredictionProject/venv/lib/python3.8/site-packages (from -r ../requirements.txt (line 63)) (23.1)\r\n",
      "Requirement already satisfied: pandas==2.0.2 in /home/vorkov/Workspace/TourismPredictionProject/venv/lib/python3.8/site-packages (from -r ../requirements.txt (line 64)) (2.0.2)\r\n",
      "Requirement already satisfied: pandas-geojson==1.2.0 in /home/vorkov/Workspace/TourismPredictionProject/venv/lib/python3.8/site-packages (from -r ../requirements.txt (line 65)) (1.2.0)\r\n",
      "Requirement already satisfied: pandocfilters==1.5.0 in /home/vorkov/Workspace/TourismPredictionProject/venv/lib/python3.8/site-packages (from -r ../requirements.txt (line 66)) (1.5.0)\r\n",
      "Requirement already satisfied: parso==0.8.3 in /home/vorkov/Workspace/TourismPredictionProject/venv/lib/python3.8/site-packages (from -r ../requirements.txt (line 67)) (0.8.3)\r\n",
      "Requirement already satisfied: pexpect==4.8.0 in /home/vorkov/Workspace/TourismPredictionProject/venv/lib/python3.8/site-packages (from -r ../requirements.txt (line 68)) (4.8.0)\r\n",
      "Requirement already satisfied: pickleshare==0.7.5 in /home/vorkov/Workspace/TourismPredictionProject/venv/lib/python3.8/site-packages (from -r ../requirements.txt (line 69)) (0.7.5)\r\n",
      "Requirement already satisfied: pkgutil_resolve_name==1.3.10 in /home/vorkov/Workspace/TourismPredictionProject/venv/lib/python3.8/site-packages (from -r ../requirements.txt (line 70)) (1.3.10)\r\n",
      "Requirement already satisfied: platformdirs==3.8.0 in /home/vorkov/Workspace/TourismPredictionProject/venv/lib/python3.8/site-packages (from -r ../requirements.txt (line 71)) (3.8.0)\r\n",
      "Requirement already satisfied: pooch==1.7.0 in /home/vorkov/Workspace/TourismPredictionProject/venv/lib/python3.8/site-packages (from -r ../requirements.txt (line 72)) (1.7.0)\r\n",
      "Requirement already satisfied: prometheus-client==0.17.0 in /home/vorkov/Workspace/TourismPredictionProject/venv/lib/python3.8/site-packages (from -r ../requirements.txt (line 73)) (0.17.0)\r\n",
      "Requirement already satisfied: prompt-toolkit==3.0.38 in /home/vorkov/Workspace/TourismPredictionProject/venv/lib/python3.8/site-packages (from -r ../requirements.txt (line 74)) (3.0.38)\r\n",
      "Requirement already satisfied: psutil==5.9.5 in /home/vorkov/Workspace/TourismPredictionProject/venv/lib/python3.8/site-packages (from -r ../requirements.txt (line 75)) (5.9.5)\r\n",
      "Requirement already satisfied: ptyprocess==0.7.0 in /home/vorkov/Workspace/TourismPredictionProject/venv/lib/python3.8/site-packages (from -r ../requirements.txt (line 76)) (0.7.0)\r\n",
      "Requirement already satisfied: pure-eval==0.2.2 in /home/vorkov/Workspace/TourismPredictionProject/venv/lib/python3.8/site-packages (from -r ../requirements.txt (line 77)) (0.2.2)\r\n",
      "Requirement already satisfied: pycparser==2.21 in /home/vorkov/Workspace/TourismPredictionProject/venv/lib/python3.8/site-packages (from -r ../requirements.txt (line 78)) (2.21)\r\n",
      "Requirement already satisfied: Pygments==2.15.1 in /home/vorkov/Workspace/TourismPredictionProject/venv/lib/python3.8/site-packages (from -r ../requirements.txt (line 79)) (2.15.1)\r\n",
      "Requirement already satisfied: pyproj==3.5.0 in /home/vorkov/Workspace/TourismPredictionProject/venv/lib/python3.8/site-packages (from -r ../requirements.txt (line 80)) (3.5.0)\r\n",
      "Requirement already satisfied: pyrsistent==0.19.3 in /home/vorkov/Workspace/TourismPredictionProject/venv/lib/python3.8/site-packages (from -r ../requirements.txt (line 81)) (0.19.3)\r\n",
      "Requirement already satisfied: python-dateutil==2.8.2 in /home/vorkov/Workspace/TourismPredictionProject/venv/lib/python3.8/site-packages (from -r ../requirements.txt (line 82)) (2.8.2)\r\n",
      "Requirement already satisfied: python-json-logger==2.0.7 in /home/vorkov/Workspace/TourismPredictionProject/venv/lib/python3.8/site-packages (from -r ../requirements.txt (line 83)) (2.0.7)\r\n",
      "Requirement already satisfied: pytz==2023.3 in /home/vorkov/Workspace/TourismPredictionProject/venv/lib/python3.8/site-packages (from -r ../requirements.txt (line 84)) (2023.3)\r\n",
      "Requirement already satisfied: PyYAML==6.0 in /home/vorkov/Workspace/TourismPredictionProject/venv/lib/python3.8/site-packages (from -r ../requirements.txt (line 85)) (6.0)\r\n",
      "Requirement already satisfied: pyzmq==25.1.0 in /home/vorkov/Workspace/TourismPredictionProject/venv/lib/python3.8/site-packages (from -r ../requirements.txt (line 86)) (25.1.0)\r\n",
      "Requirement already satisfied: qtconsole==5.4.3 in /home/vorkov/Workspace/TourismPredictionProject/venv/lib/python3.8/site-packages (from -r ../requirements.txt (line 87)) (5.4.3)\r\n",
      "Requirement already satisfied: QtPy==2.3.1 in /home/vorkov/Workspace/TourismPredictionProject/venv/lib/python3.8/site-packages (from -r ../requirements.txt (line 88)) (2.3.1)\r\n",
      "Requirement already satisfied: requests==2.31.0 in /home/vorkov/Workspace/TourismPredictionProject/venv/lib/python3.8/site-packages (from -r ../requirements.txt (line 89)) (2.31.0)\r\n",
      "Requirement already satisfied: rfc3339-validator==0.1.4 in /home/vorkov/Workspace/TourismPredictionProject/venv/lib/python3.8/site-packages (from -r ../requirements.txt (line 90)) (0.1.4)\r\n",
      "Requirement already satisfied: rfc3986-validator==0.1.1 in /home/vorkov/Workspace/TourismPredictionProject/venv/lib/python3.8/site-packages (from -r ../requirements.txt (line 91)) (0.1.1)\r\n",
      "Requirement already satisfied: Send2Trash==1.8.2 in /home/vorkov/Workspace/TourismPredictionProject/venv/lib/python3.8/site-packages (from -r ../requirements.txt (line 92)) (1.8.2)\r\n",
      "Requirement already satisfied: shapely==2.0.1 in /home/vorkov/Workspace/TourismPredictionProject/venv/lib/python3.8/site-packages (from -r ../requirements.txt (line 93)) (2.0.1)\r\n",
      "Requirement already satisfied: six==1.16.0 in /home/vorkov/Workspace/TourismPredictionProject/venv/lib/python3.8/site-packages (from -r ../requirements.txt (line 94)) (1.16.0)\r\n",
      "Requirement already satisfied: sniffio==1.3.0 in /home/vorkov/Workspace/TourismPredictionProject/venv/lib/python3.8/site-packages (from -r ../requirements.txt (line 95)) (1.3.0)\r\n",
      "Requirement already satisfied: soupsieve==2.4.1 in /home/vorkov/Workspace/TourismPredictionProject/venv/lib/python3.8/site-packages (from -r ../requirements.txt (line 96)) (2.4.1)\r\n",
      "Requirement already satisfied: stack-data==0.6.2 in /home/vorkov/Workspace/TourismPredictionProject/venv/lib/python3.8/site-packages (from -r ../requirements.txt (line 97)) (0.6.2)\r\n",
      "Requirement already satisfied: terminado==0.17.1 in /home/vorkov/Workspace/TourismPredictionProject/venv/lib/python3.8/site-packages (from -r ../requirements.txt (line 98)) (0.17.1)\r\n",
      "Requirement already satisfied: tinycss2==1.2.1 in /home/vorkov/Workspace/TourismPredictionProject/venv/lib/python3.8/site-packages (from -r ../requirements.txt (line 99)) (1.2.1)\r\n",
      "Requirement already satisfied: tornado==6.3.2 in /home/vorkov/Workspace/TourismPredictionProject/venv/lib/python3.8/site-packages (from -r ../requirements.txt (line 100)) (6.3.2)\r\n",
      "Requirement already satisfied: traitlets==5.9.0 in /home/vorkov/Workspace/TourismPredictionProject/venv/lib/python3.8/site-packages (from -r ../requirements.txt (line 101)) (5.9.0)\r\n",
      "Requirement already satisfied: typing_extensions==4.6.3 in /home/vorkov/Workspace/TourismPredictionProject/venv/lib/python3.8/site-packages (from -r ../requirements.txt (line 102)) (4.6.3)\r\n",
      "Requirement already satisfied: tzdata==2023.3 in /home/vorkov/Workspace/TourismPredictionProject/venv/lib/python3.8/site-packages (from -r ../requirements.txt (line 103)) (2023.3)\r\n",
      "Requirement already satisfied: uri-template==1.3.0 in /home/vorkov/Workspace/TourismPredictionProject/venv/lib/python3.8/site-packages (from -r ../requirements.txt (line 104)) (1.3.0)\r\n",
      "Requirement already satisfied: urllib3==2.0.3 in /home/vorkov/Workspace/TourismPredictionProject/venv/lib/python3.8/site-packages (from -r ../requirements.txt (line 105)) (2.0.3)\r\n",
      "Requirement already satisfied: wcwidth==0.2.6 in /home/vorkov/Workspace/TourismPredictionProject/venv/lib/python3.8/site-packages (from -r ../requirements.txt (line 106)) (0.2.6)\r\n",
      "Requirement already satisfied: webcolors==1.13 in /home/vorkov/Workspace/TourismPredictionProject/venv/lib/python3.8/site-packages (from -r ../requirements.txt (line 107)) (1.13)\r\n",
      "Requirement already satisfied: webencodings==0.5.1 in /home/vorkov/Workspace/TourismPredictionProject/venv/lib/python3.8/site-packages (from -r ../requirements.txt (line 108)) (0.5.1)\r\n",
      "Requirement already satisfied: websocket-client==1.6.1 in /home/vorkov/Workspace/TourismPredictionProject/venv/lib/python3.8/site-packages (from -r ../requirements.txt (line 109)) (1.6.1)\r\n",
      "Requirement already satisfied: widgetsnbextension==4.0.7 in /home/vorkov/Workspace/TourismPredictionProject/venv/lib/python3.8/site-packages (from -r ../requirements.txt (line 110)) (4.0.7)\r\n",
      "Requirement already satisfied: zipp==3.15.0 in /home/vorkov/Workspace/TourismPredictionProject/venv/lib/python3.8/site-packages (from -r ../requirements.txt (line 111)) (3.15.0)\r\n",
      "\r\n",
      "\u001B[1m[\u001B[0m\u001B[34;49mnotice\u001B[0m\u001B[1;39;49m]\u001B[0m\u001B[39;49m A new release of pip available: \u001B[0m\u001B[31;49m22.3.1\u001B[0m\u001B[39;49m -> \u001B[0m\u001B[32;49m23.1.2\u001B[0m\r\n",
      "\u001B[1m[\u001B[0m\u001B[34;49mnotice\u001B[0m\u001B[1;39;49m]\u001B[0m\u001B[39;49m To update, run: \u001B[0m\u001B[32;49mpip install --upgrade pip\u001B[0m\r\n"
     ]
    }
   ],
   "source": [
    "!pip install -r ../requirements.txt"
   ],
   "metadata": {
    "collapsed": false
   }
  },
  {
   "cell_type": "code",
   "execution_count": 2,
   "outputs": [],
   "source": [
    "import pandas as pd\n",
    "import geopandas"
   ],
   "metadata": {
    "collapsed": false
   }
  },
  {
   "cell_type": "code",
   "execution_count": 3,
   "outputs": [
    {
     "name": "stderr",
     "output_type": "stream",
     "text": [
      "/home/vorkov/Workspace/TourismPredictionProject/venv/lib/python3.8/site-packages/openpyxl/worksheet/_reader.py:329: UserWarning: Data Validation extension is not supported and will be removed\n",
      "  warn(msg)\n"
     ]
    }
   ],
   "source": [
    "data = pd.read_excel('data/all_start_data.xlsx', sheet_name='2 Точки привлечения туристов', skiprows = 1)"
   ],
   "metadata": {
    "collapsed": false
   }
  },
  {
   "cell_type": "code",
   "execution_count": 4,
   "outputs": [
    {
     "data": {
      "text/plain": "array(['Архангельск', 'Вельск', 'Вельский район', 'Вилегодский район',\n       'Каргополь', 'Кенозерский национальный парк', 'Котласский район',\n       'Красноборский район', 'Ленский район', 'Лешуконский район',\n       'Мезенский район', 'Национальный парк \"Онежское Поморье\"',\n       'Няндомский район', 'Онежский район', 'Пинежский район',\n       'пос. Коноша', 'Приморский район', 'Северодвинск',\n       'Соловецкий Архипелаг', 'Сольвычегодск', 'Устьянский район',\n       'Холмогорский район', 'Шенкурский район', nan], dtype=object)"
     },
     "execution_count": 4,
     "metadata": {},
     "output_type": "execute_result"
    }
   ],
   "source": [
    "data['Туристическая зона'].unique()"
   ],
   "metadata": {
    "collapsed": false
   }
  },
  {
   "cell_type": "code",
   "execution_count": 5,
   "outputs": [
    {
     "data": {
      "text/plain": "array(['Театр', 'Этнический центр', 'Музей', 'театр', 'Детский туризм',\n       'Городские достопримечательности', 'Водный туризм',\n       'Достопримечательность', 'Культурный центр', 'Судостроение',\n       'Нац. парк', 'Санаторий', 'Обзорная площадка',\n       'Горнолыжный курорт', nan], dtype=object)"
     },
     "execution_count": 5,
     "metadata": {},
     "output_type": "execute_result"
    }
   ],
   "source": [
    "data['Тип точки привлечения туристов'].unique()"
   ],
   "metadata": {
    "collapsed": false
   }
  },
  {
   "cell_type": "code",
   "execution_count": 6,
   "outputs": [
    {
     "data": {
      "text/plain": "     Название типа туристов Группа туристов по достатку  \\\n0                  Круизный                     Высокий   \n1  Культурно-познавательный                    Средний    \n2                 Природный                    Средний    \n3                   Деловой                    Средний    \n\n   Средний бюджет поездки (руб. на чел.)  Средняя длительность поездки (дн.)  \\\n0                                  50000                                   5   \n1                                  80000                                   5   \n2                                 120000                                   5   \n3                                 150000                                  10   \n\n   Среднее количество чел. в группе  \\\n0                                 7   \n1                                 5   \n2                                 2   \n3                                10   \n\n   Предпочтения туристов по типам точек привлечения  \n0                                               NaN  \n1                                               NaN  \n2                                               NaN  \n3                                               NaN  ",
      "text/html": "<div>\n<style scoped>\n    .dataframe tbody tr th:only-of-type {\n        vertical-align: middle;\n    }\n\n    .dataframe tbody tr th {\n        vertical-align: top;\n    }\n\n    .dataframe thead th {\n        text-align: right;\n    }\n</style>\n<table border=\"1\" class=\"dataframe\">\n  <thead>\n    <tr style=\"text-align: right;\">\n      <th></th>\n      <th>Название типа туристов</th>\n      <th>Группа туристов по достатку</th>\n      <th>Средний бюджет поездки (руб. на чел.)</th>\n      <th>Средняя длительность поездки (дн.)</th>\n      <th>Среднее количество чел. в группе</th>\n      <th>Предпочтения туристов по типам точек привлечения</th>\n    </tr>\n  </thead>\n  <tbody>\n    <tr>\n      <th>0</th>\n      <td>Круизный</td>\n      <td>Высокий</td>\n      <td>50000</td>\n      <td>5</td>\n      <td>7</td>\n      <td>NaN</td>\n    </tr>\n    <tr>\n      <th>1</th>\n      <td>Культурно-познавательный</td>\n      <td>Средний</td>\n      <td>80000</td>\n      <td>5</td>\n      <td>5</td>\n      <td>NaN</td>\n    </tr>\n    <tr>\n      <th>2</th>\n      <td>Природный</td>\n      <td>Средний</td>\n      <td>120000</td>\n      <td>5</td>\n      <td>2</td>\n      <td>NaN</td>\n    </tr>\n    <tr>\n      <th>3</th>\n      <td>Деловой</td>\n      <td>Средний</td>\n      <td>150000</td>\n      <td>10</td>\n      <td>10</td>\n      <td>NaN</td>\n    </tr>\n  </tbody>\n</table>\n</div>"
     },
     "execution_count": 6,
     "metadata": {},
     "output_type": "execute_result"
    }
   ],
   "source": [
    "data = pd.read_excel('data/all_start_data.xlsx', sheet_name='4 Типы туристов', skiprows = 1)\n",
    "data"
   ],
   "metadata": {
    "collapsed": false
   }
  },
  {
   "cell_type": "code",
   "execution_count": 7,
   "outputs": [
    {
     "data": {
      "text/plain": "array(['Круизный', 'Культурно-познавательный', 'Природный', 'Деловой'],\n      dtype=object)"
     },
     "execution_count": 7,
     "metadata": {},
     "output_type": "execute_result"
    }
   ],
   "source": [
    "data['Название типа туристов'].unique()"
   ],
   "metadata": {
    "collapsed": false
   }
  },
  {
   "cell_type": "code",
   "execution_count": 8,
   "outputs": [
    {
     "name": "stderr",
     "output_type": "stream",
     "text": [
      "/home/vorkov/Workspace/TourismPredictionProject/venv/lib/python3.8/site-packages/openpyxl/worksheet/_reader.py:329: UserWarning: Data Validation extension is not supported and will be removed\n",
      "  warn(msg)\n"
     ]
    },
    {
     "data": {
      "text/plain": "                                               Локация       Название   \\\n0                                           г. Вельск        «Рандеву»   \n1                                           г. Вельск            «Уют»   \n2                                         п. Игнатовка         «Визит»   \n3                                     д. Погореловская           «Уют»   \n4                                    д. Малая  Липовка            кафе   \n..                                                 ...             ...   \n427  Архангельская область, Приморский район, д.Мал...  \"Малые Карелы\"   \n428  Архангельская область, Приморский район, СНТ \"...     \"Лукоморье\"   \n429  Архангельская область, Приморский район, пос.Б...             нет   \n430  Архангельская область, Приморский район, пос.Б...             нет   \n431  Архангельская область, Приморский район, пос.К...      \"Апельсин\"   \n\n    Тип инфраструктуры Количество работников в точке общепита  \\\n0                 Кафе                                      4   \n1             столовая                                      3   \n2                 кафе                                      3   \n3                 кафе                                      6   \n4                 кафе                                      3   \n..                 ...                                    ...   \n427           Ресторан                                     25   \n428           Ресторан                                      3   \n429           Столовая                                      8   \n430               Кафе                                      7   \n431               Кафе                                     10   \n\n    Ежегодная дата открытия (мес.) Ежегодная дата закрытия (мес.)  \\\n0                    круглогодично                  круглогодично   \n1                    круглогодично                  круглогодично   \n2                    круглогодично                  круглогодично   \n3                    круглогодично                  круглогодично   \n4                    круглогодично                  круглогодично   \n..                             ...                            ...   \n427                  круглогодично                  круглогодично   \n428                  круглогодично                  круглогодично   \n429                  круглогодично                  круглогодично   \n430                  круглогодично                  круглогодично   \n431                  круглогодично                  круглогодично   \n\n    Пропускная способность (приемов пищи/сут.)  \\\n0                                          100   \n1                                          200   \n2                                           50   \n3                                          100   \n4                                           50   \n..                                         ...   \n427                информация не предоставлена   \n428                информация не предоставлена   \n429                информация не предоставлена   \n430                информация не предоставлена   \n431                информация не предоставлена   \n\n    Средняя стоимость питания (руб. на чел. за посещение)  \\\n0                                                  250      \n1                                                  200      \n2                                                  200      \n3                                                  250      \n4                                                  200      \n..                                                 ...      \n427                        информация не предоставлена      \n428                        информация не предоставлена      \n429                        информация не предоставлена      \n430                        информация не предоставлена      \n431                        информация не предоставлена      \n\n    Количество человек посетивших точку в 2022 году  \\\n0                                             30000   \n1                                             70000   \n2                                             18000   \n3                                             30000   \n4                                             15000   \n..                                              ...   \n427                     информация не предоставлена   \n428                     информация не предоставлена   \n429                     информация не предоставлена   \n430                     информация не предоставлена   \n431                     информация не предоставлена   \n\n    Количество человек посетивших точку в 2021 году  \\\n0                                             30000   \n1                                             60000   \n2                                             15000   \n3                                             30000   \n4                                             10000   \n..                                              ...   \n427                     информация не предоставлена   \n428                     информация не предоставлена   \n429                     информация не предоставлена   \n430                     информация не предоставлена   \n431                     информация не предоставлена   \n\n    Количество человек посетивших точку в 2020   \\\n0                                         20000   \n1                                         50000   \n2                                         15000   \n3                                         30000   \n4                                         10000   \n..                                          ...   \n427                 информация не предоставлена   \n428                 информация не предоставлена   \n429                 информация не предоставлена   \n430                 информация не предоставлена   \n431                 информация не предоставлена   \n\n    Количество человек посетивших точку в 2019 году  \\\n0                                             20000   \n1                                             40000   \n2                                             10000   \n3                                             25000   \n4                                             10000   \n..                                              ...   \n427                     информация не предоставлена   \n428                     информация не предоставлена   \n429                     информация не предоставлена   \n430                     информация не предоставлена   \n431                     информация не предоставлена   \n\n    Количество человек посетивших точку в 2018 году  \\\n0                                             17000   \n1                                             40000   \n2                                             10000   \n3                                             25000   \n4                                              7000   \n..                                              ...   \n427                     информация не предоставлена   \n428                     информация не предоставлена   \n429                     информация не предоставлена   \n430                     информация не предоставлена   \n431                     информация не предоставлена   \n\n    Количество человек посетивших точку в 2017 году  \\\n0                                                 0   \n1                                             35000   \n2                                             10000   \n3                                             29000   \n4                                              6000   \n..                                              ...   \n427                     информация не предоставлена   \n428                     информация не предоставлена   \n429                     информация не предоставлена   \n430                     информация не предоставлена   \n431                     информация не предоставлена   \n\n    Количество человек посетивших точку в 2016 году  \n0                                                 0  \n1                                             35000  \n2                                              5000  \n3                                             20000  \n4                                              7000  \n..                                              ...  \n427                     информация не предоставлена  \n428                     информация не предоставлена  \n429                     информация не предоставлена  \n430                     информация не предоставлена  \n431                     информация не предоставлена  \n\n[432 rows x 15 columns]",
      "text/html": "<div>\n<style scoped>\n    .dataframe tbody tr th:only-of-type {\n        vertical-align: middle;\n    }\n\n    .dataframe tbody tr th {\n        vertical-align: top;\n    }\n\n    .dataframe thead th {\n        text-align: right;\n    }\n</style>\n<table border=\"1\" class=\"dataframe\">\n  <thead>\n    <tr style=\"text-align: right;\">\n      <th></th>\n      <th>Локация</th>\n      <th>Название</th>\n      <th>Тип инфраструктуры</th>\n      <th>Количество работников в точке общепита</th>\n      <th>Ежегодная дата открытия (мес.)</th>\n      <th>Ежегодная дата закрытия (мес.)</th>\n      <th>Пропускная способность (приемов пищи/сут.)</th>\n      <th>Средняя стоимость питания (руб. на чел. за посещение)</th>\n      <th>Количество человек посетивших точку в 2022 году</th>\n      <th>Количество человек посетивших точку в 2021 году</th>\n      <th>Количество человек посетивших точку в 2020</th>\n      <th>Количество человек посетивших точку в 2019 году</th>\n      <th>Количество человек посетивших точку в 2018 году</th>\n      <th>Количество человек посетивших точку в 2017 году</th>\n      <th>Количество человек посетивших точку в 2016 году</th>\n    </tr>\n  </thead>\n  <tbody>\n    <tr>\n      <th>0</th>\n      <td>г. Вельск</td>\n      <td>«Рандеву»</td>\n      <td>Кафе</td>\n      <td>4</td>\n      <td>круглогодично</td>\n      <td>круглогодично</td>\n      <td>100</td>\n      <td>250</td>\n      <td>30000</td>\n      <td>30000</td>\n      <td>20000</td>\n      <td>20000</td>\n      <td>17000</td>\n      <td>0</td>\n      <td>0</td>\n    </tr>\n    <tr>\n      <th>1</th>\n      <td>г. Вельск</td>\n      <td>«Уют»</td>\n      <td>столовая</td>\n      <td>3</td>\n      <td>круглогодично</td>\n      <td>круглогодично</td>\n      <td>200</td>\n      <td>200</td>\n      <td>70000</td>\n      <td>60000</td>\n      <td>50000</td>\n      <td>40000</td>\n      <td>40000</td>\n      <td>35000</td>\n      <td>35000</td>\n    </tr>\n    <tr>\n      <th>2</th>\n      <td>п. Игнатовка</td>\n      <td>«Визит»</td>\n      <td>кафе</td>\n      <td>3</td>\n      <td>круглогодично</td>\n      <td>круглогодично</td>\n      <td>50</td>\n      <td>200</td>\n      <td>18000</td>\n      <td>15000</td>\n      <td>15000</td>\n      <td>10000</td>\n      <td>10000</td>\n      <td>10000</td>\n      <td>5000</td>\n    </tr>\n    <tr>\n      <th>3</th>\n      <td>д. Погореловская</td>\n      <td>«Уют»</td>\n      <td>кафе</td>\n      <td>6</td>\n      <td>круглогодично</td>\n      <td>круглогодично</td>\n      <td>100</td>\n      <td>250</td>\n      <td>30000</td>\n      <td>30000</td>\n      <td>30000</td>\n      <td>25000</td>\n      <td>25000</td>\n      <td>29000</td>\n      <td>20000</td>\n    </tr>\n    <tr>\n      <th>4</th>\n      <td>д. Малая  Липовка</td>\n      <td>кафе</td>\n      <td>кафе</td>\n      <td>3</td>\n      <td>круглогодично</td>\n      <td>круглогодично</td>\n      <td>50</td>\n      <td>200</td>\n      <td>15000</td>\n      <td>10000</td>\n      <td>10000</td>\n      <td>10000</td>\n      <td>7000</td>\n      <td>6000</td>\n      <td>7000</td>\n    </tr>\n    <tr>\n      <th>...</th>\n      <td>...</td>\n      <td>...</td>\n      <td>...</td>\n      <td>...</td>\n      <td>...</td>\n      <td>...</td>\n      <td>...</td>\n      <td>...</td>\n      <td>...</td>\n      <td>...</td>\n      <td>...</td>\n      <td>...</td>\n      <td>...</td>\n      <td>...</td>\n      <td>...</td>\n    </tr>\n    <tr>\n      <th>427</th>\n      <td>Архангельская область, Приморский район, д.Мал...</td>\n      <td>\"Малые Карелы\"</td>\n      <td>Ресторан</td>\n      <td>25</td>\n      <td>круглогодично</td>\n      <td>круглогодично</td>\n      <td>информация не предоставлена</td>\n      <td>информация не предоставлена</td>\n      <td>информация не предоставлена</td>\n      <td>информация не предоставлена</td>\n      <td>информация не предоставлена</td>\n      <td>информация не предоставлена</td>\n      <td>информация не предоставлена</td>\n      <td>информация не предоставлена</td>\n      <td>информация не предоставлена</td>\n    </tr>\n    <tr>\n      <th>428</th>\n      <td>Архангельская область, Приморский район, СНТ \"...</td>\n      <td>\"Лукоморье\"</td>\n      <td>Ресторан</td>\n      <td>3</td>\n      <td>круглогодично</td>\n      <td>круглогодично</td>\n      <td>информация не предоставлена</td>\n      <td>информация не предоставлена</td>\n      <td>информация не предоставлена</td>\n      <td>информация не предоставлена</td>\n      <td>информация не предоставлена</td>\n      <td>информация не предоставлена</td>\n      <td>информация не предоставлена</td>\n      <td>информация не предоставлена</td>\n      <td>информация не предоставлена</td>\n    </tr>\n    <tr>\n      <th>429</th>\n      <td>Архангельская область, Приморский район, пос.Б...</td>\n      <td>нет</td>\n      <td>Столовая</td>\n      <td>8</td>\n      <td>круглогодично</td>\n      <td>круглогодично</td>\n      <td>информация не предоставлена</td>\n      <td>информация не предоставлена</td>\n      <td>информация не предоставлена</td>\n      <td>информация не предоставлена</td>\n      <td>информация не предоставлена</td>\n      <td>информация не предоставлена</td>\n      <td>информация не предоставлена</td>\n      <td>информация не предоставлена</td>\n      <td>информация не предоставлена</td>\n    </tr>\n    <tr>\n      <th>430</th>\n      <td>Архангельская область, Приморский район, пос.Б...</td>\n      <td>нет</td>\n      <td>Кафе</td>\n      <td>7</td>\n      <td>круглогодично</td>\n      <td>круглогодично</td>\n      <td>информация не предоставлена</td>\n      <td>информация не предоставлена</td>\n      <td>информация не предоставлена</td>\n      <td>информация не предоставлена</td>\n      <td>информация не предоставлена</td>\n      <td>информация не предоставлена</td>\n      <td>информация не предоставлена</td>\n      <td>информация не предоставлена</td>\n      <td>информация не предоставлена</td>\n    </tr>\n    <tr>\n      <th>431</th>\n      <td>Архангельская область, Приморский район, пос.К...</td>\n      <td>\"Апельсин\"</td>\n      <td>Кафе</td>\n      <td>10</td>\n      <td>круглогодично</td>\n      <td>круглогодично</td>\n      <td>информация не предоставлена</td>\n      <td>информация не предоставлена</td>\n      <td>информация не предоставлена</td>\n      <td>информация не предоставлена</td>\n      <td>информация не предоставлена</td>\n      <td>информация не предоставлена</td>\n      <td>информация не предоставлена</td>\n      <td>информация не предоставлена</td>\n      <td>информация не предоставлена</td>\n    </tr>\n  </tbody>\n</table>\n<p>432 rows × 15 columns</p>\n</div>"
     },
     "execution_count": 8,
     "metadata": {},
     "output_type": "execute_result"
    }
   ],
   "source": [
    "data = pd.read_excel('data/all_start_data.xlsx', sheet_name='7 Места общественного питания', skiprows = 1)\n",
    "data"
   ],
   "metadata": {
    "collapsed": false
   }
  },
  {
   "cell_type": "code",
   "execution_count": 9,
   "outputs": [
    {
     "data": {
      "text/plain": "array(['г. Вельск ', 'п. Игнатовка', 'д. Погореловская',\n       'д. Малая  Липовка', 'с.Благовещенск', 'д. Леушинская',\n       'с. Долматово', 'г.Вельск', 'д. Вороновская', 'д. Филяевская',\n       'д. Шиловская', 'п. Кулой', 'город Онега', 'поселок Малошуйка',\n       'поселок Глазаниха', 'Город Новодвинск', 'Город Коряжма',\n       'с. Красноборск', 'д. Крицовская',\n       'с. Черевково Красноборский район', 'д. Малая Наговицинская',\n       'д. Тимошинская', 'Городской округ \"Город Архангельск\"',\n       'с. Яренск, ул. Трудовая, 9 тел. 8/81859/5-22-27, 5-27-47',\n       'с.Яренск, ул. И.Фиолетова, 1в 89116724671',\n       'п. Урдома, ул. Паламышская,8 8/81859/6-34-60',\n       'с.Яренск, ул. Дубинина,54, 8/81859/5-28-45',\n       'п.Урдома, ул. Калинина,21  8/81859/6-66-05',\n       'п. Урдома, ул. Гагарина,1',\n       'п. Урдома, ул. Калинина,5 8/81859/6-36-67', 'Город Мезень',\n       'Каргопольский муниципальный округ, д. Усачевская, пер. Школьный, д.4',\n       'Каргопольский муниципальный округ, д. Бронево, ул. Архангельская,д. 1',\n       'г. Каргополь, пр.Октябрьский , д. 113 б',\n       'г. Каргополь, ул. Гагарина,  д. 9',\n       'г. Каргополь, ул. Ленинградская, д.13',\n       'г. Каргополь, ул. Гагарина, д. 9 (2 этаж)',\n       'г. Каргополь, ул. Набережная им. Баранова, д.32, (2 этаж)',\n       'д. Шелоховская, ул.  Архангельская , д. 1г',\n       'г. Каргополь, ул. Ленинградская,  д.4', 'д. Гавриловская, д. 42',\n       'г. Шенкурск', 'п. Приводино',\n       'Км 451+360 автодороги «Урень-Шарья-Никольск-Котлас»', 'д.Куимиха',\n       'п.Коноша', 'п.Подюга Коношского р-на', 'Лешуконское', 'Город1',\n       'с. Илинско- Подомское', 'Конгур', 'с. Вилегодск',\n       'п. Широкий-Прилук', 'Котлас',\n       'Архангельская область, Приморский район, пос.Соловецкий, ул.Заозерная, д.4, корп.1',\n       'Архангельская область, Приморский район, пос.Соловецкий, ул.Заозерная, д.26',\n       'Архангельская область, Приморский район, пос.Соловецкий, ул.Заозерная, д.17А',\n       'Архангельская область, Приморский район, пос.Соловецкий, ул.Ковалева, д.15',\n       'Архангельская область, Приморский район, пос.Соловецкий, ул.Ковалева, д.8',\n       'Архангельская область, Приморский район, набережная бухты Благополучия (Спасо-Преображенский Соловецкий ставропигиальный мужской монастырь)',\n       'Архангельская область, Приморский район, пос.Соловецкий, ул.Северная (с правой стороны по проезду к причалу Хета)',\n       'Архангельская область, Приморский район, д.Малые Карелы, строение 1',\n       'Архангельская область, Приморский район, СНТ \"Транспортник\", база отдыха \"Лукоморье\", строение 1',\n       'Архангельская область, Приморский район, пос.Беломорье, д.21, помещение 6 (санаторий \"Беломорье\")',\n       'Архангельская область, Приморский район, пос.Катунино, ул.Летчика Панкова, д.4'],\n      dtype=object)"
     },
     "execution_count": 9,
     "metadata": {},
     "output_type": "execute_result"
    }
   ],
   "source": [
    "data['Локация'].unique()"
   ],
   "metadata": {
    "collapsed": false
   }
  },
  {
   "cell_type": "code",
   "execution_count": 10,
   "outputs": [
    {
     "data": {
      "text/plain": "array(['Кафе', 'столовая', 'кафе', 'ресторан', 'кофейня', 'бар', 'буфет',\n       'кафетерий', 'закусочная', 'киоск', 'рестобар', 'Ресторан',\n       'Столовая', 'Кафе-бар', '\\xa0', 'Кафе-пиццерия', 'Кафе- Бар',\n       'Кафе-магазин ', 'Трапезная'], dtype=object)"
     },
     "execution_count": 10,
     "metadata": {},
     "output_type": "execute_result"
    }
   ],
   "source": [
    "data['Тип инфраструктуры'].unique()"
   ],
   "metadata": {
    "collapsed": false
   }
  },
  {
   "cell_type": "code",
   "execution_count": 11,
   "outputs": [
    {
     "data": {
      "text/plain": "                 Название транспортного узла  \\\n0                              Речной вокзал   \n1                         Архангельск Талаги   \n2                     Автовокзал Архангельск   \n3  Железнодорожная станция Архангельск-город   \n4                       Архангельск Васьково   \n\n                                             Локация Тип транспортного узла  \\\n0   г. Архангельск, Набережная Северной Двины, д. 57                 Вокзал   \n1  г. Архангельск,  посёлок Талажский Авиагородок...               Аэропорт   \n2  г. Архангельск, ул. 23-й Гвардейской Дивизии, ...             Автовокзал   \n3     г. Архангельск, Площадь 60-летия Октября, д. 2                 Вокзал   \n4  Архангельская область, Приморский район, НП Ва...               Аэропорт   \n\n      Широта    Долгота Ежегодная дата открытия (мес.)  \\\n0  64.531711  40.525960                       1 апреля   \n1  64.592645  40.706789                  круглогодично   \n2  64.547529  40.576513                  круглогодично   \n3  64.550506  40.572846                  круглогодично   \n4  64.442848  40.429560                  круглогодично   \n\n  Ежегодная дата закрытия (мес.)  \\\n0                      1 декабря   \n1                  круглогодично   \n2                  круглогодично   \n3                  круглогодично   \n4                  круглогодично   \n\n   Среднее количество дней в году, когда транспортный узел недоступен из-за погоды  \\\n0                                                  0                                 \n1                                                  5                                 \n2                                                  0                                 \n3                                                  0                                 \n4                                                  5                                 \n\n   Пропускная способность люди (чел. в сут.)  \\\n0                                       1000   \n1                                       5000   \n2                                       3000   \n3                                       1500   \n4                                       1000   \n\n   Пропускная способность, транспорт (ед. транспорта в сут.)  \n0                                                 10          \n1                                                 30          \n2                                                 50          \n3                                                 50          \n4                                                 30          ",
      "text/html": "<div>\n<style scoped>\n    .dataframe tbody tr th:only-of-type {\n        vertical-align: middle;\n    }\n\n    .dataframe tbody tr th {\n        vertical-align: top;\n    }\n\n    .dataframe thead th {\n        text-align: right;\n    }\n</style>\n<table border=\"1\" class=\"dataframe\">\n  <thead>\n    <tr style=\"text-align: right;\">\n      <th></th>\n      <th>Название транспортного узла</th>\n      <th>Локация</th>\n      <th>Тип транспортного узла</th>\n      <th>Широта</th>\n      <th>Долгота</th>\n      <th>Ежегодная дата открытия (мес.)</th>\n      <th>Ежегодная дата закрытия (мес.)</th>\n      <th>Среднее количество дней в году, когда транспортный узел недоступен из-за погоды</th>\n      <th>Пропускная способность люди (чел. в сут.)</th>\n      <th>Пропускная способность, транспорт (ед. транспорта в сут.)</th>\n    </tr>\n  </thead>\n  <tbody>\n    <tr>\n      <th>0</th>\n      <td>Речной вокзал</td>\n      <td>г. Архангельск, Набережная Северной Двины, д. 57</td>\n      <td>Вокзал</td>\n      <td>64.531711</td>\n      <td>40.525960</td>\n      <td>1 апреля</td>\n      <td>1 декабря</td>\n      <td>0</td>\n      <td>1000</td>\n      <td>10</td>\n    </tr>\n    <tr>\n      <th>1</th>\n      <td>Архангельск Талаги</td>\n      <td>г. Архангельск,  посёлок Талажский Авиагородок...</td>\n      <td>Аэропорт</td>\n      <td>64.592645</td>\n      <td>40.706789</td>\n      <td>круглогодично</td>\n      <td>круглогодично</td>\n      <td>5</td>\n      <td>5000</td>\n      <td>30</td>\n    </tr>\n    <tr>\n      <th>2</th>\n      <td>Автовокзал Архангельск</td>\n      <td>г. Архангельск, ул. 23-й Гвардейской Дивизии, ...</td>\n      <td>Автовокзал</td>\n      <td>64.547529</td>\n      <td>40.576513</td>\n      <td>круглогодично</td>\n      <td>круглогодично</td>\n      <td>0</td>\n      <td>3000</td>\n      <td>50</td>\n    </tr>\n    <tr>\n      <th>3</th>\n      <td>Железнодорожная станция Архангельск-город</td>\n      <td>г. Архангельск, Площадь 60-летия Октября, д. 2</td>\n      <td>Вокзал</td>\n      <td>64.550506</td>\n      <td>40.572846</td>\n      <td>круглогодично</td>\n      <td>круглогодично</td>\n      <td>0</td>\n      <td>1500</td>\n      <td>50</td>\n    </tr>\n    <tr>\n      <th>4</th>\n      <td>Архангельск Васьково</td>\n      <td>Архангельская область, Приморский район, НП Ва...</td>\n      <td>Аэропорт</td>\n      <td>64.442848</td>\n      <td>40.429560</td>\n      <td>круглогодично</td>\n      <td>круглогодично</td>\n      <td>5</td>\n      <td>1000</td>\n      <td>30</td>\n    </tr>\n  </tbody>\n</table>\n</div>"
     },
     "execution_count": 11,
     "metadata": {},
     "output_type": "execute_result"
    }
   ],
   "source": [
    "data = pd.read_excel('data/all_start_data.xlsx', sheet_name='9 Транспортные узлы', skiprows = 1)\n",
    "data"
   ],
   "metadata": {
    "collapsed": false
   }
  },
  {
   "cell_type": "code",
   "execution_count": 12,
   "outputs": [
    {
     "data": {
      "text/plain": "array(['Вокзал', 'Аэропорт', 'Автовокзал'], dtype=object)"
     },
     "execution_count": 12,
     "metadata": {},
     "output_type": "execute_result"
    }
   ],
   "source": [
    "data['Тип транспортного узла'].unique()"
   ],
   "metadata": {
    "collapsed": false
   }
  },
  {
   "cell_type": "markdown",
   "source": [
    "Анализ данных из геоджейсон:"
   ],
   "metadata": {
    "collapsed": false
   }
  },
  {
   "cell_type": "code",
   "execution_count": 13,
   "outputs": [
    {
     "data": {
      "text/plain": "                  region  id_full  level     type           name      id  \\\n0  Архангельская область        3      2  Область  Архангельская  144105   \n\n                                            geometry  \n0  MULTIPOLYGON (((6752340.851 16757142.533, 6747...  ",
      "text/html": "<div>\n<style scoped>\n    .dataframe tbody tr th:only-of-type {\n        vertical-align: middle;\n    }\n\n    .dataframe tbody tr th {\n        vertical-align: top;\n    }\n\n    .dataframe thead th {\n        text-align: right;\n    }\n</style>\n<table border=\"1\" class=\"dataframe\">\n  <thead>\n    <tr style=\"text-align: right;\">\n      <th></th>\n      <th>region</th>\n      <th>id_full</th>\n      <th>level</th>\n      <th>type</th>\n      <th>name</th>\n      <th>id</th>\n      <th>geometry</th>\n    </tr>\n  </thead>\n  <tbody>\n    <tr>\n      <th>0</th>\n      <td>Архангельская область</td>\n      <td>3</td>\n      <td>2</td>\n      <td>Область</td>\n      <td>Архангельская</td>\n      <td>144105</td>\n      <td>MULTIPOLYGON (((6752340.851 16757142.533, 6747...</td>\n    </tr>\n  </tbody>\n</table>\n</div>"
     },
     "execution_count": 13,
     "metadata": {},
     "output_type": "execute_result"
    }
   ],
   "source": [
    "geopandas.read_file('data/geojsons/arhangelskaya_oblast.geojson')"
   ],
   "metadata": {
    "collapsed": false
   }
  },
  {
   "cell_type": "code",
   "execution_count": 14,
   "outputs": [
    {
     "data": {
      "text/plain": "        OBJECTID        fclass   name ref oneway  maxspeed  layer bridge  \\\n0          29271     bridleway                 B         0    0.0      F   \n1          37927     bridleway                 B         0    0.0      F   \n2          37987     bridleway                 B         0    0.0      F   \n3          37993     bridleway                 B         0    0.0      F   \n4          38156     bridleway  тракт          B         0    0.0      F   \n...          ...           ...    ...  ..    ...       ...    ...    ...   \n103344    861098  unclassified                 B        60    0.0      F   \n103345    861099  unclassified                 B        60    0.0      F   \n103346    861100  unclassified                 B        60    0.0      F   \n103347    861101  unclassified                 B        60    0.0      F   \n103348    861102  unclassified                 B        60    0.0      F   \n\n       tunnel auto foot        meters   minutes  minutes_foot  \\\n0           F    N    Y   2060.383262       NaN     27.471777   \n1           F    N    Y   1947.084932       NaN     25.961132   \n2           F    N    Y    161.128041       NaN      2.148374   \n3           F    N    Y    187.667672       NaN      2.502236   \n4           F    N    Y  64415.091319       NaN    858.867884   \n...       ...  ...  ...           ...       ...           ...   \n103344      F    Y    Y    429.384133  0.429384           NaN   \n103345      F    Y    Y   1060.710825  1.060711           NaN   \n103346      F    Y    Y    795.592793  0.795593           NaN   \n103347      F    Y    Y   2551.855248  2.551855           NaN   \n103348      F    Y    Y    310.075118  0.310075           NaN   \n\n                                                 geometry  \n0       MULTILINESTRING ((5087051.262 9580496.953, 508...  \n1       MULTILINESTRING ((5088103.332 9578659.179, 508...  \n2       MULTILINESTRING ((4435275.477 9470298.986, 443...  \n3       MULTILINESTRING ((4436096.458 9468934.918, 443...  \n4       MULTILINESTRING ((5069061.187 9589957.943, 506...  \n...                                                   ...  \n103344  MULTILINESTRING ((6111561.205 12246504.584, 61...  \n103345  MULTILINESTRING ((6111751.995 12249894.595, 61...  \n103346  MULTILINESTRING ((6109750.716 12252118.815, 61...  \n103347  MULTILINESTRING ((6086765.823 12266966.761, 60...  \n103348  MULTILINESTRING ((6087950.129 12267137.433, 60...  \n\n[103349 rows x 15 columns]",
      "text/html": "<div>\n<style scoped>\n    .dataframe tbody tr th:only-of-type {\n        vertical-align: middle;\n    }\n\n    .dataframe tbody tr th {\n        vertical-align: top;\n    }\n\n    .dataframe thead th {\n        text-align: right;\n    }\n</style>\n<table border=\"1\" class=\"dataframe\">\n  <thead>\n    <tr style=\"text-align: right;\">\n      <th></th>\n      <th>OBJECTID</th>\n      <th>fclass</th>\n      <th>name</th>\n      <th>ref</th>\n      <th>oneway</th>\n      <th>maxspeed</th>\n      <th>layer</th>\n      <th>bridge</th>\n      <th>tunnel</th>\n      <th>auto</th>\n      <th>foot</th>\n      <th>meters</th>\n      <th>minutes</th>\n      <th>minutes_foot</th>\n      <th>geometry</th>\n    </tr>\n  </thead>\n  <tbody>\n    <tr>\n      <th>0</th>\n      <td>29271</td>\n      <td>bridleway</td>\n      <td></td>\n      <td></td>\n      <td>B</td>\n      <td>0</td>\n      <td>0.0</td>\n      <td>F</td>\n      <td>F</td>\n      <td>N</td>\n      <td>Y</td>\n      <td>2060.383262</td>\n      <td>NaN</td>\n      <td>27.471777</td>\n      <td>MULTILINESTRING ((5087051.262 9580496.953, 508...</td>\n    </tr>\n    <tr>\n      <th>1</th>\n      <td>37927</td>\n      <td>bridleway</td>\n      <td></td>\n      <td></td>\n      <td>B</td>\n      <td>0</td>\n      <td>0.0</td>\n      <td>F</td>\n      <td>F</td>\n      <td>N</td>\n      <td>Y</td>\n      <td>1947.084932</td>\n      <td>NaN</td>\n      <td>25.961132</td>\n      <td>MULTILINESTRING ((5088103.332 9578659.179, 508...</td>\n    </tr>\n    <tr>\n      <th>2</th>\n      <td>37987</td>\n      <td>bridleway</td>\n      <td></td>\n      <td></td>\n      <td>B</td>\n      <td>0</td>\n      <td>0.0</td>\n      <td>F</td>\n      <td>F</td>\n      <td>N</td>\n      <td>Y</td>\n      <td>161.128041</td>\n      <td>NaN</td>\n      <td>2.148374</td>\n      <td>MULTILINESTRING ((4435275.477 9470298.986, 443...</td>\n    </tr>\n    <tr>\n      <th>3</th>\n      <td>37993</td>\n      <td>bridleway</td>\n      <td></td>\n      <td></td>\n      <td>B</td>\n      <td>0</td>\n      <td>0.0</td>\n      <td>F</td>\n      <td>F</td>\n      <td>N</td>\n      <td>Y</td>\n      <td>187.667672</td>\n      <td>NaN</td>\n      <td>2.502236</td>\n      <td>MULTILINESTRING ((4436096.458 9468934.918, 443...</td>\n    </tr>\n    <tr>\n      <th>4</th>\n      <td>38156</td>\n      <td>bridleway</td>\n      <td>тракт</td>\n      <td></td>\n      <td>B</td>\n      <td>0</td>\n      <td>0.0</td>\n      <td>F</td>\n      <td>F</td>\n      <td>N</td>\n      <td>Y</td>\n      <td>64415.091319</td>\n      <td>NaN</td>\n      <td>858.867884</td>\n      <td>MULTILINESTRING ((5069061.187 9589957.943, 506...</td>\n    </tr>\n    <tr>\n      <th>...</th>\n      <td>...</td>\n      <td>...</td>\n      <td>...</td>\n      <td>...</td>\n      <td>...</td>\n      <td>...</td>\n      <td>...</td>\n      <td>...</td>\n      <td>...</td>\n      <td>...</td>\n      <td>...</td>\n      <td>...</td>\n      <td>...</td>\n      <td>...</td>\n      <td>...</td>\n    </tr>\n    <tr>\n      <th>103344</th>\n      <td>861098</td>\n      <td>unclassified</td>\n      <td></td>\n      <td></td>\n      <td>B</td>\n      <td>60</td>\n      <td>0.0</td>\n      <td>F</td>\n      <td>F</td>\n      <td>Y</td>\n      <td>Y</td>\n      <td>429.384133</td>\n      <td>0.429384</td>\n      <td>NaN</td>\n      <td>MULTILINESTRING ((6111561.205 12246504.584, 61...</td>\n    </tr>\n    <tr>\n      <th>103345</th>\n      <td>861099</td>\n      <td>unclassified</td>\n      <td></td>\n      <td></td>\n      <td>B</td>\n      <td>60</td>\n      <td>0.0</td>\n      <td>F</td>\n      <td>F</td>\n      <td>Y</td>\n      <td>Y</td>\n      <td>1060.710825</td>\n      <td>1.060711</td>\n      <td>NaN</td>\n      <td>MULTILINESTRING ((6111751.995 12249894.595, 61...</td>\n    </tr>\n    <tr>\n      <th>103346</th>\n      <td>861100</td>\n      <td>unclassified</td>\n      <td></td>\n      <td></td>\n      <td>B</td>\n      <td>60</td>\n      <td>0.0</td>\n      <td>F</td>\n      <td>F</td>\n      <td>Y</td>\n      <td>Y</td>\n      <td>795.592793</td>\n      <td>0.795593</td>\n      <td>NaN</td>\n      <td>MULTILINESTRING ((6109750.716 12252118.815, 61...</td>\n    </tr>\n    <tr>\n      <th>103347</th>\n      <td>861101</td>\n      <td>unclassified</td>\n      <td></td>\n      <td></td>\n      <td>B</td>\n      <td>60</td>\n      <td>0.0</td>\n      <td>F</td>\n      <td>F</td>\n      <td>Y</td>\n      <td>Y</td>\n      <td>2551.855248</td>\n      <td>2.551855</td>\n      <td>NaN</td>\n      <td>MULTILINESTRING ((6086765.823 12266966.761, 60...</td>\n    </tr>\n    <tr>\n      <th>103348</th>\n      <td>861102</td>\n      <td>unclassified</td>\n      <td></td>\n      <td></td>\n      <td>B</td>\n      <td>60</td>\n      <td>0.0</td>\n      <td>F</td>\n      <td>F</td>\n      <td>Y</td>\n      <td>Y</td>\n      <td>310.075118</td>\n      <td>0.310075</td>\n      <td>NaN</td>\n      <td>MULTILINESTRING ((6087950.129 12267137.433, 60...</td>\n    </tr>\n  </tbody>\n</table>\n<p>103349 rows × 15 columns</p>\n</div>"
     },
     "execution_count": 14,
     "metadata": {},
     "output_type": "execute_result"
    }
   ],
   "source": [
    "geojson_data = geopandas.read_file('data/geojsons/auto_foot_graph_arh_obl.geojson')\n",
    "geojson_data"
   ],
   "metadata": {
    "collapsed": false
   }
  },
  {
   "cell_type": "code",
   "execution_count": 15,
   "outputs": [
    {
     "data": {
      "text/plain": "array([' ', 'тракт', '«Холмогоры»', ..., 'Пешеходный подвесной мост',\n       'аллея Северной Двины',\n       'Сооружения по отводу и утилизации дренажных и карьерн'],\n      dtype=object)"
     },
     "execution_count": 15,
     "metadata": {},
     "output_type": "execute_result"
    }
   ],
   "source": [
    "geojson_data['name'].unique()"
   ],
   "metadata": {
    "collapsed": false
   }
  },
  {
   "cell_type": "code",
   "execution_count": 16,
   "outputs": [
    {
     "data": {
      "text/plain": "          id         name                     type  \\\n0     230547       243 км  железнодорожный разъезд   \n1     230548  Абрамовская                  деревня   \n2     230549     Азаполье                  деревня   \n3     230550       Айнова                  деревня   \n4     230551      Амосово                  деревня   \n...      ...          ...                      ...   \n1225  235245   Янракэннот                     село   \n1226  235246      Янранай                     село   \n1227  235249   Яптик-Сале                  поселок   \n1228  235250      Яр-Сале                     село   \n1229  235254       Ярпияг                  деревня   \n\n                               gicity                             okrug  \\\n0               Архангельская область      Порожское сельское поселение   \n1               Архангельская область   Городское поселение Малошуйское   \n2               Архангельская область    Целегорское сельское поселение   \n3               Архангельская область   Карпогорское сельское поселение   \n4               Архангельская область  Лисестровское сельское поселение   \n...                               ...                               ...   \n1225       Чукотский автономный округ                        Янракэннот   \n1226       Чукотский автономный округ                           Янранай   \n1227  Ямало-Ненецкий автономный округ  сельское поселение Мыс-Каменское   \n1228  Ямало-Ненецкий автономный округ   сельское поселение Яр-Салинское   \n1229                  Республика Коми                              Инта   \n\n                            District        okato        oktmo  \\\n0       Онежский муниципальный район                             \n1       Онежский муниципальный район                             \n2      Мезенский муниципальный район  11242848002  11642448106   \n3      Пинежский муниципальный район  11248808002  11648408106   \n4     Приморский муниципальный район  11252836002  11652436106   \n...                              ...          ...          ...   \n1225      Городской округ Провидения  77220000006  77710000126   \n1226           Городской округ Певек  77230000005  77705000126   \n1227   Ямальский муниципальный округ  71168000010  71948000146   \n1228   Ямальский муниципальный округ  71168000001  71948000101   \n1229            городской округ Инта  87415802007  87715000201   \n\n                                               geometry  \n0     MULTIPOLYGON (((4282725.010 9309457.333, 42828...  \n1     MULTIPOLYGON (((4164870.033 9284514.844, 41648...  \n2     MULTIPOLYGON (((5028684.121 9684115.613, 50281...  \n3     MULTIPOLYGON (((4959351.620 9339491.318, 49594...  \n4     MULTIPOLYGON (((4522701.742 9469135.476, 45228...  \n...                                                 ...  \n1225  MULTIPOLYGON (((-19202507.606 9584287.550, -19...  \n1226  MULTIPOLYGON (((18983984.014 11042784.698, 189...  \n1227  MULTIPOLYGON (((8072806.192 10871972.680, 8072...  \n1228  MULTIPOLYGON (((7886137.552 10118744.936, 7886...  \n1229  MULTIPOLYGON (((6903081.243 10021998.911, 6903...  \n\n[1230 rows x 9 columns]",
      "text/html": "<div>\n<style scoped>\n    .dataframe tbody tr th:only-of-type {\n        vertical-align: middle;\n    }\n\n    .dataframe tbody tr th {\n        vertical-align: top;\n    }\n\n    .dataframe thead th {\n        text-align: right;\n    }\n</style>\n<table border=\"1\" class=\"dataframe\">\n  <thead>\n    <tr style=\"text-align: right;\">\n      <th></th>\n      <th>id</th>\n      <th>name</th>\n      <th>type</th>\n      <th>gicity</th>\n      <th>okrug</th>\n      <th>District</th>\n      <th>okato</th>\n      <th>oktmo</th>\n      <th>geometry</th>\n    </tr>\n  </thead>\n  <tbody>\n    <tr>\n      <th>0</th>\n      <td>230547</td>\n      <td>243 км</td>\n      <td>железнодорожный разъезд</td>\n      <td>Архангельская область</td>\n      <td>Порожское сельское поселение</td>\n      <td>Онежский муниципальный район</td>\n      <td></td>\n      <td></td>\n      <td>MULTIPOLYGON (((4282725.010 9309457.333, 42828...</td>\n    </tr>\n    <tr>\n      <th>1</th>\n      <td>230548</td>\n      <td>Абрамовская</td>\n      <td>деревня</td>\n      <td>Архангельская область</td>\n      <td>Городское поселение Малошуйское</td>\n      <td>Онежский муниципальный район</td>\n      <td></td>\n      <td></td>\n      <td>MULTIPOLYGON (((4164870.033 9284514.844, 41648...</td>\n    </tr>\n    <tr>\n      <th>2</th>\n      <td>230549</td>\n      <td>Азаполье</td>\n      <td>деревня</td>\n      <td>Архангельская область</td>\n      <td>Целегорское сельское поселение</td>\n      <td>Мезенский муниципальный район</td>\n      <td>11242848002</td>\n      <td>11642448106</td>\n      <td>MULTIPOLYGON (((5028684.121 9684115.613, 50281...</td>\n    </tr>\n    <tr>\n      <th>3</th>\n      <td>230550</td>\n      <td>Айнова</td>\n      <td>деревня</td>\n      <td>Архангельская область</td>\n      <td>Карпогорское сельское поселение</td>\n      <td>Пинежский муниципальный район</td>\n      <td>11248808002</td>\n      <td>11648408106</td>\n      <td>MULTIPOLYGON (((4959351.620 9339491.318, 49594...</td>\n    </tr>\n    <tr>\n      <th>4</th>\n      <td>230551</td>\n      <td>Амосово</td>\n      <td>деревня</td>\n      <td>Архангельская область</td>\n      <td>Лисестровское сельское поселение</td>\n      <td>Приморский муниципальный район</td>\n      <td>11252836002</td>\n      <td>11652436106</td>\n      <td>MULTIPOLYGON (((4522701.742 9469135.476, 45228...</td>\n    </tr>\n    <tr>\n      <th>...</th>\n      <td>...</td>\n      <td>...</td>\n      <td>...</td>\n      <td>...</td>\n      <td>...</td>\n      <td>...</td>\n      <td>...</td>\n      <td>...</td>\n      <td>...</td>\n    </tr>\n    <tr>\n      <th>1225</th>\n      <td>235245</td>\n      <td>Янракэннот</td>\n      <td>село</td>\n      <td>Чукотский автономный округ</td>\n      <td>Янракэннот</td>\n      <td>Городской округ Провидения</td>\n      <td>77220000006</td>\n      <td>77710000126</td>\n      <td>MULTIPOLYGON (((-19202507.606 9584287.550, -19...</td>\n    </tr>\n    <tr>\n      <th>1226</th>\n      <td>235246</td>\n      <td>Янранай</td>\n      <td>село</td>\n      <td>Чукотский автономный округ</td>\n      <td>Янранай</td>\n      <td>Городской округ Певек</td>\n      <td>77230000005</td>\n      <td>77705000126</td>\n      <td>MULTIPOLYGON (((18983984.014 11042784.698, 189...</td>\n    </tr>\n    <tr>\n      <th>1227</th>\n      <td>235249</td>\n      <td>Яптик-Сале</td>\n      <td>поселок</td>\n      <td>Ямало-Ненецкий автономный округ</td>\n      <td>сельское поселение Мыс-Каменское</td>\n      <td>Ямальский муниципальный округ</td>\n      <td>71168000010</td>\n      <td>71948000146</td>\n      <td>MULTIPOLYGON (((8072806.192 10871972.680, 8072...</td>\n    </tr>\n    <tr>\n      <th>1228</th>\n      <td>235250</td>\n      <td>Яр-Сале</td>\n      <td>село</td>\n      <td>Ямало-Ненецкий автономный округ</td>\n      <td>сельское поселение Яр-Салинское</td>\n      <td>Ямальский муниципальный округ</td>\n      <td>71168000001</td>\n      <td>71948000101</td>\n      <td>MULTIPOLYGON (((7886137.552 10118744.936, 7886...</td>\n    </tr>\n    <tr>\n      <th>1229</th>\n      <td>235254</td>\n      <td>Ярпияг</td>\n      <td>деревня</td>\n      <td>Республика Коми</td>\n      <td>Инта</td>\n      <td>городской округ Инта</td>\n      <td>87415802007</td>\n      <td>87715000201</td>\n      <td>MULTIPOLYGON (((6903081.243 10021998.911, 6903...</td>\n    </tr>\n  </tbody>\n</table>\n<p>1230 rows × 9 columns</p>\n</div>"
     },
     "execution_count": 16,
     "metadata": {},
     "output_type": "execute_result"
    }
   ],
   "source": [
    "geojson_data = geopandas.read_file('data/geojsons/base_obl_people.geojson')\n",
    "geojson_data"
   ],
   "metadata": {
    "collapsed": false
   }
  },
  {
   "cell_type": "code",
   "execution_count": 17,
   "outputs": [
    {
     "data": {
      "text/plain": "array(['железнодорожный разъезд', 'деревня', 'поселок', 'город',\n       'населенный пункт', ' ', 'пгт', 'железнодорожная станция', 'село',\n       'хутор', 'выселок', 'н.п.', nan, 'поселок городского типа',\n       'станция', 'п.г.т.', 'ж.-д. ст.', 'рабочий поселок', 'н.п'],\n      dtype=object)"
     },
     "execution_count": 17,
     "metadata": {},
     "output_type": "execute_result"
    }
   ],
   "source": [
    "geojson_data['type'].unique()"
   ],
   "metadata": {
    "collapsed": false
   }
  },
  {
   "cell_type": "code",
   "execution_count": 18,
   "outputs": [
    {
     "data": {
      "text/plain": "array(['Архангельская область', 'Республика Карелия',\n       'Мурманская область', 'Республика Коми',\n       'Республика Саха (Якутия)', 'Ямало-Ненецкий автономный округ',\n       'Чукотский автономный округ', 'Красноярский край',\n       'Ненецкий автономный округ', 'Ямало-Ненецкий автономный'],\n      dtype=object)"
     },
     "execution_count": 18,
     "metadata": {},
     "output_type": "execute_result"
    }
   ],
   "source": [
    "geojson_data['gicity'].unique()"
   ],
   "metadata": {
    "collapsed": false
   }
  },
  {
   "cell_type": "code",
   "execution_count": 19,
   "outputs": [
    {
     "data": {
      "text/plain": "array(['Порожское сельское поселение', 'Городское поселение Малошуйское',\n       'Целегорское сельское поселение',\n       'Карпогорское сельское поселение',\n       'Лисестровское сельское поселение',\n       'Вознесенское сельское поселение', 'Чекуевское сельское поселение',\n       'Городской округ Архангельск', 'Талажское сельское поселение',\n       'Васьковское сельское поселение', 'Лисестровское',\n       'Лявленское сельское поселение', 'Ластольское сельское поселение',\n       'Мосеевское сельское поселение', 'Быченское',\n       'Городской округ Северодвинск', 'Катунинское сельское поселение',\n       'Ценогорское сельское поселение', 'Городской округ Новая Земля',\n       'Лешуконское сельское поселение',\n       'Козьмогородское сельское поселение',\n       'Пинежское сельское поселение', 'Шилегское сельское поселение',\n       'Коскогорское сельское поселение', 'Олемское сельское поселение',\n       'Заостровское сельское поселение',\n       'Покшеньгское сельское поселение', 'Быченское сельское поселение',\n       'Боброво-Лявленское', 'Сурское сельское поселение', 'Пинежское',\n       'Пиринемское сельское поселение', 'Веркольское сельское поселение',\n       'Покровское сельское поселение',\n       'Зимне-Золотицкое сельское поселение',\n       'Патракеевское сельское поселение',\n       'Вожгорское сельское поселение',\n       'Ухтостровское сельское поселение',\n       'Нименьгское сельское поселение',\n       'Пустошинское сельское поселение', 'Кодинское сельское поселение',\n       'Соловецкое сельское поселение',\n       'Долгощельское сельское поселение',\n       'Дорогорское сельское поселение', 'Уемское сельское поселение',\n       'Кеврольское сельское поселение', 'Сафоновское сельское поселение',\n       'Койдокурское сельское поселение',\n       'Кушкопальское сельское поселение', 'Жердское сельское поселение',\n       'Зареченское', 'Городское поселение Мезенское',\n       'Лавельское сельское поселение', 'Нюхченское сельское поселение',\n       'Юромское сельское поселение', 'Койнасское сельское поселение',\n       'Талажское', 'Золотухское сельское поселение',\n       'Ручьевское сельское поселение', 'Городское поселение Каменское',\n       'Совпольское сельское поселение', 'Койденское сельское поселение',\n       'Повракульское сельское поселение',\n       'Пертоминское сельское поселение', 'Сосновское сельское поселение',\n       'Приморское', 'Приморское сельское поселение',\n       'Летне-Золотицкое сельское поселение',\n       'Лопшеньгское сельское поселение', 'СурскСурское\\r\\nое',\n       'Междуреченское сельское поселение', 'Городской округ Новодвинск',\n       'Городское поселение Онежское', 'Сурское',\n       'Сийское сельское поселение', 'Соянское', 'ГП Кемское',\n       'г. Мончегорск', 'Инта', 'Абыйский наслег', 'Кривопорожское',\n       'сельское поселение Азовское', 'Айон', 'Усинск',\n       'сельское поселение Аксарковское', 'сельское поселение Алакуртти',\n       'Кангаласский 1-й наслег',\n       'Сельское поселение Верхнеимбатский сельсовет',\n       'Адыччинский наслег', 'Алькатваам', 'Амбарнское',\n       'Походский наслег', 'Амгуэма', 'поселок Амдерма',\n       'ГО Город Анадырь', 'Андегский сельсовет', 'Олёринский наслег',\n       'сельское поселение Мужевское', 'сельское поселение Антипаюта',\n       'Анюйск', nan, ' ', 'Алазейский наслег', 'г. Полярные Зори',\n       'Сельское поселение Караул', 'Сельское поселение село Байкит',\n       'Межселенная территория Туруханского района', 'Арылахский наслег',\n       'Барыласский наслег', 'поселок Батагай', 'Тюгесирский наслег',\n       'Линдинский наслег', 'поселок Белая Гора',\n       'городское поселение Кандалакша', 'сельское поселение Белоярское',\n       'Пёшский сельсовет', 'Березовский национальный (кочевой) наслег',\n       'ГП Беринговский', 'Бестяхский наслег', 'ГП Город Билибино',\n       'Биллингс', 'Сельское поселение Усть-Ци',\n       'Сельское поселение Борский сельсовет',\n       'городское поселение Никель', 'Боровское сельское поселение',\n       'Сельское поселение Замежна', 'Бабушкинский наслег',\n       'Колгуевский сельсовет', 'Индигирский национальный наслег',\n       'Сельское поселение Сельское поселение поселок Бурный',\n       'Быковский наслег', 'Поповпорожское', 'Ваеги',\n       'городское поселение Печенга', 'Валдайское',\n       'Сельское поселение село Ванавара', 'Ванкарем',\n       'сельское поселение Варзуга', 'Юшарский сельсовет',\n       'Сельское поселение Кельчию', 'Чернопорожское',\n       'Великовисочный сельсовет', 'Сельское поселение Среднее',\n       'Верхнеколымский наслег', 'городское поселение Верхнетуломский',\n       'Канинский сельсовет', 'город Верхоянск',\n       'сельское поселение Восяховское', 'Мужевское', 'Омский сельсовет',\n       'Сумпосадское', 'Луусалмское сельское поселение', 'ГО Костомукша',\n       'Городское поселение город Дудинка', 'Куземское',\n       'Сельское поселение Вороговский сельсовет',\n       'сельское поселение Териберка', 'ГО Беломорское',\n       'сельское поселение Харсаимское', 'г. Оленегорск',\n       'Тиманский сельсовет', 'городское поселение Молочный',\n       'сельское поселение Газ-Сале', 'Сельское поселение Коровий',\n       'городское поселение Кильдинстрой',\n       'сельское поселение Горковское', 'сельское поселение Гыда',\n       'поселок Депутатский', 'Верхнебытантайский наслег',\n       'Городское поселение Диксон', 'Городское поселение Дудинка',\n       'сельское поселение Овгортское', 'г. Ковдор',\n       'Сельское поселение Ермица', 'Сельское поселение поселок Ессей',\n       'Сельское поселение Хатанга', 'городское поселение Зеленоборский',\n       'Жиганский наслег', 'Жилиндинский национальный наслег',\n       'городское поселение Заполярный',\n       'городское поселение п. Заполярный',\n       'сельское поселение Зареченск', 'Кестеньгское',\n       'Сельское поселение Зотинский сельсовет', 'поселок Зырянка',\n       'Городское поселение город Игарка', 'Идельское', 'Илирней',\n       'Инчоун', 'рабочий поселок Искателей',\n       'Казачинский национальный наслег',\n       'сельское поселение Лопхаринское', 'Калевальское',\n       'Пустозерский сельсовет', 'сельское поселение Ловозеро',\n       'Канчалан', 'Малиновараккское', 'сельское поселение Катравож',\n       'Уолбутский наслег', 'Юшкозерское сельское поселение', 'Кепервеем',\n       'сельское поселение Толькинское', 'сельское поселение Междуречье',\n       'Сельское поселение поселок Кислокан', 'сельское поселение Пушной',\n       'Шоинский сельсовет', 'г. Кировск', 'городское поселение Кола',\n       'Халарчинский наслег', 'Конергино', 'сельское поселение Корзуново',\n       'Коткинский сельсовет', 'Краснено', 'Приморско-Куйский сельсовет',\n       'сельское поселение Красноселькуп', 'Сельское поселение Окунев',\n       'Майорский национальный наслег',\n       'Сельское поселение поселок Кузьмовка',\n       'Чыбагалахский национальный наслег', 'Нижнебытантайский наслег',\n       'сельское поселение Кутопьюган',\n       'Калевальское городское поселение',\n       'Сельское поселение поселок Куюмба',\n       'Эвенкийское муниципальное образование \"Кыстатыам\"',\n       'Булунский наслег', 'Лаврентия', 'Ламутское',\n       'городской округ Эгвекинот', 'Сосновецкое', 'Летнереченское',\n       'город Среднеколымск', 'сельское поселение Лонгъюган', 'Лорино',\n       'сельское поселение Шурышкарское', 'Тельвисочный сельсовет',\n       'Марково', 'Межселенная территория', 'Сельское поселение Новый Б',\n       'Мейныпильгино', 'Сельское поселение село Мирюга',\n       'городское поселение Мурмаши',\n       'Сельское поселение поселок Муторай', 'Сельское поселение Уег',\n       'Сельское поселение Трусово', 'сельское поселение Мыс-Каменское',\n       'ГП Мыс Шмидта', 'Рабочеостровское', 'ГП Надвоицкое',\n       'Надымский муниципальный район', 'Хара-Улахский наслег',\n       'Байдинский наслег', 'Борогонский наслег',\n       'сельское поселение Находка', 'Нелемнский национальный наслег',\n       'Малоземельский сельсовет', 'Сельское поселение Нерица', 'Нешкан',\n       'Сельское поселение поселок Нидым', 'поселок Нижнеянск',\n       'Новое Чаплино', 'сельское поселение Новый Порт',\n       'сельское поселение Нори', 'город Норильск', 'Нунлингран',\n       'Нутэпэльмен', 'сельское поселение Ныда', 'Быянгнырский наслег',\n       'Нюхчинское', 'сельское поселение Тулома', 'Сень-Кюёльский наслег',\n       'Юкагирский наслег', 'Оленёкский национальный наслег',\n       'городское поселение Умба', 'Омолон', 'Ругозерское',\n       'Сельское поселение поселок Оскоба', 'Эгинский наслег',\n       'Островное', 'Сельское поселение поселок Ошарово',\n       'сельское поселение Панаевск', 'городское поселение п. Пангоды',\n       'ГП Город Певек', 'сельское поселение Питляр', 'Плотинское',\n       'Сельское поселение поселок Полигус',\n       'сельское поселение Правохеттинский',\n       'сельское поселение Приозерный', 'ГП Провидения',\n       'сельское поселение Пуровское', 'сельское поселение Пурпе',\n       'сельское поселение Ратта', 'городское поселение Ревда',\n       'Русско-Устьинский наслег', 'Рыркайпий', 'Рыткучи',\n       'Силянняхский национальный наслег', 'сельское поселение Салемал',\n       'сельское поселение Самбург', 'Саскылахский национальный наслег',\n       'Улахан-Чистайский национальный наслег', 'Мятисский 2-й наслег',\n       'Светлогорский сельсовет',\n       'Сельское поселение Туруханский сельсовет',\n       'сельское поселение Сеяха', 'Сиктяхский наслег', 'Сиреники',\n       'Тюметинский наслег', 'Снежное', 'Соболохский национальный наслег',\n       'Столбинский наслег', 'Сельское поселение поселок Стрелка-Чуня',\n       'Сельское поселение поселок Суломай',\n       'Момский национальный наслег', 'Суордахский наслег',\n       'Сельское поселение поселок Суринда', 'Урасалахский наслег',\n       'Мугурдахский наслег', 'Мятисский 1-й наслег', 'Сартанский наслег',\n       'сельское поселение Яр-Салинское',\n       'муниципальный округ Тазовский район',\n       'городское поселение п. Тазовский', 'Табалахский наслег',\n       'городское поселение Тарко-Сале', 'г. Апатиты', 'поселок Тикси',\n       'Борулахский наслег', 'Дулгалахский наслег',\n       'городское поселение Туманный', 'Туматский национальный наслег',\n       'Сельское поселение поселок Тура',\n       'Сельское поселение поселок Тутончаны', 'Угольнинский наслег',\n       'ГП Угольные Копи', 'сельское поселение Ура-Губа',\n       'городское поселение п. Уренгой', 'Усть-Белая',\n       'Карский сельсовет', 'поселок Усть-Куйга',\n       'Усть-Янский национальный наслег', 'Утаинский наслег',\n       'Сельское поселение поселок Учами', 'Уэлен', 'Уэлькаль',\n       'Уяндинский национальный наслег', 'Сельское поселение Хабарих',\n       'Омолойский национальный наслег', 'Эльгесский наслег',\n       'сельское поселение Халясавэй', 'сельское поселение Ханымей',\n       'сельское поселение Харампур', 'городское поселение п. Харп',\n       'Хоседа-Хардский сельсовет', 'Кирбейский национальный наслег',\n       'Хатынгнахский наслег', 'Хатырка', 'Хорей-Верский сельсовет',\n       'Сельское поселение поселок Чемдальск', 'поселок Черский',\n       'Черюмчинский наслег', 'Сельское поселение поселок Чиринда',\n       'Бёрёлёхский наслег', 'поселок Чокурдах', 'Янский наслег',\n       'Чуванское', 'Тебюлехский национальный наслег',\n       'Кангаласский 2-й наслег', 'ГП Эгвекинот',\n       'Шологонский национальный наслег',\n       'Сельское поселение поселок Эконда', 'Энмелен', 'Энурмино',\n       'поселок Эсэ-Хайя', 'Юкагирский национальный (кочевой) наслег',\n       'Сельское поселение поселок Юкта',\n       'Юрюнг-Хаинский национальный наслег',\n       'сельское поселение Ягельный',\n       'муниципальный округ Приуральский район', 'Янракэннот', 'Янранай'],\n      dtype=object)"
     },
     "execution_count": 19,
     "metadata": {},
     "output_type": "execute_result"
    }
   ],
   "source": [
    "geojson_data['okrug'].unique()"
   ],
   "metadata": {
    "collapsed": false
   }
  },
  {
   "cell_type": "code",
   "execution_count": 20,
   "outputs": [
    {
     "data": {
      "text/plain": "array(['Онежский муниципальный район', 'Мезенский муниципальный район',\n       'Пинежский муниципальный район', 'Приморский муниципальный район',\n       ' ', 'Лешуконский муниципальный район',\n       'Холмогорский муниципальный район', 'Кемский', 'Ковдорский район',\n       'городской округ Инта', 'Абыйский муниципальный район',\n       'Шурышкарский муниципальный район', 'Городской округ Певек',\n       'городской округ Усинск', 'Приуральский муниципальный округ',\n       'Кандалакшский район', 'Среднеколымский муниципальный район',\n       'Туруханский муниципальный район',\n       'Верхоянский муниципальный район',\n       'Анадырский муниципальный район', 'Лоухский',\n       'Нижнеколымский муниципальный район', 'Городской округ Эгвекинот',\n       'Заполярный муниципальный район', 'Городской округ Анадырь',\n       'Тазовский муниципальный округ', 'Билибинский муниципальный район',\n       'Таймырский Долгано-Ненецкий муниципальный район',\n       'Эвенкийский муниципальный район',\n       'Эвено-Бытантайский национальный муниципальный район',\n       'Жиганский муниципальный район', 'ЗАТО Александровск',\n       'Беломорский', 'Усть-Цилемский муниципальный район',\n       'Печенгский район', 'Калевальский муниципальный район',\n       'Момский муниципальный район', 'Булунский муниципальный район',\n       'Сегежский', 'Терский муниципальный район',\n       'Ижемский муниципальный район',\n       'Верхнеколымский муниципальный район',\n       'Кольский муниципальный район', 'ЗАТО  п. Видяево',\n       'Городской округ Воркута', 'город Губкинский',\n       'Усть-Янский муниципальный район', 'Жиганский',\n       'Оленёкский муниципальный район', 'ЗАТО город Заозёрск',\n       'Надымский муниципальный округ', 'Чукотский муниципальный район',\n       'Ловозерский муниципальный район',\n       'Красноселькупский муниципальный округ', 'ЗАТО город Островной',\n       'Анадырский', 'город Лабытнанги', 'городской округ Муравленко',\n       'Ямальский муниципальный округ', 'город Нарьян-Мар',\n       'Городской округ Провидения', 'городской округ Новый Уренгой',\n       'город Норильск', 'городской округ Ноябрьск',\n       'Аллаиховский муниципальный район', 'Терский район', 'Муезерский',\n       'город Салехард', 'Пуровский муниципальный округ',\n       'Пуровский муниципальный район', 'Ловозерский район',\n       'Ямальский муниципальный район',\n       'Анабарский национальный (долгано-эвенкийский) муниципальный район',\n       'ЗАТО город Североморск', 'Приуральский муниципальный район'],\n      dtype=object)"
     },
     "execution_count": 20,
     "metadata": {},
     "output_type": "execute_result"
    }
   ],
   "source": [
    "geojson_data['District'].unique()"
   ],
   "metadata": {
    "collapsed": false
   }
  },
  {
   "cell_type": "code",
   "execution_count": 21,
   "outputs": [
    {
     "data": {
      "text/plain": "        id         name                     type  \\\n0   230557  Архангельск                    город   \n1   230711    Карпогоры                     село   \n2   230714     Катунино                  поселок   \n3   230783  Лешуконское                     село   \n4   230820       Мезень                    город   \n..     ...          ...                      ...   \n83  234799  Усть-Цильма                     село   \n84  234875      Ханымей                  поселок   \n85  234898         Харп          рабочий поселок   \n86  235170    Эгвекинот  поселок городского типа   \n87  235250      Яр-Сале                     село   \n\n                             gicity                            okrug  \\\n0             Архангельская область      Городской округ Архангельск   \n1             Архангельская область  Карпогорское сельское поселение   \n2             Архангельская область   Катунинское сельское поселение   \n3             Архангельская область   Лешуконское сельское поселение   \n4             Архангельская область    Городское поселение Мезенское   \n..                              ...                              ...   \n83                  Республика Коми       Сельское поселение Усть-Ци   \n84  Ямало-Ненецкий автономный округ       сельское поселение Ханымей   \n85  Ямало-Ненецкий автономный округ      городское поселение п. Харп   \n86       Чукотский автономный округ                     ГП Эгвекинот   \n87  Ямало-Ненецкий автономный округ  сельское поселение Яр-Салинское   \n\n                              District  people        okato        oktmo  \\\n0                                       351226                             \n1        Пинежский муниципальный район    4443  11248808001  11648408101   \n2       Приморский муниципальный район    3443  11252820001  11652420101   \n3      Лешуконский муниципальный район    4406  11238808001  11638408101   \n4        Мезенский муниципальный район    3325  11242501000  11642101001   \n..                                 ...     ...          ...          ...   \n83  Усть-Цилемский муниципальный район    4877  87252840001  87652440101   \n84       Пуровский муниципальный округ    4542  71160000008  71940000136   \n85                    город Лабытнанги    5987  71158651000  71953000052   \n86           Городской округ Эгвекинот    3034  77215551000  77715000051   \n87       Ямальский муниципальный округ    6486  71168000001  71948000101   \n\n                                             geometry  \n0   MULTIPOLYGON (((4493091.726 9477392.354, 44930...  \n1   MULTIPOLYGON (((4945059.655 9353419.111, 49451...  \n2   MULTIPOLYGON (((4524431.479 9449070.848, 45248...  \n3   MULTIPOLYGON (((5097053.154 9583529.095, 50970...  \n4   MULTIPOLYGON (((4923043.334 9838336.924, 49230...  \n..                                                ...  \n83  MULTIPOLYGON (((5806815.764 9730929.894, 58068...  \n84  MULTIPOLYGON (((8449937.049 9279753.819, 84499...  \n85  MULTIPOLYGON (((7326259.615 10094801.598, 7325...  \n86  MULTIPOLYGON (((-19940923.997 9965870.714, -19...  \n87  MULTIPOLYGON (((7886137.552 10118744.936, 7886...  \n\n[88 rows x 10 columns]",
      "text/html": "<div>\n<style scoped>\n    .dataframe tbody tr th:only-of-type {\n        vertical-align: middle;\n    }\n\n    .dataframe tbody tr th {\n        vertical-align: top;\n    }\n\n    .dataframe thead th {\n        text-align: right;\n    }\n</style>\n<table border=\"1\" class=\"dataframe\">\n  <thead>\n    <tr style=\"text-align: right;\">\n      <th></th>\n      <th>id</th>\n      <th>name</th>\n      <th>type</th>\n      <th>gicity</th>\n      <th>okrug</th>\n      <th>District</th>\n      <th>people</th>\n      <th>okato</th>\n      <th>oktmo</th>\n      <th>geometry</th>\n    </tr>\n  </thead>\n  <tbody>\n    <tr>\n      <th>0</th>\n      <td>230557</td>\n      <td>Архангельск</td>\n      <td>город</td>\n      <td>Архангельская область</td>\n      <td>Городской округ Архангельск</td>\n      <td></td>\n      <td>351226</td>\n      <td></td>\n      <td></td>\n      <td>MULTIPOLYGON (((4493091.726 9477392.354, 44930...</td>\n    </tr>\n    <tr>\n      <th>1</th>\n      <td>230711</td>\n      <td>Карпогоры</td>\n      <td>село</td>\n      <td>Архангельская область</td>\n      <td>Карпогорское сельское поселение</td>\n      <td>Пинежский муниципальный район</td>\n      <td>4443</td>\n      <td>11248808001</td>\n      <td>11648408101</td>\n      <td>MULTIPOLYGON (((4945059.655 9353419.111, 49451...</td>\n    </tr>\n    <tr>\n      <th>2</th>\n      <td>230714</td>\n      <td>Катунино</td>\n      <td>поселок</td>\n      <td>Архангельская область</td>\n      <td>Катунинское сельское поселение</td>\n      <td>Приморский муниципальный район</td>\n      <td>3443</td>\n      <td>11252820001</td>\n      <td>11652420101</td>\n      <td>MULTIPOLYGON (((4524431.479 9449070.848, 45248...</td>\n    </tr>\n    <tr>\n      <th>3</th>\n      <td>230783</td>\n      <td>Лешуконское</td>\n      <td>село</td>\n      <td>Архангельская область</td>\n      <td>Лешуконское сельское поселение</td>\n      <td>Лешуконский муниципальный район</td>\n      <td>4406</td>\n      <td>11238808001</td>\n      <td>11638408101</td>\n      <td>MULTIPOLYGON (((5097053.154 9583529.095, 50970...</td>\n    </tr>\n    <tr>\n      <th>4</th>\n      <td>230820</td>\n      <td>Мезень</td>\n      <td>город</td>\n      <td>Архангельская область</td>\n      <td>Городское поселение Мезенское</td>\n      <td>Мезенский муниципальный район</td>\n      <td>3325</td>\n      <td>11242501000</td>\n      <td>11642101001</td>\n      <td>MULTIPOLYGON (((4923043.334 9838336.924, 49230...</td>\n    </tr>\n    <tr>\n      <th>...</th>\n      <td>...</td>\n      <td>...</td>\n      <td>...</td>\n      <td>...</td>\n      <td>...</td>\n      <td>...</td>\n      <td>...</td>\n      <td>...</td>\n      <td>...</td>\n      <td>...</td>\n    </tr>\n    <tr>\n      <th>83</th>\n      <td>234799</td>\n      <td>Усть-Цильма</td>\n      <td>село</td>\n      <td>Республика Коми</td>\n      <td>Сельское поселение Усть-Ци</td>\n      <td>Усть-Цилемский муниципальный район</td>\n      <td>4877</td>\n      <td>87252840001</td>\n      <td>87652440101</td>\n      <td>MULTIPOLYGON (((5806815.764 9730929.894, 58068...</td>\n    </tr>\n    <tr>\n      <th>84</th>\n      <td>234875</td>\n      <td>Ханымей</td>\n      <td>поселок</td>\n      <td>Ямало-Ненецкий автономный округ</td>\n      <td>сельское поселение Ханымей</td>\n      <td>Пуровский муниципальный округ</td>\n      <td>4542</td>\n      <td>71160000008</td>\n      <td>71940000136</td>\n      <td>MULTIPOLYGON (((8449937.049 9279753.819, 84499...</td>\n    </tr>\n    <tr>\n      <th>85</th>\n      <td>234898</td>\n      <td>Харп</td>\n      <td>рабочий поселок</td>\n      <td>Ямало-Ненецкий автономный округ</td>\n      <td>городское поселение п. Харп</td>\n      <td>город Лабытнанги</td>\n      <td>5987</td>\n      <td>71158651000</td>\n      <td>71953000052</td>\n      <td>MULTIPOLYGON (((7326259.615 10094801.598, 7325...</td>\n    </tr>\n    <tr>\n      <th>86</th>\n      <td>235170</td>\n      <td>Эгвекинот</td>\n      <td>поселок городского типа</td>\n      <td>Чукотский автономный округ</td>\n      <td>ГП Эгвекинот</td>\n      <td>Городской округ Эгвекинот</td>\n      <td>3034</td>\n      <td>77215551000</td>\n      <td>77715000051</td>\n      <td>MULTIPOLYGON (((-19940923.997 9965870.714, -19...</td>\n    </tr>\n    <tr>\n      <th>87</th>\n      <td>235250</td>\n      <td>Яр-Сале</td>\n      <td>село</td>\n      <td>Ямало-Ненецкий автономный округ</td>\n      <td>сельское поселение Яр-Салинское</td>\n      <td>Ямальский муниципальный округ</td>\n      <td>6486</td>\n      <td>71168000001</td>\n      <td>71948000101</td>\n      <td>MULTIPOLYGON (((7886137.552 10118744.936, 7886...</td>\n    </tr>\n  </tbody>\n</table>\n<p>88 rows × 10 columns</p>\n</div>"
     },
     "execution_count": 21,
     "metadata": {},
     "output_type": "execute_result"
    }
   ],
   "source": [
    "geojson_data = geopandas.read_file('data/geojsons/base_obl_people_3000.geojson')\n",
    "geojson_data"
   ],
   "metadata": {
    "collapsed": false
   }
  },
  {
   "cell_type": "code",
   "execution_count": 22,
   "outputs": [
    {
     "data": {
      "text/plain": "array(['город', 'село', 'поселок', 'пгт', 'поселок городского типа',\n       'н.п.', 'п.г.т.', 'рабочий поселок'], dtype=object)"
     },
     "execution_count": 22,
     "metadata": {},
     "output_type": "execute_result"
    }
   ],
   "source": [
    "geojson_data['type'].unique()"
   ],
   "metadata": {
    "collapsed": false
   }
  },
  {
   "cell_type": "code",
   "execution_count": 23,
   "outputs": [
    {
     "data": {
      "text/plain": "array(['Архангельская область', 'Ямало-Ненецкий автономный округ',\n       'Мурманская область', 'Чукотский автономный округ',\n       'Красноярский край', 'Республика Саха (Якутия)',\n       'Республика Карелия', 'Республика Коми',\n       'Ненецкий автономный округ', 'Ямало-Ненецкий автономный'],\n      dtype=object)"
     },
     "execution_count": 23,
     "metadata": {},
     "output_type": "execute_result"
    }
   ],
   "source": [
    "geojson_data['gicity'].unique()"
   ],
   "metadata": {
    "collapsed": false
   }
  },
  {
   "cell_type": "code",
   "execution_count": 24,
   "outputs": [
    {
     "data": {
      "text/plain": "array(['Городской округ Архангельск', 'Карпогорское сельское поселение',\n       'Катунинское сельское поселение', 'Лешуконское сельское поселение',\n       'Городское поселение Мезенское', 'Городской округ Новодвинск',\n       'Городское поселение Онежское', 'Пинежское сельское поселение',\n       'Городской округ Северодвинск', 'Уемское сельское поселение',\n       'сельское поселение Аксарковское', 'сельское поселение Алакуртти',\n       'ГО Город Анадырь', ' ', 'Сельское поселение село Байкит',\n       'поселок Батагай', 'ГП Беринговский', 'ГП Город Билибино',\n       'Сельское поселение село Ванавара', 'г. Оленегорск', nan,\n       'сельское поселение Гыда', 'Городское поселение Дудинка',\n       'Жиганский наслег', 'городское поселение Заполярный',\n       'городское поселение Зеленоборский',\n       'Городское поселение город Игарка', 'Инта',\n       'рабочий поселок Искателей', 'Калевальское',\n       'городское поселение Кандалакша', 'городское поселение Кола',\n       'ГО Костомукша', 'сельское поселение Красноселькуп',\n       'городское поселение Молочный', 'сельское поселение Мужевское',\n       'городское поселение Мурмаши', 'ГП Надвоицкое',\n       'Надымский муниципальный район', 'городское поселение Никель',\n       'город Норильск', 'городское поселение п. Пангоды',\n       'ГП Город Певек', 'городское поселение Печенга',\n       'сельское поселение Пурпе', 'городское поселение Ревда',\n       'город Среднеколымск', 'городское поселение п. Тазовский',\n       'городское поселение Тарко-Сале', 'поселок Тикси',\n       'Сельское поселение поселок Тура',\n       'Сельское поселение Туруханский сельсовет',\n       'городское поселение Умба', 'городское поселение п. Уренгой',\n       'Усинск', 'Сельское поселение Усть-Ци',\n       'сельское поселение Ханымей', 'городское поселение п. Харп',\n       'ГП Эгвекинот', 'сельское поселение Яр-Салинское'], dtype=object)"
     },
     "execution_count": 24,
     "metadata": {},
     "output_type": "execute_result"
    }
   ],
   "source": [
    "geojson_data['okrug'].unique()"
   ],
   "metadata": {
    "collapsed": false
   }
  },
  {
   "cell_type": "code",
   "execution_count": 25,
   "outputs": [
    {
     "data": {
      "text/plain": "array([' ', 'Пинежский муниципальный район',\n       'Приморский муниципальный район',\n       'Лешуконский муниципальный район', 'Мезенский муниципальный район',\n       'Онежский муниципальный район', 'Приуральский муниципальный округ',\n       'Кандалакшский район', 'Городской округ Анадырь',\n       'Ковдорский район', 'Эвенкийский муниципальный район',\n       'Верхоянский муниципальный район', 'Беломорский',\n       'Анадырский муниципальный район',\n       'Билибинский муниципальный район', 'ЗАТО  п. Видяево',\n       'Городской округ Воркута', 'ЗАТО Александровск',\n       'город Губкинский', 'Тазовский муниципальный округ',\n       'Таймырский Долгано-Ненецкий муниципальный район',\n       'Жиганский муниципальный район', 'ЗАТО город Заозёрск',\n       'Печенгский район', 'Туруханский муниципальный район',\n       'городской округ Инта', 'Заполярный муниципальный район',\n       'Калевальский муниципальный район', 'Кемский',\n       'Кольский муниципальный район',\n       'Красноселькупский муниципальный округ', 'город Лабытнанги',\n       'Лоухский', 'Шурышкарский муниципальный район',\n       'городской округ Муравленко', 'Сегежский',\n       'Надымский муниципальный округ', 'город Нарьян-Мар',\n       'городской округ Новый Уренгой', 'город Норильск',\n       'городской округ Ноябрьск', 'Городской округ Певек',\n       'Пуровский муниципальный район', 'Ловозерский район',\n       'Ямальский муниципальный район', 'город Салехард',\n       'ЗАТО город Североморск', 'Среднеколымский муниципальный район',\n       'Пуровский муниципальный округ', 'Булунский муниципальный район',\n       'Терский район', 'городской округ Усинск',\n       'Усть-Цилемский муниципальный район', 'Городской округ Эгвекинот',\n       'Ямальский муниципальный округ'], dtype=object)"
     },
     "execution_count": 25,
     "metadata": {},
     "output_type": "execute_result"
    }
   ],
   "source": [
    "geojson_data['District'].unique()"
   ],
   "metadata": {
    "collapsed": false
   }
  },
  {
   "cell_type": "code",
   "execution_count": 26,
   "outputs": [
    {
     "data": {
      "text/plain": "           id            city  year                         geometry\n0     3600851  г. Архангельск  1972  POINT (4500192.491 9488394.583)\n1     3600852  г. Архангельск  1971  POINT (4500308.835 9488520.679)\n2     3600853  г. Архангельск  1974  POINT (4500297.482 9488325.283)\n3     3600854  г. Архангельск  1983  POINT (4500168.955 9488291.246)\n4     3600855  г. Архангельск  1984  POINT (4500293.296 9488209.193)\n...       ...             ...   ...                              ...\n9599  3698034  г. Архангельск     0  POINT (4519707.459 9456741.321)\n9600  3698035  г. Архангельск     0  POINT (4519982.098 9456912.771)\n9601  3698036  г. Архангельск     0  POINT (4519640.784 9456342.858)\n9602  3698037  г. Архангельск     0  POINT (4519888.435 9456160.295)\n9603  3698038  г. Архангельск     0  POINT (4519755.085 9456334.920)\n\n[9604 rows x 4 columns]",
      "text/html": "<div>\n<style scoped>\n    .dataframe tbody tr th:only-of-type {\n        vertical-align: middle;\n    }\n\n    .dataframe tbody tr th {\n        vertical-align: top;\n    }\n\n    .dataframe thead th {\n        text-align: right;\n    }\n</style>\n<table border=\"1\" class=\"dataframe\">\n  <thead>\n    <tr style=\"text-align: right;\">\n      <th></th>\n      <th>id</th>\n      <th>city</th>\n      <th>year</th>\n      <th>geometry</th>\n    </tr>\n  </thead>\n  <tbody>\n    <tr>\n      <th>0</th>\n      <td>3600851</td>\n      <td>г. Архангельск</td>\n      <td>1972</td>\n      <td>POINT (4500192.491 9488394.583)</td>\n    </tr>\n    <tr>\n      <th>1</th>\n      <td>3600852</td>\n      <td>г. Архангельск</td>\n      <td>1971</td>\n      <td>POINT (4500308.835 9488520.679)</td>\n    </tr>\n    <tr>\n      <th>2</th>\n      <td>3600853</td>\n      <td>г. Архангельск</td>\n      <td>1974</td>\n      <td>POINT (4500297.482 9488325.283)</td>\n    </tr>\n    <tr>\n      <th>3</th>\n      <td>3600854</td>\n      <td>г. Архангельск</td>\n      <td>1983</td>\n      <td>POINT (4500168.955 9488291.246)</td>\n    </tr>\n    <tr>\n      <th>4</th>\n      <td>3600855</td>\n      <td>г. Архангельск</td>\n      <td>1984</td>\n      <td>POINT (4500293.296 9488209.193)</td>\n    </tr>\n    <tr>\n      <th>...</th>\n      <td>...</td>\n      <td>...</td>\n      <td>...</td>\n      <td>...</td>\n    </tr>\n    <tr>\n      <th>9599</th>\n      <td>3698034</td>\n      <td>г. Архангельск</td>\n      <td>0</td>\n      <td>POINT (4519707.459 9456741.321)</td>\n    </tr>\n    <tr>\n      <th>9600</th>\n      <td>3698035</td>\n      <td>г. Архангельск</td>\n      <td>0</td>\n      <td>POINT (4519982.098 9456912.771)</td>\n    </tr>\n    <tr>\n      <th>9601</th>\n      <td>3698036</td>\n      <td>г. Архангельск</td>\n      <td>0</td>\n      <td>POINT (4519640.784 9456342.858)</td>\n    </tr>\n    <tr>\n      <th>9602</th>\n      <td>3698037</td>\n      <td>г. Архангельск</td>\n      <td>0</td>\n      <td>POINT (4519888.435 9456160.295)</td>\n    </tr>\n    <tr>\n      <th>9603</th>\n      <td>3698038</td>\n      <td>г. Архангельск</td>\n      <td>0</td>\n      <td>POINT (4519755.085 9456334.920)</td>\n    </tr>\n  </tbody>\n</table>\n<p>9604 rows × 4 columns</p>\n</div>"
     },
     "execution_count": 26,
     "metadata": {},
     "output_type": "execute_result"
    }
   ],
   "source": [
    "geojson_data = geopandas.read_file('data/geojsons/buildings.geojson')\n",
    "geojson_data"
   ],
   "metadata": {
    "collapsed": false
   }
  },
  {
   "cell_type": "code",
   "execution_count": 27,
   "outputs": [
    {
     "data": {
      "text/plain": "array(['г. Архангельск'], dtype=object)"
     },
     "execution_count": 27,
     "metadata": {},
     "output_type": "execute_result"
    }
   ],
   "source": [
    "geojson_data['city'].unique()"
   ],
   "metadata": {
    "collapsed": false
   }
  },
  {
   "cell_type": "code",
   "execution_count": 28,
   "outputs": [
    {
     "data": {
      "text/plain": "        id          name             type  level  sub  \\\n0        1    Приморский            Район      3    3   \n1        2      Онежский            Район      3    3   \n2        3   Архангельск  Городской округ      3    3   \n3        4     Мезенский            Район      3    3   \n4        5    Новодвинск  Городской округ      3    3   \n..     ...           ...              ...    ...  ...   \n70      74       Анадырь  Городской округ      3   83   \n71     286     Эгвекинот  Городской округ      3   83   \n72     287  Северодвинск  Городской округ      3    3   \n73  134960  Провиденский  Городской округ      3   83   \n74  134963     Чукотский            Район      3   83   \n\n                        region  people    sum_bad    percent  road_density  \\\n0        Архангельская область   25639  454.17900  22.587524      0.039698   \n1        Архангельская область   30762  497.02700  52.266499      0.199816   \n2        Архангельская область  358594   22.83000   1.136748      5.871852   \n3        Архангельская область    9049   43.69100  14.974974      0.022642   \n4        Архангельская область   38735    6.32300   3.918472      5.186903   \n..                         ...     ...        ...        ...           ...   \n70  Чукотский автономный округ   15956    0.00000   0.000000      4.184617   \n71  Чукотский автономный округ    4692    0.00000   0.000000      0.026273   \n72       Архангельская область  180668  150.38785  22.204511      1.817588   \n73  Чукотский автономный округ    3689    0.00000   0.000000      0.031817   \n74  Чукотский автономный округ    4182    0.00000   0.000000      0.055240   \n\n    road_demand  id_full  count_bad  avg_free_speed_to_limit      sum_all  \\\n0          7817    191.0       1276                 0.540127  4566.956058   \n1           258    198.0        557                 0.769203  5690.231916   \n2          6029    202.0        110                 0.635683  2046.616862   \n3            46    203.0         71                 0.768396   954.434835   \n4            96    212.0         51                 0.801412   162.067305   \n..          ...      ...        ...                      ...          ...   \n70            3   2423.0          0                 0.000000    89.506593   \n71           23   2456.0          0                 0.000000  4437.756403   \n72          244      NaN        470                 0.627292   677.285140   \n73            5   2477.0          0                 0.000000  1247.821182   \n74            9   2478.0          0                 0.000000  2525.149509   \n\n    sum_all_signal                                           geometry  \n0      2010.751573  MULTIPOLYGON (((6752340.851 16757142.533, 6747...  \n1       950.947574  MULTIPOLYGON (((4137834.751 9506878.049, 41661...  \n2      2008.360347  MULTIPOLYGON (((4508803.091 9540731.081, 45093...  \n3       291.760102  MULTIPOLYGON (((5087061.492 9897633.556, 50901...  \n4       161.363905  MULTIPOLYGON (((4533605.041 9449309.924, 45336...  \n..             ...                                                ...  \n70       86.978546  MULTIPOLYGON (((19751275.608 9540142.569, 1975...  \n71      175.607407  MULTIPOLYGON (((20037507.067 9541865.650, 2003...  \n72      677.285140  MULTIPOLYGON (((4325186.656 9530894.426, 43252...  \n73       58.982714  MULTIPOLYGON (((-19732155.028 10009001.822, -1...  \n74       71.505684  MULTIPOLYGON (((-19551953.062 9918800.103, -19...  \n\n[75 rows x 17 columns]",
      "text/html": "<div>\n<style scoped>\n    .dataframe tbody tr th:only-of-type {\n        vertical-align: middle;\n    }\n\n    .dataframe tbody tr th {\n        vertical-align: top;\n    }\n\n    .dataframe thead th {\n        text-align: right;\n    }\n</style>\n<table border=\"1\" class=\"dataframe\">\n  <thead>\n    <tr style=\"text-align: right;\">\n      <th></th>\n      <th>id</th>\n      <th>name</th>\n      <th>type</th>\n      <th>level</th>\n      <th>sub</th>\n      <th>region</th>\n      <th>people</th>\n      <th>sum_bad</th>\n      <th>percent</th>\n      <th>road_density</th>\n      <th>road_demand</th>\n      <th>id_full</th>\n      <th>count_bad</th>\n      <th>avg_free_speed_to_limit</th>\n      <th>sum_all</th>\n      <th>sum_all_signal</th>\n      <th>geometry</th>\n    </tr>\n  </thead>\n  <tbody>\n    <tr>\n      <th>0</th>\n      <td>1</td>\n      <td>Приморский</td>\n      <td>Район</td>\n      <td>3</td>\n      <td>3</td>\n      <td>Архангельская область</td>\n      <td>25639</td>\n      <td>454.17900</td>\n      <td>22.587524</td>\n      <td>0.039698</td>\n      <td>7817</td>\n      <td>191.0</td>\n      <td>1276</td>\n      <td>0.540127</td>\n      <td>4566.956058</td>\n      <td>2010.751573</td>\n      <td>MULTIPOLYGON (((6752340.851 16757142.533, 6747...</td>\n    </tr>\n    <tr>\n      <th>1</th>\n      <td>2</td>\n      <td>Онежский</td>\n      <td>Район</td>\n      <td>3</td>\n      <td>3</td>\n      <td>Архангельская область</td>\n      <td>30762</td>\n      <td>497.02700</td>\n      <td>52.266499</td>\n      <td>0.199816</td>\n      <td>258</td>\n      <td>198.0</td>\n      <td>557</td>\n      <td>0.769203</td>\n      <td>5690.231916</td>\n      <td>950.947574</td>\n      <td>MULTIPOLYGON (((4137834.751 9506878.049, 41661...</td>\n    </tr>\n    <tr>\n      <th>2</th>\n      <td>3</td>\n      <td>Архангельск</td>\n      <td>Городской округ</td>\n      <td>3</td>\n      <td>3</td>\n      <td>Архангельская область</td>\n      <td>358594</td>\n      <td>22.83000</td>\n      <td>1.136748</td>\n      <td>5.871852</td>\n      <td>6029</td>\n      <td>202.0</td>\n      <td>110</td>\n      <td>0.635683</td>\n      <td>2046.616862</td>\n      <td>2008.360347</td>\n      <td>MULTIPOLYGON (((4508803.091 9540731.081, 45093...</td>\n    </tr>\n    <tr>\n      <th>3</th>\n      <td>4</td>\n      <td>Мезенский</td>\n      <td>Район</td>\n      <td>3</td>\n      <td>3</td>\n      <td>Архангельская область</td>\n      <td>9049</td>\n      <td>43.69100</td>\n      <td>14.974974</td>\n      <td>0.022642</td>\n      <td>46</td>\n      <td>203.0</td>\n      <td>71</td>\n      <td>0.768396</td>\n      <td>954.434835</td>\n      <td>291.760102</td>\n      <td>MULTIPOLYGON (((5087061.492 9897633.556, 50901...</td>\n    </tr>\n    <tr>\n      <th>4</th>\n      <td>5</td>\n      <td>Новодвинск</td>\n      <td>Городской округ</td>\n      <td>3</td>\n      <td>3</td>\n      <td>Архангельская область</td>\n      <td>38735</td>\n      <td>6.32300</td>\n      <td>3.918472</td>\n      <td>5.186903</td>\n      <td>96</td>\n      <td>212.0</td>\n      <td>51</td>\n      <td>0.801412</td>\n      <td>162.067305</td>\n      <td>161.363905</td>\n      <td>MULTIPOLYGON (((4533605.041 9449309.924, 45336...</td>\n    </tr>\n    <tr>\n      <th>...</th>\n      <td>...</td>\n      <td>...</td>\n      <td>...</td>\n      <td>...</td>\n      <td>...</td>\n      <td>...</td>\n      <td>...</td>\n      <td>...</td>\n      <td>...</td>\n      <td>...</td>\n      <td>...</td>\n      <td>...</td>\n      <td>...</td>\n      <td>...</td>\n      <td>...</td>\n      <td>...</td>\n      <td>...</td>\n    </tr>\n    <tr>\n      <th>70</th>\n      <td>74</td>\n      <td>Анадырь</td>\n      <td>Городской округ</td>\n      <td>3</td>\n      <td>83</td>\n      <td>Чукотский автономный округ</td>\n      <td>15956</td>\n      <td>0.00000</td>\n      <td>0.000000</td>\n      <td>4.184617</td>\n      <td>3</td>\n      <td>2423.0</td>\n      <td>0</td>\n      <td>0.000000</td>\n      <td>89.506593</td>\n      <td>86.978546</td>\n      <td>MULTIPOLYGON (((19751275.608 9540142.569, 1975...</td>\n    </tr>\n    <tr>\n      <th>71</th>\n      <td>286</td>\n      <td>Эгвекинот</td>\n      <td>Городской округ</td>\n      <td>3</td>\n      <td>83</td>\n      <td>Чукотский автономный округ</td>\n      <td>4692</td>\n      <td>0.00000</td>\n      <td>0.000000</td>\n      <td>0.026273</td>\n      <td>23</td>\n      <td>2456.0</td>\n      <td>0</td>\n      <td>0.000000</td>\n      <td>4437.756403</td>\n      <td>175.607407</td>\n      <td>MULTIPOLYGON (((20037507.067 9541865.650, 2003...</td>\n    </tr>\n    <tr>\n      <th>72</th>\n      <td>287</td>\n      <td>Северодвинск</td>\n      <td>Городской округ</td>\n      <td>3</td>\n      <td>3</td>\n      <td>Архангельская область</td>\n      <td>180668</td>\n      <td>150.38785</td>\n      <td>22.204511</td>\n      <td>1.817588</td>\n      <td>244</td>\n      <td>NaN</td>\n      <td>470</td>\n      <td>0.627292</td>\n      <td>677.285140</td>\n      <td>677.285140</td>\n      <td>MULTIPOLYGON (((4325186.656 9530894.426, 43252...</td>\n    </tr>\n    <tr>\n      <th>73</th>\n      <td>134960</td>\n      <td>Провиденский</td>\n      <td>Городской округ</td>\n      <td>3</td>\n      <td>83</td>\n      <td>Чукотский автономный округ</td>\n      <td>3689</td>\n      <td>0.00000</td>\n      <td>0.000000</td>\n      <td>0.031817</td>\n      <td>5</td>\n      <td>2477.0</td>\n      <td>0</td>\n      <td>0.000000</td>\n      <td>1247.821182</td>\n      <td>58.982714</td>\n      <td>MULTIPOLYGON (((-19732155.028 10009001.822, -1...</td>\n    </tr>\n    <tr>\n      <th>74</th>\n      <td>134963</td>\n      <td>Чукотский</td>\n      <td>Район</td>\n      <td>3</td>\n      <td>83</td>\n      <td>Чукотский автономный округ</td>\n      <td>4182</td>\n      <td>0.00000</td>\n      <td>0.000000</td>\n      <td>0.055240</td>\n      <td>9</td>\n      <td>2478.0</td>\n      <td>0</td>\n      <td>0.000000</td>\n      <td>2525.149509</td>\n      <td>71.505684</td>\n      <td>MULTIPOLYGON (((-19551953.062 9918800.103, -19...</td>\n    </tr>\n  </tbody>\n</table>\n<p>75 rows × 17 columns</p>\n</div>"
     },
     "execution_count": 28,
     "metadata": {},
     "output_type": "execute_result"
    }
   ],
   "source": [
    "geojson_data = geopandas.read_file('data/geojsons/mun_obr_all_bad.geojson')\n",
    "geojson_data"
   ],
   "metadata": {
    "collapsed": false
   }
  },
  {
   "cell_type": "code",
   "execution_count": 29,
   "outputs": [
    {
     "data": {
      "text/plain": "array(['Приморский', 'Онежский', 'Архангельск', 'Мезенский', 'Новодвинск',\n       'Пинежский', 'Лешуконский', 'Новая Земля', 'Норильск',\n       'Туруханский', 'Эвенкийский', 'Таймырский Долгано-Ненецкий',\n       'Печенгский', 'Кольский', 'Кандалакшский', 'Терский',\n       'Ловозерский', 'Мончегорск', 'Полярные Зори', 'Апатиты', 'Видяево',\n       'Оленегорск', 'Мурманск', 'Александровск', 'Североморск',\n       'Кировск', 'Островной', 'Ковдорский', 'Заозёрск', 'Заполярный',\n       'Нарьян-Мар', 'Лоухский', 'Калевальский', 'Кемский', 'Беломорский',\n       'Сегежский', 'Костомукшский', 'Усть-Цилемский', 'Усинск',\n       'Воркута', 'Инта', 'Надымский', 'Лабытнанги', 'Муравленко',\n       'Ноябрьск', 'Новый Уренгой', 'Губкинский', 'Салехард',\n       'Красноселькупский', 'Приуральский', 'Пуровский', 'Тазовский',\n       'Шурышкарский', 'Ямальский', 'Верхоянский', 'Момский', 'Абыйский',\n       'Верхнеколымский', 'Среднеколымский', 'Оленёкский',\n       'Жиганский национальный эвенкийский',\n       'Эвено-Бытантайский национальный', 'Анабарский национальный',\n       'Булунский', 'Усть-Янский', 'Аллаиховский', 'Нижнеколымский',\n       'Билибинский', 'Анадырский', 'Певек', 'Анадырь', 'Эгвекинот',\n       'Северодвинск', 'Провиденский', 'Чукотский'], dtype=object)"
     },
     "execution_count": 29,
     "metadata": {},
     "output_type": "execute_result"
    }
   ],
   "source": [
    "geojson_data['name'].unique()"
   ],
   "metadata": {
    "collapsed": false
   }
  },
  {
   "cell_type": "code",
   "execution_count": 30,
   "outputs": [
    {
     "data": {
      "text/plain": "array(['Архангельская область', 'Красноярский край', 'Мурманская область',\n       'Ненецкий автономный округ', 'республика Карелия',\n       'республика Коми', 'Ямало-Ненецкий автономный округ',\n       'республика Саха (Якутия)', 'Чукотский автономный округ'],\n      dtype=object)"
     },
     "execution_count": 30,
     "metadata": {},
     "output_type": "execute_result"
    }
   ],
   "source": [
    "geojson_data['region'].unique()"
   ],
   "metadata": {
    "collapsed": false
   }
  },
  {
   "cell_type": "code",
   "execution_count": 31,
   "outputs": [
    {
     "data": {
      "text/plain": "        id           NAME                    type  level_  sub  id_full  \\\n0   143786     Приморский                   Район       3    3      191   \n1   143844    Лешуконский                   Район       3    3      196   \n2   143788       Онежский                   Район       3    3      198   \n3   143821      Пинежский                   Район       3    3      199   \n4   143805    Архангельск         Городской округ       3    3      202   \n..     ...            ...                     ...     ...  ...      ...   \n82  143557    Октябрьский  Административный округ       4  202    19520   \n83  143558       Северный  Административный округ       4  202    19521   \n84  143559   Исакогорский  Административный округ       4  202    19522   \n85  143560  Ломоносовский  Административный округ       4  202    19523   \n86  143561  Соломбальский  Административный округ       4  202    19524   \n\n                   region                     district  \\\n0   Архангельская область             Приморский район   \n1   Архангельская область            Лешуконский район   \n2   Архангельская область               Онежский район   \n3   Архангельская область              Пинежский район   \n4   Архангельская область  городской округ Архангельск   \n..                    ...                          ...   \n82  Архангельская область  городской округ Архангельск   \n83  Архангельская область  городской округ Архангельск   \n84  Архангельская область  городской округ Архангельск   \n85  Архангельская область  городской округ Архангельск   \n86  Архангельская область  городской округ Архангельск   \n\n                                   okrug  people         OKTMO        OKATO  \\\n0                                          24938   11652000000  11252000000   \n1                                           5693   11638000000  11238000000   \n2                                          27705   11646000000  11246000000   \n3                                          19946   11648000000  11248000000   \n4                                         349190   11701000000  11401000000   \n..                                   ...     ...           ...          ...   \n82    Октябрьский административный округ   84497  199701000000  11401380000   \n83       Северный административный округ   25126  199701000000  11401388000   \n84   Исакогорский административный округ   28321  199701000000  11401365000   \n85  Ломоносовский административный округ   71885  199701000000  11401370000   \n86  Соломбальский административный округ   35801  199701000000  11401390000   \n\n                                             geometry  \n0   MULTIPOLYGON (((6752340.851 16757142.533, 6747...  \n1   MULTIPOLYGON (((5459088.704 9724030.198, 54604...  \n2   MULTIPOLYGON (((4137834.751 9506878.049, 41661...  \n3   MULTIPOLYGON (((4690392.521 9682000.155, 47109...  \n4   MULTIPOLYGON (((4508803.091 9540731.081, 45093...  \n..                                                ...  \n82  MULTIPOLYGON (((4531688.397 9507199.956, 45316...  \n83  MULTIPOLYGON (((4497782.818 9539172.007, 44978...  \n84  MULTIPOLYGON (((4506629.177 9483319.237, 45066...  \n85  MULTIPOLYGON (((4507616.414 9486119.262, 45081...  \n86  MULTIPOLYGON (((4512212.607 9505873.292, 45122...  \n\n[87 rows x 13 columns]",
      "text/html": "<div>\n<style scoped>\n    .dataframe tbody tr th:only-of-type {\n        vertical-align: middle;\n    }\n\n    .dataframe tbody tr th {\n        vertical-align: top;\n    }\n\n    .dataframe thead th {\n        text-align: right;\n    }\n</style>\n<table border=\"1\" class=\"dataframe\">\n  <thead>\n    <tr style=\"text-align: right;\">\n      <th></th>\n      <th>id</th>\n      <th>NAME</th>\n      <th>type</th>\n      <th>level_</th>\n      <th>sub</th>\n      <th>id_full</th>\n      <th>region</th>\n      <th>district</th>\n      <th>okrug</th>\n      <th>people</th>\n      <th>OKTMO</th>\n      <th>OKATO</th>\n      <th>geometry</th>\n    </tr>\n  </thead>\n  <tbody>\n    <tr>\n      <th>0</th>\n      <td>143786</td>\n      <td>Приморский</td>\n      <td>Район</td>\n      <td>3</td>\n      <td>3</td>\n      <td>191</td>\n      <td>Архангельская область</td>\n      <td>Приморский район</td>\n      <td></td>\n      <td>24938</td>\n      <td>11652000000</td>\n      <td>11252000000</td>\n      <td>MULTIPOLYGON (((6752340.851 16757142.533, 6747...</td>\n    </tr>\n    <tr>\n      <th>1</th>\n      <td>143844</td>\n      <td>Лешуконский</td>\n      <td>Район</td>\n      <td>3</td>\n      <td>3</td>\n      <td>196</td>\n      <td>Архангельская область</td>\n      <td>Лешуконский район</td>\n      <td></td>\n      <td>5693</td>\n      <td>11638000000</td>\n      <td>11238000000</td>\n      <td>MULTIPOLYGON (((5459088.704 9724030.198, 54604...</td>\n    </tr>\n    <tr>\n      <th>2</th>\n      <td>143788</td>\n      <td>Онежский</td>\n      <td>Район</td>\n      <td>3</td>\n      <td>3</td>\n      <td>198</td>\n      <td>Архангельская область</td>\n      <td>Онежский район</td>\n      <td></td>\n      <td>27705</td>\n      <td>11646000000</td>\n      <td>11246000000</td>\n      <td>MULTIPOLYGON (((4137834.751 9506878.049, 41661...</td>\n    </tr>\n    <tr>\n      <th>3</th>\n      <td>143821</td>\n      <td>Пинежский</td>\n      <td>Район</td>\n      <td>3</td>\n      <td>3</td>\n      <td>199</td>\n      <td>Архангельская область</td>\n      <td>Пинежский район</td>\n      <td></td>\n      <td>19946</td>\n      <td>11648000000</td>\n      <td>11248000000</td>\n      <td>MULTIPOLYGON (((4690392.521 9682000.155, 47109...</td>\n    </tr>\n    <tr>\n      <th>4</th>\n      <td>143805</td>\n      <td>Архангельск</td>\n      <td>Городской округ</td>\n      <td>3</td>\n      <td>3</td>\n      <td>202</td>\n      <td>Архангельская область</td>\n      <td>городской округ Архангельск</td>\n      <td></td>\n      <td>349190</td>\n      <td>11701000000</td>\n      <td>11401000000</td>\n      <td>MULTIPOLYGON (((4508803.091 9540731.081, 45093...</td>\n    </tr>\n    <tr>\n      <th>...</th>\n      <td>...</td>\n      <td>...</td>\n      <td>...</td>\n      <td>...</td>\n      <td>...</td>\n      <td>...</td>\n      <td>...</td>\n      <td>...</td>\n      <td>...</td>\n      <td>...</td>\n      <td>...</td>\n      <td>...</td>\n      <td>...</td>\n    </tr>\n    <tr>\n      <th>82</th>\n      <td>143557</td>\n      <td>Октябрьский</td>\n      <td>Административный округ</td>\n      <td>4</td>\n      <td>202</td>\n      <td>19520</td>\n      <td>Архангельская область</td>\n      <td>городской округ Архангельск</td>\n      <td>Октябрьский административный округ</td>\n      <td>84497</td>\n      <td>199701000000</td>\n      <td>11401380000</td>\n      <td>MULTIPOLYGON (((4531688.397 9507199.956, 45316...</td>\n    </tr>\n    <tr>\n      <th>83</th>\n      <td>143558</td>\n      <td>Северный</td>\n      <td>Административный округ</td>\n      <td>4</td>\n      <td>202</td>\n      <td>19521</td>\n      <td>Архангельская область</td>\n      <td>городской округ Архангельск</td>\n      <td>Северный административный округ</td>\n      <td>25126</td>\n      <td>199701000000</td>\n      <td>11401388000</td>\n      <td>MULTIPOLYGON (((4497782.818 9539172.007, 44978...</td>\n    </tr>\n    <tr>\n      <th>84</th>\n      <td>143559</td>\n      <td>Исакогорский</td>\n      <td>Административный округ</td>\n      <td>4</td>\n      <td>202</td>\n      <td>19522</td>\n      <td>Архангельская область</td>\n      <td>городской округ Архангельск</td>\n      <td>Исакогорский административный округ</td>\n      <td>28321</td>\n      <td>199701000000</td>\n      <td>11401365000</td>\n      <td>MULTIPOLYGON (((4506629.177 9483319.237, 45066...</td>\n    </tr>\n    <tr>\n      <th>85</th>\n      <td>143560</td>\n      <td>Ломоносовский</td>\n      <td>Административный округ</td>\n      <td>4</td>\n      <td>202</td>\n      <td>19523</td>\n      <td>Архангельская область</td>\n      <td>городской округ Архангельск</td>\n      <td>Ломоносовский административный округ</td>\n      <td>71885</td>\n      <td>199701000000</td>\n      <td>11401370000</td>\n      <td>MULTIPOLYGON (((4507616.414 9486119.262, 45081...</td>\n    </tr>\n    <tr>\n      <th>86</th>\n      <td>143561</td>\n      <td>Соломбальский</td>\n      <td>Административный округ</td>\n      <td>4</td>\n      <td>202</td>\n      <td>19524</td>\n      <td>Архангельская область</td>\n      <td>городской округ Архангельск</td>\n      <td>Соломбальский административный округ</td>\n      <td>35801</td>\n      <td>199701000000</td>\n      <td>11401390000</td>\n      <td>MULTIPOLYGON (((4512212.607 9505873.292, 45122...</td>\n    </tr>\n  </tbody>\n</table>\n<p>87 rows × 13 columns</p>\n</div>"
     },
     "execution_count": 31,
     "metadata": {},
     "output_type": "execute_result"
    }
   ],
   "source": [
    "geojson_data = geopandas.read_file('data/geojsons/mun_obr_arctic.geojson')\n",
    "geojson_data"
   ],
   "metadata": {
    "collapsed": false
   }
  },
  {
   "cell_type": "code",
   "execution_count": 32,
   "outputs": [
    {
     "data": {
      "text/plain": "array(['Архангельская область', 'Красноярский край', 'Мурманская область',\n       'Ямало-Ненецкий автономный округ', 'Ненецкий автономный округ',\n       'республика Карелия', 'республика Коми',\n       'республика Саха (Якутия)', 'Чукотский автономный округ'],\n      dtype=object)"
     },
     "execution_count": 32,
     "metadata": {},
     "output_type": "execute_result"
    }
   ],
   "source": [
    "geojson_data['region'].unique()"
   ],
   "metadata": {
    "collapsed": false
   }
  },
  {
   "cell_type": "code",
   "execution_count": 33,
   "outputs": [
    {
     "data": {
      "text/plain": "         id                                               name  \\\n0       224  Северный (Арктический) федеральный университет...   \n1       275                 Средняя школа №23 им. А.С. Пушкина   \n2      1874  Архангельский областной институт открытого обр...   \n3      1912                 Средняя школа №34 им. А.И. Клепача   \n4      3241  Центр инновационного обучения, САФУ им. М.В. Л...   \n..      ...                                                ...   \n480  206955                                    начальная школа   \n481  206958                                      Средняя школа   \n482  210104                                  Музыкальная школа   \n483  211250                              Училище для трудников   \n484  211307                                               ВСОШ   \n\n                                            city               street  house  \\\n0    Северодвинск (Северодвинск городской округ)         Карла Маркса    36а   \n1                                    Архангельск        Федота Шубина   7 к1   \n2                                    Архангельск  Ломоносова проспект    270   \n3                                    Архангельск              Клепача      3   \n4                                    Архангельск             Урицкого  68 к3   \n..                                           ...                  ...    ...   \n480                                                                            \n481                                                                            \n482                                                                            \n483                                                                            \n484                                                                            \n\n       post          x          y                         geometry  \n0    164512  39.780599  64.557914  POINT (4428356.041 9492875.908)  \n1    163001  40.525761  64.557264  POINT (4511307.126 9492707.399)  \n2    163001  40.535336  64.559314  POINT (4512372.960 9493238.741)  \n3    163039  40.617172  64.431697  POINT (4521482.853 9460245.558)  \n4    163060  40.574548  64.539449  POINT (4516738.037 9488092.704)  \n..      ...        ...        ...                              ...  \n480          37.447535  63.717492  POINT (4168640.517 9278384.337)  \n481          37.454580  63.713197  POINT (4169424.718 9277304.528)  \n482          44.444257  64.001694  POINT (4947512.091 9350194.334)  \n483          35.715423  65.026824  POINT (3975822.735 9615440.697)  \n484          38.092180  63.915852  POINT (4240402.081 9328427.798)  \n\n[485 rows x 9 columns]",
      "text/html": "<div>\n<style scoped>\n    .dataframe tbody tr th:only-of-type {\n        vertical-align: middle;\n    }\n\n    .dataframe tbody tr th {\n        vertical-align: top;\n    }\n\n    .dataframe thead th {\n        text-align: right;\n    }\n</style>\n<table border=\"1\" class=\"dataframe\">\n  <thead>\n    <tr style=\"text-align: right;\">\n      <th></th>\n      <th>id</th>\n      <th>name</th>\n      <th>city</th>\n      <th>street</th>\n      <th>house</th>\n      <th>post</th>\n      <th>x</th>\n      <th>y</th>\n      <th>geometry</th>\n    </tr>\n  </thead>\n  <tbody>\n    <tr>\n      <th>0</th>\n      <td>224</td>\n      <td>Северный (Арктический) федеральный университет...</td>\n      <td>Северодвинск (Северодвинск городской округ)</td>\n      <td>Карла Маркса</td>\n      <td>36а</td>\n      <td>164512</td>\n      <td>39.780599</td>\n      <td>64.557914</td>\n      <td>POINT (4428356.041 9492875.908)</td>\n    </tr>\n    <tr>\n      <th>1</th>\n      <td>275</td>\n      <td>Средняя школа №23 им. А.С. Пушкина</td>\n      <td>Архангельск</td>\n      <td>Федота Шубина</td>\n      <td>7 к1</td>\n      <td>163001</td>\n      <td>40.525761</td>\n      <td>64.557264</td>\n      <td>POINT (4511307.126 9492707.399)</td>\n    </tr>\n    <tr>\n      <th>2</th>\n      <td>1874</td>\n      <td>Архангельский областной институт открытого обр...</td>\n      <td>Архангельск</td>\n      <td>Ломоносова проспект</td>\n      <td>270</td>\n      <td>163001</td>\n      <td>40.535336</td>\n      <td>64.559314</td>\n      <td>POINT (4512372.960 9493238.741)</td>\n    </tr>\n    <tr>\n      <th>3</th>\n      <td>1912</td>\n      <td>Средняя школа №34 им. А.И. Клепача</td>\n      <td>Архангельск</td>\n      <td>Клепача</td>\n      <td>3</td>\n      <td>163039</td>\n      <td>40.617172</td>\n      <td>64.431697</td>\n      <td>POINT (4521482.853 9460245.558)</td>\n    </tr>\n    <tr>\n      <th>4</th>\n      <td>3241</td>\n      <td>Центр инновационного обучения, САФУ им. М.В. Л...</td>\n      <td>Архангельск</td>\n      <td>Урицкого</td>\n      <td>68 к3</td>\n      <td>163060</td>\n      <td>40.574548</td>\n      <td>64.539449</td>\n      <td>POINT (4516738.037 9488092.704)</td>\n    </tr>\n    <tr>\n      <th>...</th>\n      <td>...</td>\n      <td>...</td>\n      <td>...</td>\n      <td>...</td>\n      <td>...</td>\n      <td>...</td>\n      <td>...</td>\n      <td>...</td>\n      <td>...</td>\n    </tr>\n    <tr>\n      <th>480</th>\n      <td>206955</td>\n      <td>начальная школа</td>\n      <td></td>\n      <td></td>\n      <td></td>\n      <td></td>\n      <td>37.447535</td>\n      <td>63.717492</td>\n      <td>POINT (4168640.517 9278384.337)</td>\n    </tr>\n    <tr>\n      <th>481</th>\n      <td>206958</td>\n      <td>Средняя школа</td>\n      <td></td>\n      <td></td>\n      <td></td>\n      <td></td>\n      <td>37.454580</td>\n      <td>63.713197</td>\n      <td>POINT (4169424.718 9277304.528)</td>\n    </tr>\n    <tr>\n      <th>482</th>\n      <td>210104</td>\n      <td>Музыкальная школа</td>\n      <td></td>\n      <td></td>\n      <td></td>\n      <td></td>\n      <td>44.444257</td>\n      <td>64.001694</td>\n      <td>POINT (4947512.091 9350194.334)</td>\n    </tr>\n    <tr>\n      <th>483</th>\n      <td>211250</td>\n      <td>Училище для трудников</td>\n      <td></td>\n      <td></td>\n      <td></td>\n      <td></td>\n      <td>35.715423</td>\n      <td>65.026824</td>\n      <td>POINT (3975822.735 9615440.697)</td>\n    </tr>\n    <tr>\n      <th>484</th>\n      <td>211307</td>\n      <td>ВСОШ</td>\n      <td></td>\n      <td></td>\n      <td></td>\n      <td></td>\n      <td>38.092180</td>\n      <td>63.915852</td>\n      <td>POINT (4240402.081 9328427.798)</td>\n    </tr>\n  </tbody>\n</table>\n<p>485 rows × 9 columns</p>\n</div>"
     },
     "execution_count": 33,
     "metadata": {},
     "output_type": "execute_result"
    }
   ],
   "source": [
    "geojson_data = geopandas.read_file('data/geojsons/objects_education.geojson')\n",
    "geojson_data"
   ],
   "metadata": {
    "collapsed": false
   }
  },
  {
   "cell_type": "code",
   "execution_count": 34,
   "outputs": [
    {
     "data": {
      "text/plain": "array(['Северодвинск (Северодвинск городской округ)', 'Архангельск',\n       'Рикасиха (Приморский район)', 'Уемский (Приморский район)',\n       'Новодвинск (Новодвинск городской округ)',\n       'Талаги (Приморский район)', 'Лесная Речка',\n       'Васьково (Приморский район)',\n       'Большое Анисимово (Приморский район)',\n       'Катунино (Приморский район)', 'Ластола (Приморский район)',\n       'Талажский авиагородок', 'Рикасово (Приморский район)',\n       'Пустошь (Приморский район)', 'Боброво (Приморский район)',\n       'Турдеевск', 'Луговой (Приморский район)',\n       'Вознесенье (Приморский район)', ''], dtype=object)"
     },
     "execution_count": 34,
     "metadata": {},
     "output_type": "execute_result"
    }
   ],
   "source": [
    "geojson_data['city'].unique()"
   ],
   "metadata": {
    "collapsed": false
   }
  },
  {
   "cell_type": "code",
   "execution_count": 35,
   "outputs": [
    {
     "data": {
      "text/plain": "         id       osm_id access aerialway amenity area barrier building  \\\n0       473          0.0    NaN       NaN     NaN  NaN     NaN      NaN   \n1       474          0.0    NaN       NaN     NaN  NaN     NaN      NaN   \n2       475  450904603.0    NaN       NaN     NaN  NaN     NaN      NaN   \n3       476          0.0    NaN       NaN     NaN  NaN     NaN      NaN   \n4       477  474113019.0    NaN       NaN     NaN  NaN     NaN      NaN   \n...     ...          ...    ...       ...     ...  ...     ...      ...   \n3328  31127          NaN    NaN       NaN     NaN  NaN     NaN      NaN   \n3329  31147          NaN    NaN       NaN     NaN  NaN     NaN      NaN   \n3330  31338  265498323.0    NaN   platter     NaN  NaN     NaN      NaN   \n3331  31339  265498323.0    NaN   platter     NaN  NaN     NaN      NaN   \n3332  31388          NaN    NaN       NaN     NaN  NaN     NaN      NaN   \n\n     denomination disused  ...          y          subgroup2  group2 type  \\\n0             NaN     NaN  ...        NaN                NaN     NaN  NaN   \n1             NaN     NaN  ...        NaN                NaN     NaN  NaN   \n2             NaN     NaN  ...        NaN                NaN     NaN  NaN   \n3             NaN     NaN  ...        NaN                NaN     NaN  NaN   \n4             NaN     NaN  ...        NaN                NaN     NaN  NaN   \n...           ...     ...  ...        ...                ...     ...  ...   \n3328          NaN     NaN  ...  64.547649  Автобусные билеты  Туризм  NaN   \n3329          NaN     NaN  ...  64.531728  Автобусные билеты  Туризм  NaN   \n3330          NaN     NaN  ...        NaN                NaN     NaN  NaN   \n3331          NaN     NaN  ...        NaN                NaN     NaN  NaN   \n3332          NaN     NaN  ...  64.538789     Прокат, аренда    Авто  NaN   \n\n     tower_type addr_housenumber  \\\n0           NaN              NaN   \n1           NaN              NaN   \n2           NaN              NaN   \n3           NaN              NaN   \n4           NaN              NaN   \n...         ...              ...   \n3328        NaN              NaN   \n3329        NaN              NaN   \n3330        NaN              NaN   \n3331        NaN              NaN   \n3332        NaN              NaN   \n\n                                          category_full  \\\n0     Исторические места и здания, памятники культур...   \n1     Исторические места и здания, памятники культур...   \n2     Исторические места и здания, памятники культур...   \n3     Исторические места и здания, памятники культур...   \n4     Исторические места и здания, памятники культур...   \n...                                                 ...   \n3328  Автобусные вокзалы, станции (перевозки пассажи...   \n3329  Пассажирские морские и речные вокзалы (перевоз...   \n3330  Станции подвесных канатных дорог и подъемников...   \n3331  Станции подвесных канатных дорог и подъемников...   \n3332                                Таксомоторные парки   \n\n                    category  \\\n0     historic_arctic_points   \n1     historic_arctic_points   \n2     historic_arctic_points   \n3     historic_arctic_points   \n4     historic_arctic_points   \n...                      ...   \n3328             bus_station   \n3329             sea_station   \n3330               funicular   \n3331               funicular   \n3332                    taxi   \n\n                                          category_name  \\\n0     Исторические места и здания, памятники культур...   \n1     Исторические места и здания, памятники культур...   \n2     Исторические места и здания, памятники культур...   \n3     Исторические места и здания, памятники культур...   \n4     Исторические места и здания, памятники культур...   \n...                                                 ...   \n3328                        Автобусные вокзалы, станции   \n3329              Пассажирские морские и речные вокзалы   \n3330  Станции подвесных канатных дорог и подъемников...   \n3331  Станции подвесных канатных дорог и подъемников...   \n3332                                Таксомоторные парки   \n\n                             geometry  \n0     POINT (3980046.865 9632963.434)  \n1     POINT (3966124.080 9625531.296)  \n2     POINT (3970160.915 9618524.772)  \n3     POINT (3980270.895 9615656.882)  \n4     POINT (3979255.394 9614385.994)  \n...                               ...  \n3328  POINT (4516954.043 9490216.475)  \n3329  POINT (4511334.642 9486093.859)  \n3330  POINT (4835865.811 8650960.708)  \n3331  POINT (4835200.354 8650367.155)  \n3332  POINT (4511178.800 9487921.981)  \n\n[3333 rows x 40 columns]",
      "text/html": "<div>\n<style scoped>\n    .dataframe tbody tr th:only-of-type {\n        vertical-align: middle;\n    }\n\n    .dataframe tbody tr th {\n        vertical-align: top;\n    }\n\n    .dataframe thead th {\n        text-align: right;\n    }\n</style>\n<table border=\"1\" class=\"dataframe\">\n  <thead>\n    <tr style=\"text-align: right;\">\n      <th></th>\n      <th>id</th>\n      <th>osm_id</th>\n      <th>access</th>\n      <th>aerialway</th>\n      <th>amenity</th>\n      <th>area</th>\n      <th>barrier</th>\n      <th>building</th>\n      <th>denomination</th>\n      <th>disused</th>\n      <th>...</th>\n      <th>y</th>\n      <th>subgroup2</th>\n      <th>group2</th>\n      <th>type</th>\n      <th>tower_type</th>\n      <th>addr_housenumber</th>\n      <th>category_full</th>\n      <th>category</th>\n      <th>category_name</th>\n      <th>geometry</th>\n    </tr>\n  </thead>\n  <tbody>\n    <tr>\n      <th>0</th>\n      <td>473</td>\n      <td>0.0</td>\n      <td>NaN</td>\n      <td>NaN</td>\n      <td>NaN</td>\n      <td>NaN</td>\n      <td>NaN</td>\n      <td>NaN</td>\n      <td>NaN</td>\n      <td>NaN</td>\n      <td>...</td>\n      <td>NaN</td>\n      <td>NaN</td>\n      <td>NaN</td>\n      <td>NaN</td>\n      <td>NaN</td>\n      <td>NaN</td>\n      <td>Исторические места и здания, памятники культур...</td>\n      <td>historic_arctic_points</td>\n      <td>Исторические места и здания, памятники культур...</td>\n      <td>POINT (3980046.865 9632963.434)</td>\n    </tr>\n    <tr>\n      <th>1</th>\n      <td>474</td>\n      <td>0.0</td>\n      <td>NaN</td>\n      <td>NaN</td>\n      <td>NaN</td>\n      <td>NaN</td>\n      <td>NaN</td>\n      <td>NaN</td>\n      <td>NaN</td>\n      <td>NaN</td>\n      <td>...</td>\n      <td>NaN</td>\n      <td>NaN</td>\n      <td>NaN</td>\n      <td>NaN</td>\n      <td>NaN</td>\n      <td>NaN</td>\n      <td>Исторические места и здания, памятники культур...</td>\n      <td>historic_arctic_points</td>\n      <td>Исторические места и здания, памятники культур...</td>\n      <td>POINT (3966124.080 9625531.296)</td>\n    </tr>\n    <tr>\n      <th>2</th>\n      <td>475</td>\n      <td>450904603.0</td>\n      <td>NaN</td>\n      <td>NaN</td>\n      <td>NaN</td>\n      <td>NaN</td>\n      <td>NaN</td>\n      <td>NaN</td>\n      <td>NaN</td>\n      <td>NaN</td>\n      <td>...</td>\n      <td>NaN</td>\n      <td>NaN</td>\n      <td>NaN</td>\n      <td>NaN</td>\n      <td>NaN</td>\n      <td>NaN</td>\n      <td>Исторические места и здания, памятники культур...</td>\n      <td>historic_arctic_points</td>\n      <td>Исторические места и здания, памятники культур...</td>\n      <td>POINT (3970160.915 9618524.772)</td>\n    </tr>\n    <tr>\n      <th>3</th>\n      <td>476</td>\n      <td>0.0</td>\n      <td>NaN</td>\n      <td>NaN</td>\n      <td>NaN</td>\n      <td>NaN</td>\n      <td>NaN</td>\n      <td>NaN</td>\n      <td>NaN</td>\n      <td>NaN</td>\n      <td>...</td>\n      <td>NaN</td>\n      <td>NaN</td>\n      <td>NaN</td>\n      <td>NaN</td>\n      <td>NaN</td>\n      <td>NaN</td>\n      <td>Исторические места и здания, памятники культур...</td>\n      <td>historic_arctic_points</td>\n      <td>Исторические места и здания, памятники культур...</td>\n      <td>POINT (3980270.895 9615656.882)</td>\n    </tr>\n    <tr>\n      <th>4</th>\n      <td>477</td>\n      <td>474113019.0</td>\n      <td>NaN</td>\n      <td>NaN</td>\n      <td>NaN</td>\n      <td>NaN</td>\n      <td>NaN</td>\n      <td>NaN</td>\n      <td>NaN</td>\n      <td>NaN</td>\n      <td>...</td>\n      <td>NaN</td>\n      <td>NaN</td>\n      <td>NaN</td>\n      <td>NaN</td>\n      <td>NaN</td>\n      <td>NaN</td>\n      <td>Исторические места и здания, памятники культур...</td>\n      <td>historic_arctic_points</td>\n      <td>Исторические места и здания, памятники культур...</td>\n      <td>POINT (3979255.394 9614385.994)</td>\n    </tr>\n    <tr>\n      <th>...</th>\n      <td>...</td>\n      <td>...</td>\n      <td>...</td>\n      <td>...</td>\n      <td>...</td>\n      <td>...</td>\n      <td>...</td>\n      <td>...</td>\n      <td>...</td>\n      <td>...</td>\n      <td>...</td>\n      <td>...</td>\n      <td>...</td>\n      <td>...</td>\n      <td>...</td>\n      <td>...</td>\n      <td>...</td>\n      <td>...</td>\n      <td>...</td>\n      <td>...</td>\n      <td>...</td>\n    </tr>\n    <tr>\n      <th>3328</th>\n      <td>31127</td>\n      <td>NaN</td>\n      <td>NaN</td>\n      <td>NaN</td>\n      <td>NaN</td>\n      <td>NaN</td>\n      <td>NaN</td>\n      <td>NaN</td>\n      <td>NaN</td>\n      <td>NaN</td>\n      <td>...</td>\n      <td>64.547649</td>\n      <td>Автобусные билеты</td>\n      <td>Туризм</td>\n      <td>NaN</td>\n      <td>NaN</td>\n      <td>NaN</td>\n      <td>Автобусные вокзалы, станции (перевозки пассажи...</td>\n      <td>bus_station</td>\n      <td>Автобусные вокзалы, станции</td>\n      <td>POINT (4516954.043 9490216.475)</td>\n    </tr>\n    <tr>\n      <th>3329</th>\n      <td>31147</td>\n      <td>NaN</td>\n      <td>NaN</td>\n      <td>NaN</td>\n      <td>NaN</td>\n      <td>NaN</td>\n      <td>NaN</td>\n      <td>NaN</td>\n      <td>NaN</td>\n      <td>NaN</td>\n      <td>...</td>\n      <td>64.531728</td>\n      <td>Автобусные билеты</td>\n      <td>Туризм</td>\n      <td>NaN</td>\n      <td>NaN</td>\n      <td>NaN</td>\n      <td>Пассажирские морские и речные вокзалы (перевоз...</td>\n      <td>sea_station</td>\n      <td>Пассажирские морские и речные вокзалы</td>\n      <td>POINT (4511334.642 9486093.859)</td>\n    </tr>\n    <tr>\n      <th>3330</th>\n      <td>31338</td>\n      <td>265498323.0</td>\n      <td>NaN</td>\n      <td>platter</td>\n      <td>NaN</td>\n      <td>NaN</td>\n      <td>NaN</td>\n      <td>NaN</td>\n      <td>NaN</td>\n      <td>NaN</td>\n      <td>...</td>\n      <td>NaN</td>\n      <td>NaN</td>\n      <td>NaN</td>\n      <td>NaN</td>\n      <td>NaN</td>\n      <td>NaN</td>\n      <td>Станции подвесных канатных дорог и подъемников...</td>\n      <td>funicular</td>\n      <td>Станции подвесных канатных дорог и подъемников...</td>\n      <td>POINT (4835865.811 8650960.708)</td>\n    </tr>\n    <tr>\n      <th>3331</th>\n      <td>31339</td>\n      <td>265498323.0</td>\n      <td>NaN</td>\n      <td>platter</td>\n      <td>NaN</td>\n      <td>NaN</td>\n      <td>NaN</td>\n      <td>NaN</td>\n      <td>NaN</td>\n      <td>NaN</td>\n      <td>...</td>\n      <td>NaN</td>\n      <td>NaN</td>\n      <td>NaN</td>\n      <td>NaN</td>\n      <td>NaN</td>\n      <td>NaN</td>\n      <td>Станции подвесных канатных дорог и подъемников...</td>\n      <td>funicular</td>\n      <td>Станции подвесных канатных дорог и подъемников...</td>\n      <td>POINT (4835200.354 8650367.155)</td>\n    </tr>\n    <tr>\n      <th>3332</th>\n      <td>31388</td>\n      <td>NaN</td>\n      <td>NaN</td>\n      <td>NaN</td>\n      <td>NaN</td>\n      <td>NaN</td>\n      <td>NaN</td>\n      <td>NaN</td>\n      <td>NaN</td>\n      <td>NaN</td>\n      <td>...</td>\n      <td>64.538789</td>\n      <td>Прокат, аренда</td>\n      <td>Авто</td>\n      <td>NaN</td>\n      <td>NaN</td>\n      <td>NaN</td>\n      <td>Таксомоторные парки</td>\n      <td>taxi</td>\n      <td>Таксомоторные парки</td>\n      <td>POINT (4511178.800 9487921.981)</td>\n    </tr>\n  </tbody>\n</table>\n<p>3333 rows × 40 columns</p>\n</div>"
     },
     "execution_count": 35,
     "metadata": {},
     "output_type": "execute_result"
    }
   ],
   "source": [
    "geojson_data = geopandas.read_file('data/geojsons/objects_tourism.geojson')\n",
    "geojson_data"
   ],
   "metadata": {
    "collapsed": false
   }
  },
  {
   "cell_type": "code",
   "execution_count": 36,
   "outputs": [
    {
     "data": {
      "text/plain": "array([nan, 'private', 'no', 'yes'], dtype=object)"
     },
     "execution_count": 36,
     "metadata": {},
     "output_type": "execute_result"
    }
   ],
   "source": [
    "geojson_data['access'].unique()"
   ],
   "metadata": {
    "collapsed": false
   }
  },
  {
   "cell_type": "code",
   "execution_count": 37,
   "outputs": [
    {
     "data": {
      "text/plain": "array([nan, 'platter'], dtype=object)"
     },
     "execution_count": 37,
     "metadata": {},
     "output_type": "execute_result"
    }
   ],
   "source": [
    "geojson_data['aerialway'].unique()"
   ],
   "metadata": {
    "collapsed": false
   }
  },
  {
   "cell_type": "code",
   "execution_count": 38,
   "outputs": [
    {
     "data": {
      "text/plain": "array([nan, 'shelter', 'training', 'place_of_worship', 'monastery'],\n      dtype=object)"
     },
     "execution_count": 38,
     "metadata": {},
     "output_type": "execute_result"
    }
   ],
   "source": [
    "geojson_data['amenity'].unique()"
   ],
   "metadata": {
    "collapsed": false
   }
  },
  {
   "cell_type": "code",
   "execution_count": 39,
   "outputs": [
    {
     "data": {
      "text/plain": "array([nan, 'shelter', 'training', 'place_of_worship', 'monastery'],\n      dtype=object)"
     },
     "execution_count": 39,
     "metadata": {},
     "output_type": "execute_result"
    }
   ],
   "source": [
    "geojson_data['amenity'].unique()"
   ],
   "metadata": {
    "collapsed": false
   }
  },
  {
   "cell_type": "code",
   "execution_count": 40,
   "outputs": [
    {
     "data": {
      "text/plain": "array([nan, 'yes'], dtype=object)"
     },
     "execution_count": 40,
     "metadata": {},
     "output_type": "execute_result"
    }
   ],
   "source": [
    "geojson_data['area'].unique()"
   ],
   "metadata": {
    "collapsed": false
   }
  },
  {
   "cell_type": "code",
   "execution_count": 41,
   "outputs": [
    {
     "data": {
      "text/plain": "array([nan, 'gate', 'wall', 'city_wall'], dtype=object)"
     },
     "execution_count": 41,
     "metadata": {},
     "output_type": "execute_result"
    }
   ],
   "source": [
    "geojson_data['barrier'].unique()"
   ],
   "metadata": {
    "collapsed": false
   }
  },
  {
   "cell_type": "code",
   "execution_count": 42,
   "outputs": [
    {
     "data": {
      "text/plain": "array([nan, 'ruins', 'ship', 'yes', 'church', 'houseboat', 'chapel',\n       'cathedral'], dtype=object)"
     },
     "execution_count": 42,
     "metadata": {},
     "output_type": "execute_result"
    }
   ],
   "source": [
    "geojson_data['building'].unique()"
   ],
   "metadata": {
    "collapsed": false
   }
  },
  {
   "cell_type": "code",
   "execution_count": 43,
   "outputs": [
    {
     "data": {
      "text/plain": "array([nan, 'orthodox', 'russian_orthodox'], dtype=object)"
     },
     "execution_count": 43,
     "metadata": {},
     "output_type": "execute_result"
    }
   ],
   "source": [
    "geojson_data['denomination'].unique()"
   ],
   "metadata": {
    "collapsed": false
   }
  },
  {
   "cell_type": "code",
   "execution_count": 44,
   "outputs": [
    {
     "data": {
      "text/plain": "array([nan, 'yes'], dtype=object)"
     },
     "execution_count": 44,
     "metadata": {},
     "output_type": "execute_result"
    }
   ],
   "source": [
    "geojson_data['disused'].unique()"
   ],
   "metadata": {
    "collapsed": false
   }
  },
  {
   "cell_type": "code",
   "execution_count": 45,
   "outputs": [
    {
     "data": {
      "text/plain": "array([nan, 'yes', 'private'], dtype=object)"
     },
     "execution_count": 45,
     "metadata": {},
     "output_type": "execute_result"
    }
   ],
   "source": [
    "geojson_data['foot'].unique()"
   ],
   "metadata": {
    "collapsed": false
   }
  },
  {
   "cell_type": "code",
   "execution_count": 46,
   "outputs": [
    {
     "data": {
      "text/plain": "array(['memorial', 'monument', 'wayside_cross', 'ruins', 'city_gate',\n       'archaeological_site', 'wreck', 'wayside_shrine', 'tomb', 'castle',\n       'yes', 'tractor', 'locomotive', 'cannon', 'ship', 'fort',\n       'citywalls', 'technical_monument', nan], dtype=object)"
     },
     "execution_count": 46,
     "metadata": {},
     "output_type": "execute_result"
    }
   ],
   "source": [
    "geojson_data['historic'].unique()"
   ],
   "metadata": {
    "collapsed": false
   }
  },
  {
   "cell_type": "code",
   "execution_count": 47,
   "outputs": [
    {
     "data": {
      "text/plain": "array([nan, 'military', 'cemetery', 'religious'], dtype=object)"
     },
     "execution_count": 47,
     "metadata": {},
     "output_type": "execute_result"
    }
   ],
   "source": [
    "geojson_data['landuse'].unique()"
   ],
   "metadata": {
    "collapsed": false
   }
  },
  {
   "cell_type": "code",
   "execution_count": 48,
   "outputs": [
    {
     "data": {
      "text/plain": "array([nan, 'cross', 'monitoring_station', 'windmill', 'tower'],\n      dtype=object)"
     },
     "execution_count": 48,
     "metadata": {},
     "output_type": "execute_result"
    }
   ],
   "source": [
    "geojson_data['man_made'].unique()"
   ],
   "metadata": {
    "collapsed": false
   }
  },
  {
   "cell_type": "code",
   "execution_count": 49,
   "outputs": [
    {
     "data": {
      "text/plain": "array([nan, 'nuclear test range'], dtype=object)"
     },
     "execution_count": 49,
     "metadata": {},
     "output_type": "execute_result"
    }
   ],
   "source": [
    "geojson_data['military'].unique()"
   ],
   "metadata": {
    "collapsed": false
   }
  },
  {
   "cell_type": "code",
   "execution_count": 50,
   "outputs": [
    {
     "data": {
      "text/plain": "array([nan, 'tree'], dtype=object)"
     },
     "execution_count": 50,
     "metadata": {},
     "output_type": "execute_result"
    }
   ],
   "source": [
    "geojson_data['natural'].unique()"
   ],
   "metadata": {
    "collapsed": false
   }
  },
  {
   "cell_type": "code",
   "execution_count": 51,
   "outputs": [
    {
     "data": {
      "text/plain": "array([nan, 'Казна ГО \"Город Архангельск\"',\n       'Казна МО \"Город Архангельск\"', 'Ростелеком',\n       'Северная железная дорога', 'Северная жеоезная дорога',\n       'Севераня железная дороа', 'Севврная железная дорога',\n       'Северная железная лорога', 'ОАО «Российские железные дороги»'],\n      dtype=object)"
     },
     "execution_count": 51,
     "metadata": {},
     "output_type": "execute_result"
    }
   ],
   "source": [
    "geojson_data['operator'].unique()"
   ],
   "metadata": {
    "collapsed": false
   }
  },
  {
   "cell_type": "code",
   "execution_count": 52,
   "outputs": [
    {
     "data": {
      "text/plain": "array([nan, 'station', 'stop_position'], dtype=object)"
     },
     "execution_count": 52,
     "metadata": {},
     "output_type": "execute_result"
    }
   ],
   "source": [
    "geojson_data['public_transport'].unique()"
   ],
   "metadata": {
    "collapsed": false
   }
  },
  {
   "cell_type": "code",
   "execution_count": 53,
   "outputs": [
    {
     "data": {
      "text/plain": "array([nan, 'station', 'halt'], dtype=object)"
     },
     "execution_count": 53,
     "metadata": {},
     "output_type": "execute_result"
    }
   ],
   "source": [
    "geojson_data['railway'].unique()"
   ],
   "metadata": {
    "collapsed": false
   }
  },
  {
   "cell_type": "code",
   "execution_count": 54,
   "outputs": [
    {
     "data": {
      "text/plain": "array([nan, 'station', 'stop_position'], dtype=object)"
     },
     "execution_count": 54,
     "metadata": {},
     "output_type": "execute_result"
    }
   ],
   "source": [
    "geojson_data['public_transport'].unique()"
   ],
   "metadata": {
    "collapsed": false
   }
  },
  {
   "cell_type": "code",
   "execution_count": 55,
   "outputs": [
    {
     "data": {
      "text/plain": "array([nan, 'station', 'stop_position'], dtype=object)"
     },
     "execution_count": 55,
     "metadata": {},
     "output_type": "execute_result"
    }
   ],
   "source": [
    "geojson_data['public_transport'].unique()"
   ],
   "metadata": {
    "collapsed": false
   }
  },
  {
   "cell_type": "code",
   "execution_count": 56,
   "outputs": [
    {
     "data": {
      "text/plain": "array([nan, 'station', 'stop_position'], dtype=object)"
     },
     "execution_count": 56,
     "metadata": {},
     "output_type": "execute_result"
    }
   ],
   "source": [
    "geojson_data['public_transport'].unique()"
   ],
   "metadata": {
    "collapsed": false
   }
  },
  {
   "cell_type": "code",
   "execution_count": 57,
   "outputs": [
    {
     "data": {
      "text/plain": "array([nan, 'station', 'stop_position'], dtype=object)"
     },
     "execution_count": 57,
     "metadata": {},
     "output_type": "execute_result"
    }
   ],
   "source": [
    "geojson_data['public_transport'].unique()"
   ],
   "metadata": {
    "collapsed": false
   }
  },
  {
   "cell_type": "code",
   "execution_count": 58,
   "outputs": [
    {
     "data": {
      "text/plain": "array([nan, 'station', 'stop_position'], dtype=object)"
     },
     "execution_count": 58,
     "metadata": {},
     "output_type": "execute_result"
    }
   ],
   "source": [
    "geojson_data['public_transport'].unique()"
   ],
   "metadata": {
    "collapsed": false
   }
  },
  {
   "cell_type": "code",
   "execution_count": 59,
   "outputs": [
    {
     "data": {
      "text/plain": "array([nan, 'station', 'stop_position'], dtype=object)"
     },
     "execution_count": 59,
     "metadata": {},
     "output_type": "execute_result"
    }
   ],
   "source": [
    "geojson_data['public_transport'].unique()"
   ],
   "metadata": {
    "collapsed": false
   }
  },
  {
   "cell_type": "code",
   "execution_count": 60,
   "outputs": [
    {
     "data": {
      "text/plain": "array([nan, 'station', 'halt'], dtype=object)"
     },
     "execution_count": 60,
     "metadata": {},
     "output_type": "execute_result"
    }
   ],
   "source": [
    "geojson_data['railway'].unique()"
   ],
   "metadata": {
    "collapsed": false
   }
  },
  {
   "cell_type": "code",
   "execution_count": 61,
   "outputs": [
    {
     "data": {
      "text/plain": "array([nan, 'christian'], dtype=object)"
     },
     "execution_count": 61,
     "metadata": {},
     "output_type": "execute_result"
    }
   ],
   "source": [
    "geojson_data['religion'].unique()"
   ],
   "metadata": {
    "collapsed": false
   }
  },
  {
   "cell_type": "code",
   "execution_count": 62,
   "outputs": [
    {
     "data": {
      "text/plain": "array([nan, '0', '1'], dtype=object)"
     },
     "execution_count": 62,
     "metadata": {},
     "output_type": "execute_result"
    }
   ],
   "source": [
    "geojson_data['sport'].unique()"
   ],
   "metadata": {
    "collapsed": false
   }
  },
  {
   "cell_type": "code",
   "execution_count": 63,
   "outputs": [
    {
     "data": {
      "text/plain": "array([nan, 'attraction', 'viewpoint', '0', '1'], dtype=object)"
     },
     "execution_count": 63,
     "metadata": {},
     "output_type": "execute_result"
    }
   ],
   "source": [
    "geojson_data['tourism'].unique()"
   ],
   "metadata": {
    "collapsed": false
   }
  },
  {
   "cell_type": "code",
   "execution_count": 64,
   "outputs": [
    {
     "data": {
      "text/plain": "array([nan, 'Архангельск', 'Северодвинск (Северодвинск городской округ)',\n       'Новодвинск (Новодвинск городской округ)',\n       'Малые Карелы (Приморский район)', 'Уемский (Приморский район)',\n       'Новинки (Приморский район)', 'Талажский авиагородок',\n       'Вознесенье (Приморский район)',\n       'Павлово (Новодвинск городской округ)',\n       'Лахта (Катунинское сп) (Приморский район)',\n       'Катунино (Приморский район)', 'Лапоминка (Приморский район)',\n       'Лесная Речка', 'Любовское (Приморский район)',\n       'Бутырки (Приморский район)', 'Боброво (Приморский район)',\n       'Большое Анисимово (Приморский район)',\n       'Великое (Приморский район)',\n       'Усть-Заостровская (Приморский район)',\n       'Повракульская (Приморский район)', 'Беломорье (Приморский район)',\n       'Волость (Северодвинск городской округ)', 'Боры',\n       'Фельшинка (Приморский район)', 'Часовенское (Приморский район)',\n       'Аэропорт Васьково (Приморский район)',\n       'Рикасиха (Приморский район)'], dtype=object)"
     },
     "execution_count": 64,
     "metadata": {},
     "output_type": "execute_result"
    }
   ],
   "source": [
    "geojson_data['city'].unique()"
   ],
   "metadata": {
    "collapsed": false
   }
  },
  {
   "cell_type": "code",
   "execution_count": 65,
   "outputs": [
    {
     "data": {
      "text/plain": "array([nan, 'Троицкий проспект', 'Карла Маркса', 'Космонавтов',\n       'Ленинградский проспект', 'Воскресенская', 'Ленина проспект',\n       'Ломоносова', 'Тимме', 'Советских Космонавтов проспект',\n       'Северной Двины набережная', 'Никитова', 'Московский проспект',\n       'Морской проспект', 'Ленина площадь', 'Петровский парк',\n       'Банковский переулок', 'Гагарина', 'Малые Карелы деревня',\n       'Поморская', 'Чумбарова-Лучинского проспект', 'Заводская',\n       'Севстрой', '3-й Пятилетки', 'Карпогорская', 'Новинки деревня',\n       'Октябрьская', 'Ломоносова проспект', 'Володарского',\n       '50-летия Октября', 'Аэропорт Архангельск', 'Смольный Буян',\n       'Центральная', 'Иоанна Кронштадтского', 'Пионерская',\n       'Серафимовича', 'Обводный канал проспект', 'Павлово деревня',\n       'Ярославская', '8-я (Песчаный СНТ)', 'Комсомольская',\n       'СНТ Черёмушки территория', 'СНТ Помор территория',\n       'Победы проспект', 'Выучейского', 'Талажское шоссе', 'Парковая',\n       '51-я (Тайга СНТ)', 'Торцева', 'СНТ Транспортник территория',\n       'Сосновый переулок', 'СНТ Локомотив территория',\n       'Дзержинского проспект', 'Набережная', 'Карельская',\n       'Лапоминка деревня', 'Южная', 'Валявкина', 'река Кудьма',\n       'Советская', 'Беломорский проспект', 'Лахтинское шоссе',\n       'Дорожников', 'Любовское деревня', 'Приозёрная',\n       'Архангельское шоссе 5 км', 'Заря ст', 'Новгородский проспект',\n       'Кудемское шоссе', 'Георгия Седова',\n       'Берег озера Белое (Север СНТ)', 'Бутырки деревня',\n       'Серго Орджоникидзе', 'Мостостроителей', 'Первомайская',\n       'СНТ Монтажник территория', 'Дрейера', 'Самойло', 'Индустриальная',\n       'Берёзка снт', 'Двинская', 'Капитана Воронина',\n       '2Б линия (Пеньки СНТ)', 'Танкистов', 'Адмирала Нахимова',\n       'Лётчика Панкова', 'Павла Усова', 'Большое Анисимово деревня', '',\n       'Маймаксанское шоссе', 'Трухинова', 'Учительская',\n       'Железнодорожная', 'Урицкого', 'Великое деревня',\n       'Усть-Заостровская деревня', 'Гайдара', 'Федота Шубина', 'Садовая',\n       'Солнечная', 'Кородское шоссе 6 км', 'СТ Радуга территория',\n       'СНТ Мечта территория', 'Заречная (Теремок СНТ)',\n       'Беломорье посёлок', 'Волость деревня', '2Е линия (Пеньки СНТ)',\n       'Боры', 'Фельшинка деревня', 'Цигломенская', 'Чкалова',\n       'База отдыха Купель территория', 'Новая', 'Партизанская',\n       'Малоникольская', '60 лет Октября площадь', 'Труда проспект',\n       'Карла Либкнехта', 'Поселковая', 'Терёхина', 'Бутомы проспект',\n       'Профсоюзная', 'Окружное шоссе', 'Чеснокова', 'Локомотивная',\n       'Нагорная', 'Лебедева', 'Адмирала Кузнецова', 'Прокопия Галушина',\n       'Советов', 'Красных Маршалов', 'Ленина', 'Приморский бульвар',\n       'Лесная', 'Дзержинского', 'Тепличный проезд', 'Магистральная',\n       'Розы Люксембург', 'Стрелковая', 'Штурманская',\n       'Архангельское шоссе', 'Русанова', 'Машиностроителей проезд',\n       'Никольский проспект', 'Мира', 'Заозёрный проезд', 'Мещерского',\n       'Декабристов', 'Димитрова', 'Попова', 'Часовенское деревня',\n       'Красных Партизан', 'Касаткиной', 'Полярная',\n       'Первых коммунаров (Зори Севера СНТ)', 'Уборевича', 'Бойчука',\n       'Шабалина', 'Логинова', 'Розинга', 'Приорова проезд', 'Дачная',\n       'Северная', 'Пахтусова', 'Вологодская', 'Ягринское шоссе',\n       'Победы', 'Свободы', 'Папанина',\n       'Кузнечихинский промузел 1-й проезд', 'Фронтовых бригад',\n       'Почтовый тракт', 'Плюснина', 'Фёдора Абрамова', 'Кирилкина',\n       'Макаренко', 'Мостовая', 'Арктическая', 'Большесельская',\n       'Добровольского', 'Воронина В.И.', 'Суфтина', 'Кедрова',\n       'Вельможного', 'Мельникова', 'Суворова',\n       'Школьная (Маймаксанский)', 'Грузовой проезд', 'Авиаторов',\n       'Химиков', 'Коновалова', 'Корабельная', 'Рейдовая', 'Катунина',\n       'Бадигина проезд', 'Маяковского', 'Почтовая',\n       'База отдыха Лукоморье', 'Советских Космонавтов', 'Чехова',\n       'Вельская', 'Розы Шаниной', 'Юбилейная', 'Аэропорт Васьково',\n       'Октябрят', 'Дежнёвцев', 'Северодвинская', 'Тургенева',\n       'Северо-Западная', 'Рикасиха деревня', 'Целлюлозная', 'Нахимова',\n       'Складской проезд', 'Ворошилова', 'Лыжный стадион им. В.С. Кузина',\n       'Доковская', 'Пролетарская', 'Ильича', 'Красной Звезды',\n       'Кировская', 'Калинина', 'Капитана Хромцова', 'Добролюбова',\n       'Зеньковича', 'Бумажников', '40 лет Великой Победы',\n       'Малиновского', 'Романа Куликова', 'Транспортная', 'Красина',\n       'Звёздная'], dtype=object)"
     },
     "execution_count": 65,
     "metadata": {},
     "output_type": "execute_result"
    }
   ],
   "source": [
    "geojson_data['street'].unique()"
   ],
   "metadata": {
    "collapsed": false
   }
  },
  {
   "cell_type": "code",
   "execution_count": 66,
   "outputs": [
    {
     "data": {
      "text/plain": "array([nan, 'Кинотеатры', 'Выставочные комплексы, галереи',\n       'Выставочные комплексы, галереи;Подарки, сувениры',\n       'Дополнительное образование;Тренинги / семинары', 'Театры',\n       'Филармонии, консерватории', 'Музеи', 'Библиотеки;Музеи',\n       'Музеи;Подарки, сувениры', 'Прокат спорт инвентаря',\n       'Базы отдыха;Детские / подростковые клубы;Клубы по интересам, хобби и активный отдых;Прокат спорт инвентаря',\n       'Гостиницы, мотели, хостелы, общежития, кемпинги',\n       'Гостиницы, мотели, хостелы, общежития, кемпинги;Кафе, кофейни, чайные, кондитерские',\n       'Бани и сауны;Гостиницы, мотели, хостелы, общежития, кемпинги',\n       'Гостиницы, мотели, хостелы, общежития, кемпинги;Прокат спорт инвентаря',\n       'Базы отдыха;Гостиницы, мотели, хостелы, общежития, кемпинги',\n       'Бильярд;Гостиницы, мотели, хостелы, общежития, кемпинги',\n       'Базы отдыха;Гостиницы, мотели, хостелы, общежития, кемпинги;Спортивные клубы, секции',\n       'Базы отдыха;Банкетные залы;Боулинг;Гостиницы, мотели, хостелы, общежития, кемпинги;Рестораны;Спортивные клубы, секции',\n       'Базы отдыха;Банкетные залы;Гостиницы, мотели, хостелы, общежития, кемпинги',\n       'Кафе, кофейни, чайные, кондитерские', 'Fast-food',\n       'Кафе, кофейни, чайные, кондитерские;Магазины, супермаркеты',\n       'Алкогольные супермаркеты и магазины;Кафе, кофейни, чайные, кондитерские;Магазины, супермаркеты;Молочная продукция',\n       'Кафе, кофейни, чайные, кондитерские;Спортивное и фитнес-питание',\n       'Кафе, кофейни, чайные, кондитерские;Подарки, сувениры;Праздничные услуги (организация, оформление);Цветы',\n       'Fast-food;Кафе, кофейни, чайные, кондитерские;Кейтеринг',\n       'Банкетные залы;Бары, пабы;Боулинг;Кафе, кофейни, чайные, кондитерские',\n       'Рестораны', 'Бытовая химия;Кафе, кофейни, чайные, кондитерские',\n       'Кафе, кофейни, чайные, кондитерские;Подарки, сувениры',\n       'Fast-food;Кафе, кофейни, чайные, кондитерские',\n       'Кафе, кофейни, чайные, кондитерские;Рестораны',\n       'Бары, пабы;Кафе, кофейни, чайные, кондитерские',\n       'Банкетные залы;Кафе, кофейни, чайные, кондитерские',\n       'Кафе, кофейни, чайные, кондитерские;Магазины, супермаркеты;Молочная продукция',\n       'Fast-food;Кафе, кофейни, чайные, кондитерские;Магазины, супермаркеты',\n       'Банкетные залы;Рестораны',\n       'Гипермаркеты;Кафе, кофейни, чайные, кондитерские;Магазины, супермаркеты',\n       'Кафе, кофейни, чайные, кондитерские;Магазины, супермаркеты;Службы доставки воды',\n       'Банкетные залы;Бары, пабы;Кафе, кофейни, чайные, кондитерские',\n       'Бары, пабы;Кафе, кофейни, чайные, кондитерские;Ночные и развлекательные клубы',\n       'Банкетные залы;Кафе, кофейни, чайные, кондитерские;Рестораны',\n       'Fast-food;Магазины, супермаркеты',\n       'Кафе, кофейни, чайные, кондитерские;Молочная продукция',\n       'Fast-food;Кафе, кофейни, чайные, кондитерские;Кейтеринг;Магазины, супермаркеты',\n       'Игры, игрушки;Кафе, кофейни, чайные, кондитерские',\n       'Бары, пабы;Кафе, кофейни, чайные, кондитерские;Рестораны',\n       'Банкетные залы;Детские игровые залы / Игротеки;Кафе, кофейни, чайные, кондитерские;Парки отдыха, сады;Праздничные услуги (организация, оформление)',\n       'Кафе, кофейни, чайные, кондитерские;Подарки, сувениры;Посуда',\n       'Жир / Маслопродукты;Кафе, кофейни, чайные, кондитерские;Магазины, супермаркеты;Молочная продукция',\n       'Банкетные залы;Праздничные услуги (организация, оформление);Рестораны',\n       'Кафе, кофейни, чайные, кондитерские;Магазины товаров для здоровья;Посуда',\n       'Банкетные залы;Бары, пабы;Кафе, кофейни, чайные, кондитерские;Кейтеринг;Рестораны',\n       'Бары, пабы;Ночные и развлекательные клубы;Рестораны',\n       'Кафе, кофейни, чайные, кондитерские;Кейтеринг',\n       'Детские / подростковые клубы;Детские игровые залы / Игротеки;Кафе, кофейни, чайные, кондитерские;Клубы по интересам, хобби и активный отдых;Праздничные услуги (организация, оформление);Спортивные клубы, секции',\n       'Выставочные комплексы, галереи;Кафе, кофейни, чайные, кондитерские;Магазины спорт товаров;Обувные магазины;Химчистки, прачечные',\n       'Кафе, кофейни, чайные, кондитерские;Ремонт / установка бытовой техники',\n       'Банкетные залы;Кафе, кофейни, чайные, кондитерские;Кейтеринг',\n       'Гипермаркеты;Кафе, кофейни, чайные, кондитерские',\n       'Кафе, кофейни, чайные, кондитерские;Магазины, супермаркеты;Посуда',\n       'Кафе, кофейни, чайные, кондитерские;Магазины, супермаркеты;Рыба / Морепродукты',\n       'Алкогольные супермаркеты и магазины;Кафе, кофейни, чайные, кондитерские',\n       'Детские игровые залы / Игротеки;Кафе, кофейни, чайные, кондитерские',\n       'Жир / Маслопродукты;Кафе, кофейни, чайные, кондитерские;Магазины, супермаркеты',\n       'Алкогольные супермаркеты и магазины;Кафе, кофейни, чайные, кондитерские;Молочная продукция',\n       'Кафе, кофейни, чайные, кондитерские;Подарки, сувениры;Цветы',\n       'Алкогольные супермаркеты и магазины;Кафе, кофейни, чайные, кондитерские;Магазины, супермаркеты',\n       'Банкетные залы;Кейтеринг;Рестораны',\n       'Кафе, кофейни, чайные, кондитерские;Посуда',\n       'Fast-food;Банкетные залы;Кафе, кофейни, чайные, кондитерские',\n       'Бары, пабы;Рестораны',\n       'Кафе, кофейни, чайные, кондитерские;Садовые центры, магазины',\n       'Банкетные залы;Кафе, кофейни, чайные, кондитерские;Кейтеринг;Рестораны',\n       'Fast-food;Алкогольные супермаркеты и магазины',\n       'Банкетные залы;Бары, пабы;Рестораны',\n       'Бары, пабы;Кейтеринг;Ночные и развлекательные клубы;Рестораны',\n       'Банкетные залы;Бары, пабы;Кафе, кофейни, чайные, кондитерские;Рестораны',\n       'Бары, пабы;Бильярд;Рестораны',\n       'Бары, пабы;Бильярд;Кафе, кофейни, чайные, кондитерские',\n       'Жир / Маслопродукты;Кафе, кофейни, чайные, кондитерские',\n       'Fast-food;Праздничные услуги (организация, оформление)',\n       'Кафе, кофейни, чайные, кондитерские;Парикмахерские;Фитнес-клубы',\n       'Бары, пабы;Бильярд;Боулинг;Кафе, кофейни, чайные, кондитерские',\n       'Прокат, аренда',\n       'Круизы / Морские;Туристические фирмы;Юридические консультации и услуги',\n       'Туристические фирмы',\n       'Железнодорожные билеты;Туристические фирмы;Юридические консультации и услуги',\n       'Круизы / Морские;Туристические фирмы',\n       'Туристические фирмы;Юридические консультации и услуги',\n       'Железнодорожные билеты;Полиграфические услуги;Туристические фирмы',\n       'Гостиницы, мотели, хостелы, общежития, кемпинги;Туристические фирмы',\n       'Страховые компании, фонды;Туристические фирмы',\n       'Железнодорожные билеты;Туристические фирмы',\n       'Железнодорожные билеты;Страховые компании, фонды;Туристические фирмы;Юридические консультации и услуги',\n       'Страховые компании, фонды;Туристические фирмы;Юридические консультации и услуги',\n       'Железнодорожные билеты;Круизы / Морские;Туристические фирмы',\n       'Железнодорожные билеты;Помощь в оформлении загранпаспортов;Туристические фирмы',\n       'Железнодорожные билеты;Круизы / Морские;Туристические фирмы;Юридические консультации и услуги',\n       'Помощь в оформлении загранпаспортов;Туристические фирмы',\n       'Авиабилеты;Гостиницы, мотели, хостелы, общежития, кемпинги;Железнодорожные билеты;Туристические фирмы;Юридические консультации и услуги',\n       'Помощь в оформлении загранпаспортов;Туристические фирмы;Юридические консультации и услуги',\n       'Железнодорожные билеты;Круизы / Морские;Помощь в оформлении загранпаспортов;Туристические фирмы',\n       'Дополнительное образование;Круизы / Морские;Туристические фирмы;Юридические консультации и услуги',\n       'Железнодорожные билеты;Помощь в оформлении загранпаспортов;Туристические фирмы;Юридические консультации и услуги',\n       'Спортивное и фитнес-питание',\n       'Веломагазины;Магазины спорт товаров;Спортивное и фитнес-питание',\n       'Бижутерия;Дополнительное образование;Подарки, сувениры;Ювелирные услуги (ремонт, изготовление)',\n       'Автосервис;Веломагазины;Гипермаркеты, магазины;Инструменты;Магазины мототехники;Магазины спорт товаров;Прочие организации автотематики;Снаряжение для туризма и отдыха',\n       'Веломагазины;Магазины спорт товаров', 'Подарки, сувениры',\n       'Подарки, сувениры;Садовые центры, магазины;Цветы',\n       'Магазины мототехники;Снаряжение для туризма и отдыха',\n       'Магазины спорт товаров', 'Бары, пабы',\n       'Бижутерия;Подарки, сувениры;Сумки / Кожгалантерея',\n       'Веломагазины;Магазины мототехники;Магазины спорт товаров;Садовые центры, магазины',\n       'Подарки, сувениры;Праздничные услуги (организация, оформление)',\n       'Бижутерия;Подарки, сувениры;Товары для творчества и рукоделия',\n       'Игры, игрушки;Магазины спорт товаров;Радиоэлектронные приборы;Электротовары',\n       'Магазины одежды',\n       'Магазины спорт товаров;Спортивное и фитнес-питание',\n       'Магазины одежды;Подарки, сувениры;Сумки / Кожгалантерея',\n       'Бижутерия;Подарки, сувениры',\n       'Магазины спорт товаров;Прокат спорт инвентаря',\n       'Киоски / магазины по продаже печатной продукции;Подарки, сувениры',\n       'Магазины одежды;Магазины спорт товаров;Снаряжение для туризма и отдыха',\n       'Полиграфические услуги',\n       'Бижутерия;Игры, игрушки;Подарки, сувениры',\n       'Комиссионные магазины, секонд-хенды;Магазины спорт товаров;Подарки, сувениры;Посуда',\n       'Подарки, сувениры;Ткани',\n       'Подарки, сувениры;Ремонт аудио / видео / цифровой техники;Фототовары',\n       'Веломагазины;Магазины одежды;Магазины спорт товаров',\n       'Бижутерия;Игры, игрушки;Подарки, сувениры;Посуда;Ткани',\n       'Парфюмерия, косметика;Подарки, сувениры',\n       'Детские / подростковые клубы',\n       'Инструменты;Полиграфические услуги;Прокат спорт инвентаря',\n       'Рыболовные принадлежности',\n       'Магазины одежды;Магазины спорт товаров',\n       'Веломагазины;Магазины спорт товаров;Снаряжение для туризма и отдыха',\n       'Бижутерия;Магазины одежды;Подарки, сувениры;Сумки / Кожгалантерея',\n       'Магазины одежды;Подарки, сувениры',\n       'Игры, игрушки;Подарки, сувениры', 'Подарки, сувениры;Цветы',\n       'Страховые компании, фонды',\n       'Оформление купли-продажи автомобилей;Страховые компании, фонды',\n       'Авиабилеты', 'Клининг', 'Автобусные билеты'], dtype=object)"
     },
     "execution_count": 66,
     "metadata": {},
     "output_type": "execute_result"
    }
   ],
   "source": [
    "geojson_data['subgroup2'].unique() #todo спарсить почленно"
   ],
   "metadata": {
    "collapsed": false
   }
  },
  {
   "cell_type": "code",
   "execution_count": 67,
   "outputs": [
    {
     "data": {
      "text/plain": "array([nan, 'Отдых и развлечения', 'Культура и искусство',\n       'Культура и искусство;Товары народного потребления',\n       'Наука и образование', 'Культура и искусство;Наука и образование',\n       'Спорт', 'Объекты детской тематики;Отдых и развлечения;Спорт',\n       'Туризм', 'Общепит;Туризм', 'Отдых и развлечения;Туризм',\n       'Спорт;Туризм', 'Отдых и развлечения;Спорт;Туризм',\n       'Общепит;Отдых и развлечения;Спорт;Туризм', 'Общепит',\n       'Общепит;Объекты продуктового ритейла. FMCG.', 'Общепит;Спорт',\n       'Бытовые услуги;Общепит;Товары народного потребления',\n       'Бытовые услуги;Общепит', 'Общепит;Отдых и развлечения',\n       'Общепит;Товары народного потребления',\n       'Гипермаркеты;Общепит;Объекты продуктового ритейла. FMCG.',\n       'Бытовые услуги;Общепит;Объекты продуктового ритейла. FMCG.',\n       'Общепит;Объекты детской тематики',\n       'Бытовые услуги;Общепит;Объекты детской тематики;Отдых и развлечения',\n       'Бытовые услуги;Общепит;Отдых и развлечения',\n       'Медицина;Общепит;Товары народного потребления',\n       'Бытовые услуги;Общепит;Объекты детской тематики;Отдых и развлечения;Спорт',\n       'Бытовые услуги;Культура и искусство;Общепит;Одежда, обувь, аксессуары;Спорт',\n       'Гипермаркеты;Общепит',\n       'Общепит;Объекты продуктового ритейла. FMCG.;Товары народного потребления',\n       'Общепит;Объекты DIY, мебель, товары для дома',\n       'Бытовые услуги;Общепит;Спорт', 'Авто', 'Бытовые услуги;Туризм',\n       'Объекты финансовой сферы и страхования;Туризм',\n       'Бытовые услуги;Объекты финансовой сферы и страхования;Туризм',\n       'Бытовые услуги;Наука и образование;Туризм',\n       'Бытовые услуги;Наука и образование;Одежда, обувь, аксессуары;Товары народного потребления',\n       'Авто;Объекты DIY, мебель, товары для дома;Спорт;Туризм',\n       'Товары народного потребления',\n       'Объекты DIY, мебель, товары для дома;Товары народного потребления',\n       'Авто;Туризм',\n       'Одежда, обувь, аксессуары;Товары народного потребления',\n       'Авто;Объекты DIY, мебель, товары для дома;Спорт',\n       'Бытовые услуги;Товары народного потребления',\n       'Объекты DIY, мебель, товары для дома;Объекты детской тематики;Спорт;Электроника и бытовая техника',\n       'Одежда, обувь, аксессуары',\n       'Одежда, обувь, аксессуары;Спорт;Туризм', 'Бытовые услуги',\n       'Объекты детской тематики;Одежда, обувь, аксессуары;Товары народного потребления',\n       'Спорт;Товары народного потребления',\n       'Бытовые услуги;Товары народного потребления;Электроника и бытовая техника',\n       'Одежда, обувь, аксессуары;Спорт', 'Объекты детской тематики',\n       'Бытовые услуги;Объекты DIY, мебель, товары для дома;Спорт',\n       'Объекты детской тематики;Товары народного потребления',\n       'Объекты финансовой сферы и страхования',\n       'Авто;Объекты финансовой сферы и страхования'], dtype=object)"
     },
     "execution_count": 67,
     "metadata": {},
     "output_type": "execute_result"
    }
   ],
   "source": [
    "geojson_data['group2'].unique()"
   ],
   "metadata": {
    "collapsed": false
   }
  },
  {
   "cell_type": "code",
   "execution_count": 68,
   "outputs": [
    {
     "data": {
      "text/plain": "array([nan, 'ж/д станция'], dtype=object)"
     },
     "execution_count": 68,
     "metadata": {},
     "output_type": "execute_result"
    }
   ],
   "source": [
    "geojson_data['type'].unique()"
   ],
   "metadata": {
    "collapsed": false
   }
  },
  {
   "cell_type": "code",
   "execution_count": 69,
   "outputs": [
    {
     "data": {
      "text/plain": "array([nan, 'bell_tower'], dtype=object)"
     },
     "execution_count": 69,
     "metadata": {},
     "output_type": "execute_result"
    }
   ],
   "source": [
    "geojson_data['tower_type'].unique()"
   ],
   "metadata": {
    "collapsed": false
   }
  },
  {
   "cell_type": "code",
   "execution_count": 70,
   "outputs": [
    {
     "data": {
      "text/plain": "array([nan, '15', '3', '17', '150'], dtype=object)"
     },
     "execution_count": 70,
     "metadata": {},
     "output_type": "execute_result"
    }
   ],
   "source": [
    "geojson_data['addr_housenumber'].unique()"
   ],
   "metadata": {
    "collapsed": false
   }
  },
  {
   "cell_type": "code",
   "execution_count": 71,
   "outputs": [
    {
     "data": {
      "text/plain": "array(['Исторические места и здания, памятники культуры и искусства',\n       'Кинотеатры', 'Выставочные залы, конференцзалы',\n       'Концертные залы, театры, оперные здания, мюзик-холлы', 'Музеи',\n       'Лыжные базы, горнолыжные курорты',\n       'Средства размещения: гостиницы, мотели, хостелы и другие организации гостиничного типа',\n       'Специализированные средства размещения (санаторно-курортные организации, дома отдыха, пансионаты, кемпинги, базы отдыха, туристские базы)',\n       'Объекты общественного питания (кафе, бары, рестораны, столовые и пр.)',\n       'Предприятия, предоставляющие в аренду и лизинг легковые автомобили и легкие автотранспортные средства',\n       'Туристические агентства и туроператоры',\n       'Специализированные магазины по розничной продаже дорожных принадлежностей, спортивного оборудования и спортивных товаров, сувениров, изделий народных художественных промыслов',\n       'Коммерческие художественные галереи',\n       'Организации, занимающиеся страхованием для путешественников, выезжающих за пределы постоянного проживания',\n       'Аэропорты, вертолётные станции (перевозки пассажиров в междугородном и международном сообщении по расписанию)',\n       'Железнодорожные вокзалы, станции (междугородные и международные пассажирские перевозки)',\n       'Автобусные вокзалы, станции (перевозки пассажиров в междугородном и международном сообщении по расписанию)',\n       'Пассажирские морские и речные вокзалы (перевозки пассажиров в междугородном и международном сообщении)',\n       'Станции подвесных канатных дорог и подъемников, фуникулёров',\n       'Таксомоторные парки'], dtype=object)"
     },
     "execution_count": 71,
     "metadata": {},
     "output_type": "execute_result"
    }
   ],
   "source": [
    "geojson_data['category_full'].unique()"
   ],
   "metadata": {
    "collapsed": false
   }
  },
  {
   "cell_type": "code",
   "execution_count": 72,
   "outputs": [
    {
     "data": {
      "text/plain": "array(['historic_arctic_points', 'cinema', 'conference', 'concert',\n       'museum', 'ski_bases', 'hotels', 'tour_base', 'cafe', 'auto',\n       'tour_operator', 'sport_souvenir', 'art_gallery', 'insurance',\n       'airport', 'rzd_osm', 'bus_station', 'sea_station', 'funicular',\n       'taxi'], dtype=object)"
     },
     "execution_count": 72,
     "metadata": {},
     "output_type": "execute_result"
    }
   ],
   "source": [
    "geojson_data['category'].unique()"
   ],
   "metadata": {
    "collapsed": false
   }
  },
  {
   "cell_type": "code",
   "execution_count": 73,
   "outputs": [
    {
     "data": {
      "text/plain": "array(['Исторические места и здания, памятники культуры и искусства',\n       'Кинотеатры', 'Выставочные залы, конференцзалы',\n       'Концертные залы, театры, оперные здания, мюзик-холлы', 'Музеи',\n       'Лыжные базы, горнолыжные курорты',\n       'Средства размещения: гостиницы, мотели, хостелы и др.',\n       'Специализированные средства размещения',\n       'Объекты общественного питания',\n       'Аренда и лизинг легковых автомобилей',\n       'Туристические агентства и туроператоры',\n       'Специализированные магазины по продаже дорожных принадлежностей, сувениров и др.',\n       'Коммерческие художественные галереи',\n       'Организации, занимающиеся страхованием для путешественников',\n       'Аэропорты, вертолётные станции',\n       'Железнодорожные вокзалы, станции', 'Автобусные вокзалы, станции',\n       'Пассажирские морские и речные вокзалы',\n       'Станции подвесных канатных дорог и подъемников, фуникулёров',\n       'Таксомоторные парки'], dtype=object)"
     },
     "execution_count": 73,
     "metadata": {},
     "output_type": "execute_result"
    }
   ],
   "source": [
    "geojson_data['category_name'].unique()"
   ],
   "metadata": {
    "collapsed": false
   }
  },
  {
   "cell_type": "code",
   "execution_count": 74,
   "outputs": [
    {
     "data": {
      "text/plain": "         id                                               name  \\\n0       497  Зубной лекарь, стоматологическая клиника, ООО ...   \n1       540         Северодвинская городская больница №1, ГБУЗ   \n2      1196       Стоматошка, ООО, центр семейной стоматологии   \n3      1449    Arctic Smile, клиника эстетической стоматологии   \n4      1499            Семейный доктор, ООО, медицинский центр   \n..      ...                                                ...   \n480  209424                                                      \n481  211656                Санитарно-эпидемиологическая служба   \n482  211665                                Родильное отделение   \n483  211666                             Инфекционное отделение   \n484  211667                                        Поликлиника   \n\n                                            city  \\\n0                                    Архангельск   \n1    Северодвинск (Северодвинск городской округ)   \n2    Северодвинск (Северодвинск городской округ)   \n3                                    Архангельск   \n4    Северодвинск (Северодвинск городской округ)   \n..                                           ...   \n480                                                \n481                                                \n482                                                \n483                                                \n484                                                \n\n                             street house    post          x          y  \\\n0                 Троицкий проспект    12          40.531366  64.532504   \n1                Серго Орджоникидзе    2а  164512  39.784852  64.561244   \n2                        Ломоносова    97  164522  39.768076  64.547978   \n3    Советских Космонавтов проспект   115  163000  40.532484  64.545325   \n4                   Железнодорожная    34  164521  39.856426  64.561377   \n..                              ...   ...     ...        ...        ...   \n480                                                37.450782  63.715088   \n481                                                38.102945  63.903417   \n482                                                38.118287  63.904594   \n483                                                38.117969  63.903717   \n484                                                38.117204  63.904011   \n\n     cpi_id                         geometry  \n0     15347  POINT (4511931.077 9486294.630)  \n1     16904  POINT (4428829.428 9493738.840)  \n2     37139  POINT (4426962.001 9490301.724)  \n3     44992  POINT (4512055.475 9489614.533)  \n4     46921  POINT (4436797.084 9493773.396)  \n..      ...                              ...  \n480   12924  POINT (4169001.971 9277780.046)  \n481   15474  POINT (4241600.391 9325280.292)  \n482   15483  POINT (4243308.265 9325578.029)  \n483   15484  POINT (4243272.855 9325356.187)  \n484   15485  POINT (4243187.706 9325430.690)  \n\n[485 rows x 10 columns]",
      "text/html": "<div>\n<style scoped>\n    .dataframe tbody tr th:only-of-type {\n        vertical-align: middle;\n    }\n\n    .dataframe tbody tr th {\n        vertical-align: top;\n    }\n\n    .dataframe thead th {\n        text-align: right;\n    }\n</style>\n<table border=\"1\" class=\"dataframe\">\n  <thead>\n    <tr style=\"text-align: right;\">\n      <th></th>\n      <th>id</th>\n      <th>name</th>\n      <th>city</th>\n      <th>street</th>\n      <th>house</th>\n      <th>post</th>\n      <th>x</th>\n      <th>y</th>\n      <th>cpi_id</th>\n      <th>geometry</th>\n    </tr>\n  </thead>\n  <tbody>\n    <tr>\n      <th>0</th>\n      <td>497</td>\n      <td>Зубной лекарь, стоматологическая клиника, ООО ...</td>\n      <td>Архангельск</td>\n      <td>Троицкий проспект</td>\n      <td>12</td>\n      <td></td>\n      <td>40.531366</td>\n      <td>64.532504</td>\n      <td>15347</td>\n      <td>POINT (4511931.077 9486294.630)</td>\n    </tr>\n    <tr>\n      <th>1</th>\n      <td>540</td>\n      <td>Северодвинская городская больница №1, ГБУЗ</td>\n      <td>Северодвинск (Северодвинск городской округ)</td>\n      <td>Серго Орджоникидзе</td>\n      <td>2а</td>\n      <td>164512</td>\n      <td>39.784852</td>\n      <td>64.561244</td>\n      <td>16904</td>\n      <td>POINT (4428829.428 9493738.840)</td>\n    </tr>\n    <tr>\n      <th>2</th>\n      <td>1196</td>\n      <td>Стоматошка, ООО, центр семейной стоматологии</td>\n      <td>Северодвинск (Северодвинск городской округ)</td>\n      <td>Ломоносова</td>\n      <td>97</td>\n      <td>164522</td>\n      <td>39.768076</td>\n      <td>64.547978</td>\n      <td>37139</td>\n      <td>POINT (4426962.001 9490301.724)</td>\n    </tr>\n    <tr>\n      <th>3</th>\n      <td>1449</td>\n      <td>Arctic Smile, клиника эстетической стоматологии</td>\n      <td>Архангельск</td>\n      <td>Советских Космонавтов проспект</td>\n      <td>115</td>\n      <td>163000</td>\n      <td>40.532484</td>\n      <td>64.545325</td>\n      <td>44992</td>\n      <td>POINT (4512055.475 9489614.533)</td>\n    </tr>\n    <tr>\n      <th>4</th>\n      <td>1499</td>\n      <td>Семейный доктор, ООО, медицинский центр</td>\n      <td>Северодвинск (Северодвинск городской округ)</td>\n      <td>Железнодорожная</td>\n      <td>34</td>\n      <td>164521</td>\n      <td>39.856426</td>\n      <td>64.561377</td>\n      <td>46921</td>\n      <td>POINT (4436797.084 9493773.396)</td>\n    </tr>\n    <tr>\n      <th>...</th>\n      <td>...</td>\n      <td>...</td>\n      <td>...</td>\n      <td>...</td>\n      <td>...</td>\n      <td>...</td>\n      <td>...</td>\n      <td>...</td>\n      <td>...</td>\n      <td>...</td>\n    </tr>\n    <tr>\n      <th>480</th>\n      <td>209424</td>\n      <td></td>\n      <td></td>\n      <td></td>\n      <td></td>\n      <td></td>\n      <td>37.450782</td>\n      <td>63.715088</td>\n      <td>12924</td>\n      <td>POINT (4169001.971 9277780.046)</td>\n    </tr>\n    <tr>\n      <th>481</th>\n      <td>211656</td>\n      <td>Санитарно-эпидемиологическая служба</td>\n      <td></td>\n      <td></td>\n      <td></td>\n      <td></td>\n      <td>38.102945</td>\n      <td>63.903417</td>\n      <td>15474</td>\n      <td>POINT (4241600.391 9325280.292)</td>\n    </tr>\n    <tr>\n      <th>482</th>\n      <td>211665</td>\n      <td>Родильное отделение</td>\n      <td></td>\n      <td></td>\n      <td></td>\n      <td></td>\n      <td>38.118287</td>\n      <td>63.904594</td>\n      <td>15483</td>\n      <td>POINT (4243308.265 9325578.029)</td>\n    </tr>\n    <tr>\n      <th>483</th>\n      <td>211666</td>\n      <td>Инфекционное отделение</td>\n      <td></td>\n      <td></td>\n      <td></td>\n      <td></td>\n      <td>38.117969</td>\n      <td>63.903717</td>\n      <td>15484</td>\n      <td>POINT (4243272.855 9325356.187)</td>\n    </tr>\n    <tr>\n      <th>484</th>\n      <td>211667</td>\n      <td>Поликлиника</td>\n      <td></td>\n      <td></td>\n      <td></td>\n      <td></td>\n      <td>38.117204</td>\n      <td>63.904011</td>\n      <td>15485</td>\n      <td>POINT (4243187.706 9325430.690)</td>\n    </tr>\n  </tbody>\n</table>\n<p>485 rows × 10 columns</p>\n</div>"
     },
     "execution_count": 74,
     "metadata": {},
     "output_type": "execute_result"
    }
   ],
   "source": [
    "geojson_data = geopandas.read_file('data/geojsons/objects_zdrav.geojson')\n",
    "geojson_data"
   ],
   "metadata": {
    "collapsed": false
   }
  },
  {
   "cell_type": "code",
   "execution_count": 75,
   "outputs": [
    {
     "data": {
      "text/plain": "array(['Архангельск', 'Северодвинск (Северодвинск городской округ)',\n       'Новодвинск (Новодвинск городской округ)',\n       'Рикасиха (Приморский район)', 'Талаги (Приморский район)',\n       'Хорьково (Приморский район)', 'Уемский (Приморский район)',\n       'Талажский авиагородок', 'Вознесенье (Приморский район)',\n       'Васьково (Приморский район)', 'Ширшинский (Приморский район)',\n       'Трепузово (Приморский район)', 'Кузьмино (Приморский район)',\n       'Катунино (Приморский район)', 'Боброво (Приморский район)',\n       'Лайский Док (Приморский район)', 'Турдеевск',\n       'Луговой (Приморский район)',\n       'Большое Анисимово (Приморский район)',\n       'Окулово (Приморский район)', 'Одиночка (Приморский район)',\n       'Ластола (Приморский район)', ''], dtype=object)"
     },
     "execution_count": 75,
     "metadata": {},
     "output_type": "execute_result"
    }
   ],
   "source": [
    "geojson_data['city'].unique()"
   ],
   "metadata": {
    "collapsed": false
   }
  },
  {
   "cell_type": "code",
   "execution_count": 76,
   "outputs": [
    {
     "data": {
      "text/plain": "    OBJECTID  OOPT_GP_ID  L_CODEA   L_CODE  L_CODEG G_TYPE  \\\n0          1         727      NaN  39288.0      NaN    NaN   \n1          2         887      NaN  39289.0      NaN    NaN   \n2          3        2851      NaN  39288.0      NaN    NaN   \n3          4        2859      NaN  39289.0      NaN    NaN   \n4          5         390      NaN  39278.0      NaN    NaN   \n5          6        1172      NaN  39278.0      NaN    NaN   \n6          7        1276      NaN  39278.0      NaN    NaN   \n7          8        1341      NaN  39278.0      NaN    NaN   \n8          9        1359      NaN  39278.0      NaN    NaN   \n9         10        1372      NaN  39278.0      NaN    NaN   \n10        11        1605      NaN  39278.0      NaN    NaN   \n11        12        1833      NaN  39278.0      NaN    NaN   \n12        13        2026      NaN  38244.0      NaN      В   \n13        14        1452      NaN  38262.0      NaN      У   \n14        15        1223      NaN      NaN      NaN    NaN   \n15        16        1612      NaN  39278.0      NaN    NaN   \n16        17         827      NaN      NaN      NaN    NaN   \n17        18         867      NaN      NaN      NaN    NaN   \n18        19         183      NaN  39278.0      NaN    NaN   \n19        20        2855      NaN  39289.0      NaN    NaN   \n20        21        2857      NaN  39289.0      NaN    NaN   \n21        22        2858      NaN  39289.0      NaN    NaN   \n22        23         361      NaN  38392.0      NaN    NaN   \n23        24        1266      NaN  39278.0      NaN    NaN   \n24        25        1555      NaN  39278.0      NaN    NaN   \n25        26        1333      NaN  39278.0      NaN    NaN   \n26        27         971      NaN  39278.0      NaN    NaN   \n27        28        1344      NaN  39278.0      NaN    NaN   \n28        29        2433      NaN      NaN      NaN    NaN   \n29        30        2837      NaN  38852.0      NaN     Ре   \n30        31        2488      NaN  38222.0      NaN      Р   \n31        32        1489      NaN  38232.0      NaN      В   \n32        33        2296      NaN  38214.0      NaN      О   \n33        34        2420      NaN  38244.0      NaN    NaN   \n34        35        2440      NaN  39654.0      NaN      Г   \n35        36        2297      NaN  38394.0      NaN    NaN   \n36        37        2318      NaN  38404.0      NaN      Ф   \n37        38        1978      NaN  39604.0      NaN      Н   \n38        39        2853      NaN  39852.0      NaN    NaN   \n39        40        1016      NaN  39192.0      NaN      В   \n40        41        1296      NaN  38381.0      NaN     Ре   \n41        42        1504      NaN  38851.0      NaN    NaN   \n42        43         224      NaN  38392.0      NaN    NaN   \n43        44        1454      NaN  38392.0      NaN    NaN   \n44        45        2408      NaN  39424.0      NaN      А   \n45        46        1278      NaN  38851.0      NaN    NaN   \n46        47        6763      NaN  38394.0      NaN    NaN   \n47        48         157      NaN  38204.0      NaN    NaN   \n48        49        2320      NaN  38224.0      NaN      Э   \n49        50        1939      NaN  39424.0      NaN      А   \n50        51        1328      NaN  39862.0      NaN    NaN   \n51        52        1954      NaN  38394.0      NaN    NaN   \n52        53        2129      NaN  38394.0      NaN    NaN   \n53        54        2256      NaN  38384.0      NaN     Ре   \n54        55        2417      NaN  39904.0      NaN    NaN   \n55        56         340      NaN  38392.0      NaN    NaN   \n56        57           2      NaN  39422.0      NaN      А   \n57        58           5      NaN  39422.0      NaN      А   \n\n                                                 NAME  \\\n0                                     Озеро Моготоево   \n1                 Зеленая зона \"Сосновый бор о. Ягры\"   \n2                                      Озеро Буустаах   \n3                                        Таймылырский   \n4                                        Мыс Ванкарем   \n5   Биогруппа елей (Биогруппа елей на границе ареала)   \n6                                      Ширшинский лес   \n7                             Пихты под Архангельском   \n8                                Ущелье Айкуайвенчорр   \n9   Участок лиственничного леса с выражением в пла...   \n10                             Участок соснового леса   \n11      Наскальные изображения у поселка Чалмны-Варрэ   \n12                                Вулкан Балаган-Таас   \n13                Ландшафтный участок \"Красные камни\"   \n14                                     Тазовская Губа   \n15        Участок лиственничного леса у деревни Лямца   \n16                                            Колгуев   \n17                                           Югорский   \n18                                    Мыс Кожевникова   \n19                                        Озеро Чалла   \n20                                        Куропаточья   \n21                                        Полярис-Эко   \n22                                    Хапташинский Яр   \n23  Участок лиственничного леса с выражением в пла...   \n24                             Талажский сосновый бор   \n25                                      Сосновая роща   \n26                                      Талицкий ключ   \n27                                    Участок \"Падун\"   \n28                                       Гора Балахня   \n29                                         Хитоостров   \n30                                         Харбейский   \n31                                    Анюйский вулкан   \n32  Опорное обнажение плейстоценовых отложений Тай...   \n33                                     Плато Путорана   \n34                                   Ледники Бырранга   \n35                        Обнажение юрских песчаников   \n36                                 Обнажение Кайеркан   \n37                                Наледь Улахан-Тарын   \n38                                       Улахан-Тарын   \n39                    Ледниковый валун возле Апатитов   \n40                     Эпидозиты мыса Верхний наволок   \n41                                   Залежь Юбилейная   \n42                                        Берелехский   \n43                                  Большой Ляховский   \n44                                 Карская астроблема   \n45                      Астрофиллиты горы Эвеслогчорр   \n46                        Беломорские горы (Ива-гора)   \n47                                       Мыс Цветкова   \n48                                  Харбейский рудник   \n49                            Усть-Карская астроблема   \n50                                 Урочище \"Куртяево\"   \n51                        Зимнегорское (Зимний берег)   \n52                                       Летний берег   \n53                               Сферолиты на о. Чамп   \n54                                          Кондозеро   \n55                                      Ойягосский Яр   \n56                Геологическое Попигайское обнажение   \n57            Геологические обнажения \"Пестрые скалы\"   \n\n                                       CATEGORY  \\\n0                              уникальное озеро   \n1                                  зеленая зона   \n2                              уникальное озеро   \n3                           ресурсный резервант   \n4                              памятник природы   \n5                              памятник природы   \n6                              памятник природы   \n7                              памятник природы   \n8                              памятник природы   \n9                              памятник природы   \n10                             памятник природы   \n11                             памятник природы   \n12                                          NaN   \n13                             памятник природы   \n14           государственный природный заказник   \n15                             памятник природы   \n16  территория традиционного природопользования   \n17                               природный парк   \n18                             памятник природы   \n19                                   зона покоя   \n20                          ресурсный резервант   \n21                          ресурсный резервант   \n22                             памятник природы   \n23                             памятник природы   \n24                             памятник природы   \n25                             памятник природы   \n26                             памятник природы   \n27                             памятник природы   \n28                                          NaN   \n29                             памятник природы   \n30                             памятник природы   \n31                             памятник природы   \n32                                          NaN   \n33                                          NaN   \n34                                          NaN   \n35                                          NaN   \n36                                          NaN   \n37                                          NaN   \n38                             памятник природы   \n39                             памятник природы   \n40                             памятник природы   \n41                             памятник природы   \n42                             памятник природы   \n43                             памятник природы   \n44                                          NaN   \n45                             памятник природы   \n46                                          NaN   \n47                                          NaN   \n48                                          NaN   \n49                                          NaN   \n50                             памятник природы   \n51                                          NaN   \n52                                          NaN   \n53                                          NaN   \n54                                          NaN   \n55                             памятник природы   \n56                             памятник природы   \n57                             памятник природы   \n\n                       CATEGORY_ON_MAP    SIGNIFICAN  ...  \\\n0                       Иные категории  Региональное  ...   \n1                       Иные категории       Местное  ...   \n2                       Иные категории  Региональное  ...   \n3                       Иные категории       Местное  ...   \n4                     Памятник природы  Региональное  ...   \n5                     Памятник природы  Региональное  ...   \n6                     Памятник природы  Региональное  ...   \n7                     Памятник природы  Региональное  ...   \n8                     Памятник природы  Региональное  ...   \n9                     Памятник природы  Региональное  ...   \n10                    Памятник природы  Региональное  ...   \n11                    Памятник природы  Региональное  ...   \n12                                 NaN           NaN  ...   \n13                    Памятник природы  Региональное  ...   \n14  Государственный природный заказник  Региональное  ...   \n15                    Памятник природы  Региональное  ...   \n16                      Иные категории  Региональное  ...   \n17                      Природный парк  Региональное  ...   \n18                    Памятник природы  Региональное  ...   \n19                      Иные категории       Местное  ...   \n20                      Иные категории       Местное  ...   \n21                      Иные категории       Местное  ...   \n22                    Памятник природы  Региональное  ...   \n23                    Памятник природы  Региональное  ...   \n24                    Памятник природы  Региональное  ...   \n25                    Памятник природы  Региональное  ...   \n26                    Памятник природы  Региональное  ...   \n27                    Памятник природы  Региональное  ...   \n28                                 NaN           NaN  ...   \n29                    Памятник природы  Региональное  ...   \n30                    Памятник природы  Региональное  ...   \n31                    Памятник природы  Региональное  ...   \n32                                 NaN           NaN  ...   \n33                                 NaN           NaN  ...   \n34                                 NaN           NaN  ...   \n35                                 NaN           NaN  ...   \n36                                 NaN           NaN  ...   \n37                                 NaN           NaN  ...   \n38                    Памятник природы  Региональное  ...   \n39                    Памятник природы  Региональное  ...   \n40                    Памятник природы   Федеральное  ...   \n41                    Памятник природы   Федеральное  ...   \n42                    Памятник природы  Региональное  ...   \n43                    Памятник природы  Региональное  ...   \n44                                 NaN           NaN  ...   \n45                    Памятник природы   Федеральное  ...   \n46                                 NaN           NaN  ...   \n47                                 NaN           NaN  ...   \n48                                 NaN           NaN  ...   \n49                                 NaN           NaN  ...   \n50                    Памятник природы  Региональное  ...   \n51                                 NaN           NaN  ...   \n52                                 NaN           NaN  ...   \n53                                 NaN           NaN  ...   \n54                                 NaN           NaN  ...   \n55                    Памятник природы  Региональное  ...   \n56                    Памятник природы  Региональное  ...   \n57                    Памятник природы  Региональное  ...   \n\n                               NOTES              LAST_CHANGE_USER  \\\n0             В границах ООП Каталык  Galina_Moskaleva@PC-CITRGM16   \n1                                NaN  Galina_Moskaleva@PC-CITRGM16   \n2   В границах ООПТ \"Янские мамонты\"  Galina_Moskaleva@PC-CITRGM16   \n3                                NaN  Galina_Moskaleva@PC-CITRGM16   \n4                                NaN  Galina_Moskaleva@PC-CITRGM16   \n5                                NaN  Galina_Moskaleva@PC-CITRGM16   \n6                                NaN  Galina_Moskaleva@PC-CITRGM16   \n7                                NaN  Galina_Moskaleva@PC-CITRGM16   \n8                                NaN  Galina_Moskaleva@PC-CITRGM16   \n9                                NaN  Galina_Moskaleva@PC-CITRGM16   \n10                               NaN  Galina_Moskaleva@PC-CITRGM16   \n11                               NaN  Galina_Moskaleva@PC-CITRGM16   \n12                               NaN  Galina_Moskaleva@PC-CITRGM16   \n13                               NaN  Galina_Moskaleva@PC-CITRGM16   \n14                               NaN  Galina_Moskaleva@PC-CITRGM16   \n15                               NaN  Galina_Moskaleva@PC-CITRGM16   \n16                               NaN  Galina_Moskaleva@PC-CITRGM16   \n17                               NaN  Galina_Moskaleva@PC-CITRGM16   \n18                               NaN  Galina_Moskaleva@PC-CITRGM16   \n19                               NaN  Galina_Moskaleva@PC-CITRGM16   \n20                               NaN  Galina_Moskaleva@PC-CITRGM16   \n21                               NaN  Galina_Moskaleva@PC-CITRGM16   \n22                               NaN  Galina_Moskaleva@PC-CITRGM16   \n23                               NaN  Galina_Moskaleva@PC-CITRGM16   \n24                               NaN  Galina_Moskaleva@PC-CITRGM16   \n25                               NaN  Galina_Moskaleva@PC-CITRGM16   \n26                               NaN  Galina_Moskaleva@PC-CITRGM16   \n27                               NaN  Galina_Moskaleva@PC-CITRGM16   \n28                               NaN  Galina_Moskaleva@PC-CITRGM16   \n29                               NaN  Galina_Moskaleva@PC-CITRGM16   \n30                               NaN  Galina_Moskaleva@PC-CITRGM16   \n31                               NaN  Galina_Moskaleva@PC-CITRGM16   \n32                               NaN  Galina_Moskaleva@PC-CITRGM16   \n33                               NaN  Galina_Moskaleva@PC-CITRGM16   \n34                               NaN  Galina_Moskaleva@PC-CITRGM16   \n35                               NaN  Galina_Moskaleva@PC-CITRGM16   \n36                               NaN  Galina_Moskaleva@PC-CITRGM16   \n37                               NaN  Galina_Moskaleva@PC-CITRGM16   \n38                               NaN  Galina_Moskaleva@PC-CITRGM16   \n39                               NaN  Galina_Moskaleva@PC-CITRGM16   \n40                               NaN  Galina_Moskaleva@PC-CITRGM16   \n41                               NaN  Galina_Moskaleva@PC-CITRGM16   \n42                               NaN  Galina_Moskaleva@PC-CITRGM16   \n43                               NaN  Galina_Moskaleva@PC-CITRGM16   \n44                               NaN  Galina_Moskaleva@PC-CITRGM16   \n45                               NaN  Galina_Moskaleva@PC-CITRGM16   \n46                               NaN  Galina_Moskaleva@PC-CITRGM16   \n47                               NaN  Galina_Moskaleva@PC-CITRGM16   \n48                               NaN  Galina_Moskaleva@PC-CITRGM16   \n49                               NaN  Galina_Moskaleva@PC-CITRGM16   \n50                               NaN  Galina_Moskaleva@PC-CITRGM16   \n51                               NaN  Galina_Moskaleva@PC-CITRGM16   \n52                               NaN  Galina_Moskaleva@PC-CITRGM16   \n53                               NaN  Galina_Moskaleva@PC-CITRGM16   \n54                               NaN  Galina_Moskaleva@PC-CITRGM16   \n55    В граниах ООПТ  Янские мамонты  Galina_Moskaleva@PC-CITRGM16   \n56                               NaN  Galina_Moskaleva@PC-CITRGM16   \n57                               NaN  Galina_Moskaleva@PC-CITRGM16   \n\n            LAST_CHANGE_DATE LAWS_OTHER  \\\n0  2022-06-10 12:37:48+00:00        NaN   \n1  2022-06-10 12:37:48+00:00        NaN   \n2  2022-06-10 12:37:57+00:00        NaN   \n3  2022-06-10 12:37:57+00:00        NaN   \n4  2022-06-10 12:55:20+00:00        NaN   \n5  2022-06-10 12:55:22+00:00        NaN   \n6  2022-06-10 12:55:23+00:00        NaN   \n7  2022-06-10 12:55:23+00:00        NaN   \n8  2022-06-10 12:55:23+00:00        NaN   \n9  2022-06-10 12:55:23+00:00        NaN   \n10 2022-06-10 12:55:24+00:00        NaN   \n11 2022-06-10 12:55:24+00:00        NaN   \n12 2022-06-15 13:32:13+00:00        NaN   \n13 2022-06-15 13:32:10+00:00        NaN   \n14 2022-04-18 14:23:32+00:00        NaN   \n15 2022-04-18 14:23:35+00:00        NaN   \n16 2022-04-18 14:23:30+00:00        NaN   \n17 2022-04-18 14:23:30+00:00        NaN   \n18 2022-06-10 12:55:16+00:00        NaN   \n19 2022-06-10 12:38:06+00:00        NaN   \n20 2022-06-10 12:38:06+00:00        NaN   \n21 2022-06-10 12:38:06+00:00        NaN   \n22 2022-06-15 13:32:07+00:00        NaN   \n23 2022-06-10 12:55:17+00:00        NaN   \n24 2022-06-10 12:55:17+00:00        NaN   \n25 2022-06-10 12:55:18+00:00        NaN   \n26 2022-06-10 12:55:18+00:00        NaN   \n27 2022-06-10 12:55:18+00:00        NaN   \n28 2022-06-15 15:37:50+00:00        NaN   \n29 2022-06-23 15:53:33+00:00        NaN   \n30 2022-06-15 15:37:50+00:00        NaN   \n31 2022-07-15 16:33:18+00:00        NaN   \n32 2022-06-15 13:32:15+00:00        NaN   \n33 2022-06-15 13:32:16+00:00        NaN   \n34 2022-06-15 13:32:16+00:00        NaN   \n35 2022-06-15 13:32:15+00:00        NaN   \n36 2022-06-15 13:32:15+00:00        NaN   \n37 2022-06-15 15:37:49+00:00        NaN   \n38 2022-07-25 15:49:23+00:00        NaN   \n39 2022-07-21 13:34:02+00:00        NaN   \n40 2022-07-21 13:34:02+00:00        NaN   \n41 2022-07-21 13:34:02+00:00        NaN   \n42 2022-09-06 18:41:35+00:00        NaN   \n43 2022-07-25 12:56:51+00:00        NaN   \n44 2022-07-21 16:27:04+00:00        NaN   \n45 2022-08-25 14:17:56+00:00        NaN   \n46 2022-08-25 15:24:36+00:00        NaN   \n47 2022-07-21 16:27:04+00:00        NaN   \n48 2022-07-21 16:27:05+00:00        NaN   \n49 2022-07-21 16:27:05+00:00        NaN   \n50 2022-07-20 12:46:53+00:00        NaN   \n51 2022-07-20 12:46:53+00:00        NaN   \n52 2022-07-20 12:46:53+00:00        NaN   \n53 2022-07-20 12:46:53+00:00        NaN   \n54 2022-07-20 12:46:53+00:00        NaN   \n55 2022-07-25 17:26:15+00:00        NaN   \n56 2022-10-07 12:10:08+00:00        NaN   \n57 2022-10-07 12:10:08+00:00        NaN   \n\n                                             LITER_GP  \\\n0                                                 NaN   \n1                                                 NaN   \n2                                                 NaN   \n3                                                 NaN   \n4                                                 NaN   \n5                                                 NaN   \n6                                                 NaN   \n7                                                 NaN   \n8                                                 NaN   \n9                                                 NaN   \n10                                                NaN   \n11                                                NaN   \n12                                                NaN   \n13                                                NaN   \n14                                                NaN   \n15                                                NaN   \n16                                                NaN   \n17                                                NaN   \n18                                                NaN   \n19                                                NaN   \n20                                                NaN   \n21                                                NaN   \n22                                                NaN   \n23                                                NaN   \n24                                                NaN   \n25                                                NaN   \n26                                                NaN   \n27                                                NaN   \n28                                                NaN   \n29  Геологические памятники природы Карелии / Авт....   \n30                                                NaN   \n31                                                NaN   \n32                                                NaN   \n33                                                NaN   \n34                                                NaN   \n35                                                NaN   \n36                                                NaN   \n37                                                NaN   \n38  Шепелёв В.В. Родниковые воды Якутии. – Якутск:...   \n39  Боровичёв Е.А., Петрова О.В. О состоянии памят...   \n40  Геологические памятники природы России / Под р...   \n41  Пеков И.В. Ловозерский массив: история исследо...   \n42  Геологические памятники природы России. Авторы...   \n43  Геологические памятники природы России. Авторы...   \n44  Геологические памятники природы России<br>Авто...   \n45  Геологические памятники природы России. / Под ...   \n46  Наугольных С.В., Кулешов В.Н. Ископаемая флора...   \n47  Геологические памятники природы России<br>Авто...   \n48  В.В. Григорьев Историко-геологический памятник...   \n49  Геологические памятники природы России<br>Авто...   \n50                                                NaN   \n51  Малаховская Я.Е., А.Ю. Иванцов. Вендские жител...   \n52  Малаховская Я.Е., А.Ю. Иванцов. Вендские жител...   \n53  Алексеев В. Р. Курумы – феномен криосферы. / Н...   \n54  Геологические памятники природы России / Под р...   \n55  Геологические памятники природы России. Авторы...   \n56                                                NaN   \n57  Геологические памятники природы России. Авторы...   \n\n                                           NOTES_EDIT  WCODE_OOPT WCODE_GP  \\\n0                                                 NaN     39288.0      NaN   \n1                                                 NaN     39289.0      NaN   \n2                                                 NaN     39288.0      NaN   \n3                                                 NaN     39289.0      NaN   \n4                                                 NaN     39278.0      NaN   \n5                                                 NaN     39278.0      NaN   \n6                                                 NaN     39278.0      NaN   \n7                                                 NaN     39278.0      NaN   \n8                                                 NaN     39278.0      NaN   \n9                                                 NaN     39278.0      NaN   \n10                                                NaN     39278.0      NaN   \n11                                                NaN     39278.0      NaN   \n12                                                NaN         NaN  38244.0   \n13                                                NaN     39278.0  38262.0   \n14                                                NaN         NaN      NaN   \n15                                                NaN         NaN      NaN   \n16                                                NaN         NaN      NaN   \n17                                                NaN         NaN      NaN   \n18                                                NaN     39278.0      NaN   \n19                                                NaN     39289.0      NaN   \n20                                                NaN     39289.0      NaN   \n21                                                NaN     39289.0      NaN   \n22                                                NaN     39278.0  38392.0   \n23                                                NaN     39278.0      NaN   \n24                                                NaN     39278.0      NaN   \n25                                                NaN     39278.0      NaN   \n26                                                NaN     39278.0      NaN   \n27                                                NaN     39278.0      NaN   \n28                                       ГП от Вдовец         NaN      NaN   \n29  описание от Вдовец 11_06_2022  (Вдовец  - разв...     39278.0  38852.0   \n30           Краткое описание ГП от Вдовец 17.11.2021     39278.0  38222.0   \n31                 описание от Семилеткина_11_07_2022     39278.0  38232.0   \n32                                                NaN         NaN  38214.0   \n33                                                NaN         NaN  38244.0   \n34                                                NaN         NaN  39654.0   \n35                                                NaN         NaN  38394.0   \n36                                                NaN         NaN  38404.0   \n37               Семилеткин - Развернутое описание ГП         NaN  39604.0   \n38                                                NaN     39278.0  39852.0   \n39                      описание от Вдовец 20_05_2022     39278.0  39192.0   \n40                      описание от Вдовец 20_05_2022     39277.0  38381.0   \n41  описание от Вдовец 20_05_2022   Уточнить!! Нет...     39277.0  38851.0   \n42                                                NaN     39278.0  38392.0   \n43                                                NaN     39278.0  38392.0   \n44           Краткое описание ГП от Вдовец 17.11.2021         NaN  39424.0   \n45  описание от Вдовец 20_05_2022     Уточнит стат...     39277.0  38851.0   \n46  краткое описание от М.С. Вдовец 14.07.2022  (С...         NaN  38394.0   \n47                                                NaN         NaN  38204.0   \n48           Краткое описание ГП от Вдовец 17.11.2021         NaN  38224.0   \n49           Краткое описание ГП от Вдовец 17.11.2021         NaN  39424.0   \n50      Составитель описания ГП: М.С. Вдовец_15_04_22     39278.0  39862.0   \n51      Составитель описания ГП: М.С. Вдовец_15_04_22         NaN  38394.0   \n52      Составитель описания ГП: М.С. Вдовец_15_04_22         NaN  38394.0   \n53      Составитель описания ГП: М.С. Вдовец_15_04_22         NaN  38384.0   \n54      Составитель описания ГП: М.С. Вдовец_15_04_22         NaN  39904.0   \n55                                                NaN     39278.0  38392.0   \n56                                                NaN     39278.0  39422.0   \n57                                                NaN     39278.0  39422.0   \n\n        N                            geometry  \n0   236.0   POINT (16597910.096 11760736.279)  \n1   100.0     POINT (4432408.165 9508462.854)  \n2   216.0   POINT (15774428.255 11960171.944)  \n3   189.0   POINT (13335306.892 12121422.203)  \n4   269.0  POINT (-19576309.141 10396489.958)  \n5     5.0    POINT (3347333.616 10825578.431)  \n6   108.0     POINT (4531710.699 9454750.149)  \n7   109.0     POINT (4574652.843 9440733.491)  \n8    45.0    POINT (3755950.588 10326432.336)  \n9    88.0     POINT (4253310.560 9376208.947)  \n10   91.0     POINT (4262141.931 9349298.633)  \n11   82.0    POINT (4184703.053 10204451.620)  \n12  226.0    POINT (16240511.831 9866180.161)  \n13  165.0    POINT (9851774.922 10907895.741)  \n14    NaN    POINT (8727074.088 10327180.130)  \n15    NaN     POINT (4132188.390 9458768.451)  \n16    NaN    POINT (5457975.774 10804315.388)  \n17    NaN    POINT (6737348.927 10856596.003)  \n18  275.0  POINT (-19979519.473 10727721.532)  \n19  207.0   POINT (15126148.069 10520731.306)  \n20  242.0   POINT (17196245.319 11368200.151)  \n21  197.0   POINT (14445284.667 11357424.366)  \n22  232.0   POINT (16467492.286 11862136.591)  \n23   92.0     POINT (4263539.588 9347739.996)  \n24  107.0     POINT (4525307.352 9507294.306)  \n25   86.0     POINT (4241863.212 9327649.548)  \n26   87.0     POINT (4246198.487 9323368.394)  \n27   93.0     POINT (4307544.801 9145757.744)  \n28    NaN   POINT (11877455.709 12468059.771)  \n29   33.0     POINT (3677751.073 9970998.106)  \n30  146.0    POINT (7423117.622 10146663.386)  \n31  248.0   POINT (18458664.014 10201219.910)  \n32  174.0   POINT (11178369.307 12738133.948)  \n33  169.0   POINT (10353491.880 10750475.913)  \n34  181.0   POINT (12313828.113 13088045.610)  \n35  172.0   POINT (10874021.819 12547933.112)  \n36  163.0    POINT (9771624.902 10866697.828)  \n37  225.0    POINT (16209342.374 9844080.155)  \n38  224.0    POINT (16208718.985 9846477.761)  \n39   29.0    POINT (3662406.964 10341383.804)  \n40   28.0    POINT (3656811.409 10090685.480)  \n41   60.0    POINT (3855829.112 10412611.155)  \n42  220.0   POINT (16141326.174 11290370.017)  \n43  217.0   POINT (15920913.582 12375677.191)  \n44  139.0    POINT (7204597.444 10760111.767)  \n45   50.0    POINT (3786295.351 10347930.880)  \n46  111.0     POINT (4731707.537 9760704.790)  \n47  182.0   POINT (12554612.172 12910772.779)  \n48  143.0    POINT (7363784.316 10233412.319)  \n49  142.0    POINT (7265823.164 10819469.178)  \n50   98.0     POINT (4370820.367 9483609.551)  \n51   99.0     POINT (4420385.660 9720684.027)  \n52   96.0     POINT (4339233.751 9529790.204)  \n53  121.0    POINT (6257936.494 16005838.416)  \n54   90.0     POINT (4257970.523 9347225.239)  \n55  215.0   POINT (15716085.724 12066609.024)  \n56  180.0   POINT (12274688.229 11669964.485)  \n57  179.0   POINT (12274414.237 11667035.755)  \n\n[58 rows x 63 columns]",
      "text/html": "<div>\n<style scoped>\n    .dataframe tbody tr th:only-of-type {\n        vertical-align: middle;\n    }\n\n    .dataframe tbody tr th {\n        vertical-align: top;\n    }\n\n    .dataframe thead th {\n        text-align: right;\n    }\n</style>\n<table border=\"1\" class=\"dataframe\">\n  <thead>\n    <tr style=\"text-align: right;\">\n      <th></th>\n      <th>OBJECTID</th>\n      <th>OOPT_GP_ID</th>\n      <th>L_CODEA</th>\n      <th>L_CODE</th>\n      <th>L_CODEG</th>\n      <th>G_TYPE</th>\n      <th>NAME</th>\n      <th>CATEGORY</th>\n      <th>CATEGORY_ON_MAP</th>\n      <th>SIGNIFICAN</th>\n      <th>...</th>\n      <th>NOTES</th>\n      <th>LAST_CHANGE_USER</th>\n      <th>LAST_CHANGE_DATE</th>\n      <th>LAWS_OTHER</th>\n      <th>LITER_GP</th>\n      <th>NOTES_EDIT</th>\n      <th>WCODE_OOPT</th>\n      <th>WCODE_GP</th>\n      <th>N</th>\n      <th>geometry</th>\n    </tr>\n  </thead>\n  <tbody>\n    <tr>\n      <th>0</th>\n      <td>1</td>\n      <td>727</td>\n      <td>NaN</td>\n      <td>39288.0</td>\n      <td>NaN</td>\n      <td>NaN</td>\n      <td>Озеро Моготоево</td>\n      <td>уникальное озеро</td>\n      <td>Иные категории</td>\n      <td>Региональное</td>\n      <td>...</td>\n      <td>В границах ООП Каталык</td>\n      <td>Galina_Moskaleva@PC-CITRGM16</td>\n      <td>2022-06-10 12:37:48+00:00</td>\n      <td>NaN</td>\n      <td>NaN</td>\n      <td>NaN</td>\n      <td>39288.0</td>\n      <td>NaN</td>\n      <td>236.0</td>\n      <td>POINT (16597910.096 11760736.279)</td>\n    </tr>\n    <tr>\n      <th>1</th>\n      <td>2</td>\n      <td>887</td>\n      <td>NaN</td>\n      <td>39289.0</td>\n      <td>NaN</td>\n      <td>NaN</td>\n      <td>Зеленая зона \"Сосновый бор о. Ягры\"</td>\n      <td>зеленая зона</td>\n      <td>Иные категории</td>\n      <td>Местное</td>\n      <td>...</td>\n      <td>NaN</td>\n      <td>Galina_Moskaleva@PC-CITRGM16</td>\n      <td>2022-06-10 12:37:48+00:00</td>\n      <td>NaN</td>\n      <td>NaN</td>\n      <td>NaN</td>\n      <td>39289.0</td>\n      <td>NaN</td>\n      <td>100.0</td>\n      <td>POINT (4432408.165 9508462.854)</td>\n    </tr>\n    <tr>\n      <th>2</th>\n      <td>3</td>\n      <td>2851</td>\n      <td>NaN</td>\n      <td>39288.0</td>\n      <td>NaN</td>\n      <td>NaN</td>\n      <td>Озеро Буустаах</td>\n      <td>уникальное озеро</td>\n      <td>Иные категории</td>\n      <td>Региональное</td>\n      <td>...</td>\n      <td>В границах ООПТ \"Янские мамонты\"</td>\n      <td>Galina_Moskaleva@PC-CITRGM16</td>\n      <td>2022-06-10 12:37:57+00:00</td>\n      <td>NaN</td>\n      <td>NaN</td>\n      <td>NaN</td>\n      <td>39288.0</td>\n      <td>NaN</td>\n      <td>216.0</td>\n      <td>POINT (15774428.255 11960171.944)</td>\n    </tr>\n    <tr>\n      <th>3</th>\n      <td>4</td>\n      <td>2859</td>\n      <td>NaN</td>\n      <td>39289.0</td>\n      <td>NaN</td>\n      <td>NaN</td>\n      <td>Таймылырский</td>\n      <td>ресурсный резервант</td>\n      <td>Иные категории</td>\n      <td>Местное</td>\n      <td>...</td>\n      <td>NaN</td>\n      <td>Galina_Moskaleva@PC-CITRGM16</td>\n      <td>2022-06-10 12:37:57+00:00</td>\n      <td>NaN</td>\n      <td>NaN</td>\n      <td>NaN</td>\n      <td>39289.0</td>\n      <td>NaN</td>\n      <td>189.0</td>\n      <td>POINT (13335306.892 12121422.203)</td>\n    </tr>\n    <tr>\n      <th>4</th>\n      <td>5</td>\n      <td>390</td>\n      <td>NaN</td>\n      <td>39278.0</td>\n      <td>NaN</td>\n      <td>NaN</td>\n      <td>Мыс Ванкарем</td>\n      <td>памятник природы</td>\n      <td>Памятник природы</td>\n      <td>Региональное</td>\n      <td>...</td>\n      <td>NaN</td>\n      <td>Galina_Moskaleva@PC-CITRGM16</td>\n      <td>2022-06-10 12:55:20+00:00</td>\n      <td>NaN</td>\n      <td>NaN</td>\n      <td>NaN</td>\n      <td>39278.0</td>\n      <td>NaN</td>\n      <td>269.0</td>\n      <td>POINT (-19576309.141 10396489.958)</td>\n    </tr>\n    <tr>\n      <th>5</th>\n      <td>6</td>\n      <td>1172</td>\n      <td>NaN</td>\n      <td>39278.0</td>\n      <td>NaN</td>\n      <td>NaN</td>\n      <td>Биогруппа елей (Биогруппа елей на границе ареала)</td>\n      <td>памятник природы</td>\n      <td>Памятник природы</td>\n      <td>Региональное</td>\n      <td>...</td>\n      <td>NaN</td>\n      <td>Galina_Moskaleva@PC-CITRGM16</td>\n      <td>2022-06-10 12:55:22+00:00</td>\n      <td>NaN</td>\n      <td>NaN</td>\n      <td>NaN</td>\n      <td>39278.0</td>\n      <td>NaN</td>\n      <td>5.0</td>\n      <td>POINT (3347333.616 10825578.431)</td>\n    </tr>\n    <tr>\n      <th>6</th>\n      <td>7</td>\n      <td>1276</td>\n      <td>NaN</td>\n      <td>39278.0</td>\n      <td>NaN</td>\n      <td>NaN</td>\n      <td>Ширшинский лес</td>\n      <td>памятник природы</td>\n      <td>Памятник природы</td>\n      <td>Региональное</td>\n      <td>...</td>\n      <td>NaN</td>\n      <td>Galina_Moskaleva@PC-CITRGM16</td>\n      <td>2022-06-10 12:55:23+00:00</td>\n      <td>NaN</td>\n      <td>NaN</td>\n      <td>NaN</td>\n      <td>39278.0</td>\n      <td>NaN</td>\n      <td>108.0</td>\n      <td>POINT (4531710.699 9454750.149)</td>\n    </tr>\n    <tr>\n      <th>7</th>\n      <td>8</td>\n      <td>1341</td>\n      <td>NaN</td>\n      <td>39278.0</td>\n      <td>NaN</td>\n      <td>NaN</td>\n      <td>Пихты под Архангельском</td>\n      <td>памятник природы</td>\n      <td>Памятник природы</td>\n      <td>Региональное</td>\n      <td>...</td>\n      <td>NaN</td>\n      <td>Galina_Moskaleva@PC-CITRGM16</td>\n      <td>2022-06-10 12:55:23+00:00</td>\n      <td>NaN</td>\n      <td>NaN</td>\n      <td>NaN</td>\n      <td>39278.0</td>\n      <td>NaN</td>\n      <td>109.0</td>\n      <td>POINT (4574652.843 9440733.491)</td>\n    </tr>\n    <tr>\n      <th>8</th>\n      <td>9</td>\n      <td>1359</td>\n      <td>NaN</td>\n      <td>39278.0</td>\n      <td>NaN</td>\n      <td>NaN</td>\n      <td>Ущелье Айкуайвенчорр</td>\n      <td>памятник природы</td>\n      <td>Памятник природы</td>\n      <td>Региональное</td>\n      <td>...</td>\n      <td>NaN</td>\n      <td>Galina_Moskaleva@PC-CITRGM16</td>\n      <td>2022-06-10 12:55:23+00:00</td>\n      <td>NaN</td>\n      <td>NaN</td>\n      <td>NaN</td>\n      <td>39278.0</td>\n      <td>NaN</td>\n      <td>45.0</td>\n      <td>POINT (3755950.588 10326432.336)</td>\n    </tr>\n    <tr>\n      <th>9</th>\n      <td>10</td>\n      <td>1372</td>\n      <td>NaN</td>\n      <td>39278.0</td>\n      <td>NaN</td>\n      <td>NaN</td>\n      <td>Участок лиственничного леса с выражением в пла...</td>\n      <td>памятник природы</td>\n      <td>Памятник природы</td>\n      <td>Региональное</td>\n      <td>...</td>\n      <td>NaN</td>\n      <td>Galina_Moskaleva@PC-CITRGM16</td>\n      <td>2022-06-10 12:55:23+00:00</td>\n      <td>NaN</td>\n      <td>NaN</td>\n      <td>NaN</td>\n      <td>39278.0</td>\n      <td>NaN</td>\n      <td>88.0</td>\n      <td>POINT (4253310.560 9376208.947)</td>\n    </tr>\n    <tr>\n      <th>10</th>\n      <td>11</td>\n      <td>1605</td>\n      <td>NaN</td>\n      <td>39278.0</td>\n      <td>NaN</td>\n      <td>NaN</td>\n      <td>Участок соснового леса</td>\n      <td>памятник природы</td>\n      <td>Памятник природы</td>\n      <td>Региональное</td>\n      <td>...</td>\n      <td>NaN</td>\n      <td>Galina_Moskaleva@PC-CITRGM16</td>\n      <td>2022-06-10 12:55:24+00:00</td>\n      <td>NaN</td>\n      <td>NaN</td>\n      <td>NaN</td>\n      <td>39278.0</td>\n      <td>NaN</td>\n      <td>91.0</td>\n      <td>POINT (4262141.931 9349298.633)</td>\n    </tr>\n    <tr>\n      <th>11</th>\n      <td>12</td>\n      <td>1833</td>\n      <td>NaN</td>\n      <td>39278.0</td>\n      <td>NaN</td>\n      <td>NaN</td>\n      <td>Наскальные изображения у поселка Чалмны-Варрэ</td>\n      <td>памятник природы</td>\n      <td>Памятник природы</td>\n      <td>Региональное</td>\n      <td>...</td>\n      <td>NaN</td>\n      <td>Galina_Moskaleva@PC-CITRGM16</td>\n      <td>2022-06-10 12:55:24+00:00</td>\n      <td>NaN</td>\n      <td>NaN</td>\n      <td>NaN</td>\n      <td>39278.0</td>\n      <td>NaN</td>\n      <td>82.0</td>\n      <td>POINT (4184703.053 10204451.620)</td>\n    </tr>\n    <tr>\n      <th>12</th>\n      <td>13</td>\n      <td>2026</td>\n      <td>NaN</td>\n      <td>38244.0</td>\n      <td>NaN</td>\n      <td>В</td>\n      <td>Вулкан Балаган-Таас</td>\n      <td>NaN</td>\n      <td>NaN</td>\n      <td>NaN</td>\n      <td>...</td>\n      <td>NaN</td>\n      <td>Galina_Moskaleva@PC-CITRGM16</td>\n      <td>2022-06-15 13:32:13+00:00</td>\n      <td>NaN</td>\n      <td>NaN</td>\n      <td>NaN</td>\n      <td>NaN</td>\n      <td>38244.0</td>\n      <td>226.0</td>\n      <td>POINT (16240511.831 9866180.161)</td>\n    </tr>\n    <tr>\n      <th>13</th>\n      <td>14</td>\n      <td>1452</td>\n      <td>NaN</td>\n      <td>38262.0</td>\n      <td>NaN</td>\n      <td>У</td>\n      <td>Ландшафтный участок \"Красные камни\"</td>\n      <td>памятник природы</td>\n      <td>Памятник природы</td>\n      <td>Региональное</td>\n      <td>...</td>\n      <td>NaN</td>\n      <td>Galina_Moskaleva@PC-CITRGM16</td>\n      <td>2022-06-15 13:32:10+00:00</td>\n      <td>NaN</td>\n      <td>NaN</td>\n      <td>NaN</td>\n      <td>39278.0</td>\n      <td>38262.0</td>\n      <td>165.0</td>\n      <td>POINT (9851774.922 10907895.741)</td>\n    </tr>\n    <tr>\n      <th>14</th>\n      <td>15</td>\n      <td>1223</td>\n      <td>NaN</td>\n      <td>NaN</td>\n      <td>NaN</td>\n      <td>NaN</td>\n      <td>Тазовская Губа</td>\n      <td>государственный природный заказник</td>\n      <td>Государственный природный заказник</td>\n      <td>Региональное</td>\n      <td>...</td>\n      <td>NaN</td>\n      <td>Galina_Moskaleva@PC-CITRGM16</td>\n      <td>2022-04-18 14:23:32+00:00</td>\n      <td>NaN</td>\n      <td>NaN</td>\n      <td>NaN</td>\n      <td>NaN</td>\n      <td>NaN</td>\n      <td>NaN</td>\n      <td>POINT (8727074.088 10327180.130)</td>\n    </tr>\n    <tr>\n      <th>15</th>\n      <td>16</td>\n      <td>1612</td>\n      <td>NaN</td>\n      <td>39278.0</td>\n      <td>NaN</td>\n      <td>NaN</td>\n      <td>Участок лиственничного леса у деревни Лямца</td>\n      <td>памятник природы</td>\n      <td>Памятник природы</td>\n      <td>Региональное</td>\n      <td>...</td>\n      <td>NaN</td>\n      <td>Galina_Moskaleva@PC-CITRGM16</td>\n      <td>2022-04-18 14:23:35+00:00</td>\n      <td>NaN</td>\n      <td>NaN</td>\n      <td>NaN</td>\n      <td>NaN</td>\n      <td>NaN</td>\n      <td>NaN</td>\n      <td>POINT (4132188.390 9458768.451)</td>\n    </tr>\n    <tr>\n      <th>16</th>\n      <td>17</td>\n      <td>827</td>\n      <td>NaN</td>\n      <td>NaN</td>\n      <td>NaN</td>\n      <td>NaN</td>\n      <td>Колгуев</td>\n      <td>территория традиционного природопользования</td>\n      <td>Иные категории</td>\n      <td>Региональное</td>\n      <td>...</td>\n      <td>NaN</td>\n      <td>Galina_Moskaleva@PC-CITRGM16</td>\n      <td>2022-04-18 14:23:30+00:00</td>\n      <td>NaN</td>\n      <td>NaN</td>\n      <td>NaN</td>\n      <td>NaN</td>\n      <td>NaN</td>\n      <td>NaN</td>\n      <td>POINT (5457975.774 10804315.388)</td>\n    </tr>\n    <tr>\n      <th>17</th>\n      <td>18</td>\n      <td>867</td>\n      <td>NaN</td>\n      <td>NaN</td>\n      <td>NaN</td>\n      <td>NaN</td>\n      <td>Югорский</td>\n      <td>природный парк</td>\n      <td>Природный парк</td>\n      <td>Региональное</td>\n      <td>...</td>\n      <td>NaN</td>\n      <td>Galina_Moskaleva@PC-CITRGM16</td>\n      <td>2022-04-18 14:23:30+00:00</td>\n      <td>NaN</td>\n      <td>NaN</td>\n      <td>NaN</td>\n      <td>NaN</td>\n      <td>NaN</td>\n      <td>NaN</td>\n      <td>POINT (6737348.927 10856596.003)</td>\n    </tr>\n    <tr>\n      <th>18</th>\n      <td>19</td>\n      <td>183</td>\n      <td>NaN</td>\n      <td>39278.0</td>\n      <td>NaN</td>\n      <td>NaN</td>\n      <td>Мыс Кожевникова</td>\n      <td>памятник природы</td>\n      <td>Памятник природы</td>\n      <td>Региональное</td>\n      <td>...</td>\n      <td>NaN</td>\n      <td>Galina_Moskaleva@PC-CITRGM16</td>\n      <td>2022-06-10 12:55:16+00:00</td>\n      <td>NaN</td>\n      <td>NaN</td>\n      <td>NaN</td>\n      <td>39278.0</td>\n      <td>NaN</td>\n      <td>275.0</td>\n      <td>POINT (-19979519.473 10727721.532)</td>\n    </tr>\n    <tr>\n      <th>19</th>\n      <td>20</td>\n      <td>2855</td>\n      <td>NaN</td>\n      <td>39289.0</td>\n      <td>NaN</td>\n      <td>NaN</td>\n      <td>Озеро Чалла</td>\n      <td>зона покоя</td>\n      <td>Иные категории</td>\n      <td>Местное</td>\n      <td>...</td>\n      <td>NaN</td>\n      <td>Galina_Moskaleva@PC-CITRGM16</td>\n      <td>2022-06-10 12:38:06+00:00</td>\n      <td>NaN</td>\n      <td>NaN</td>\n      <td>NaN</td>\n      <td>39289.0</td>\n      <td>NaN</td>\n      <td>207.0</td>\n      <td>POINT (15126148.069 10520731.306)</td>\n    </tr>\n    <tr>\n      <th>20</th>\n      <td>21</td>\n      <td>2857</td>\n      <td>NaN</td>\n      <td>39289.0</td>\n      <td>NaN</td>\n      <td>NaN</td>\n      <td>Куропаточья</td>\n      <td>ресурсный резервант</td>\n      <td>Иные категории</td>\n      <td>Местное</td>\n      <td>...</td>\n      <td>NaN</td>\n      <td>Galina_Moskaleva@PC-CITRGM16</td>\n      <td>2022-06-10 12:38:06+00:00</td>\n      <td>NaN</td>\n      <td>NaN</td>\n      <td>NaN</td>\n      <td>39289.0</td>\n      <td>NaN</td>\n      <td>242.0</td>\n      <td>POINT (17196245.319 11368200.151)</td>\n    </tr>\n    <tr>\n      <th>21</th>\n      <td>22</td>\n      <td>2858</td>\n      <td>NaN</td>\n      <td>39289.0</td>\n      <td>NaN</td>\n      <td>NaN</td>\n      <td>Полярис-Эко</td>\n      <td>ресурсный резервант</td>\n      <td>Иные категории</td>\n      <td>Местное</td>\n      <td>...</td>\n      <td>NaN</td>\n      <td>Galina_Moskaleva@PC-CITRGM16</td>\n      <td>2022-06-10 12:38:06+00:00</td>\n      <td>NaN</td>\n      <td>NaN</td>\n      <td>NaN</td>\n      <td>39289.0</td>\n      <td>NaN</td>\n      <td>197.0</td>\n      <td>POINT (14445284.667 11357424.366)</td>\n    </tr>\n    <tr>\n      <th>22</th>\n      <td>23</td>\n      <td>361</td>\n      <td>NaN</td>\n      <td>38392.0</td>\n      <td>NaN</td>\n      <td>NaN</td>\n      <td>Хапташинский Яр</td>\n      <td>памятник природы</td>\n      <td>Памятник природы</td>\n      <td>Региональное</td>\n      <td>...</td>\n      <td>NaN</td>\n      <td>Galina_Moskaleva@PC-CITRGM16</td>\n      <td>2022-06-15 13:32:07+00:00</td>\n      <td>NaN</td>\n      <td>NaN</td>\n      <td>NaN</td>\n      <td>39278.0</td>\n      <td>38392.0</td>\n      <td>232.0</td>\n      <td>POINT (16467492.286 11862136.591)</td>\n    </tr>\n    <tr>\n      <th>23</th>\n      <td>24</td>\n      <td>1266</td>\n      <td>NaN</td>\n      <td>39278.0</td>\n      <td>NaN</td>\n      <td>NaN</td>\n      <td>Участок лиственничного леса с выражением в пла...</td>\n      <td>памятник природы</td>\n      <td>Памятник природы</td>\n      <td>Региональное</td>\n      <td>...</td>\n      <td>NaN</td>\n      <td>Galina_Moskaleva@PC-CITRGM16</td>\n      <td>2022-06-10 12:55:17+00:00</td>\n      <td>NaN</td>\n      <td>NaN</td>\n      <td>NaN</td>\n      <td>39278.0</td>\n      <td>NaN</td>\n      <td>92.0</td>\n      <td>POINT (4263539.588 9347739.996)</td>\n    </tr>\n    <tr>\n      <th>24</th>\n      <td>25</td>\n      <td>1555</td>\n      <td>NaN</td>\n      <td>39278.0</td>\n      <td>NaN</td>\n      <td>NaN</td>\n      <td>Талажский сосновый бор</td>\n      <td>памятник природы</td>\n      <td>Памятник природы</td>\n      <td>Региональное</td>\n      <td>...</td>\n      <td>NaN</td>\n      <td>Galina_Moskaleva@PC-CITRGM16</td>\n      <td>2022-06-10 12:55:17+00:00</td>\n      <td>NaN</td>\n      <td>NaN</td>\n      <td>NaN</td>\n      <td>39278.0</td>\n      <td>NaN</td>\n      <td>107.0</td>\n      <td>POINT (4525307.352 9507294.306)</td>\n    </tr>\n    <tr>\n      <th>25</th>\n      <td>26</td>\n      <td>1333</td>\n      <td>NaN</td>\n      <td>39278.0</td>\n      <td>NaN</td>\n      <td>NaN</td>\n      <td>Сосновая роща</td>\n      <td>памятник природы</td>\n      <td>Памятник природы</td>\n      <td>Региональное</td>\n      <td>...</td>\n      <td>NaN</td>\n      <td>Galina_Moskaleva@PC-CITRGM16</td>\n      <td>2022-06-10 12:55:18+00:00</td>\n      <td>NaN</td>\n      <td>NaN</td>\n      <td>NaN</td>\n      <td>39278.0</td>\n      <td>NaN</td>\n      <td>86.0</td>\n      <td>POINT (4241863.212 9327649.548)</td>\n    </tr>\n    <tr>\n      <th>26</th>\n      <td>27</td>\n      <td>971</td>\n      <td>NaN</td>\n      <td>39278.0</td>\n      <td>NaN</td>\n      <td>NaN</td>\n      <td>Талицкий ключ</td>\n      <td>памятник природы</td>\n      <td>Памятник природы</td>\n      <td>Региональное</td>\n      <td>...</td>\n      <td>NaN</td>\n      <td>Galina_Moskaleva@PC-CITRGM16</td>\n      <td>2022-06-10 12:55:18+00:00</td>\n      <td>NaN</td>\n      <td>NaN</td>\n      <td>NaN</td>\n      <td>39278.0</td>\n      <td>NaN</td>\n      <td>87.0</td>\n      <td>POINT (4246198.487 9323368.394)</td>\n    </tr>\n    <tr>\n      <th>27</th>\n      <td>28</td>\n      <td>1344</td>\n      <td>NaN</td>\n      <td>39278.0</td>\n      <td>NaN</td>\n      <td>NaN</td>\n      <td>Участок \"Падун\"</td>\n      <td>памятник природы</td>\n      <td>Памятник природы</td>\n      <td>Региональное</td>\n      <td>...</td>\n      <td>NaN</td>\n      <td>Galina_Moskaleva@PC-CITRGM16</td>\n      <td>2022-06-10 12:55:18+00:00</td>\n      <td>NaN</td>\n      <td>NaN</td>\n      <td>NaN</td>\n      <td>39278.0</td>\n      <td>NaN</td>\n      <td>93.0</td>\n      <td>POINT (4307544.801 9145757.744)</td>\n    </tr>\n    <tr>\n      <th>28</th>\n      <td>29</td>\n      <td>2433</td>\n      <td>NaN</td>\n      <td>NaN</td>\n      <td>NaN</td>\n      <td>NaN</td>\n      <td>Гора Балахня</td>\n      <td>NaN</td>\n      <td>NaN</td>\n      <td>NaN</td>\n      <td>...</td>\n      <td>NaN</td>\n      <td>Galina_Moskaleva@PC-CITRGM16</td>\n      <td>2022-06-15 15:37:50+00:00</td>\n      <td>NaN</td>\n      <td>NaN</td>\n      <td>ГП от Вдовец</td>\n      <td>NaN</td>\n      <td>NaN</td>\n      <td>NaN</td>\n      <td>POINT (11877455.709 12468059.771)</td>\n    </tr>\n    <tr>\n      <th>29</th>\n      <td>30</td>\n      <td>2837</td>\n      <td>NaN</td>\n      <td>38852.0</td>\n      <td>NaN</td>\n      <td>Ре</td>\n      <td>Хитоостров</td>\n      <td>памятник природы</td>\n      <td>Памятник природы</td>\n      <td>Региональное</td>\n      <td>...</td>\n      <td>NaN</td>\n      <td>Galina_Moskaleva@PC-CITRGM16</td>\n      <td>2022-06-23 15:53:33+00:00</td>\n      <td>NaN</td>\n      <td>Геологические памятники природы Карелии / Авт....</td>\n      <td>описание от Вдовец 11_06_2022  (Вдовец  - разв...</td>\n      <td>39278.0</td>\n      <td>38852.0</td>\n      <td>33.0</td>\n      <td>POINT (3677751.073 9970998.106)</td>\n    </tr>\n    <tr>\n      <th>30</th>\n      <td>31</td>\n      <td>2488</td>\n      <td>NaN</td>\n      <td>38222.0</td>\n      <td>NaN</td>\n      <td>Р</td>\n      <td>Харбейский</td>\n      <td>памятник природы</td>\n      <td>Памятник природы</td>\n      <td>Региональное</td>\n      <td>...</td>\n      <td>NaN</td>\n      <td>Galina_Moskaleva@PC-CITRGM16</td>\n      <td>2022-06-15 15:37:50+00:00</td>\n      <td>NaN</td>\n      <td>NaN</td>\n      <td>Краткое описание ГП от Вдовец 17.11.2021</td>\n      <td>39278.0</td>\n      <td>38222.0</td>\n      <td>146.0</td>\n      <td>POINT (7423117.622 10146663.386)</td>\n    </tr>\n    <tr>\n      <th>31</th>\n      <td>32</td>\n      <td>1489</td>\n      <td>NaN</td>\n      <td>38232.0</td>\n      <td>NaN</td>\n      <td>В</td>\n      <td>Анюйский вулкан</td>\n      <td>памятник природы</td>\n      <td>Памятник природы</td>\n      <td>Региональное</td>\n      <td>...</td>\n      <td>NaN</td>\n      <td>Galina_Moskaleva@PC-CITRGM16</td>\n      <td>2022-07-15 16:33:18+00:00</td>\n      <td>NaN</td>\n      <td>NaN</td>\n      <td>описание от Семилеткина_11_07_2022</td>\n      <td>39278.0</td>\n      <td>38232.0</td>\n      <td>248.0</td>\n      <td>POINT (18458664.014 10201219.910)</td>\n    </tr>\n    <tr>\n      <th>32</th>\n      <td>33</td>\n      <td>2296</td>\n      <td>NaN</td>\n      <td>38214.0</td>\n      <td>NaN</td>\n      <td>О</td>\n      <td>Опорное обнажение плейстоценовых отложений Тай...</td>\n      <td>NaN</td>\n      <td>NaN</td>\n      <td>NaN</td>\n      <td>...</td>\n      <td>NaN</td>\n      <td>Galina_Moskaleva@PC-CITRGM16</td>\n      <td>2022-06-15 13:32:15+00:00</td>\n      <td>NaN</td>\n      <td>NaN</td>\n      <td>NaN</td>\n      <td>NaN</td>\n      <td>38214.0</td>\n      <td>174.0</td>\n      <td>POINT (11178369.307 12738133.948)</td>\n    </tr>\n    <tr>\n      <th>33</th>\n      <td>34</td>\n      <td>2420</td>\n      <td>NaN</td>\n      <td>38244.0</td>\n      <td>NaN</td>\n      <td>NaN</td>\n      <td>Плато Путорана</td>\n      <td>NaN</td>\n      <td>NaN</td>\n      <td>NaN</td>\n      <td>...</td>\n      <td>NaN</td>\n      <td>Galina_Moskaleva@PC-CITRGM16</td>\n      <td>2022-06-15 13:32:16+00:00</td>\n      <td>NaN</td>\n      <td>NaN</td>\n      <td>NaN</td>\n      <td>NaN</td>\n      <td>38244.0</td>\n      <td>169.0</td>\n      <td>POINT (10353491.880 10750475.913)</td>\n    </tr>\n    <tr>\n      <th>34</th>\n      <td>35</td>\n      <td>2440</td>\n      <td>NaN</td>\n      <td>39654.0</td>\n      <td>NaN</td>\n      <td>Г</td>\n      <td>Ледники Бырранга</td>\n      <td>NaN</td>\n      <td>NaN</td>\n      <td>NaN</td>\n      <td>...</td>\n      <td>NaN</td>\n      <td>Galina_Moskaleva@PC-CITRGM16</td>\n      <td>2022-06-15 13:32:16+00:00</td>\n      <td>NaN</td>\n      <td>NaN</td>\n      <td>NaN</td>\n      <td>NaN</td>\n      <td>39654.0</td>\n      <td>181.0</td>\n      <td>POINT (12313828.113 13088045.610)</td>\n    </tr>\n    <tr>\n      <th>35</th>\n      <td>36</td>\n      <td>2297</td>\n      <td>NaN</td>\n      <td>38394.0</td>\n      <td>NaN</td>\n      <td>NaN</td>\n      <td>Обнажение юрских песчаников</td>\n      <td>NaN</td>\n      <td>NaN</td>\n      <td>NaN</td>\n      <td>...</td>\n      <td>NaN</td>\n      <td>Galina_Moskaleva@PC-CITRGM16</td>\n      <td>2022-06-15 13:32:15+00:00</td>\n      <td>NaN</td>\n      <td>NaN</td>\n      <td>NaN</td>\n      <td>NaN</td>\n      <td>38394.0</td>\n      <td>172.0</td>\n      <td>POINT (10874021.819 12547933.112)</td>\n    </tr>\n    <tr>\n      <th>36</th>\n      <td>37</td>\n      <td>2318</td>\n      <td>NaN</td>\n      <td>38404.0</td>\n      <td>NaN</td>\n      <td>Ф</td>\n      <td>Обнажение Кайеркан</td>\n      <td>NaN</td>\n      <td>NaN</td>\n      <td>NaN</td>\n      <td>...</td>\n      <td>NaN</td>\n      <td>Galina_Moskaleva@PC-CITRGM16</td>\n      <td>2022-06-15 13:32:15+00:00</td>\n      <td>NaN</td>\n      <td>NaN</td>\n      <td>NaN</td>\n      <td>NaN</td>\n      <td>38404.0</td>\n      <td>163.0</td>\n      <td>POINT (9771624.902 10866697.828)</td>\n    </tr>\n    <tr>\n      <th>37</th>\n      <td>38</td>\n      <td>1978</td>\n      <td>NaN</td>\n      <td>39604.0</td>\n      <td>NaN</td>\n      <td>Н</td>\n      <td>Наледь Улахан-Тарын</td>\n      <td>NaN</td>\n      <td>NaN</td>\n      <td>NaN</td>\n      <td>...</td>\n      <td>NaN</td>\n      <td>Galina_Moskaleva@PC-CITRGM16</td>\n      <td>2022-06-15 15:37:49+00:00</td>\n      <td>NaN</td>\n      <td>NaN</td>\n      <td>Семилеткин - Развернутое описание ГП</td>\n      <td>NaN</td>\n      <td>39604.0</td>\n      <td>225.0</td>\n      <td>POINT (16209342.374 9844080.155)</td>\n    </tr>\n    <tr>\n      <th>38</th>\n      <td>39</td>\n      <td>2853</td>\n      <td>NaN</td>\n      <td>39852.0</td>\n      <td>NaN</td>\n      <td>NaN</td>\n      <td>Улахан-Тарын</td>\n      <td>памятник природы</td>\n      <td>Памятник природы</td>\n      <td>Региональное</td>\n      <td>...</td>\n      <td>NaN</td>\n      <td>Galina_Moskaleva@PC-CITRGM16</td>\n      <td>2022-07-25 15:49:23+00:00</td>\n      <td>NaN</td>\n      <td>Шепелёв В.В. Родниковые воды Якутии. – Якутск:...</td>\n      <td>NaN</td>\n      <td>39278.0</td>\n      <td>39852.0</td>\n      <td>224.0</td>\n      <td>POINT (16208718.985 9846477.761)</td>\n    </tr>\n    <tr>\n      <th>39</th>\n      <td>40</td>\n      <td>1016</td>\n      <td>NaN</td>\n      <td>39192.0</td>\n      <td>NaN</td>\n      <td>В</td>\n      <td>Ледниковый валун возле Апатитов</td>\n      <td>памятник природы</td>\n      <td>Памятник природы</td>\n      <td>Региональное</td>\n      <td>...</td>\n      <td>NaN</td>\n      <td>Galina_Moskaleva@PC-CITRGM16</td>\n      <td>2022-07-21 13:34:02+00:00</td>\n      <td>NaN</td>\n      <td>Боровичёв Е.А., Петрова О.В. О состоянии памят...</td>\n      <td>описание от Вдовец 20_05_2022</td>\n      <td>39278.0</td>\n      <td>39192.0</td>\n      <td>29.0</td>\n      <td>POINT (3662406.964 10341383.804)</td>\n    </tr>\n    <tr>\n      <th>40</th>\n      <td>41</td>\n      <td>1296</td>\n      <td>NaN</td>\n      <td>38381.0</td>\n      <td>NaN</td>\n      <td>Ре</td>\n      <td>Эпидозиты мыса Верхний наволок</td>\n      <td>памятник природы</td>\n      <td>Памятник природы</td>\n      <td>Федеральное</td>\n      <td>...</td>\n      <td>NaN</td>\n      <td>Galina_Moskaleva@PC-CITRGM16</td>\n      <td>2022-07-21 13:34:02+00:00</td>\n      <td>NaN</td>\n      <td>Геологические памятники природы России / Под р...</td>\n      <td>описание от Вдовец 20_05_2022</td>\n      <td>39277.0</td>\n      <td>38381.0</td>\n      <td>28.0</td>\n      <td>POINT (3656811.409 10090685.480)</td>\n    </tr>\n    <tr>\n      <th>41</th>\n      <td>42</td>\n      <td>1504</td>\n      <td>NaN</td>\n      <td>38851.0</td>\n      <td>NaN</td>\n      <td>NaN</td>\n      <td>Залежь Юбилейная</td>\n      <td>памятник природы</td>\n      <td>Памятник природы</td>\n      <td>Федеральное</td>\n      <td>...</td>\n      <td>NaN</td>\n      <td>Galina_Moskaleva@PC-CITRGM16</td>\n      <td>2022-07-21 13:34:02+00:00</td>\n      <td>NaN</td>\n      <td>Пеков И.В. Ловозерский массив: история исследо...</td>\n      <td>описание от Вдовец 20_05_2022   Уточнить!! Нет...</td>\n      <td>39277.0</td>\n      <td>38851.0</td>\n      <td>60.0</td>\n      <td>POINT (3855829.112 10412611.155)</td>\n    </tr>\n    <tr>\n      <th>42</th>\n      <td>43</td>\n      <td>224</td>\n      <td>NaN</td>\n      <td>38392.0</td>\n      <td>NaN</td>\n      <td>NaN</td>\n      <td>Берелехский</td>\n      <td>памятник природы</td>\n      <td>Памятник природы</td>\n      <td>Региональное</td>\n      <td>...</td>\n      <td>NaN</td>\n      <td>Galina_Moskaleva@PC-CITRGM16</td>\n      <td>2022-09-06 18:41:35+00:00</td>\n      <td>NaN</td>\n      <td>Геологические памятники природы России. Авторы...</td>\n      <td>NaN</td>\n      <td>39278.0</td>\n      <td>38392.0</td>\n      <td>220.0</td>\n      <td>POINT (16141326.174 11290370.017)</td>\n    </tr>\n    <tr>\n      <th>43</th>\n      <td>44</td>\n      <td>1454</td>\n      <td>NaN</td>\n      <td>38392.0</td>\n      <td>NaN</td>\n      <td>NaN</td>\n      <td>Большой Ляховский</td>\n      <td>памятник природы</td>\n      <td>Памятник природы</td>\n      <td>Региональное</td>\n      <td>...</td>\n      <td>NaN</td>\n      <td>Galina_Moskaleva@PC-CITRGM16</td>\n      <td>2022-07-25 12:56:51+00:00</td>\n      <td>NaN</td>\n      <td>Геологические памятники природы России. Авторы...</td>\n      <td>NaN</td>\n      <td>39278.0</td>\n      <td>38392.0</td>\n      <td>217.0</td>\n      <td>POINT (15920913.582 12375677.191)</td>\n    </tr>\n    <tr>\n      <th>44</th>\n      <td>45</td>\n      <td>2408</td>\n      <td>NaN</td>\n      <td>39424.0</td>\n      <td>NaN</td>\n      <td>А</td>\n      <td>Карская астроблема</td>\n      <td>NaN</td>\n      <td>NaN</td>\n      <td>NaN</td>\n      <td>...</td>\n      <td>NaN</td>\n      <td>Galina_Moskaleva@PC-CITRGM16</td>\n      <td>2022-07-21 16:27:04+00:00</td>\n      <td>NaN</td>\n      <td>Геологические памятники природы России&lt;br&gt;Авто...</td>\n      <td>Краткое описание ГП от Вдовец 17.11.2021</td>\n      <td>NaN</td>\n      <td>39424.0</td>\n      <td>139.0</td>\n      <td>POINT (7204597.444 10760111.767)</td>\n    </tr>\n    <tr>\n      <th>45</th>\n      <td>46</td>\n      <td>1278</td>\n      <td>NaN</td>\n      <td>38851.0</td>\n      <td>NaN</td>\n      <td>NaN</td>\n      <td>Астрофиллиты горы Эвеслогчорр</td>\n      <td>памятник природы</td>\n      <td>Памятник природы</td>\n      <td>Федеральное</td>\n      <td>...</td>\n      <td>NaN</td>\n      <td>Galina_Moskaleva@PC-CITRGM16</td>\n      <td>2022-08-25 14:17:56+00:00</td>\n      <td>NaN</td>\n      <td>Геологические памятники природы России. / Под ...</td>\n      <td>описание от Вдовец 20_05_2022     Уточнит стат...</td>\n      <td>39277.0</td>\n      <td>38851.0</td>\n      <td>50.0</td>\n      <td>POINT (3786295.351 10347930.880)</td>\n    </tr>\n    <tr>\n      <th>46</th>\n      <td>47</td>\n      <td>6763</td>\n      <td>NaN</td>\n      <td>38394.0</td>\n      <td>NaN</td>\n      <td>NaN</td>\n      <td>Беломорские горы (Ива-гора)</td>\n      <td>NaN</td>\n      <td>NaN</td>\n      <td>NaN</td>\n      <td>...</td>\n      <td>NaN</td>\n      <td>Galina_Moskaleva@PC-CITRGM16</td>\n      <td>2022-08-25 15:24:36+00:00</td>\n      <td>NaN</td>\n      <td>Наугольных С.В., Кулешов В.Н. Ископаемая флора...</td>\n      <td>краткое описание от М.С. Вдовец 14.07.2022  (С...</td>\n      <td>NaN</td>\n      <td>38394.0</td>\n      <td>111.0</td>\n      <td>POINT (4731707.537 9760704.790)</td>\n    </tr>\n    <tr>\n      <th>47</th>\n      <td>48</td>\n      <td>157</td>\n      <td>NaN</td>\n      <td>38204.0</td>\n      <td>NaN</td>\n      <td>NaN</td>\n      <td>Мыс Цветкова</td>\n      <td>NaN</td>\n      <td>NaN</td>\n      <td>NaN</td>\n      <td>...</td>\n      <td>NaN</td>\n      <td>Galina_Moskaleva@PC-CITRGM16</td>\n      <td>2022-07-21 16:27:04+00:00</td>\n      <td>NaN</td>\n      <td>Геологические памятники природы России&lt;br&gt;Авто...</td>\n      <td>NaN</td>\n      <td>NaN</td>\n      <td>38204.0</td>\n      <td>182.0</td>\n      <td>POINT (12554612.172 12910772.779)</td>\n    </tr>\n    <tr>\n      <th>48</th>\n      <td>49</td>\n      <td>2320</td>\n      <td>NaN</td>\n      <td>38224.0</td>\n      <td>NaN</td>\n      <td>Э</td>\n      <td>Харбейский рудник</td>\n      <td>NaN</td>\n      <td>NaN</td>\n      <td>NaN</td>\n      <td>...</td>\n      <td>NaN</td>\n      <td>Galina_Moskaleva@PC-CITRGM16</td>\n      <td>2022-07-21 16:27:05+00:00</td>\n      <td>NaN</td>\n      <td>В.В. Григорьев Историко-геологический памятник...</td>\n      <td>Краткое описание ГП от Вдовец 17.11.2021</td>\n      <td>NaN</td>\n      <td>38224.0</td>\n      <td>143.0</td>\n      <td>POINT (7363784.316 10233412.319)</td>\n    </tr>\n    <tr>\n      <th>49</th>\n      <td>50</td>\n      <td>1939</td>\n      <td>NaN</td>\n      <td>39424.0</td>\n      <td>NaN</td>\n      <td>А</td>\n      <td>Усть-Карская астроблема</td>\n      <td>NaN</td>\n      <td>NaN</td>\n      <td>NaN</td>\n      <td>...</td>\n      <td>NaN</td>\n      <td>Galina_Moskaleva@PC-CITRGM16</td>\n      <td>2022-07-21 16:27:05+00:00</td>\n      <td>NaN</td>\n      <td>Геологические памятники природы России&lt;br&gt;Авто...</td>\n      <td>Краткое описание ГП от Вдовец 17.11.2021</td>\n      <td>NaN</td>\n      <td>39424.0</td>\n      <td>142.0</td>\n      <td>POINT (7265823.164 10819469.178)</td>\n    </tr>\n    <tr>\n      <th>50</th>\n      <td>51</td>\n      <td>1328</td>\n      <td>NaN</td>\n      <td>39862.0</td>\n      <td>NaN</td>\n      <td>NaN</td>\n      <td>Урочище \"Куртяево\"</td>\n      <td>памятник природы</td>\n      <td>Памятник природы</td>\n      <td>Региональное</td>\n      <td>...</td>\n      <td>NaN</td>\n      <td>Galina_Moskaleva@PC-CITRGM16</td>\n      <td>2022-07-20 12:46:53+00:00</td>\n      <td>NaN</td>\n      <td>NaN</td>\n      <td>Составитель описания ГП: М.С. Вдовец_15_04_22</td>\n      <td>39278.0</td>\n      <td>39862.0</td>\n      <td>98.0</td>\n      <td>POINT (4370820.367 9483609.551)</td>\n    </tr>\n    <tr>\n      <th>51</th>\n      <td>52</td>\n      <td>1954</td>\n      <td>NaN</td>\n      <td>38394.0</td>\n      <td>NaN</td>\n      <td>NaN</td>\n      <td>Зимнегорское (Зимний берег)</td>\n      <td>NaN</td>\n      <td>NaN</td>\n      <td>NaN</td>\n      <td>...</td>\n      <td>NaN</td>\n      <td>Galina_Moskaleva@PC-CITRGM16</td>\n      <td>2022-07-20 12:46:53+00:00</td>\n      <td>NaN</td>\n      <td>Малаховская Я.Е., А.Ю. Иванцов. Вендские жител...</td>\n      <td>Составитель описания ГП: М.С. Вдовец_15_04_22</td>\n      <td>NaN</td>\n      <td>38394.0</td>\n      <td>99.0</td>\n      <td>POINT (4420385.660 9720684.027)</td>\n    </tr>\n    <tr>\n      <th>52</th>\n      <td>53</td>\n      <td>2129</td>\n      <td>NaN</td>\n      <td>38394.0</td>\n      <td>NaN</td>\n      <td>NaN</td>\n      <td>Летний берег</td>\n      <td>NaN</td>\n      <td>NaN</td>\n      <td>NaN</td>\n      <td>...</td>\n      <td>NaN</td>\n      <td>Galina_Moskaleva@PC-CITRGM16</td>\n      <td>2022-07-20 12:46:53+00:00</td>\n      <td>NaN</td>\n      <td>Малаховская Я.Е., А.Ю. Иванцов. Вендские жител...</td>\n      <td>Составитель описания ГП: М.С. Вдовец_15_04_22</td>\n      <td>NaN</td>\n      <td>38394.0</td>\n      <td>96.0</td>\n      <td>POINT (4339233.751 9529790.204)</td>\n    </tr>\n    <tr>\n      <th>53</th>\n      <td>54</td>\n      <td>2256</td>\n      <td>NaN</td>\n      <td>38384.0</td>\n      <td>NaN</td>\n      <td>Ре</td>\n      <td>Сферолиты на о. Чамп</td>\n      <td>NaN</td>\n      <td>NaN</td>\n      <td>NaN</td>\n      <td>...</td>\n      <td>NaN</td>\n      <td>Galina_Moskaleva@PC-CITRGM16</td>\n      <td>2022-07-20 12:46:53+00:00</td>\n      <td>NaN</td>\n      <td>Алексеев В. Р. Курумы – феномен криосферы. / Н...</td>\n      <td>Составитель описания ГП: М.С. Вдовец_15_04_22</td>\n      <td>NaN</td>\n      <td>38384.0</td>\n      <td>121.0</td>\n      <td>POINT (6257936.494 16005838.416)</td>\n    </tr>\n    <tr>\n      <th>54</th>\n      <td>55</td>\n      <td>2417</td>\n      <td>NaN</td>\n      <td>39904.0</td>\n      <td>NaN</td>\n      <td>NaN</td>\n      <td>Кондозеро</td>\n      <td>NaN</td>\n      <td>NaN</td>\n      <td>NaN</td>\n      <td>...</td>\n      <td>NaN</td>\n      <td>Galina_Moskaleva@PC-CITRGM16</td>\n      <td>2022-07-20 12:46:53+00:00</td>\n      <td>NaN</td>\n      <td>Геологические памятники природы России / Под р...</td>\n      <td>Составитель описания ГП: М.С. Вдовец_15_04_22</td>\n      <td>NaN</td>\n      <td>39904.0</td>\n      <td>90.0</td>\n      <td>POINT (4257970.523 9347225.239)</td>\n    </tr>\n    <tr>\n      <th>55</th>\n      <td>56</td>\n      <td>340</td>\n      <td>NaN</td>\n      <td>38392.0</td>\n      <td>NaN</td>\n      <td>NaN</td>\n      <td>Ойягосский Яр</td>\n      <td>памятник природы</td>\n      <td>Памятник природы</td>\n      <td>Региональное</td>\n      <td>...</td>\n      <td>В граниах ООПТ  Янские мамонты</td>\n      <td>Galina_Moskaleva@PC-CITRGM16</td>\n      <td>2022-07-25 17:26:15+00:00</td>\n      <td>NaN</td>\n      <td>Геологические памятники природы России. Авторы...</td>\n      <td>NaN</td>\n      <td>39278.0</td>\n      <td>38392.0</td>\n      <td>215.0</td>\n      <td>POINT (15716085.724 12066609.024)</td>\n    </tr>\n    <tr>\n      <th>56</th>\n      <td>57</td>\n      <td>2</td>\n      <td>NaN</td>\n      <td>39422.0</td>\n      <td>NaN</td>\n      <td>А</td>\n      <td>Геологическое Попигайское обнажение</td>\n      <td>памятник природы</td>\n      <td>Памятник природы</td>\n      <td>Региональное</td>\n      <td>...</td>\n      <td>NaN</td>\n      <td>Galina_Moskaleva@PC-CITRGM16</td>\n      <td>2022-10-07 12:10:08+00:00</td>\n      <td>NaN</td>\n      <td>NaN</td>\n      <td>NaN</td>\n      <td>39278.0</td>\n      <td>39422.0</td>\n      <td>180.0</td>\n      <td>POINT (12274688.229 11669964.485)</td>\n    </tr>\n    <tr>\n      <th>57</th>\n      <td>58</td>\n      <td>5</td>\n      <td>NaN</td>\n      <td>39422.0</td>\n      <td>NaN</td>\n      <td>А</td>\n      <td>Геологические обнажения \"Пестрые скалы\"</td>\n      <td>памятник природы</td>\n      <td>Памятник природы</td>\n      <td>Региональное</td>\n      <td>...</td>\n      <td>NaN</td>\n      <td>Galina_Moskaleva@PC-CITRGM16</td>\n      <td>2022-10-07 12:10:08+00:00</td>\n      <td>NaN</td>\n      <td>Геологические памятники природы России. Авторы...</td>\n      <td>NaN</td>\n      <td>39278.0</td>\n      <td>39422.0</td>\n      <td>179.0</td>\n      <td>POINT (12274414.237 11667035.755)</td>\n    </tr>\n  </tbody>\n</table>\n<p>58 rows × 63 columns</p>\n</div>"
     },
     "execution_count": 76,
     "metadata": {},
     "output_type": "execute_result"
    }
   ],
   "source": [
    "geojson_data = geopandas.read_file('data/geojsons/oopt_gp_point.geojson')\n",
    "geojson_data"
   ],
   "metadata": {
    "collapsed": false
   }
  },
  {
   "cell_type": "code",
   "execution_count": 77,
   "outputs": [
    {
     "data": {
      "text/plain": "array(['уникальное озеро', 'зеленая зона', 'ресурсный резервант',\n       'памятник природы', nan, 'государственный природный заказник',\n       'территория традиционного природопользования', 'природный парк',\n       'зона покоя'], dtype=object)"
     },
     "execution_count": 77,
     "metadata": {},
     "output_type": "execute_result"
    }
   ],
   "source": [
    "geojson_data['CATEGORY'].unique()"
   ],
   "metadata": {
    "collapsed": false
   }
  },
  {
   "cell_type": "code",
   "execution_count": 78,
   "outputs": [
    {
     "data": {
      "text/plain": "array(['Иные категории', 'Памятник природы', nan,\n       'Государственный природный заказник', 'Природный парк'],\n      dtype=object)"
     },
     "execution_count": 78,
     "metadata": {},
     "output_type": "execute_result"
    }
   ],
   "source": [
    "geojson_data['CATEGORY_ON_MAP'].unique()"
   ],
   "metadata": {
    "collapsed": false
   }
  },
  {
   "cell_type": "code",
   "execution_count": 79,
   "outputs": [
    {
     "data": {
      "text/plain": "array(['Региональное', 'Местное', nan, 'Федеральное'], dtype=object)"
     },
     "execution_count": 79,
     "metadata": {},
     "output_type": "execute_result"
    }
   ],
   "source": [
    "geojson_data['SIGNIFICAN'].unique()"
   ],
   "metadata": {
    "collapsed": false
   }
  },
  {
   "cell_type": "code",
   "execution_count": 80,
   "outputs": [
    {
     "data": {
      "text/plain": "array(['гидрологический', 'ландшафтный', 'не определен', 'комплексный',\n       'ботанический', 'биологический', 'природно-исторический', nan,\n       'ихтиологический', 'палеонтологический', 'геологический',\n       'гидрогеологический'], dtype=object)"
     },
     "execution_count": 80,
     "metadata": {},
     "output_type": "execute_result"
    }
   ],
   "source": [
    "geojson_data['PROFILE'].unique()"
   ],
   "metadata": {
    "collapsed": false
   }
  },
  {
   "cell_type": "code",
   "execution_count": 81,
   "outputs": [
    {
     "data": {
      "text/plain": "array(['Действующий', nan, 'Перспективный', 'Утраченный', 'Упраздненный'],\n      dtype=object)"
     },
     "execution_count": 81,
     "metadata": {},
     "output_type": "execute_result"
    }
   ],
   "source": [
    "geojson_data['STATUS'].unique()"
   ],
   "metadata": {
    "collapsed": false
   }
  },
  {
   "cell_type": "code",
   "execution_count": 82,
   "outputs": [
    {
     "data": {
      "text/plain": "     OBJECTID  OOPT_GP_ID  L_CODEA   L_CODE  L_CODEG G_TYPE  \\\n0           1         254  39282.0  39288.0      NaN    NaN   \n1           2         255  39282.0  39288.0      NaN    NaN   \n2           3         256  39282.0  39288.0      NaN    NaN   \n3           4          66  39231.0  39237.0      NaN    NaN   \n4           5         257  39282.0  39288.0      NaN    NaN   \n..        ...         ...      ...      ...      ...    ...   \n251       252       16030  39272.0  38202.0      NaN    NaN   \n252       253        1271  39252.0  39258.0      NaN    NaN   \n253       254       16869  39272.0  39872.0      NaN    NaN   \n254       255        9961  39272.0  39278.0      NaN    NaN   \n255       256        3710  99999.0      NaN      NaN    NaN   \n\n                                                  NAME  \\\n0                                                 Муна   \n1                                          Орулган-Сис   \n2                                            Суторуоха   \n3                                        Кандалакшский   \n4                                              Сайылык   \n..                                                 ...   \n251  Геологический памятник природы им. Ю.В.Степанова    \n252                                  Полярно-Уральский   \n253  Ключевой (Сенявинские термоминеральные источники)   \n254                                          Ирин-гора   \n255                                          Ирин-гора   \n\n                                 CATEGORY  \\\n0                      ресурсный резерват   \n1                      ресурсный резерват   \n2                      ресурсный резерват   \n3    государственный природный заповедник   \n4                      ресурсный резерват   \n..                                    ...   \n251                      памятник природы   \n252                        природный парк   \n253                      памятник природы   \n254                      памятник природы   \n255                                   NaN   \n\n                          CATEGORY_ON_MAP    SIGNIFICAN  ...  \\\n0                          Иные категории  Региональное  ...   \n1                          Иные категории  Региональное  ...   \n2                          Иные категории  Региональное  ...   \n3    Государственный природный заповедник   Федеральное  ...   \n4                          Иные категории  Региональное  ...   \n..                                    ...           ...  ...   \n251                      Памятник природы  Региональное  ...   \n252                        Природный парк  Региональное  ...   \n253                      Памятник природы  Региональное  ...   \n254                      Памятник природы  Региональное  ...   \n255                                   NaN           NaN  ...   \n\n             LAST_CHANGE_DATE  \\\n0   2022-04-18 14:23:47+00:00   \n1   2022-04-18 14:23:47+00:00   \n2   2022-04-18 14:23:47+00:00   \n3   2022-04-18 14:23:47+00:00   \n4   2022-04-18 14:23:47+00:00   \n..                        ...   \n251 2022-08-10 12:45:40+00:00   \n252 2022-08-26 19:43:41+00:00   \n253 2022-07-15 18:03:16+00:00   \n254 2022-10-18 16:35:19+00:00   \n255 2022-10-18 16:35:19+00:00   \n\n                                            LAWS_OTHER LITER_GP  \\\n0    Распоряжение правительства Республики Саха (Як...      NaN   \n1    Об утверждении Положения о государственном при...      NaN   \n2                                                  NaN      NaN   \n3    Положение министерства природных ресурсов Росс...      NaN   \n4                                                  NaN      NaN   \n..                                                 ...      ...   \n251                                                NaN      NaN   \n252  Постановление правительства Ямало-Ненецкого ав...      NaN   \n253                                                NaN      NaN   \n254                                                NaN      NaN   \n255                                                NaN      NaN   \n\n                             NOTES_EDIT WCODE_OOPT WCODE_GP      N  \\\n0                                   NaN        NaN      NaN  191.0   \n1                                   NaN        NaN      NaN  196.0   \n2                                   NaN        NaN      NaN  222.0   \n3                                   NaN        NaN      NaN   52.0   \n4                                   NaN        NaN      NaN  219.0   \n..                                  ...        ...      ...    ...   \n251                                 NaN        NaN  38202.0  134.0   \n252                                 NaN        NaN      NaN  144.0   \n253  описание от Семилеткина_11_07_2022        NaN  39872.0  261.0   \n254                                 NaN        NaN      NaN   16.0   \n255                                 NaN        NaN      NaN    NaN   \n\n     SHAPE_Length    SHAPE_Area  \\\n0    2.150965e+06  1.518718e+11   \n1    1.513366e+06  7.859042e+10   \n2    1.036388e+06  2.325073e+10   \n3    1.524013e+06  4.667375e+09   \n4    1.945440e+05  1.171601e+09   \n..            ...           ...   \n251  7.616565e+03  2.363148e+05   \n252  1.486833e+06  2.098403e+10   \n253  5.645455e+03  1.175133e+06   \n254  9.561442e+04  5.602610e+07   \n255  6.269465e+04  3.992158e+07   \n\n                                              geometry  \n0    MULTIPOLYGON (((13381025.790 10587344.920, 133...  \n1    MULTIPOLYGON (((14247994.234 10424749.016, 142...  \n2    MULTIPOLYGON (((16173942.815 10899855.776, 161...  \n3    MULTIPOLYGON (((3687038.351 10046572.425, 3687...  \n4    MULTIPOLYGON (((16112316.310 10469440.033, 161...  \n..                                                 ...  \n251  MULTIPOLYGON (((7128445.418 10301595.135, 7128...  \n252  MULTIPOLYGON (((7394109.001 10439235.133, 7397...  \n253  MULTIPOLYGON (((-19242875.361 9540149.802, -19...  \n254  MULTIPOLYGON (((3571004.167 9998230.338, 35709...  \n255  MULTIPOLYGON (((3585446.552 9997452.110, 35854...  \n\n[256 rows x 65 columns]",
      "text/html": "<div>\n<style scoped>\n    .dataframe tbody tr th:only-of-type {\n        vertical-align: middle;\n    }\n\n    .dataframe tbody tr th {\n        vertical-align: top;\n    }\n\n    .dataframe thead th {\n        text-align: right;\n    }\n</style>\n<table border=\"1\" class=\"dataframe\">\n  <thead>\n    <tr style=\"text-align: right;\">\n      <th></th>\n      <th>OBJECTID</th>\n      <th>OOPT_GP_ID</th>\n      <th>L_CODEA</th>\n      <th>L_CODE</th>\n      <th>L_CODEG</th>\n      <th>G_TYPE</th>\n      <th>NAME</th>\n      <th>CATEGORY</th>\n      <th>CATEGORY_ON_MAP</th>\n      <th>SIGNIFICAN</th>\n      <th>...</th>\n      <th>LAST_CHANGE_DATE</th>\n      <th>LAWS_OTHER</th>\n      <th>LITER_GP</th>\n      <th>NOTES_EDIT</th>\n      <th>WCODE_OOPT</th>\n      <th>WCODE_GP</th>\n      <th>N</th>\n      <th>SHAPE_Length</th>\n      <th>SHAPE_Area</th>\n      <th>geometry</th>\n    </tr>\n  </thead>\n  <tbody>\n    <tr>\n      <th>0</th>\n      <td>1</td>\n      <td>254</td>\n      <td>39282.0</td>\n      <td>39288.0</td>\n      <td>NaN</td>\n      <td>NaN</td>\n      <td>Муна</td>\n      <td>ресурсный резерват</td>\n      <td>Иные категории</td>\n      <td>Региональное</td>\n      <td>...</td>\n      <td>2022-04-18 14:23:47+00:00</td>\n      <td>Распоряжение правительства Республики Саха (Як...</td>\n      <td>NaN</td>\n      <td>NaN</td>\n      <td>NaN</td>\n      <td>NaN</td>\n      <td>191.0</td>\n      <td>2.150965e+06</td>\n      <td>1.518718e+11</td>\n      <td>MULTIPOLYGON (((13381025.790 10587344.920, 133...</td>\n    </tr>\n    <tr>\n      <th>1</th>\n      <td>2</td>\n      <td>255</td>\n      <td>39282.0</td>\n      <td>39288.0</td>\n      <td>NaN</td>\n      <td>NaN</td>\n      <td>Орулган-Сис</td>\n      <td>ресурсный резерват</td>\n      <td>Иные категории</td>\n      <td>Региональное</td>\n      <td>...</td>\n      <td>2022-04-18 14:23:47+00:00</td>\n      <td>Об утверждении Положения о государственном при...</td>\n      <td>NaN</td>\n      <td>NaN</td>\n      <td>NaN</td>\n      <td>NaN</td>\n      <td>196.0</td>\n      <td>1.513366e+06</td>\n      <td>7.859042e+10</td>\n      <td>MULTIPOLYGON (((14247994.234 10424749.016, 142...</td>\n    </tr>\n    <tr>\n      <th>2</th>\n      <td>3</td>\n      <td>256</td>\n      <td>39282.0</td>\n      <td>39288.0</td>\n      <td>NaN</td>\n      <td>NaN</td>\n      <td>Суторуоха</td>\n      <td>ресурсный резерват</td>\n      <td>Иные категории</td>\n      <td>Региональное</td>\n      <td>...</td>\n      <td>2022-04-18 14:23:47+00:00</td>\n      <td>NaN</td>\n      <td>NaN</td>\n      <td>NaN</td>\n      <td>NaN</td>\n      <td>NaN</td>\n      <td>222.0</td>\n      <td>1.036388e+06</td>\n      <td>2.325073e+10</td>\n      <td>MULTIPOLYGON (((16173942.815 10899855.776, 161...</td>\n    </tr>\n    <tr>\n      <th>3</th>\n      <td>4</td>\n      <td>66</td>\n      <td>39231.0</td>\n      <td>39237.0</td>\n      <td>NaN</td>\n      <td>NaN</td>\n      <td>Кандалакшский</td>\n      <td>государственный природный заповедник</td>\n      <td>Государственный природный заповедник</td>\n      <td>Федеральное</td>\n      <td>...</td>\n      <td>2022-04-18 14:23:47+00:00</td>\n      <td>Положение министерства природных ресурсов Росс...</td>\n      <td>NaN</td>\n      <td>NaN</td>\n      <td>NaN</td>\n      <td>NaN</td>\n      <td>52.0</td>\n      <td>1.524013e+06</td>\n      <td>4.667375e+09</td>\n      <td>MULTIPOLYGON (((3687038.351 10046572.425, 3687...</td>\n    </tr>\n    <tr>\n      <th>4</th>\n      <td>5</td>\n      <td>257</td>\n      <td>39282.0</td>\n      <td>39288.0</td>\n      <td>NaN</td>\n      <td>NaN</td>\n      <td>Сайылык</td>\n      <td>ресурсный резерват</td>\n      <td>Иные категории</td>\n      <td>Региональное</td>\n      <td>...</td>\n      <td>2022-04-18 14:23:47+00:00</td>\n      <td>NaN</td>\n      <td>NaN</td>\n      <td>NaN</td>\n      <td>NaN</td>\n      <td>NaN</td>\n      <td>219.0</td>\n      <td>1.945440e+05</td>\n      <td>1.171601e+09</td>\n      <td>MULTIPOLYGON (((16112316.310 10469440.033, 161...</td>\n    </tr>\n    <tr>\n      <th>...</th>\n      <td>...</td>\n      <td>...</td>\n      <td>...</td>\n      <td>...</td>\n      <td>...</td>\n      <td>...</td>\n      <td>...</td>\n      <td>...</td>\n      <td>...</td>\n      <td>...</td>\n      <td>...</td>\n      <td>...</td>\n      <td>...</td>\n      <td>...</td>\n      <td>...</td>\n      <td>...</td>\n      <td>...</td>\n      <td>...</td>\n      <td>...</td>\n      <td>...</td>\n      <td>...</td>\n    </tr>\n    <tr>\n      <th>251</th>\n      <td>252</td>\n      <td>16030</td>\n      <td>39272.0</td>\n      <td>38202.0</td>\n      <td>NaN</td>\n      <td>NaN</td>\n      <td>Геологический памятник природы им. Ю.В.Степанова</td>\n      <td>памятник природы</td>\n      <td>Памятник природы</td>\n      <td>Региональное</td>\n      <td>...</td>\n      <td>2022-08-10 12:45:40+00:00</td>\n      <td>NaN</td>\n      <td>NaN</td>\n      <td>NaN</td>\n      <td>NaN</td>\n      <td>38202.0</td>\n      <td>134.0</td>\n      <td>7.616565e+03</td>\n      <td>2.363148e+05</td>\n      <td>MULTIPOLYGON (((7128445.418 10301595.135, 7128...</td>\n    </tr>\n    <tr>\n      <th>252</th>\n      <td>253</td>\n      <td>1271</td>\n      <td>39252.0</td>\n      <td>39258.0</td>\n      <td>NaN</td>\n      <td>NaN</td>\n      <td>Полярно-Уральский</td>\n      <td>природный парк</td>\n      <td>Природный парк</td>\n      <td>Региональное</td>\n      <td>...</td>\n      <td>2022-08-26 19:43:41+00:00</td>\n      <td>Постановление правительства Ямало-Ненецкого ав...</td>\n      <td>NaN</td>\n      <td>NaN</td>\n      <td>NaN</td>\n      <td>NaN</td>\n      <td>144.0</td>\n      <td>1.486833e+06</td>\n      <td>2.098403e+10</td>\n      <td>MULTIPOLYGON (((7394109.001 10439235.133, 7397...</td>\n    </tr>\n    <tr>\n      <th>253</th>\n      <td>254</td>\n      <td>16869</td>\n      <td>39272.0</td>\n      <td>39872.0</td>\n      <td>NaN</td>\n      <td>NaN</td>\n      <td>Ключевой (Сенявинские термоминеральные источники)</td>\n      <td>памятник природы</td>\n      <td>Памятник природы</td>\n      <td>Региональное</td>\n      <td>...</td>\n      <td>2022-07-15 18:03:16+00:00</td>\n      <td>NaN</td>\n      <td>NaN</td>\n      <td>описание от Семилеткина_11_07_2022</td>\n      <td>NaN</td>\n      <td>39872.0</td>\n      <td>261.0</td>\n      <td>5.645455e+03</td>\n      <td>1.175133e+06</td>\n      <td>MULTIPOLYGON (((-19242875.361 9540149.802, -19...</td>\n    </tr>\n    <tr>\n      <th>254</th>\n      <td>255</td>\n      <td>9961</td>\n      <td>39272.0</td>\n      <td>39278.0</td>\n      <td>NaN</td>\n      <td>NaN</td>\n      <td>Ирин-гора</td>\n      <td>памятник природы</td>\n      <td>Памятник природы</td>\n      <td>Региональное</td>\n      <td>...</td>\n      <td>2022-10-18 16:35:19+00:00</td>\n      <td>NaN</td>\n      <td>NaN</td>\n      <td>NaN</td>\n      <td>NaN</td>\n      <td>NaN</td>\n      <td>16.0</td>\n      <td>9.561442e+04</td>\n      <td>5.602610e+07</td>\n      <td>MULTIPOLYGON (((3571004.167 9998230.338, 35709...</td>\n    </tr>\n    <tr>\n      <th>255</th>\n      <td>256</td>\n      <td>3710</td>\n      <td>99999.0</td>\n      <td>NaN</td>\n      <td>NaN</td>\n      <td>NaN</td>\n      <td>Ирин-гора</td>\n      <td>NaN</td>\n      <td>NaN</td>\n      <td>NaN</td>\n      <td>...</td>\n      <td>2022-10-18 16:35:19+00:00</td>\n      <td>NaN</td>\n      <td>NaN</td>\n      <td>NaN</td>\n      <td>NaN</td>\n      <td>NaN</td>\n      <td>NaN</td>\n      <td>6.269465e+04</td>\n      <td>3.992158e+07</td>\n      <td>MULTIPOLYGON (((3585446.552 9997452.110, 35854...</td>\n    </tr>\n  </tbody>\n</table>\n<p>256 rows × 65 columns</p>\n</div>"
     },
     "execution_count": 82,
     "metadata": {},
     "output_type": "execute_result"
    }
   ],
   "source": [
    "geojson_data = geopandas.read_file('data/geojsons/oopt_gp_poly.geojson')\n",
    "geojson_data"
   ],
   "metadata": {
    "collapsed": false
   }
  },
  {
   "cell_type": "code",
   "execution_count": 83,
   "outputs": [
    {
     "data": {
      "text/plain": "      OBJECTID  VDEP_GID  VDEP_GID_O  ID_KADASTR PASSPORT MAS_GKM PASSP_RGF  \\\n0            1     491.0     42310.0       557.0   А-1206       А      1206   \n1            2     455.0     45710.0       512.0    А-907       А       907   \n2            3     914.0     45794.0      1025.0    А-263       А       263   \n3            4     916.0     45815.0      1029.0    А-447       А       447   \n4            5     950.0     45922.0      1076.0   А-1149       А      1149   \n...        ...       ...         ...         ...      ...     ...       ...   \n2833      2834   46267.0         0.0     62282.0   Д-5325       Д      5325   \n2834      2835   46881.0         0.0     62947.0  Б-34713       Б     34713   \n2835      2836   46290.0         0.0     62305.0   Д-5332       Д      5332   \n2836      2837   45635.0         0.0     61618.0   Д-5295       Д      5295   \n2837      2838   45756.0         0.0     61744.0  Б-34333       Б     34333   \n\n                      NAME                                   NAME_ALIAS  \\\n0            Хотон-Хайское                                                \n1            Елетьозерское                                                \n2             Сентачанское                                                \n3       Вороньетундровское                                  Васин-Мыльк   \n4                Цагинское                                                \n...                    ...                                          ...   \n2833   Салмановское, шельф  Салмановское, Утреннее, шельф Карского моря   \n2834            Бобровское                                                \n2835  Геофизическое, шельф           Геофизическое, шельф Карского моря   \n2836           Уренгойское                                                \n2837   Придорожное Мунское                                                \n\n                               NAME_PART  ...  \\\n0                                         ...   \n1                                         ...   \n2                                         ...   \n3                                         ...   \n4                                         ...   \n...                                  ...  ...   \n2833                Салмановский участок  ...   \n2834                                      ...   \n2835               Геофизический участок  ...   \n2836        Ево-Яхинский участок участок  ...   \n2837  К5 (нижележащие горизонты) участок  ...   \n\n                                              GEOGRAPHY ECONOM_OSV  \\\n0     90-95 км  к  СВ по автозимнику - пос. Батагай ...              \n1     В 48 км на З от пос.Лоухи и в 17 км на С от по...              \n2     М-ние расположено в 165км к ЮВ от речного порт...              \n3     Райцентр Ловозеро связан с ж.-д. станцией Олен...              \n4     М-ние находится в 15 км к ЮВ от южной оконечно...              \n...                                                 ...        ...   \n2833  Находится в Обской Губе рядом с западным побер...              \n2834  Месторождение Бобровское находится на СЗ фланг...              \n2835  Геофизическое НГК месторождение находится в ак...              \n2836  С областным центром (г. Тюмень) г. Новый Уренг...              \n2837                                                NaN              \n\n        LIST_200 LIST_1000                                        LINKRGF  \\\n0      Q-53-VIII      Q-53    https://www.rfgf.ru/gkm/itemview.php?id=557   \n1       Q-36-XIV      Q-36    https://www.rfgf.ru/gkm/itemview.php?id=512   \n2      Q-53-XVII      Q-53   https://www.rfgf.ru/gkm/itemview.php?id=1025   \n3     R-36-XXXVI      R-36   https://www.rfgf.ru/gkm/itemview.php?id=1029   \n4        Q-36-VI      Q-36   https://www.rfgf.ru/gkm/itemview.php?id=1076   \n...          ...       ...                                            ...   \n2833     R-43-IX      R-43  https://www.rfgf.ru/gkm/itemview.php?id=62282   \n2834     Q-38-XX      Q-38  https://www.rfgf.ru/gkm/itemview.php?id=62947   \n2835     R-43-XX      R-43  https://www.rfgf.ru/gkm/itemview.php?id=62305   \n2836  Q-43-XVIII      Q-43  https://www.rfgf.ru/gkm/itemview.php?id=61618   \n2837    Q-49-XII      Q-49  https://www.rfgf.ru/gkm/itemview.php?id=61744   \n\n                                          LINKDB  GA_GOD Flag_maps  Flag_name  \\\n0       https://resourcepi.vsegei.ru/catalog/491     NaN      -1.0          5   \n1       https://resourcepi.vsegei.ru/catalog/455     NaN      -1.0          1   \n2       https://resourcepi.vsegei.ru/catalog/914     NaN       0.0        5-В   \n3       https://resourcepi.vsegei.ru/catalog/916     NaN     100.0          1   \n4       https://resourcepi.vsegei.ru/catalog/950     NaN      -1.0          1   \n...                                          ...     ...       ...        ...   \n2833  https://resourcepi.vsegei.ru/catalog/46267               NaN         11   \n2834  https://resourcepi.vsegei.ru/catalog/46881               NaN          1   \n2835  https://resourcepi.vsegei.ru/catalog/46290               NaN         11   \n2836  https://resourcepi.vsegei.ru/catalog/45635               NaN         11   \n2837  https://resourcepi.vsegei.ru/catalog/45756               NaN        NaN   \n\n                               geometry  \n0     POINT (14876637.145 10232922.209)  \n1       POINT (3559122.407 9886698.722)  \n2     POINT (15243280.519 10006765.218)  \n3      POINT (3973762.993 10561943.080)  \n4      POINT (3929675.822 10330150.444)  \n...                                 ...  \n2833   POINT (8291282.626 11368471.239)  \n2834    POINT (4863989.081 9860129.313)  \n2835   POINT (8166977.406 11014963.873)  \n2836    POINT (8627149.703 9904492.648)  \n2837  POINT (12608908.548 10090137.903)  \n\n[2838 rows x 37 columns]",
      "text/html": "<div>\n<style scoped>\n    .dataframe tbody tr th:only-of-type {\n        vertical-align: middle;\n    }\n\n    .dataframe tbody tr th {\n        vertical-align: top;\n    }\n\n    .dataframe thead th {\n        text-align: right;\n    }\n</style>\n<table border=\"1\" class=\"dataframe\">\n  <thead>\n    <tr style=\"text-align: right;\">\n      <th></th>\n      <th>OBJECTID</th>\n      <th>VDEP_GID</th>\n      <th>VDEP_GID_O</th>\n      <th>ID_KADASTR</th>\n      <th>PASSPORT</th>\n      <th>MAS_GKM</th>\n      <th>PASSP_RGF</th>\n      <th>NAME</th>\n      <th>NAME_ALIAS</th>\n      <th>NAME_PART</th>\n      <th>...</th>\n      <th>GEOGRAPHY</th>\n      <th>ECONOM_OSV</th>\n      <th>LIST_200</th>\n      <th>LIST_1000</th>\n      <th>LINKRGF</th>\n      <th>LINKDB</th>\n      <th>GA_GOD</th>\n      <th>Flag_maps</th>\n      <th>Flag_name</th>\n      <th>geometry</th>\n    </tr>\n  </thead>\n  <tbody>\n    <tr>\n      <th>0</th>\n      <td>1</td>\n      <td>491.0</td>\n      <td>42310.0</td>\n      <td>557.0</td>\n      <td>А-1206</td>\n      <td>А</td>\n      <td>1206</td>\n      <td>Хотон-Хайское</td>\n      <td></td>\n      <td></td>\n      <td>...</td>\n      <td>90-95 км  к  СВ по автозимнику - пос. Батагай ...</td>\n      <td></td>\n      <td>Q-53-VIII</td>\n      <td>Q-53</td>\n      <td>https://www.rfgf.ru/gkm/itemview.php?id=557</td>\n      <td>https://resourcepi.vsegei.ru/catalog/491</td>\n      <td>NaN</td>\n      <td>-1.0</td>\n      <td>5</td>\n      <td>POINT (14876637.145 10232922.209)</td>\n    </tr>\n    <tr>\n      <th>1</th>\n      <td>2</td>\n      <td>455.0</td>\n      <td>45710.0</td>\n      <td>512.0</td>\n      <td>А-907</td>\n      <td>А</td>\n      <td>907</td>\n      <td>Елетьозерское</td>\n      <td></td>\n      <td></td>\n      <td>...</td>\n      <td>В 48 км на З от пос.Лоухи и в 17 км на С от по...</td>\n      <td></td>\n      <td>Q-36-XIV</td>\n      <td>Q-36</td>\n      <td>https://www.rfgf.ru/gkm/itemview.php?id=512</td>\n      <td>https://resourcepi.vsegei.ru/catalog/455</td>\n      <td>NaN</td>\n      <td>-1.0</td>\n      <td>1</td>\n      <td>POINT (3559122.407 9886698.722)</td>\n    </tr>\n    <tr>\n      <th>2</th>\n      <td>3</td>\n      <td>914.0</td>\n      <td>45794.0</td>\n      <td>1025.0</td>\n      <td>А-263</td>\n      <td>А</td>\n      <td>263</td>\n      <td>Сентачанское</td>\n      <td></td>\n      <td></td>\n      <td>...</td>\n      <td>М-ние расположено в 165км к ЮВ от речного порт...</td>\n      <td></td>\n      <td>Q-53-XVII</td>\n      <td>Q-53</td>\n      <td>https://www.rfgf.ru/gkm/itemview.php?id=1025</td>\n      <td>https://resourcepi.vsegei.ru/catalog/914</td>\n      <td>NaN</td>\n      <td>0.0</td>\n      <td>5-В</td>\n      <td>POINT (15243280.519 10006765.218)</td>\n    </tr>\n    <tr>\n      <th>3</th>\n      <td>4</td>\n      <td>916.0</td>\n      <td>45815.0</td>\n      <td>1029.0</td>\n      <td>А-447</td>\n      <td>А</td>\n      <td>447</td>\n      <td>Вороньетундровское</td>\n      <td>Васин-Мыльк</td>\n      <td></td>\n      <td>...</td>\n      <td>Райцентр Ловозеро связан с ж.-д. станцией Олен...</td>\n      <td></td>\n      <td>R-36-XXXVI</td>\n      <td>R-36</td>\n      <td>https://www.rfgf.ru/gkm/itemview.php?id=1029</td>\n      <td>https://resourcepi.vsegei.ru/catalog/916</td>\n      <td>NaN</td>\n      <td>100.0</td>\n      <td>1</td>\n      <td>POINT (3973762.993 10561943.080)</td>\n    </tr>\n    <tr>\n      <th>4</th>\n      <td>5</td>\n      <td>950.0</td>\n      <td>45922.0</td>\n      <td>1076.0</td>\n      <td>А-1149</td>\n      <td>А</td>\n      <td>1149</td>\n      <td>Цагинское</td>\n      <td></td>\n      <td></td>\n      <td>...</td>\n      <td>М-ние находится в 15 км к ЮВ от южной оконечно...</td>\n      <td></td>\n      <td>Q-36-VI</td>\n      <td>Q-36</td>\n      <td>https://www.rfgf.ru/gkm/itemview.php?id=1076</td>\n      <td>https://resourcepi.vsegei.ru/catalog/950</td>\n      <td>NaN</td>\n      <td>-1.0</td>\n      <td>1</td>\n      <td>POINT (3929675.822 10330150.444)</td>\n    </tr>\n    <tr>\n      <th>...</th>\n      <td>...</td>\n      <td>...</td>\n      <td>...</td>\n      <td>...</td>\n      <td>...</td>\n      <td>...</td>\n      <td>...</td>\n      <td>...</td>\n      <td>...</td>\n      <td>...</td>\n      <td>...</td>\n      <td>...</td>\n      <td>...</td>\n      <td>...</td>\n      <td>...</td>\n      <td>...</td>\n      <td>...</td>\n      <td>...</td>\n      <td>...</td>\n      <td>...</td>\n      <td>...</td>\n    </tr>\n    <tr>\n      <th>2833</th>\n      <td>2834</td>\n      <td>46267.0</td>\n      <td>0.0</td>\n      <td>62282.0</td>\n      <td>Д-5325</td>\n      <td>Д</td>\n      <td>5325</td>\n      <td>Салмановское, шельф</td>\n      <td>Салмановское, Утреннее, шельф Карского моря</td>\n      <td>Салмановский участок</td>\n      <td>...</td>\n      <td>Находится в Обской Губе рядом с западным побер...</td>\n      <td></td>\n      <td>R-43-IX</td>\n      <td>R-43</td>\n      <td>https://www.rfgf.ru/gkm/itemview.php?id=62282</td>\n      <td>https://resourcepi.vsegei.ru/catalog/46267</td>\n      <td></td>\n      <td>NaN</td>\n      <td>11</td>\n      <td>POINT (8291282.626 11368471.239)</td>\n    </tr>\n    <tr>\n      <th>2834</th>\n      <td>2835</td>\n      <td>46881.0</td>\n      <td>0.0</td>\n      <td>62947.0</td>\n      <td>Б-34713</td>\n      <td>Б</td>\n      <td>34713</td>\n      <td>Бобровское</td>\n      <td></td>\n      <td></td>\n      <td>...</td>\n      <td>Месторождение Бобровское находится на СЗ фланг...</td>\n      <td></td>\n      <td>Q-38-XX</td>\n      <td>Q-38</td>\n      <td>https://www.rfgf.ru/gkm/itemview.php?id=62947</td>\n      <td>https://resourcepi.vsegei.ru/catalog/46881</td>\n      <td></td>\n      <td>NaN</td>\n      <td>1</td>\n      <td>POINT (4863989.081 9860129.313)</td>\n    </tr>\n    <tr>\n      <th>2835</th>\n      <td>2836</td>\n      <td>46290.0</td>\n      <td>0.0</td>\n      <td>62305.0</td>\n      <td>Д-5332</td>\n      <td>Д</td>\n      <td>5332</td>\n      <td>Геофизическое, шельф</td>\n      <td>Геофизическое, шельф Карского моря</td>\n      <td>Геофизический участок</td>\n      <td>...</td>\n      <td>Геофизическое НГК месторождение находится в ак...</td>\n      <td></td>\n      <td>R-43-XX</td>\n      <td>R-43</td>\n      <td>https://www.rfgf.ru/gkm/itemview.php?id=62305</td>\n      <td>https://resourcepi.vsegei.ru/catalog/46290</td>\n      <td></td>\n      <td>NaN</td>\n      <td>11</td>\n      <td>POINT (8166977.406 11014963.873)</td>\n    </tr>\n    <tr>\n      <th>2836</th>\n      <td>2837</td>\n      <td>45635.0</td>\n      <td>0.0</td>\n      <td>61618.0</td>\n      <td>Д-5295</td>\n      <td>Д</td>\n      <td>5295</td>\n      <td>Уренгойское</td>\n      <td></td>\n      <td>Ево-Яхинский участок участок</td>\n      <td>...</td>\n      <td>С областным центром (г. Тюмень) г. Новый Уренг...</td>\n      <td></td>\n      <td>Q-43-XVIII</td>\n      <td>Q-43</td>\n      <td>https://www.rfgf.ru/gkm/itemview.php?id=61618</td>\n      <td>https://resourcepi.vsegei.ru/catalog/45635</td>\n      <td></td>\n      <td>NaN</td>\n      <td>11</td>\n      <td>POINT (8627149.703 9904492.648)</td>\n    </tr>\n    <tr>\n      <th>2837</th>\n      <td>2838</td>\n      <td>45756.0</td>\n      <td>0.0</td>\n      <td>61744.0</td>\n      <td>Б-34333</td>\n      <td>Б</td>\n      <td>34333</td>\n      <td>Придорожное Мунское</td>\n      <td></td>\n      <td>К5 (нижележащие горизонты) участок</td>\n      <td>...</td>\n      <td>NaN</td>\n      <td></td>\n      <td>Q-49-XII</td>\n      <td>Q-49</td>\n      <td>https://www.rfgf.ru/gkm/itemview.php?id=61744</td>\n      <td>https://resourcepi.vsegei.ru/catalog/45756</td>\n      <td></td>\n      <td>NaN</td>\n      <td>NaN</td>\n      <td>POINT (12608908.548 10090137.903)</td>\n    </tr>\n  </tbody>\n</table>\n<p>2838 rows × 37 columns</p>\n</div>"
     },
     "execution_count": 83,
     "metadata": {},
     "output_type": "execute_result"
    }
   ],
   "source": [
    "geojson_data = geopandas.read_file('data/geojsons/polezn_iskop.geojson')\n",
    "geojson_data"
   ],
   "metadata": {
    "collapsed": false
   }
  },
  {
   "cell_type": "code",
   "execution_count": 84,
   "outputs": [
    {
     "data": {
      "text/plain": "         id  category                        category_name  \\\n0     47739         6          6. дороги местного значения   \n1     47740         7     7. дороги минимальной значимости   \n2     47741         4               4. региональные дороги   \n3     47743         7     7. дороги минимальной значимости   \n4     47744         4               4. региональные дороги   \n...     ...       ...                                  ...   \n3199  53647         7     7. дороги минимальной значимости   \n3200  53648         4               4. региональные дороги   \n3201  53649         2  2. дороги государственного значения   \n3202  53650         7     7. дороги минимальной значимости   \n3203  53653         4               4. региональные дороги   \n\n                      dates  free_speed_to_limit  length  \\\n0     2021-04-23_2021-07-21             0.614507      10   \n1     2021-04-23_2021-07-21             0.789163     434   \n2     2021-04-23_2021-07-21             0.829676     475   \n3     2021-04-23_2021-07-21             0.225033      63   \n4     2021-04-23_2021-07-21             0.969258     270   \n...                     ...                  ...     ...   \n3199  2021-04-23_2021-07-21             0.224909      40   \n3200  2021-04-23_2021-07-21             0.697546     868   \n3201  2021-04-23_2021-07-21             0.884904      71   \n3202  2021-04-23_2021-07-21             0.196687       3   \n3203  2021-04-23_2021-07-21             0.947810     497   \n\n                     region  geom_length  \\\n0     Архангельская область    23.547255   \n1     Архангельская область  1007.909813   \n2     Архангельская область  1077.670386   \n3     Архангельская область   147.913596   \n4     Архангельская область   623.438088   \n...                     ...          ...   \n3199  Архангельская область    94.368091   \n3200  Архангельская область  2015.887986   \n3201  Архангельская область   166.194031   \n3202  Архангельская область     8.228319   \n3203  Архангельская область  1133.483677   \n\n                                               geometry  \n0     MULTILINESTRING ((4474274.758 9481185.863, 447...  \n1     MULTILINESTRING ((4511461.924 9477499.630, 451...  \n2     MULTILINESTRING ((4280110.634 9308659.967, 427...  \n3     MULTILINESTRING ((4529417.201 9516639.735, 452...  \n4     MULTILINESTRING ((4606862.732 9438020.676, 460...  \n...                                                 ...  \n3199  MULTILINESTRING ((4529604.997 9510958.465, 452...  \n3200  MULTILINESTRING ((4430198.139 9486886.718, 443...  \n3201  MULTILINESTRING ((4496446.706 9480710.654, 449...  \n3202  MULTILINESTRING ((4511192.642 9471674.840, 451...  \n3203  MULTILINESTRING ((4240479.906 9356263.983, 424...  \n\n[3204 rows x 9 columns]",
      "text/html": "<div>\n<style scoped>\n    .dataframe tbody tr th:only-of-type {\n        vertical-align: middle;\n    }\n\n    .dataframe tbody tr th {\n        vertical-align: top;\n    }\n\n    .dataframe thead th {\n        text-align: right;\n    }\n</style>\n<table border=\"1\" class=\"dataframe\">\n  <thead>\n    <tr style=\"text-align: right;\">\n      <th></th>\n      <th>id</th>\n      <th>category</th>\n      <th>category_name</th>\n      <th>dates</th>\n      <th>free_speed_to_limit</th>\n      <th>length</th>\n      <th>region</th>\n      <th>geom_length</th>\n      <th>geometry</th>\n    </tr>\n  </thead>\n  <tbody>\n    <tr>\n      <th>0</th>\n      <td>47739</td>\n      <td>6</td>\n      <td>6. дороги местного значения</td>\n      <td>2021-04-23_2021-07-21</td>\n      <td>0.614507</td>\n      <td>10</td>\n      <td>Архангельская область</td>\n      <td>23.547255</td>\n      <td>MULTILINESTRING ((4474274.758 9481185.863, 447...</td>\n    </tr>\n    <tr>\n      <th>1</th>\n      <td>47740</td>\n      <td>7</td>\n      <td>7. дороги минимальной значимости</td>\n      <td>2021-04-23_2021-07-21</td>\n      <td>0.789163</td>\n      <td>434</td>\n      <td>Архангельская область</td>\n      <td>1007.909813</td>\n      <td>MULTILINESTRING ((4511461.924 9477499.630, 451...</td>\n    </tr>\n    <tr>\n      <th>2</th>\n      <td>47741</td>\n      <td>4</td>\n      <td>4. региональные дороги</td>\n      <td>2021-04-23_2021-07-21</td>\n      <td>0.829676</td>\n      <td>475</td>\n      <td>Архангельская область</td>\n      <td>1077.670386</td>\n      <td>MULTILINESTRING ((4280110.634 9308659.967, 427...</td>\n    </tr>\n    <tr>\n      <th>3</th>\n      <td>47743</td>\n      <td>7</td>\n      <td>7. дороги минимальной значимости</td>\n      <td>2021-04-23_2021-07-21</td>\n      <td>0.225033</td>\n      <td>63</td>\n      <td>Архангельская область</td>\n      <td>147.913596</td>\n      <td>MULTILINESTRING ((4529417.201 9516639.735, 452...</td>\n    </tr>\n    <tr>\n      <th>4</th>\n      <td>47744</td>\n      <td>4</td>\n      <td>4. региональные дороги</td>\n      <td>2021-04-23_2021-07-21</td>\n      <td>0.969258</td>\n      <td>270</td>\n      <td>Архангельская область</td>\n      <td>623.438088</td>\n      <td>MULTILINESTRING ((4606862.732 9438020.676, 460...</td>\n    </tr>\n    <tr>\n      <th>...</th>\n      <td>...</td>\n      <td>...</td>\n      <td>...</td>\n      <td>...</td>\n      <td>...</td>\n      <td>...</td>\n      <td>...</td>\n      <td>...</td>\n      <td>...</td>\n    </tr>\n    <tr>\n      <th>3199</th>\n      <td>53647</td>\n      <td>7</td>\n      <td>7. дороги минимальной значимости</td>\n      <td>2021-04-23_2021-07-21</td>\n      <td>0.224909</td>\n      <td>40</td>\n      <td>Архангельская область</td>\n      <td>94.368091</td>\n      <td>MULTILINESTRING ((4529604.997 9510958.465, 452...</td>\n    </tr>\n    <tr>\n      <th>3200</th>\n      <td>53648</td>\n      <td>4</td>\n      <td>4. региональные дороги</td>\n      <td>2021-04-23_2021-07-21</td>\n      <td>0.697546</td>\n      <td>868</td>\n      <td>Архангельская область</td>\n      <td>2015.887986</td>\n      <td>MULTILINESTRING ((4430198.139 9486886.718, 443...</td>\n    </tr>\n    <tr>\n      <th>3201</th>\n      <td>53649</td>\n      <td>2</td>\n      <td>2. дороги государственного значения</td>\n      <td>2021-04-23_2021-07-21</td>\n      <td>0.884904</td>\n      <td>71</td>\n      <td>Архангельская область</td>\n      <td>166.194031</td>\n      <td>MULTILINESTRING ((4496446.706 9480710.654, 449...</td>\n    </tr>\n    <tr>\n      <th>3202</th>\n      <td>53650</td>\n      <td>7</td>\n      <td>7. дороги минимальной значимости</td>\n      <td>2021-04-23_2021-07-21</td>\n      <td>0.196687</td>\n      <td>3</td>\n      <td>Архангельская область</td>\n      <td>8.228319</td>\n      <td>MULTILINESTRING ((4511192.642 9471674.840, 451...</td>\n    </tr>\n    <tr>\n      <th>3203</th>\n      <td>53653</td>\n      <td>4</td>\n      <td>4. региональные дороги</td>\n      <td>2021-04-23_2021-07-21</td>\n      <td>0.947810</td>\n      <td>497</td>\n      <td>Архангельская область</td>\n      <td>1133.483677</td>\n      <td>MULTILINESTRING ((4240479.906 9356263.983, 424...</td>\n    </tr>\n  </tbody>\n</table>\n<p>3204 rows × 9 columns</p>\n</div>"
     },
     "execution_count": 84,
     "metadata": {},
     "output_type": "execute_result"
    }
   ],
   "source": [
    "geojson_data = geopandas.read_file('data/geojsons/slow_roads_lines.geojson')\n",
    "geojson_data"
   ],
   "metadata": {
    "collapsed": false
   }
  },
  {
   "cell_type": "code",
   "execution_count": 85,
   "outputs": [
    {
     "data": {
      "text/plain": "array(['6. дороги местного значения', '7. дороги минимальной значимости',\n       '4. региональные дороги', '5. дороги районного значения',\n       '2. дороги государственного значения'], dtype=object)"
     },
     "execution_count": 85,
     "metadata": {},
     "output_type": "execute_result"
    }
   ],
   "source": [
    "geojson_data['category_name'].unique()"
   ],
   "metadata": {
    "collapsed": false
   }
  },
  {
   "cell_type": "code",
   "execution_count": 86,
   "outputs": [
    {
     "data": {
      "text/plain": "array(['Архангельская область'], dtype=object)"
     },
     "execution_count": 86,
     "metadata": {},
     "output_type": "execute_result"
    }
   ],
   "source": [
    "geojson_data['region'].unique()"
   ],
   "metadata": {
    "collapsed": false
   }
  },
  {
   "cell_type": "code",
   "execution_count": 86,
   "outputs": [],
   "source": [],
   "metadata": {
    "collapsed": false
   }
  }
 ],
 "metadata": {
  "kernelspec": {
   "display_name": "Python 3",
   "language": "python",
   "name": "python3"
  },
  "language_info": {
   "codemirror_mode": {
    "name": "ipython",
    "version": 2
   },
   "file_extension": ".py",
   "mimetype": "text/x-python",
   "name": "python",
   "nbconvert_exporter": "python",
   "pygments_lexer": "ipython2",
   "version": "2.7.6"
  }
 },
 "nbformat": 4,
 "nbformat_minor": 0
}
